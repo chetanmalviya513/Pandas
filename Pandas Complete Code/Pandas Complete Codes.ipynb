{
 "cells": [
  {
   "cell_type": "markdown",
   "id": "efacdbd1",
   "metadata": {},
   "source": [
    "Importing Pandas Library"
   ]
  },
  {
   "cell_type": "code",
   "execution_count": 1,
   "id": "3e4d4bda",
   "metadata": {},
   "outputs": [],
   "source": [
    "import pandas as pd # As gives the naming as \"pd\""
   ]
  },
  {
   "cell_type": "markdown",
   "id": "388f56c2",
   "metadata": {},
   "source": [
    "Pandas Series"
   ]
  },
  {
   "cell_type": "markdown",
   "id": "d61f9cdc",
   "metadata": {},
   "source": [
    "Creating Pandas Series\n",
    "\n",
    "A Pandas Series is like a column in a table. The difference between Numpy series and Pandas series is pandas series also hold indexes of values."
   ]
  },
  {
   "cell_type": "code",
   "execution_count": 4,
   "id": "5f9fed78",
   "metadata": {},
   "outputs": [
    {
     "data": {
      "text/plain": [
       "0    10\n",
       "1    20\n",
       "2    30\n",
       "3    40\n",
       "4    50\n",
       "dtype: int64"
      ]
     },
     "execution_count": 4,
     "metadata": {},
     "output_type": "execute_result"
    }
   ],
   "source": [
    "pd.Series([10,20,30,40,50]) # It return both indexes and values\n"
   ]
  },
  {
   "cell_type": "code",
   "execution_count": 5,
   "id": "e8679de6",
   "metadata": {},
   "outputs": [
    {
     "data": {
      "text/plain": [
       "pandas.core.series.Series"
      ]
     },
     "execution_count": 5,
     "metadata": {},
     "output_type": "execute_result"
    }
   ],
   "source": [
    "s = pd.Series([10,20,30,40,50])\n",
    "type(s)"
   ]
  },
  {
   "cell_type": "code",
   "execution_count": 7,
   "id": "8209cd6b",
   "metadata": {},
   "outputs": [
    {
     "data": {
      "text/plain": [
       "[RangeIndex(start=0, stop=5, step=1)]"
      ]
     },
     "execution_count": 7,
     "metadata": {},
     "output_type": "execute_result"
    }
   ],
   "source": [
    "s.axes #Indexes of Series can be seen by \"axes\" attribute"
   ]
  },
  {
   "cell_type": "code",
   "execution_count": 9,
   "id": "ea1f3aad",
   "metadata": {},
   "outputs": [
    {
     "data": {
      "text/plain": [
       "dtype('int64')"
      ]
     },
     "execution_count": 9,
     "metadata": {},
     "output_type": "execute_result"
    }
   ],
   "source": [
    "s.dtype # variable"
   ]
  },
  {
   "cell_type": "code",
   "execution_count": 11,
   "id": "1688956d",
   "metadata": {},
   "outputs": [
    {
     "data": {
      "text/plain": [
       "5"
      ]
     },
     "execution_count": 11,
     "metadata": {},
     "output_type": "execute_result"
    }
   ],
   "source": [
    "s.size # Variable size"
   ]
  },
  {
   "cell_type": "code",
   "execution_count": 12,
   "id": "d372056d",
   "metadata": {},
   "outputs": [
    {
     "data": {
      "text/plain": [
       "1"
      ]
     },
     "execution_count": 12,
     "metadata": {},
     "output_type": "execute_result"
    }
   ],
   "source": [
    "s.ndim # One-dimensional array"
   ]
  },
  {
   "cell_type": "code",
   "execution_count": 13,
   "id": "7f1d54d4",
   "metadata": {},
   "outputs": [
    {
     "data": {
      "text/plain": [
       "array([10, 20, 30, 40, 50], dtype=int64)"
      ]
     },
     "execution_count": 13,
     "metadata": {},
     "output_type": "execute_result"
    }
   ],
   "source": [
    "s.values #we can use \"values\" attribute if we want to see just values"
   ]
  },
  {
   "cell_type": "code",
   "execution_count": 14,
   "id": "e21b43c4",
   "metadata": {},
   "outputs": [
    {
     "data": {
      "text/plain": [
       "0    10\n",
       "1    20\n",
       "dtype: int64"
      ]
     },
     "execution_count": 14,
     "metadata": {},
     "output_type": "execute_result"
    }
   ],
   "source": [
    "s.head(2) #We can reach first values by head() function. specify number of rows you want to see. Default is 5."
   ]
  },
  {
   "cell_type": "code",
   "execution_count": 16,
   "id": "6df3bc62",
   "metadata": {},
   "outputs": [
    {
     "data": {
      "text/plain": [
       "2    30\n",
       "3    40\n",
       "4    50\n",
       "dtype: int64"
      ]
     },
     "execution_count": 16,
     "metadata": {},
     "output_type": "execute_result"
    }
   ],
   "source": [
    "s.tail(3) #We can reach last values by tail() function. Specify number of rows you want to see. Default is 5."
   ]
  },
  {
   "cell_type": "code",
   "execution_count": 18,
   "id": "cb1b3a91",
   "metadata": {},
   "outputs": [
    {
     "data": {
      "text/plain": [
       "20"
      ]
     },
     "execution_count": 18,
     "metadata": {},
     "output_type": "execute_result"
    }
   ],
   "source": [
    "s[1] #Series can be indexed with selecting square brackets []. Indexes starts with 0."
   ]
  },
  {
   "cell_type": "markdown",
   "id": "4a1b25ea",
   "metadata": {},
   "source": [
    "Changing Index Label"
   ]
  },
  {
   "cell_type": "code",
   "execution_count": 19,
   "id": "26c71af6",
   "metadata": {},
   "outputs": [
    {
     "data": {
      "text/plain": [
       "0     13\n",
       "1     14\n",
       "2    334\n",
       "3    565\n",
       "4    334\n",
       "5     45\n",
       "dtype: int64"
      ]
     },
     "execution_count": 19,
     "metadata": {},
     "output_type": "execute_result"
    }
   ],
   "source": [
    "pd.Series([13,14,334,565,334,45])"
   ]
  },
  {
   "cell_type": "code",
   "execution_count": 21,
   "id": "37716c6d",
   "metadata": {},
   "outputs": [
    {
     "data": {
      "text/plain": [
       "11    13\n",
       "12    14\n",
       "13    15\n",
       "14    16\n",
       "15    17\n",
       "dtype: int64"
      ]
     },
     "execution_count": 21,
     "metadata": {},
     "output_type": "execute_result"
    }
   ],
   "source": [
    "pd.Series([13,14,15,16,17],index=[11,12,13,14,15]) #We can specify indexes."
   ]
  },
  {
   "cell_type": "code",
   "execution_count": 23,
   "id": "52f356cc",
   "metadata": {},
   "outputs": [
    {
     "data": {
      "text/plain": [
       "first     13\n",
       "second    12\n",
       "third     24\n",
       "fourth    23\n",
       "fifth     44\n",
       "dtype: int64"
      ]
     },
     "execution_count": 23,
     "metadata": {},
     "output_type": "execute_result"
    }
   ],
   "source": [
    "s = pd.Series([13,12,24,23,44],index=[\"first\",\"second\",\"third\",\"fourth\",\"fifth\"]) #We can a Iso specify string indexex.\n",
    "s"
   ]
  },
  {
   "cell_type": "code",
   "execution_count": 24,
   "id": "8e9239a3",
   "metadata": {},
   "outputs": [
    {
     "data": {
      "text/plain": [
       "44"
      ]
     },
     "execution_count": 24,
     "metadata": {},
     "output_type": "execute_result"
    }
   ],
   "source": [
    "s[\"fifth\"]"
   ]
  },
  {
   "cell_type": "markdown",
   "id": "6ce2f058",
   "metadata": {},
   "source": [
    "Creating series key/value object (Dictionary)"
   ]
  },
  {
   "cell_type": "markdown",
   "id": "5ba5ba71",
   "metadata": {},
   "source": [
    "You can also use a key / value object, like a dictionary , when creating a Series."
   ]
  },
  {
   "cell_type": "code",
   "execution_count": 28,
   "id": "efd8463d",
   "metadata": {},
   "outputs": [
    {
     "data": {
      "text/plain": [
       "{'Shivance': 25, 'dolly': 45, 'Ram': 35}"
      ]
     },
     "execution_count": 28,
     "metadata": {},
     "output_type": "execute_result"
    }
   ],
   "source": [
    "Ages = {\"Shivance\" : 25, \"dolly\" : 45, \"Ram\" : 35}\n",
    "Ages\n"
   ]
  },
  {
   "cell_type": "code",
   "execution_count": 30,
   "id": "6f4bb7d4",
   "metadata": {},
   "outputs": [
    {
     "data": {
      "text/plain": [
       "Shivance    25\n",
       "dolly       45\n",
       "Ram         35\n",
       "dtype: int64"
      ]
     },
     "execution_count": 30,
     "metadata": {},
     "output_type": "execute_result"
    }
   ],
   "source": [
    "pd.Series(Ages) #We can create series with dictionary. The keys of the dictionary become the labels."
   ]
  },
  {
   "cell_type": "markdown",
   "id": "85493694",
   "metadata": {},
   "source": [
    "In Order to select only some of the items in the dictionary , use the index argument and specify only the items you want to include in the series."
   ]
  },
  {
   "cell_type": "code",
   "execution_count": 33,
   "id": "ae666baa",
   "metadata": {},
   "outputs": [
    {
     "data": {
      "text/plain": [
       "Shivance    25\n",
       "dolly       45\n",
       "dtype: int64"
      ]
     },
     "execution_count": 33,
     "metadata": {},
     "output_type": "execute_result"
    }
   ],
   "source": [
    "pd.Series(Ages,index=[\"Shivance\",\"dolly\"])"
   ]
  },
  {
   "cell_type": "markdown",
   "id": "aec47c8a",
   "metadata": {},
   "source": [
    "Creating Pandas Series by Numpy arrays "
   ]
  },
  {
   "cell_type": "code",
   "execution_count": 1,
   "id": "397422d0",
   "metadata": {},
   "outputs": [],
   "source": [
    "import numpy as np"
   ]
  },
  {
   "cell_type": "code",
   "execution_count": 2,
   "id": "c7518e09",
   "metadata": {},
   "outputs": [
    {
     "data": {
      "text/plain": [
       "array([10, 20, 43, 44,  5,  4, 77, 89])"
      ]
     },
     "execution_count": 2,
     "metadata": {},
     "output_type": "execute_result"
    }
   ],
   "source": [
    "a = np.array([10,20,43,44,5,4,77,89])\n",
    "a"
   ]
  },
  {
   "cell_type": "code",
   "execution_count": 5,
   "id": "52fbe035",
   "metadata": {},
   "outputs": [
    {
     "data": {
      "text/plain": [
       "0    10\n",
       "1    20\n",
       "2    43\n",
       "3    44\n",
       "4     5\n",
       "5     4\n",
       "6    77\n",
       "7    89\n",
       "dtype: int32"
      ]
     },
     "execution_count": 5,
     "metadata": {},
     "output_type": "execute_result"
    }
   ],
   "source": [
    "pd.Series(a)"
   ]
  },
  {
   "cell_type": "markdown",
   "id": "4f289455",
   "metadata": {},
   "source": [
    "Merging 2 different series (Concat)"
   ]
  },
  {
   "cell_type": "code",
   "execution_count": 7,
   "id": "552c6b92",
   "metadata": {},
   "outputs": [],
   "source": [
    "s1 = pd.Series([1,2,3,45,34,56,45])\n",
    "s2 = pd.Series([1,23,44,5,4,45,565])"
   ]
  },
  {
   "cell_type": "code",
   "execution_count": 8,
   "id": "17f8e3ab",
   "metadata": {},
   "outputs": [
    {
     "data": {
      "text/plain": [
       "0      1\n",
       "1      2\n",
       "2      3\n",
       "3     45\n",
       "4     34\n",
       "5     56\n",
       "6     45\n",
       "0      1\n",
       "1     23\n",
       "2     44\n",
       "3      5\n",
       "4      4\n",
       "5     45\n",
       "6    565\n",
       "dtype: int64"
      ]
     },
     "execution_count": 8,
     "metadata": {},
     "output_type": "execute_result"
    }
   ],
   "source": [
    "pd.concat([s1,s2])"
   ]
  },
  {
   "cell_type": "markdown",
   "id": "0954427e",
   "metadata": {},
   "source": [
    "Selection in pandas Series"
   ]
  },
  {
   "cell_type": "code",
   "execution_count": 10,
   "id": "cbd3fef3",
   "metadata": {},
   "outputs": [
    {
     "data": {
      "text/plain": [
       "0      2\n",
       "1     34\n",
       "2      5\n",
       "3     45\n",
       "4    334\n",
       "5     45\n",
       "dtype: int64"
      ]
     },
     "execution_count": 10,
     "metadata": {},
     "output_type": "execute_result"
    }
   ],
   "source": [
    "s1 = pd.Series([2,34,5,45,334,45])\n",
    "s1"
   ]
  },
  {
   "cell_type": "code",
   "execution_count": 11,
   "id": "842aea9e",
   "metadata": {},
   "outputs": [
    {
     "data": {
      "text/plain": [
       "45"
      ]
     },
     "execution_count": 11,
     "metadata": {},
     "output_type": "execute_result"
    }
   ],
   "source": [
    "s1[3]"
   ]
  },
  {
   "cell_type": "code",
   "execution_count": 12,
   "id": "a9f59193",
   "metadata": {},
   "outputs": [
    {
     "data": {
      "text/plain": [
       "0     2\n",
       "1    34\n",
       "2     5\n",
       "dtype: int64"
      ]
     },
     "execution_count": 12,
     "metadata": {},
     "output_type": "execute_result"
    }
   ],
   "source": [
    "s1[0:3]"
   ]
  },
  {
   "cell_type": "code",
   "execution_count": 13,
   "id": "ba8c033a",
   "metadata": {},
   "outputs": [
    {
     "data": {
      "text/plain": [
       "0     2\n",
       "1    34\n",
       "2     5\n",
       "3    45\n",
       "dtype: int64"
      ]
     },
     "execution_count": 13,
     "metadata": {},
     "output_type": "execute_result"
    }
   ],
   "source": [
    "s1[:4]"
   ]
  },
  {
   "cell_type": "code",
   "execution_count": 14,
   "id": "92f5f89f",
   "metadata": {},
   "outputs": [
    {
     "data": {
      "text/plain": [
       "4    334\n",
       "5     45\n",
       "dtype: int64"
      ]
     },
     "execution_count": 14,
     "metadata": {},
     "output_type": "execute_result"
    }
   ],
   "source": [
    "s1[4:]"
   ]
  },
  {
   "cell_type": "code",
   "execution_count": 18,
   "id": "bec9455e",
   "metadata": {},
   "outputs": [
    {
     "data": {
      "text/plain": [
       "firsr     13\n",
       "second    23\n",
       "third     14\n",
       "fourth    12\n",
       "fifth     23\n",
       "dtype: int64"
      ]
     },
     "execution_count": 18,
     "metadata": {},
     "output_type": "execute_result"
    }
   ],
   "source": [
    "s = pd.Series([13,23,14,12,23],index=[\"firsr\",\"second\",\"third\",\"fourth\",\"fifth\"]) # We can also specify string indexes\n",
    "s"
   ]
  },
  {
   "cell_type": "code",
   "execution_count": 17,
   "id": "d5a5b3dc",
   "metadata": {},
   "outputs": [
    {
     "data": {
      "text/plain": [
       "14"
      ]
     },
     "execution_count": 17,
     "metadata": {},
     "output_type": "execute_result"
    }
   ],
   "source": [
    "s[\"third\"]"
   ]
  },
  {
   "cell_type": "code",
   "execution_count": 20,
   "id": "f3ab3a73",
   "metadata": {},
   "outputs": [
    {
     "data": {
      "text/plain": [
       "Index(['firsr', 'second', 'third', 'fourth', 'fifth'], dtype='object')"
      ]
     },
     "execution_count": 20,
     "metadata": {},
     "output_type": "execute_result"
    }
   ],
   "source": [
    "s.index #  We can reach indexes of a serie with index attribute"
   ]
  },
  {
   "cell_type": "code",
   "execution_count": 22,
   "id": "5062a564",
   "metadata": {},
   "outputs": [
    {
     "data": {
      "text/plain": [
       "<bound method Series.keys of firsr     13\n",
       "second    23\n",
       "third     14\n",
       "fourth    12\n",
       "fifth     23\n",
       "dtype: int64>"
      ]
     },
     "execution_count": 22,
     "metadata": {},
     "output_type": "execute_result"
    }
   ],
   "source": [
    "s.keys # We can reach keys (values) of a serie with keys attribute"
   ]
  },
  {
   "cell_type": "code",
   "execution_count": 24,
   "id": "aa6c8c57",
   "metadata": {},
   "outputs": [
    {
     "data": {
      "text/plain": [
       "[('firsr', 13), ('second', 23), ('third', 14), ('fourth', 12), ('fifth', 23)]"
      ]
     },
     "execution_count": 24,
     "metadata": {},
     "output_type": "execute_result"
    }
   ],
   "source": [
    "list(s.items()) # We can see values and keys paired with items() function"
   ]
  },
  {
   "cell_type": "markdown",
   "id": "4ecc3e18",
   "metadata": {},
   "source": [
    "Queries in pandas Series"
   ]
  },
  {
   "cell_type": "code",
   "execution_count": 26,
   "id": "642028b3",
   "metadata": {},
   "outputs": [
    {
     "data": {
      "text/plain": [
       "0       2\n",
       "1       3\n",
       "2      45\n",
       "3      34\n",
       "4    5555\n",
       "5      55\n",
       "dtype: int64"
      ]
     },
     "execution_count": 26,
     "metadata": {},
     "output_type": "execute_result"
    }
   ],
   "source": [
    "a1 = pd.Series([2,3,45,34,5555,55])\n",
    "a1"
   ]
  },
  {
   "cell_type": "code",
   "execution_count": 30,
   "id": "76640088",
   "metadata": {},
   "outputs": [
    {
     "data": {
      "text/plain": [
       "True"
      ]
     },
     "execution_count": 30,
     "metadata": {},
     "output_type": "execute_result"
    }
   ],
   "source": [
    "1 in a1 # Look if s1 contains 3"
   ]
  },
  {
   "cell_type": "code",
   "execution_count": 32,
   "id": "be445faf",
   "metadata": {},
   "outputs": [
    {
     "data": {
      "text/plain": [
       "False"
      ]
     },
     "execution_count": 32,
     "metadata": {},
     "output_type": "execute_result"
    }
   ],
   "source": [
    "35 in a1 # Look if a1 contains 34"
   ]
  },
  {
   "cell_type": "markdown",
   "id": "d4a1d866",
   "metadata": {},
   "source": [
    "Fancy element Selecting in Pandas"
   ]
  },
  {
   "cell_type": "code",
   "execution_count": 33,
   "id": "db9b29fd",
   "metadata": {},
   "outputs": [
    {
     "data": {
      "text/plain": [
       "0      2\n",
       "1     34\n",
       "2     45\n",
       "3     34\n",
       "4    344\n",
       "dtype: int64"
      ]
     },
     "execution_count": 33,
     "metadata": {},
     "output_type": "execute_result"
    }
   ],
   "source": [
    "s1 = pd.Series([2,34,45,34,344,])\n",
    "s1"
   ]
  },
  {
   "cell_type": "code",
   "execution_count": 34,
   "id": "11374f61",
   "metadata": {},
   "outputs": [
    {
     "data": {
      "text/plain": [
       "2    45\n",
       "3    34\n",
       "dtype: int64"
      ]
     },
     "execution_count": 34,
     "metadata": {},
     "output_type": "execute_result"
    }
   ],
   "source": [
    "s1[[2,3]]"
   ]
  },
  {
   "cell_type": "code",
   "execution_count": 36,
   "id": "ec9626b8",
   "metadata": {},
   "outputs": [
    {
     "data": {
      "text/plain": [
       "1     34\n",
       "4    344\n",
       "dtype: int64"
      ]
     },
     "execution_count": 36,
     "metadata": {},
     "output_type": "execute_result"
    }
   ],
   "source": [
    "s1[[1,4]]"
   ]
  },
  {
   "cell_type": "code",
   "execution_count": 39,
   "id": "6e4fa81e",
   "metadata": {},
   "outputs": [
    {
     "data": {
      "text/plain": [
       "first     12\n",
       "second    13\n",
       "third     14\n",
       "fourth    15\n",
       "fifth     16\n",
       "dtype: int64"
      ]
     },
     "execution_count": 39,
     "metadata": {},
     "output_type": "execute_result"
    }
   ],
   "source": [
    "s = pd.Series([12,13,14,15,16,], index=[\"first\",\"second\",\"third\",\"fourth\",\"fifth\"]) # We can also specify string indexes.\n",
    "s"
   ]
  },
  {
   "cell_type": "code",
   "execution_count": 43,
   "id": "3ac4adb1",
   "metadata": {},
   "outputs": [
    {
     "data": {
      "text/plain": [
       "['first', 'second']"
      ]
     },
     "execution_count": 43,
     "metadata": {},
     "output_type": "execute_result"
    }
   ],
   "source": [
    "s = [\"first\",\"second\"]\n",
    "s"
   ]
  },
  {
   "cell_type": "markdown",
   "id": "17e96352",
   "metadata": {},
   "source": [
    "Updating Values"
   ]
  },
  {
   "cell_type": "code",
   "execution_count": 44,
   "id": "0b55b65f",
   "metadata": {},
   "outputs": [
    {
     "data": {
      "text/plain": [
       "0     2\n",
       "1     3\n",
       "2     4\n",
       "3    56\n",
       "4    66\n",
       "5    45\n",
       "dtype: int64"
      ]
     },
     "execution_count": 44,
     "metadata": {},
     "output_type": "execute_result"
    }
   ],
   "source": [
    "s1 = pd.Series([2,3,4,56,66,45])\n",
    "s1"
   ]
  },
  {
   "cell_type": "code",
   "execution_count": 49,
   "id": "ad92e087",
   "metadata": {},
   "outputs": [
    {
     "data": {
      "text/plain": [
       "315"
      ]
     },
     "execution_count": 49,
     "metadata": {},
     "output_type": "execute_result"
    }
   ],
   "source": [
    "s1[1] = 315\n",
    "s1[1]"
   ]
  },
  {
   "cell_type": "markdown",
   "id": "385c20fc",
   "metadata": {},
   "source": [
    "Pandas Dataframes"
   ]
  },
  {
   "cell_type": "markdown",
   "id": "d10dfd76",
   "metadata": {},
   "source": [
    "A DataFrame is a table. It contains an array of individual entries, each of which has a certain value. Each entry corresponds to a row (or record) and a column."
   ]
  },
  {
   "cell_type": "markdown",
   "id": "4fee915f",
   "metadata": {},
   "source": [
    "Those who are familiar with R know the data frame as a way to store data in rectangular grids that can easily be overviewed. Each row of these grids corresponds to measurements or values of an instance, while each column is a vector containing data for a specific variable. This means that a data frame’s rows do not need to contain, but can contain, the same type of values: they can be numeric, character, logical, etc."
   ]
  },
  {
   "cell_type": "code",
   "execution_count": 52,
   "id": "1ffc5a24",
   "metadata": {},
   "outputs": [
    {
     "data": {
      "text/html": [
       "<div>\n",
       "<style scoped>\n",
       "    .dataframe tbody tr th:only-of-type {\n",
       "        vertical-align: middle;\n",
       "    }\n",
       "\n",
       "    .dataframe tbody tr th {\n",
       "        vertical-align: top;\n",
       "    }\n",
       "\n",
       "    .dataframe thead th {\n",
       "        text-align: right;\n",
       "    }\n",
       "</style>\n",
       "<table border=\"1\" class=\"dataframe\">\n",
       "  <thead>\n",
       "    <tr style=\"text-align: right;\">\n",
       "      <th></th>\n",
       "      <th>Name</th>\n",
       "      <th>Age</th>\n",
       "    </tr>\n",
       "  </thead>\n",
       "  <tbody>\n",
       "    <tr>\n",
       "      <th>0</th>\n",
       "      <td>Shivance</td>\n",
       "      <td>23</td>\n",
       "    </tr>\n",
       "    <tr>\n",
       "      <th>1</th>\n",
       "      <td>Ram</td>\n",
       "      <td>56</td>\n",
       "    </tr>\n",
       "    <tr>\n",
       "      <th>2</th>\n",
       "      <td>Dolly</td>\n",
       "      <td>34</td>\n",
       "    </tr>\n",
       "    <tr>\n",
       "      <th>3</th>\n",
       "      <td>Choti</td>\n",
       "      <td>22</td>\n",
       "    </tr>\n",
       "  </tbody>\n",
       "</table>\n",
       "</div>"
      ],
      "text/plain": [
       "       Name  Age\n",
       "0  Shivance   23\n",
       "1       Ram   56\n",
       "2     Dolly   34\n",
       "3     Choti   22"
      ]
     },
     "execution_count": 52,
     "metadata": {},
     "output_type": "execute_result"
    }
   ],
   "source": [
    "pd.DataFrame({\"Name\" : [\"Shivance\",\"Ram\",\"Dolly\",\"Choti\"], \"Age\" : [23,56,34,22]}) # IT can be Created directly "
   ]
  },
  {
   "cell_type": "markdown",
   "id": "fe0823b2",
   "metadata": {},
   "source": [
    "You can think as columns and values as rows"
   ]
  },
  {
   "cell_type": "code",
   "execution_count": 59,
   "id": "fd77928e",
   "metadata": {},
   "outputs": [
    {
     "data": {
      "text/html": [
       "<div>\n",
       "<style scoped>\n",
       "    .dataframe tbody tr th:only-of-type {\n",
       "        vertical-align: middle;\n",
       "    }\n",
       "\n",
       "    .dataframe tbody tr th {\n",
       "        vertical-align: top;\n",
       "    }\n",
       "\n",
       "    .dataframe thead th {\n",
       "        text-align: right;\n",
       "    }\n",
       "</style>\n",
       "<table border=\"1\" class=\"dataframe\">\n",
       "  <thead>\n",
       "    <tr style=\"text-align: right;\">\n",
       "      <th></th>\n",
       "      <th>Name</th>\n",
       "      <th>Age</th>\n",
       "    </tr>\n",
       "  </thead>\n",
       "  <tbody>\n",
       "    <tr>\n",
       "      <th>0</th>\n",
       "      <td>Someshwar</td>\n",
       "      <td>14</td>\n",
       "    </tr>\n",
       "    <tr>\n",
       "      <th>1</th>\n",
       "      <td>Dolly</td>\n",
       "      <td>33</td>\n",
       "    </tr>\n",
       "    <tr>\n",
       "      <th>2</th>\n",
       "      <td>Nikhil</td>\n",
       "      <td>24</td>\n",
       "    </tr>\n",
       "    <tr>\n",
       "      <th>3</th>\n",
       "      <td>Dolly</td>\n",
       "      <td>23</td>\n",
       "    </tr>\n",
       "  </tbody>\n",
       "</table>\n",
       "</div>"
      ],
      "text/plain": [
       "        Name  Age\n",
       "0  Someshwar   14\n",
       "1      Dolly   33\n",
       "2     Nikhil   24\n",
       "3      Dolly   23"
      ]
     },
     "execution_count": 59,
     "metadata": {},
     "output_type": "execute_result"
    }
   ],
   "source": [
    "dic = {\"Name\" : [\"Someshwar\",\"Dolly\",\"Nikhil\",\"Dolly\"], \"Age\" : [14,33,24,23]} # It can be created by external dic\n",
    "dataframe = pd.DataFrame(dic)\n",
    "dataframe"
   ]
  },
  {
   "cell_type": "code",
   "execution_count": 61,
   "id": "c84357a7",
   "metadata": {},
   "outputs": [
    {
     "data": {
      "text/plain": [
       "0    14\n",
       "1    33\n",
       "2    24\n",
       "3    23\n",
       "Name: Age, dtype: int64"
      ]
     },
     "execution_count": 61,
     "metadata": {},
     "output_type": "execute_result"
    }
   ],
   "source": [
    "dataframe[\"Age\"] # we can access age column with this way"
   ]
  },
  {
   "cell_type": "code",
   "execution_count": 63,
   "id": "48dfe943",
   "metadata": {},
   "outputs": [
    {
     "data": {
      "text/plain": [
       "0    14\n",
       "1    33\n",
       "2    24\n",
       "3    23\n",
       "Name: Age, dtype: int64"
      ]
     },
     "execution_count": 63,
     "metadata": {},
     "output_type": "execute_result"
    }
   ],
   "source": [
    "dataframe.Age # We can also access age column with this way but it gives error if there is same method as the name as. (column_name)"
   ]
  },
  {
   "cell_type": "code",
   "execution_count": 68,
   "id": "3b23b1a7",
   "metadata": {},
   "outputs": [
    {
     "data": {
      "text/html": [
       "<div>\n",
       "<style scoped>\n",
       "    .dataframe tbody tr th:only-of-type {\n",
       "        vertical-align: middle;\n",
       "    }\n",
       "\n",
       "    .dataframe tbody tr th {\n",
       "        vertical-align: top;\n",
       "    }\n",
       "\n",
       "    .dataframe thead th {\n",
       "        text-align: right;\n",
       "    }\n",
       "</style>\n",
       "<table border=\"1\" class=\"dataframe\">\n",
       "  <thead>\n",
       "    <tr style=\"text-align: right;\">\n",
       "      <th></th>\n",
       "      <th>variable_list</th>\n",
       "    </tr>\n",
       "  </thead>\n",
       "  <tbody>\n",
       "    <tr>\n",
       "      <th>0</th>\n",
       "      <td>23</td>\n",
       "    </tr>\n",
       "    <tr>\n",
       "      <th>1</th>\n",
       "      <td>24</td>\n",
       "    </tr>\n",
       "    <tr>\n",
       "      <th>2</th>\n",
       "      <td>25</td>\n",
       "    </tr>\n",
       "    <tr>\n",
       "      <th>3</th>\n",
       "      <td>16</td>\n",
       "    </tr>\n",
       "    <tr>\n",
       "      <th>4</th>\n",
       "      <td>222</td>\n",
       "    </tr>\n",
       "    <tr>\n",
       "      <th>5</th>\n",
       "      <td>444</td>\n",
       "    </tr>\n",
       "    <tr>\n",
       "      <th>6</th>\n",
       "      <td>343</td>\n",
       "    </tr>\n",
       "    <tr>\n",
       "      <th>7</th>\n",
       "      <td>44</td>\n",
       "    </tr>\n",
       "  </tbody>\n",
       "</table>\n",
       "</div>"
      ],
      "text/plain": [
       "   variable_list\n",
       "0             23\n",
       "1             24\n",
       "2             25\n",
       "3             16\n",
       "4            222\n",
       "5            444\n",
       "6            343\n",
       "7             44"
      ]
     },
     "execution_count": 68,
     "metadata": {},
     "output_type": "execute_result"
    }
   ],
   "source": [
    "I = [23,24,25,16,222,444,343,44]\n",
    "df = pd.DataFrame(I,columns=[\"variable_list\"]) # We can create dataframes also with this way \n",
    "df # In general , dataframe are named as \"df\""
   ]
  },
  {
   "cell_type": "code",
   "execution_count": 72,
   "id": "977c6bc2",
   "metadata": {},
   "outputs": [
    {
     "data": {
      "text/html": [
       "<div>\n",
       "<style scoped>\n",
       "    .dataframe tbody tr th:only-of-type {\n",
       "        vertical-align: middle;\n",
       "    }\n",
       "\n",
       "    .dataframe tbody tr th {\n",
       "        vertical-align: top;\n",
       "    }\n",
       "\n",
       "    .dataframe thead th {\n",
       "        text-align: right;\n",
       "    }\n",
       "</style>\n",
       "<table border=\"1\" class=\"dataframe\">\n",
       "  <thead>\n",
       "    <tr style=\"text-align: right;\">\n",
       "      <th></th>\n",
       "      <th>Names</th>\n",
       "    </tr>\n",
       "  </thead>\n",
       "  <tbody>\n",
       "    <tr>\n",
       "      <th>0</th>\n",
       "      <td>Shivance</td>\n",
       "    </tr>\n",
       "    <tr>\n",
       "      <th>1</th>\n",
       "      <td>Gopi</td>\n",
       "    </tr>\n",
       "    <tr>\n",
       "      <th>2</th>\n",
       "      <td>dolly</td>\n",
       "    </tr>\n",
       "    <tr>\n",
       "      <th>3</th>\n",
       "      <td>choti</td>\n",
       "    </tr>\n",
       "  </tbody>\n",
       "</table>\n",
       "</div>"
      ],
      "text/plain": [
       "      Names\n",
       "0  Shivance\n",
       "1      Gopi\n",
       "2     dolly\n",
       "3     choti"
      ]
     },
     "execution_count": 72,
     "metadata": {},
     "output_type": "execute_result"
    }
   ],
   "source": [
    "names = [\"Shivance\",\"Gopi\",\"dolly\",\"choti\"]\n",
    "df = pd.DataFrame(names,columns=[\"Names\"])\n",
    "names\n",
    "df"
   ]
  },
  {
   "cell_type": "markdown",
   "id": "3b7aa4d2",
   "metadata": {},
   "source": [
    "We can also create dataframe with numpy array"
   ]
  },
  {
   "cell_type": "code",
   "execution_count": 73,
   "id": "ca5072dd",
   "metadata": {},
   "outputs": [],
   "source": [
    "import numpy as np"
   ]
  },
  {
   "cell_type": "code",
   "execution_count": 75,
   "id": "4168528e",
   "metadata": {},
   "outputs": [
    {
     "data": {
      "text/plain": [
       "array([[ 3,  6,  9],\n",
       "       [34,  5,  5],\n",
       "       [ 3,  5,  5]])"
      ]
     },
     "execution_count": 75,
     "metadata": {},
     "output_type": "execute_result"
    }
   ],
   "source": [
    "arr = np.array([3,6,9,34,5,5,3,5,5]).reshape(3,3)\n",
    "arr"
   ]
  },
  {
   "cell_type": "code",
   "execution_count": 77,
   "id": "1763d6ef",
   "metadata": {},
   "outputs": [
    {
     "data": {
      "text/html": [
       "<div>\n",
       "<style scoped>\n",
       "    .dataframe tbody tr th:only-of-type {\n",
       "        vertical-align: middle;\n",
       "    }\n",
       "\n",
       "    .dataframe tbody tr th {\n",
       "        vertical-align: top;\n",
       "    }\n",
       "\n",
       "    .dataframe thead th {\n",
       "        text-align: right;\n",
       "    }\n",
       "</style>\n",
       "<table border=\"1\" class=\"dataframe\">\n",
       "  <thead>\n",
       "    <tr style=\"text-align: right;\">\n",
       "      <th></th>\n",
       "      <th>list_1</th>\n",
       "      <th>list_2</th>\n",
       "      <th>list_3</th>\n",
       "    </tr>\n",
       "  </thead>\n",
       "  <tbody>\n",
       "    <tr>\n",
       "      <th>0</th>\n",
       "      <td>3</td>\n",
       "      <td>6</td>\n",
       "      <td>9</td>\n",
       "    </tr>\n",
       "    <tr>\n",
       "      <th>1</th>\n",
       "      <td>34</td>\n",
       "      <td>5</td>\n",
       "      <td>5</td>\n",
       "    </tr>\n",
       "    <tr>\n",
       "      <th>2</th>\n",
       "      <td>3</td>\n",
       "      <td>5</td>\n",
       "      <td>5</td>\n",
       "    </tr>\n",
       "  </tbody>\n",
       "</table>\n",
       "</div>"
      ],
      "text/plain": [
       "   list_1  list_2  list_3\n",
       "0       3       6       9\n",
       "1      34       5       5\n",
       "2       3       5       5"
      ]
     },
     "execution_count": 77,
     "metadata": {},
     "output_type": "execute_result"
    }
   ],
   "source": [
    "pd.DataFrame(arr,columns=[\"list_1\",\"list_2\",\"list_3\"])"
   ]
  },
  {
   "cell_type": "markdown",
   "id": "f517301c",
   "metadata": {},
   "source": [
    "Attribute of a Dataframe"
   ]
  },
  {
   "cell_type": "code",
   "execution_count": 79,
   "id": "505c3255",
   "metadata": {},
   "outputs": [
    {
     "data": {
      "text/html": [
       "<div>\n",
       "<style scoped>\n",
       "    .dataframe tbody tr th:only-of-type {\n",
       "        vertical-align: middle;\n",
       "    }\n",
       "\n",
       "    .dataframe tbody tr th {\n",
       "        vertical-align: top;\n",
       "    }\n",
       "\n",
       "    .dataframe thead th {\n",
       "        text-align: right;\n",
       "    }\n",
       "</style>\n",
       "<table border=\"1\" class=\"dataframe\">\n",
       "  <thead>\n",
       "    <tr style=\"text-align: right;\">\n",
       "      <th></th>\n",
       "      <th>variable_1</th>\n",
       "      <th>variable_2</th>\n",
       "      <th>variable_3</th>\n",
       "    </tr>\n",
       "  </thead>\n",
       "  <tbody>\n",
       "    <tr>\n",
       "      <th>0</th>\n",
       "      <td>3</td>\n",
       "      <td>6</td>\n",
       "      <td>9</td>\n",
       "    </tr>\n",
       "    <tr>\n",
       "      <th>1</th>\n",
       "      <td>34</td>\n",
       "      <td>5</td>\n",
       "      <td>5</td>\n",
       "    </tr>\n",
       "    <tr>\n",
       "      <th>2</th>\n",
       "      <td>3</td>\n",
       "      <td>5</td>\n",
       "      <td>5</td>\n",
       "    </tr>\n",
       "  </tbody>\n",
       "</table>\n",
       "</div>"
      ],
      "text/plain": [
       "   variable_1  variable_2  variable_3\n",
       "0           3           6           9\n",
       "1          34           5           5\n",
       "2           3           5           5"
      ]
     },
     "execution_count": 79,
     "metadata": {},
     "output_type": "execute_result"
    }
   ],
   "source": [
    "df = pd.DataFrame(arr,columns=[\"variable_1\",\"variable_2\",\"variable_3\"])\n",
    "df"
   ]
  },
  {
   "cell_type": "code",
   "execution_count": 82,
   "id": "6a9fb86c",
   "metadata": {},
   "outputs": [
    {
     "data": {
      "text/plain": [
       "[RangeIndex(start=0, stop=3, step=1),\n",
       " Index(['variable_1', 'variable_2', 'variable_3'], dtype='object')]"
      ]
     },
     "execution_count": 82,
     "metadata": {},
     "output_type": "execute_result"
    }
   ],
   "source": [
    "df.axes # It shows names"
   ]
  },
  {
   "cell_type": "code",
   "execution_count": 84,
   "id": "5a62b433",
   "metadata": {},
   "outputs": [
    {
     "data": {
      "text/plain": [
       "(3, 3)"
      ]
     },
     "execution_count": 84,
     "metadata": {},
     "output_type": "execute_result"
    }
   ],
   "source": [
    "df.shape # It shows shape of a dataframe"
   ]
  },
  {
   "cell_type": "code",
   "execution_count": 86,
   "id": "bbc51d09",
   "metadata": {},
   "outputs": [
    {
     "data": {
      "text/plain": [
       "2"
      ]
     },
     "execution_count": 86,
     "metadata": {},
     "output_type": "execute_result"
    }
   ],
   "source": [
    "df.ndim # It shows dimension of a dataframe"
   ]
  },
  {
   "cell_type": "code",
   "execution_count": 88,
   "id": "2916ebf3",
   "metadata": {},
   "outputs": [
    {
     "data": {
      "text/plain": [
       "9"
      ]
     },
     "execution_count": 88,
     "metadata": {},
     "output_type": "execute_result"
    }
   ],
   "source": [
    "df.size # It shows size of a dataframe"
   ]
  },
  {
   "cell_type": "code",
   "execution_count": 89,
   "id": "196e6502",
   "metadata": {},
   "outputs": [
    {
     "data": {
      "text/plain": [
       "Index(['variable_1', 'variable_2', 'variable_3'], dtype='object')"
      ]
     },
     "execution_count": 89,
     "metadata": {},
     "output_type": "execute_result"
    }
   ],
   "source": [
    "df.columns"
   ]
  },
  {
   "cell_type": "code",
   "execution_count": 90,
   "id": "378ebb86",
   "metadata": {},
   "outputs": [
    {
     "data": {
      "text/plain": [
       "RangeIndex(start=0, stop=3, step=1)"
      ]
     },
     "execution_count": 90,
     "metadata": {},
     "output_type": "execute_result"
    }
   ],
   "source": [
    "df.index"
   ]
  },
  {
   "cell_type": "code",
   "execution_count": 92,
   "id": "8771c3d9",
   "metadata": {},
   "outputs": [
    {
     "data": {
      "text/plain": [
       "array([[ 3,  6,  9],\n",
       "       [34,  5,  5],\n",
       "       [ 3,  5,  5]])"
      ]
     },
     "execution_count": 92,
     "metadata": {},
     "output_type": "execute_result"
    }
   ],
   "source": [
    "df.values # It shows values of a dataframe"
   ]
  },
  {
   "cell_type": "markdown",
   "id": "20d8e422",
   "metadata": {},
   "source": [
    "Changing Column Names in a Dataframe"
   ]
  },
  {
   "cell_type": "code",
   "execution_count": 93,
   "id": "6021389d",
   "metadata": {},
   "outputs": [
    {
     "data": {
      "text/html": [
       "<div>\n",
       "<style scoped>\n",
       "    .dataframe tbody tr th:only-of-type {\n",
       "        vertical-align: middle;\n",
       "    }\n",
       "\n",
       "    .dataframe tbody tr th {\n",
       "        vertical-align: top;\n",
       "    }\n",
       "\n",
       "    .dataframe thead th {\n",
       "        text-align: right;\n",
       "    }\n",
       "</style>\n",
       "<table border=\"1\" class=\"dataframe\">\n",
       "  <thead>\n",
       "    <tr style=\"text-align: right;\">\n",
       "      <th></th>\n",
       "      <th>variable_1</th>\n",
       "      <th>variable_2</th>\n",
       "      <th>variable_3</th>\n",
       "    </tr>\n",
       "  </thead>\n",
       "  <tbody>\n",
       "    <tr>\n",
       "      <th>0</th>\n",
       "      <td>3</td>\n",
       "      <td>6</td>\n",
       "      <td>9</td>\n",
       "    </tr>\n",
       "    <tr>\n",
       "      <th>1</th>\n",
       "      <td>34</td>\n",
       "      <td>5</td>\n",
       "      <td>5</td>\n",
       "    </tr>\n",
       "    <tr>\n",
       "      <th>2</th>\n",
       "      <td>3</td>\n",
       "      <td>5</td>\n",
       "      <td>5</td>\n",
       "    </tr>\n",
       "  </tbody>\n",
       "</table>\n",
       "</div>"
      ],
      "text/plain": [
       "   variable_1  variable_2  variable_3\n",
       "0           3           6           9\n",
       "1          34           5           5\n",
       "2           3           5           5"
      ]
     },
     "execution_count": 93,
     "metadata": {},
     "output_type": "execute_result"
    }
   ],
   "source": [
    "df"
   ]
  },
  {
   "cell_type": "code",
   "execution_count": 95,
   "id": "44fdaf42",
   "metadata": {},
   "outputs": [
    {
     "data": {
      "text/plain": [
       "Index(['variable_1', 'variable_2', 'variable_3'], dtype='object')"
      ]
     },
     "execution_count": 95,
     "metadata": {},
     "output_type": "execute_result"
    }
   ],
   "source": [
    "df.columns # We can reach columns of a dataframe with this way"
   ]
  },
  {
   "cell_type": "code",
   "execution_count": 98,
   "id": "541e38c7",
   "metadata": {},
   "outputs": [
    {
     "data": {
      "text/html": [
       "<div>\n",
       "<style scoped>\n",
       "    .dataframe tbody tr th:only-of-type {\n",
       "        vertical-align: middle;\n",
       "    }\n",
       "\n",
       "    .dataframe tbody tr th {\n",
       "        vertical-align: top;\n",
       "    }\n",
       "\n",
       "    .dataframe thead th {\n",
       "        text-align: right;\n",
       "    }\n",
       "</style>\n",
       "<table border=\"1\" class=\"dataframe\">\n",
       "  <thead>\n",
       "    <tr style=\"text-align: right;\">\n",
       "      <th></th>\n",
       "      <th>list1</th>\n",
       "      <th>list2</th>\n",
       "      <th>list3</th>\n",
       "    </tr>\n",
       "  </thead>\n",
       "  <tbody>\n",
       "    <tr>\n",
       "      <th>0</th>\n",
       "      <td>3</td>\n",
       "      <td>6</td>\n",
       "      <td>9</td>\n",
       "    </tr>\n",
       "    <tr>\n",
       "      <th>1</th>\n",
       "      <td>34</td>\n",
       "      <td>5</td>\n",
       "      <td>5</td>\n",
       "    </tr>\n",
       "    <tr>\n",
       "      <th>2</th>\n",
       "      <td>3</td>\n",
       "      <td>5</td>\n",
       "      <td>5</td>\n",
       "    </tr>\n",
       "  </tbody>\n",
       "</table>\n",
       "</div>"
      ],
      "text/plain": [
       "   list1  list2  list3\n",
       "0      3      6      9\n",
       "1     34      5      5\n",
       "2      3      5      5"
      ]
     },
     "execution_count": 98,
     "metadata": {},
     "output_type": "execute_result"
    }
   ],
   "source": [
    "df.columns = (\"list1\",\"list2\",\"list3\") # We can change columns names of a dataframe with this way\n",
    "df"
   ]
  },
  {
   "cell_type": "markdown",
   "id": "0a36c4a4",
   "metadata": {},
   "source": [
    "Accessing rows of a dataframe"
   ]
  },
  {
   "cell_type": "code",
   "execution_count": 100,
   "id": "a66d2c0b",
   "metadata": {},
   "outputs": [
    {
     "data": {
      "text/html": [
       "<div>\n",
       "<style scoped>\n",
       "    .dataframe tbody tr th:only-of-type {\n",
       "        vertical-align: middle;\n",
       "    }\n",
       "\n",
       "    .dataframe tbody tr th {\n",
       "        vertical-align: top;\n",
       "    }\n",
       "\n",
       "    .dataframe thead th {\n",
       "        text-align: right;\n",
       "    }\n",
       "</style>\n",
       "<table border=\"1\" class=\"dataframe\">\n",
       "  <thead>\n",
       "    <tr style=\"text-align: right;\">\n",
       "      <th></th>\n",
       "      <th>Name</th>\n",
       "      <th>Income</th>\n",
       "      <th>Age</th>\n",
       "    </tr>\n",
       "  </thead>\n",
       "  <tbody>\n",
       "    <tr>\n",
       "      <th>0</th>\n",
       "      <td>Shivance</td>\n",
       "      <td>23400</td>\n",
       "      <td>25</td>\n",
       "    </tr>\n",
       "    <tr>\n",
       "      <th>1</th>\n",
       "      <td>Ram</td>\n",
       "      <td>2300</td>\n",
       "      <td>48</td>\n",
       "    </tr>\n",
       "    <tr>\n",
       "      <th>2</th>\n",
       "      <td>Dolly</td>\n",
       "      <td>23322</td>\n",
       "      <td>46</td>\n",
       "    </tr>\n",
       "    <tr>\n",
       "      <th>3</th>\n",
       "      <td>Choti</td>\n",
       "      <td>50000</td>\n",
       "      <td>52</td>\n",
       "    </tr>\n",
       "  </tbody>\n",
       "</table>\n",
       "</div>"
      ],
      "text/plain": [
       "       Name  Income  Age\n",
       "0  Shivance   23400   25\n",
       "1       Ram    2300   48\n",
       "2     Dolly   23322   46\n",
       "3     Choti   50000   52"
      ]
     },
     "execution_count": 100,
     "metadata": {},
     "output_type": "execute_result"
    }
   ],
   "source": [
    "df = pd.DataFrame({\"Name\" : [\"Shivance\",\"Ram\",\"Dolly\",\"Choti\"], \"Income\" : [23400,2300,23322,50000], \"Age\" : [25,48,46,52]})\n",
    "df"
   ]
  },
  {
   "cell_type": "markdown",
   "id": "d29d3cb5",
   "metadata": {},
   "source": [
    "In Order to reach by their integer location, we can use iloc keyword"
   ]
  },
  {
   "cell_type": "code",
   "execution_count": 106,
   "id": "d06e71b3",
   "metadata": {},
   "outputs": [
    {
     "data": {
      "text/plain": [
       "Name      Shivance\n",
       "Income       23400\n",
       "Age             25\n",
       "Name: 0, dtype: object"
      ]
     },
     "execution_count": 106,
     "metadata": {},
     "output_type": "execute_result"
    }
   ],
   "source": [
    "df.iloc[0]"
   ]
  },
  {
   "cell_type": "code",
   "execution_count": 107,
   "id": "9ee2bb34",
   "metadata": {},
   "outputs": [
    {
     "data": {
      "text/html": [
       "<div>\n",
       "<style scoped>\n",
       "    .dataframe tbody tr th:only-of-type {\n",
       "        vertical-align: middle;\n",
       "    }\n",
       "\n",
       "    .dataframe tbody tr th {\n",
       "        vertical-align: top;\n",
       "    }\n",
       "\n",
       "    .dataframe thead th {\n",
       "        text-align: right;\n",
       "    }\n",
       "</style>\n",
       "<table border=\"1\" class=\"dataframe\">\n",
       "  <thead>\n",
       "    <tr style=\"text-align: right;\">\n",
       "      <th></th>\n",
       "      <th>Name</th>\n",
       "      <th>Income</th>\n",
       "      <th>Age</th>\n",
       "    </tr>\n",
       "  </thead>\n",
       "  <tbody>\n",
       "    <tr>\n",
       "      <th>0</th>\n",
       "      <td>Shivance</td>\n",
       "      <td>23400</td>\n",
       "      <td>25</td>\n",
       "    </tr>\n",
       "    <tr>\n",
       "      <th>1</th>\n",
       "      <td>Ram</td>\n",
       "      <td>2300</td>\n",
       "      <td>48</td>\n",
       "    </tr>\n",
       "    <tr>\n",
       "      <th>2</th>\n",
       "      <td>Dolly</td>\n",
       "      <td>23322</td>\n",
       "      <td>46</td>\n",
       "    </tr>\n",
       "    <tr>\n",
       "      <th>3</th>\n",
       "      <td>Choti</td>\n",
       "      <td>50000</td>\n",
       "      <td>52</td>\n",
       "    </tr>\n",
       "  </tbody>\n",
       "</table>\n",
       "</div>"
      ],
      "text/plain": [
       "       Name  Income  Age\n",
       "0  Shivance   23400   25\n",
       "1       Ram    2300   48\n",
       "2     Dolly   23322   46\n",
       "3     Choti   50000   52"
      ]
     },
     "execution_count": 107,
     "metadata": {},
     "output_type": "execute_result"
    }
   ],
   "source": [
    "df"
   ]
  },
  {
   "cell_type": "markdown",
   "id": "4d093e7d",
   "metadata": {},
   "source": [
    "Fancy Indexing"
   ]
  },
  {
   "cell_type": "code",
   "execution_count": 108,
   "id": "9d56febf",
   "metadata": {},
   "outputs": [
    {
     "data": {
      "text/html": [
       "<div>\n",
       "<style scoped>\n",
       "    .dataframe tbody tr th:only-of-type {\n",
       "        vertical-align: middle;\n",
       "    }\n",
       "\n",
       "    .dataframe tbody tr th {\n",
       "        vertical-align: top;\n",
       "    }\n",
       "\n",
       "    .dataframe thead th {\n",
       "        text-align: right;\n",
       "    }\n",
       "</style>\n",
       "<table border=\"1\" class=\"dataframe\">\n",
       "  <thead>\n",
       "    <tr style=\"text-align: right;\">\n",
       "      <th></th>\n",
       "      <th>Name</th>\n",
       "      <th>Income</th>\n",
       "      <th>Age</th>\n",
       "    </tr>\n",
       "  </thead>\n",
       "  <tbody>\n",
       "    <tr>\n",
       "      <th>0</th>\n",
       "      <td>Shivance</td>\n",
       "      <td>23400</td>\n",
       "      <td>25</td>\n",
       "    </tr>\n",
       "    <tr>\n",
       "      <th>2</th>\n",
       "      <td>Dolly</td>\n",
       "      <td>23322</td>\n",
       "      <td>46</td>\n",
       "    </tr>\n",
       "  </tbody>\n",
       "</table>\n",
       "</div>"
      ],
      "text/plain": [
       "       Name  Income  Age\n",
       "0  Shivance   23400   25\n",
       "2     Dolly   23322   46"
      ]
     },
     "execution_count": 108,
     "metadata": {},
     "output_type": "execute_result"
    }
   ],
   "source": [
    "df.iloc[[0,2]]"
   ]
  },
  {
   "cell_type": "code",
   "execution_count": 115,
   "id": "44c05768",
   "metadata": {},
   "outputs": [
    {
     "data": {
      "text/plain": [
       "0    Shivance\n",
       "3       Choti\n",
       "Name: Name, dtype: object"
      ]
     },
     "execution_count": 115,
     "metadata": {},
     "output_type": "execute_result"
    }
   ],
   "source": [
    "# We also select spesific rows of a column \n",
    "df.iloc[[0,3],0]"
   ]
  },
  {
   "cell_type": "code",
   "execution_count": 122,
   "id": "398c1a1b",
   "metadata": {},
   "outputs": [
    {
     "data": {
      "text/plain": [
       "(       Name  Income  Age\n",
       " 0  Shivance   23400   25\n",
       " 3     Choti   50000   52,\n",
       " [[1, 2]])"
      ]
     },
     "execution_count": 122,
     "metadata": {},
     "output_type": "execute_result"
    }
   ],
   "source": [
    "df.iloc[[0,3]],[[1,2]]"
   ]
  },
  {
   "cell_type": "code",
   "execution_count": 123,
   "id": "8123b49c",
   "metadata": {},
   "outputs": [
    {
     "data": {
      "text/html": [
       "<div>\n",
       "<style scoped>\n",
       "    .dataframe tbody tr th:only-of-type {\n",
       "        vertical-align: middle;\n",
       "    }\n",
       "\n",
       "    .dataframe tbody tr th {\n",
       "        vertical-align: top;\n",
       "    }\n",
       "\n",
       "    .dataframe thead th {\n",
       "        text-align: right;\n",
       "    }\n",
       "</style>\n",
       "<table border=\"1\" class=\"dataframe\">\n",
       "  <thead>\n",
       "    <tr style=\"text-align: right;\">\n",
       "      <th></th>\n",
       "      <th>Name</th>\n",
       "      <th>Income</th>\n",
       "      <th>Age</th>\n",
       "    </tr>\n",
       "  </thead>\n",
       "  <tbody>\n",
       "    <tr>\n",
       "      <th>1</th>\n",
       "      <td>Ram</td>\n",
       "      <td>2300</td>\n",
       "      <td>48</td>\n",
       "    </tr>\n",
       "    <tr>\n",
       "      <th>2</th>\n",
       "      <td>Dolly</td>\n",
       "      <td>23322</td>\n",
       "      <td>46</td>\n",
       "    </tr>\n",
       "  </tbody>\n",
       "</table>\n",
       "</div>"
      ],
      "text/plain": [
       "    Name  Income  Age\n",
       "1    Ram    2300   48\n",
       "2  Dolly   23322   46"
      ]
     },
     "execution_count": 123,
     "metadata": {},
     "output_type": "execute_result"
    }
   ],
   "source": [
    "df.iloc[1:3]"
   ]
  },
  {
   "cell_type": "code",
   "execution_count": 131,
   "id": "89c6ec4f",
   "metadata": {},
   "outputs": [
    {
     "data": {
      "text/plain": [
       "1    48\n",
       "2    46\n",
       "Name: Age, dtype: int64"
      ]
     },
     "execution_count": 131,
     "metadata": {},
     "output_type": "execute_result"
    }
   ],
   "source": [
    "df.iloc[1:3,2] # It gets just second column-age"
   ]
  },
  {
   "cell_type": "markdown",
   "id": "6f7fbe68",
   "metadata": {},
   "source": [
    "In order to reach by their indexes(labels), we can use loc keyword. If indexes are like 0,1,2..., it can be same as using loc."
   ]
  },
  {
   "cell_type": "code",
   "execution_count": 132,
   "id": "c3b683ad",
   "metadata": {},
   "outputs": [
    {
     "data": {
      "text/html": [
       "<div>\n",
       "<style scoped>\n",
       "    .dataframe tbody tr th:only-of-type {\n",
       "        vertical-align: middle;\n",
       "    }\n",
       "\n",
       "    .dataframe tbody tr th {\n",
       "        vertical-align: top;\n",
       "    }\n",
       "\n",
       "    .dataframe thead th {\n",
       "        text-align: right;\n",
       "    }\n",
       "</style>\n",
       "<table border=\"1\" class=\"dataframe\">\n",
       "  <thead>\n",
       "    <tr style=\"text-align: right;\">\n",
       "      <th></th>\n",
       "      <th>Name</th>\n",
       "      <th>Income</th>\n",
       "      <th>Age</th>\n",
       "    </tr>\n",
       "  </thead>\n",
       "  <tbody>\n",
       "    <tr>\n",
       "      <th>0</th>\n",
       "      <td>Shivance</td>\n",
       "      <td>23400</td>\n",
       "      <td>25</td>\n",
       "    </tr>\n",
       "    <tr>\n",
       "      <th>1</th>\n",
       "      <td>Ram</td>\n",
       "      <td>2300</td>\n",
       "      <td>48</td>\n",
       "    </tr>\n",
       "    <tr>\n",
       "      <th>2</th>\n",
       "      <td>Dolly</td>\n",
       "      <td>23322</td>\n",
       "      <td>46</td>\n",
       "    </tr>\n",
       "    <tr>\n",
       "      <th>3</th>\n",
       "      <td>Choti</td>\n",
       "      <td>50000</td>\n",
       "      <td>52</td>\n",
       "    </tr>\n",
       "  </tbody>\n",
       "</table>\n",
       "</div>"
      ],
      "text/plain": [
       "       Name  Income  Age\n",
       "0  Shivance   23400   25\n",
       "1       Ram    2300   48\n",
       "2     Dolly   23322   46\n",
       "3     Choti   50000   52"
      ]
     },
     "execution_count": 132,
     "metadata": {},
     "output_type": "execute_result"
    }
   ],
   "source": [
    "df"
   ]
  },
  {
   "cell_type": "code",
   "execution_count": 142,
   "id": "ac512a4c",
   "metadata": {},
   "outputs": [
    {
     "data": {
      "text/html": [
       "<div>\n",
       "<style scoped>\n",
       "    .dataframe tbody tr th:only-of-type {\n",
       "        vertical-align: middle;\n",
       "    }\n",
       "\n",
       "    .dataframe tbody tr th {\n",
       "        vertical-align: top;\n",
       "    }\n",
       "\n",
       "    .dataframe thead th {\n",
       "        text-align: right;\n",
       "    }\n",
       "</style>\n",
       "<table border=\"1\" class=\"dataframe\">\n",
       "  <thead>\n",
       "    <tr style=\"text-align: right;\">\n",
       "      <th></th>\n",
       "      <th>Name</th>\n",
       "      <th>Income</th>\n",
       "      <th>Age</th>\n",
       "    </tr>\n",
       "  </thead>\n",
       "  <tbody>\n",
       "    <tr>\n",
       "      <th>1</th>\n",
       "      <td>Ram</td>\n",
       "      <td>2300</td>\n",
       "      <td>48</td>\n",
       "    </tr>\n",
       "    <tr>\n",
       "      <th>2</th>\n",
       "      <td>Dolly</td>\n",
       "      <td>23322</td>\n",
       "      <td>46</td>\n",
       "    </tr>\n",
       "    <tr>\n",
       "      <th>3</th>\n",
       "      <td>Choti</td>\n",
       "      <td>50000</td>\n",
       "      <td>52</td>\n",
       "    </tr>\n",
       "  </tbody>\n",
       "</table>\n",
       "</div>"
      ],
      "text/plain": [
       "    Name  Income  Age\n",
       "1    Ram    2300   48\n",
       "2  Dolly   23322   46\n",
       "3  Choti   50000   52"
      ]
     },
     "execution_count": 142,
     "metadata": {},
     "output_type": "execute_result"
    }
   ],
   "source": [
    "df.loc[1:3]"
   ]
  },
  {
   "cell_type": "code",
   "execution_count": 145,
   "id": "fb3b6a41",
   "metadata": {},
   "outputs": [
    {
     "data": {
      "text/plain": [
       "0    Shivance\n",
       "2       Dolly\n",
       "Name: Name, dtype: object"
      ]
     },
     "execution_count": 145,
     "metadata": {},
     "output_type": "execute_result"
    }
   ],
   "source": [
    "df.loc[[0,2],\"Name\"] # We can reach spesific columns with name of column"
   ]
  },
  {
   "cell_type": "code",
   "execution_count": 153,
   "id": "5472aed3",
   "metadata": {},
   "outputs": [
    {
     "data": {
      "text/html": [
       "<div>\n",
       "<style scoped>\n",
       "    .dataframe tbody tr th:only-of-type {\n",
       "        vertical-align: middle;\n",
       "    }\n",
       "\n",
       "    .dataframe tbody tr th {\n",
       "        vertical-align: top;\n",
       "    }\n",
       "\n",
       "    .dataframe thead th {\n",
       "        text-align: right;\n",
       "    }\n",
       "</style>\n",
       "<table border=\"1\" class=\"dataframe\">\n",
       "  <thead>\n",
       "    <tr style=\"text-align: right;\">\n",
       "      <th></th>\n",
       "      <th>Name</th>\n",
       "      <th>Income</th>\n",
       "      <th>Age</th>\n",
       "    </tr>\n",
       "  </thead>\n",
       "  <tbody>\n",
       "    <tr>\n",
       "      <th>a</th>\n",
       "      <td>Ram</td>\n",
       "      <td>11000</td>\n",
       "      <td>35</td>\n",
       "    </tr>\n",
       "    <tr>\n",
       "      <th>b</th>\n",
       "      <td>Shivance</td>\n",
       "      <td>5000</td>\n",
       "      <td>36</td>\n",
       "    </tr>\n",
       "    <tr>\n",
       "      <th>c</th>\n",
       "      <td>Dolly</td>\n",
       "      <td>4500</td>\n",
       "      <td>78</td>\n",
       "    </tr>\n",
       "    <tr>\n",
       "      <th>d</th>\n",
       "      <td>Choti</td>\n",
       "      <td>7800</td>\n",
       "      <td>25</td>\n",
       "    </tr>\n",
       "    <tr>\n",
       "      <th>e</th>\n",
       "      <td>Bholu</td>\n",
       "      <td>9800</td>\n",
       "      <td>22</td>\n",
       "    </tr>\n",
       "  </tbody>\n",
       "</table>\n",
       "</div>"
      ],
      "text/plain": [
       "       Name  Income  Age\n",
       "a       Ram   11000   35\n",
       "b  Shivance    5000   36\n",
       "c     Dolly    4500   78\n",
       "d     Choti    7800   25\n",
       "e     Bholu    9800   22"
      ]
     },
     "execution_count": 153,
     "metadata": {},
     "output_type": "execute_result"
    }
   ],
   "source": [
    "df = pd.DataFrame({\"Name\" : [\"Ram\",\"Shivance\",\"Dolly\",\"Choti\",\"Bholu\"],\"Income\" : [11000,5000,4500,7800,9800], \"Age\" : [35,36,78,25,22]},index=[\"a\",\"b\",\"c\",\"d\",\"e\"])\n",
    "df"
   ]
  },
  {
   "cell_type": "code",
   "execution_count": 165,
   "id": "74c5ae2a",
   "metadata": {},
   "outputs": [
    {
     "data": {
      "text/plain": [
       "Name      Shivance\n",
       "Income        5000\n",
       "Age             36\n",
       "Name: b, dtype: object"
      ]
     },
     "execution_count": 165,
     "metadata": {},
     "output_type": "execute_result"
    }
   ],
   "source": [
    "df.loc[\"b\"]"
   ]
  },
  {
   "cell_type": "code",
   "execution_count": 163,
   "id": "379039b6",
   "metadata": {},
   "outputs": [],
   "source": [
    "# Fancy indexing"
   ]
  },
  {
   "cell_type": "code",
   "execution_count": 164,
   "id": "9ec516a6",
   "metadata": {},
   "outputs": [
    {
     "data": {
      "text/html": [
       "<div>\n",
       "<style scoped>\n",
       "    .dataframe tbody tr th:only-of-type {\n",
       "        vertical-align: middle;\n",
       "    }\n",
       "\n",
       "    .dataframe tbody tr th {\n",
       "        vertical-align: top;\n",
       "    }\n",
       "\n",
       "    .dataframe thead th {\n",
       "        text-align: right;\n",
       "    }\n",
       "</style>\n",
       "<table border=\"1\" class=\"dataframe\">\n",
       "  <thead>\n",
       "    <tr style=\"text-align: right;\">\n",
       "      <th></th>\n",
       "      <th>Name</th>\n",
       "      <th>Income</th>\n",
       "      <th>Age</th>\n",
       "    </tr>\n",
       "  </thead>\n",
       "  <tbody>\n",
       "    <tr>\n",
       "      <th>a</th>\n",
       "      <td>Ram</td>\n",
       "      <td>11000</td>\n",
       "      <td>35</td>\n",
       "    </tr>\n",
       "    <tr>\n",
       "      <th>c</th>\n",
       "      <td>Dolly</td>\n",
       "      <td>4500</td>\n",
       "      <td>78</td>\n",
       "    </tr>\n",
       "  </tbody>\n",
       "</table>\n",
       "</div>"
      ],
      "text/plain": [
       "    Name  Income  Age\n",
       "a    Ram   11000   35\n",
       "c  Dolly    4500   78"
      ]
     },
     "execution_count": 164,
     "metadata": {},
     "output_type": "execute_result"
    }
   ],
   "source": [
    "df.loc[[\"a\",\"c\"]]"
   ]
  },
  {
   "cell_type": "code",
   "execution_count": 166,
   "id": "6e4f39c1",
   "metadata": {},
   "outputs": [
    {
     "data": {
      "text/plain": [
       "Name      Shivance\n",
       "Income        5000\n",
       "Age             36\n",
       "Name: b, dtype: object"
      ]
     },
     "execution_count": 166,
     "metadata": {},
     "output_type": "execute_result"
    }
   ],
   "source": [
    "df.loc[\"b\"]"
   ]
  },
  {
   "cell_type": "code",
   "execution_count": 168,
   "id": "c1ee3941",
   "metadata": {},
   "outputs": [
    {
     "data": {
      "text/plain": [
       "c    78\n",
       "d    25\n",
       "e    22\n",
       "Name: Age, dtype: int64"
      ]
     },
     "execution_count": 168,
     "metadata": {},
     "output_type": "execute_result"
    }
   ],
   "source": [
    "df.loc[\"c\" : ,\"Age\"] # It gets just income after index c"
   ]
  },
  {
   "cell_type": "code",
   "execution_count": 169,
   "id": "da238a65",
   "metadata": {},
   "outputs": [
    {
     "data": {
      "text/plain": [
       "Name        Ram\n",
       "Income    11000\n",
       "Age          35\n",
       "Name: a, dtype: object"
      ]
     },
     "execution_count": 169,
     "metadata": {},
     "output_type": "execute_result"
    }
   ],
   "source": [
    "df.iloc[0]"
   ]
  },
  {
   "cell_type": "markdown",
   "id": "190875f9",
   "metadata": {},
   "source": [
    "Accessing columns of a dataframe"
   ]
  },
  {
   "cell_type": "code",
   "execution_count": 5,
   "id": "13d7e850",
   "metadata": {},
   "outputs": [
    {
     "data": {
      "text/html": [
       "<div>\n",
       "<style scoped>\n",
       "    .dataframe tbody tr th:only-of-type {\n",
       "        vertical-align: middle;\n",
       "    }\n",
       "\n",
       "    .dataframe tbody tr th {\n",
       "        vertical-align: top;\n",
       "    }\n",
       "\n",
       "    .dataframe thead th {\n",
       "        text-align: right;\n",
       "    }\n",
       "</style>\n",
       "<table border=\"1\" class=\"dataframe\">\n",
       "  <thead>\n",
       "    <tr style=\"text-align: right;\">\n",
       "      <th></th>\n",
       "      <th>Name</th>\n",
       "      <th>Income</th>\n",
       "      <th>Age</th>\n",
       "      <th>City</th>\n",
       "    </tr>\n",
       "  </thead>\n",
       "  <tbody>\n",
       "    <tr>\n",
       "      <th>0</th>\n",
       "      <td>Shivance</td>\n",
       "      <td>25000</td>\n",
       "      <td>25</td>\n",
       "      <td>Indore</td>\n",
       "    </tr>\n",
       "    <tr>\n",
       "      <th>1</th>\n",
       "      <td>Dolly</td>\n",
       "      <td>11000</td>\n",
       "      <td>36</td>\n",
       "      <td>Barwani</td>\n",
       "    </tr>\n",
       "    <tr>\n",
       "      <th>2</th>\n",
       "      <td>Choti</td>\n",
       "      <td>78000</td>\n",
       "      <td>32</td>\n",
       "      <td>Dhar</td>\n",
       "    </tr>\n",
       "    <tr>\n",
       "      <th>3</th>\n",
       "      <td>Ram</td>\n",
       "      <td>8900</td>\n",
       "      <td>45</td>\n",
       "      <td>Mini_Mumbai</td>\n",
       "    </tr>\n",
       "  </tbody>\n",
       "</table>\n",
       "</div>"
      ],
      "text/plain": [
       "       Name  Income  Age         City\n",
       "0  Shivance   25000   25       Indore\n",
       "1     Dolly   11000   36      Barwani\n",
       "2     Choti   78000   32         Dhar\n",
       "3       Ram    8900   45  Mini_Mumbai"
      ]
     },
     "execution_count": 5,
     "metadata": {},
     "output_type": "execute_result"
    }
   ],
   "source": [
    "df = pd.DataFrame({\"Name\" : [\"Shivance\",\"Dolly\",\"Choti\",\"Ram\"], \"Income\" : [25000,11000,78000,8900], \"Age\" : [25,36,32,45], \"City\" : [\"Indore\",\"Barwani\",\"Dhar\",\"Mini_Mumbai\"]})\n",
    "df"
   ]
  },
  {
   "cell_type": "code",
   "execution_count": 8,
   "id": "a6723fe1",
   "metadata": {},
   "outputs": [
    {
     "data": {
      "text/plain": [
       "0    25\n",
       "1    36\n",
       "2    32\n",
       "3    45\n",
       "Name: Age, dtype: int64"
      ]
     },
     "execution_count": 8,
     "metadata": {},
     "output_type": "execute_result"
    }
   ],
   "source": [
    "df.Age # We can access age column with this way but it gives errror if there is same method as the same name . (column_name)"
   ]
  },
  {
   "cell_type": "code",
   "execution_count": 9,
   "id": "f8652553",
   "metadata": {},
   "outputs": [
    {
     "data": {
      "text/plain": [
       "0    25\n",
       "1    36\n",
       "2    32\n",
       "3    45\n",
       "Name: Age, dtype: int64"
      ]
     },
     "execution_count": 9,
     "metadata": {},
     "output_type": "execute_result"
    }
   ],
   "source": [
    "df[\"Age\"] # we "
   ]
  },
  {
   "cell_type": "code",
   "execution_count": 12,
   "id": "156f265c",
   "metadata": {},
   "outputs": [
    {
     "data": {
      "text/plain": [
       "45"
      ]
     },
     "execution_count": 12,
     "metadata": {},
     "output_type": "execute_result"
    }
   ],
   "source": [
    "df[\"Age\"][3] # We canselect spesific row of a column with this way"
   ]
  },
  {
   "cell_type": "markdown",
   "id": "109b8e23",
   "metadata": {},
   "source": [
    "Assigining a value to spesific row"
   ]
  },
  {
   "cell_type": "code",
   "execution_count": 147,
   "id": "3a126f0b",
   "metadata": {},
   "outputs": [
    {
     "data": {
      "text/html": [
       "<div>\n",
       "<style scoped>\n",
       "    .dataframe tbody tr th:only-of-type {\n",
       "        vertical-align: middle;\n",
       "    }\n",
       "\n",
       "    .dataframe tbody tr th {\n",
       "        vertical-align: top;\n",
       "    }\n",
       "\n",
       "    .dataframe thead th {\n",
       "        text-align: right;\n",
       "    }\n",
       "</style>\n",
       "<table border=\"1\" class=\"dataframe\">\n",
       "  <thead>\n",
       "    <tr style=\"text-align: right;\">\n",
       "      <th></th>\n",
       "      <th>Name</th>\n",
       "      <th>Icome</th>\n",
       "      <th>Age</th>\n",
       "    </tr>\n",
       "  </thead>\n",
       "  <tbody>\n",
       "    <tr>\n",
       "      <th>0</th>\n",
       "      <td>Someshwar</td>\n",
       "      <td>4000</td>\n",
       "      <td>25</td>\n",
       "    </tr>\n",
       "    <tr>\n",
       "      <th>1</th>\n",
       "      <td>Dolly</td>\n",
       "      <td>5000</td>\n",
       "      <td>78</td>\n",
       "    </tr>\n",
       "    <tr>\n",
       "      <th>2</th>\n",
       "      <td>Shivance</td>\n",
       "      <td>4500</td>\n",
       "      <td>63</td>\n",
       "    </tr>\n",
       "    <tr>\n",
       "      <th>3</th>\n",
       "      <td>Radhika</td>\n",
       "      <td>6300</td>\n",
       "      <td>21</td>\n",
       "    </tr>\n",
       "  </tbody>\n",
       "</table>\n",
       "</div>"
      ],
      "text/plain": [
       "        Name  Icome  Age\n",
       "0  Someshwar   4000   25\n",
       "1      Dolly   5000   78\n",
       "2   Shivance   4500   63\n",
       "3    Radhika   6300   21"
      ]
     },
     "execution_count": 147,
     "metadata": {},
     "output_type": "execute_result"
    }
   ],
   "source": [
    "data = pd.DataFrame({\"Name\" : [\"Someshwar\",\"Dolly\",\"Shivance\",\"Radhika\"], \"Icome\" : [4000,5000,4500,6300], \"Age\" : [25,78,63,21]})\n",
    "data"
   ]
  },
  {
   "cell_type": "markdown",
   "id": "7303c8ca",
   "metadata": {},
   "source": [
    "Assigning Custom Indexes"
   ]
  },
  {
   "cell_type": "code",
   "execution_count": 173,
   "id": "ee77d8b0",
   "metadata": {},
   "outputs": [
    {
     "data": {
      "text/html": [
       "<div>\n",
       "<style scoped>\n",
       "    .dataframe tbody tr th:only-of-type {\n",
       "        vertical-align: middle;\n",
       "    }\n",
       "\n",
       "    .dataframe tbody tr th {\n",
       "        vertical-align: top;\n",
       "    }\n",
       "\n",
       "    .dataframe thead th {\n",
       "        text-align: right;\n",
       "    }\n",
       "</style>\n",
       "<table border=\"1\" class=\"dataframe\">\n",
       "  <thead>\n",
       "    <tr style=\"text-align: right;\">\n",
       "      <th></th>\n",
       "      <th>Name</th>\n",
       "      <th>Emp_id</th>\n",
       "      <th>Income</th>\n",
       "      <th>Age</th>\n",
       "    </tr>\n",
       "  </thead>\n",
       "  <tbody>\n",
       "    <tr>\n",
       "      <th>0</th>\n",
       "      <td>Shivance</td>\n",
       "      <td>202101</td>\n",
       "      <td>7000</td>\n",
       "      <td>35</td>\n",
       "    </tr>\n",
       "    <tr>\n",
       "      <th>1</th>\n",
       "      <td>Dolly</td>\n",
       "      <td>202102</td>\n",
       "      <td>8000</td>\n",
       "      <td>45</td>\n",
       "    </tr>\n",
       "    <tr>\n",
       "      <th>2</th>\n",
       "      <td>Choti</td>\n",
       "      <td>202103</td>\n",
       "      <td>8500</td>\n",
       "      <td>36</td>\n",
       "    </tr>\n",
       "    <tr>\n",
       "      <th>3</th>\n",
       "      <td>Ram</td>\n",
       "      <td>202104</td>\n",
       "      <td>6300</td>\n",
       "      <td>23</td>\n",
       "    </tr>\n",
       "  </tbody>\n",
       "</table>\n",
       "</div>"
      ],
      "text/plain": [
       "       Name  Emp_id  Income  Age\n",
       "0  Shivance  202101    7000   35\n",
       "1     Dolly  202102    8000   45\n",
       "2     Choti  202103    8500   36\n",
       "3       Ram  202104    6300   23"
      ]
     },
     "execution_count": 173,
     "metadata": {},
     "output_type": "execute_result"
    }
   ],
   "source": [
    "ss = pd.DataFrame({\"Name\" : [\"Shivance\",\"Dolly\",\"Choti\",\"Ram\"], \"Emp_id\" : [202101,202102,202103,202104], \"Income\" : [7000,8000,8500,6300] , \"Age\" : [35,45,36,23]})\n",
    "ss"
   ]
  },
  {
   "cell_type": "code",
   "execution_count": 174,
   "id": "facb3dad",
   "metadata": {},
   "outputs": [
    {
     "data": {
      "text/html": [
       "<div>\n",
       "<style scoped>\n",
       "    .dataframe tbody tr th:only-of-type {\n",
       "        vertical-align: middle;\n",
       "    }\n",
       "\n",
       "    .dataframe tbody tr th {\n",
       "        vertical-align: top;\n",
       "    }\n",
       "\n",
       "    .dataframe thead th {\n",
       "        text-align: right;\n",
       "    }\n",
       "</style>\n",
       "<table border=\"1\" class=\"dataframe\">\n",
       "  <thead>\n",
       "    <tr style=\"text-align: right;\">\n",
       "      <th></th>\n",
       "      <th>Name</th>\n",
       "      <th>Emp_id</th>\n",
       "      <th>Income</th>\n",
       "      <th>Age</th>\n",
       "    </tr>\n",
       "  </thead>\n",
       "  <tbody>\n",
       "    <tr>\n",
       "      <th>0</th>\n",
       "      <td>Shivance</td>\n",
       "      <td>202101</td>\n",
       "      <td>7000</td>\n",
       "      <td>35</td>\n",
       "    </tr>\n",
       "    <tr>\n",
       "      <th>1</th>\n",
       "      <td>Dolly</td>\n",
       "      <td>202102</td>\n",
       "      <td>8000</td>\n",
       "      <td>45</td>\n",
       "    </tr>\n",
       "    <tr>\n",
       "      <th>2</th>\n",
       "      <td>Choti</td>\n",
       "      <td>202103</td>\n",
       "      <td>8500</td>\n",
       "      <td>36</td>\n",
       "    </tr>\n",
       "    <tr>\n",
       "      <th>3</th>\n",
       "      <td>Ram</td>\n",
       "      <td>202104</td>\n",
       "      <td>6300</td>\n",
       "      <td>23</td>\n",
       "    </tr>\n",
       "  </tbody>\n",
       "</table>\n",
       "</div>"
      ],
      "text/plain": [
       "       Name  Emp_id  Income  Age\n",
       "0  Shivance  202101    7000   35\n",
       "1     Dolly  202102    8000   45\n",
       "2     Choti  202103    8500   36\n",
       "3       Ram  202104    6300   23"
      ]
     },
     "execution_count": 174,
     "metadata": {},
     "output_type": "execute_result"
    }
   ],
   "source": [
    "ss"
   ]
  },
  {
   "cell_type": "code",
   "execution_count": 193,
   "id": "21a71857",
   "metadata": {},
   "outputs": [
    {
     "data": {
      "text/html": [
       "<div>\n",
       "<style scoped>\n",
       "    .dataframe tbody tr th:only-of-type {\n",
       "        vertical-align: middle;\n",
       "    }\n",
       "\n",
       "    .dataframe tbody tr th {\n",
       "        vertical-align: top;\n",
       "    }\n",
       "\n",
       "    .dataframe thead th {\n",
       "        text-align: right;\n",
       "    }\n",
       "</style>\n",
       "<table border=\"1\" class=\"dataframe\">\n",
       "  <thead>\n",
       "    <tr style=\"text-align: right;\">\n",
       "      <th></th>\n",
       "      <th>Name</th>\n",
       "      <th>Income</th>\n",
       "      <th>Age</th>\n",
       "    </tr>\n",
       "    <tr>\n",
       "      <th>Emp_id</th>\n",
       "      <th></th>\n",
       "      <th></th>\n",
       "      <th></th>\n",
       "    </tr>\n",
       "  </thead>\n",
       "  <tbody>\n",
       "    <tr>\n",
       "      <th>202101</th>\n",
       "      <td>Shivance</td>\n",
       "      <td>7000</td>\n",
       "      <td>35</td>\n",
       "    </tr>\n",
       "    <tr>\n",
       "      <th>202102</th>\n",
       "      <td>Dolly</td>\n",
       "      <td>8000</td>\n",
       "      <td>45</td>\n",
       "    </tr>\n",
       "    <tr>\n",
       "      <th>202103</th>\n",
       "      <td>Choti</td>\n",
       "      <td>8500</td>\n",
       "      <td>36</td>\n",
       "    </tr>\n",
       "    <tr>\n",
       "      <th>202104</th>\n",
       "      <td>Ram</td>\n",
       "      <td>6300</td>\n",
       "      <td>23</td>\n",
       "    </tr>\n",
       "  </tbody>\n",
       "</table>\n",
       "</div>"
      ],
      "text/plain": [
       "            Name  Income  Age\n",
       "Emp_id                       \n",
       "202101  Shivance    7000   35\n",
       "202102     Dolly    8000   45\n",
       "202103     Choti    8500   36\n",
       "202104       Ram    6300   23"
      ]
     },
     "execution_count": 193,
     "metadata": {},
     "output_type": "execute_result"
    }
   ],
   "source": [
    "Ap = ss.set_index(\"Emp_id\") # We assigned Employee number as index values\n",
    "Ap"
   ]
  },
  {
   "cell_type": "code",
   "execution_count": 196,
   "id": "d6a03824",
   "metadata": {},
   "outputs": [
    {
     "data": {
      "text/plain": [
       "Name      Shivance\n",
       "Income        7000\n",
       "Age             35\n",
       "Name: 202101, dtype: object"
      ]
     },
     "execution_count": 196,
     "metadata": {},
     "output_type": "execute_result"
    }
   ],
   "source": [
    "Ap.loc[202101]"
   ]
  },
  {
   "cell_type": "code",
   "execution_count": 209,
   "id": "f0b51471",
   "metadata": {},
   "outputs": [
    {
     "data": {
      "text/html": [
       "<div>\n",
       "<style scoped>\n",
       "    .dataframe tbody tr th:only-of-type {\n",
       "        vertical-align: middle;\n",
       "    }\n",
       "\n",
       "    .dataframe tbody tr th {\n",
       "        vertical-align: top;\n",
       "    }\n",
       "\n",
       "    .dataframe thead th {\n",
       "        text-align: right;\n",
       "    }\n",
       "</style>\n",
       "<table border=\"1\" class=\"dataframe\">\n",
       "  <thead>\n",
       "    <tr style=\"text-align: right;\">\n",
       "      <th></th>\n",
       "      <th>Name</th>\n",
       "      <th>Emp_id</th>\n",
       "      <th>Income</th>\n",
       "      <th>Age</th>\n",
       "      <th>City</th>\n",
       "    </tr>\n",
       "  </thead>\n",
       "  <tbody>\n",
       "    <tr>\n",
       "      <th>0</th>\n",
       "      <td>Shivance</td>\n",
       "      <td>202101</td>\n",
       "      <td>24000</td>\n",
       "      <td>24</td>\n",
       "      <td>Mini_Mumbai</td>\n",
       "    </tr>\n",
       "    <tr>\n",
       "      <th>1</th>\n",
       "      <td>Preet</td>\n",
       "      <td>202102</td>\n",
       "      <td>23000</td>\n",
       "      <td>25</td>\n",
       "      <td>Indore</td>\n",
       "    </tr>\n",
       "    <tr>\n",
       "      <th>2</th>\n",
       "      <td>Ayushi</td>\n",
       "      <td>202103</td>\n",
       "      <td>45000</td>\n",
       "      <td>34</td>\n",
       "      <td>Barwani</td>\n",
       "    </tr>\n",
       "    <tr>\n",
       "      <th>3</th>\n",
       "      <td>Devika</td>\n",
       "      <td>202104</td>\n",
       "      <td>21000</td>\n",
       "      <td>45</td>\n",
       "      <td>Ujjen</td>\n",
       "    </tr>\n",
       "  </tbody>\n",
       "</table>\n",
       "</div>"
      ],
      "text/plain": [
       "       Name  Emp_id  Income  Age         City\n",
       "0  Shivance  202101   24000   24  Mini_Mumbai\n",
       "1     Preet  202102   23000   25       Indore\n",
       "2    Ayushi  202103   45000   34      Barwani\n",
       "3    Devika  202104   21000   45        Ujjen"
      ]
     },
     "execution_count": 209,
     "metadata": {},
     "output_type": "execute_result"
    }
   ],
   "source": [
    "ds = pd.DataFrame({\"Name\" : [\"Shivance\",\"Preet\",\"Ayushi\",\"Devika\"], \"Emp_id\" : [202101,202102,202103,202104], \"Income\" : [24000,23000,45000,21000], \"Age\" : [24,25,34,45] , \"City\" : [\"Mini_Mumbai\",\"Indore\",\"Barwani\",\"Ujjen\"]})\n",
    "ds"
   ]
  },
  {
   "cell_type": "code",
   "execution_count": 221,
   "id": "90b02267",
   "metadata": {},
   "outputs": [
    {
     "data": {
      "text/html": [
       "<div>\n",
       "<style scoped>\n",
       "    .dataframe tbody tr th:only-of-type {\n",
       "        vertical-align: middle;\n",
       "    }\n",
       "\n",
       "    .dataframe tbody tr th {\n",
       "        vertical-align: top;\n",
       "    }\n",
       "\n",
       "    .dataframe thead th {\n",
       "        text-align: right;\n",
       "    }\n",
       "</style>\n",
       "<table border=\"1\" class=\"dataframe\">\n",
       "  <thead>\n",
       "    <tr style=\"text-align: right;\">\n",
       "      <th></th>\n",
       "      <th>Income</th>\n",
       "      <th>Age</th>\n",
       "      <th>City</th>\n",
       "    </tr>\n",
       "    <tr>\n",
       "      <th>Name</th>\n",
       "      <th></th>\n",
       "      <th></th>\n",
       "      <th></th>\n",
       "    </tr>\n",
       "  </thead>\n",
       "  <tbody>\n",
       "    <tr>\n",
       "      <th>Shivance</th>\n",
       "      <td>24000</td>\n",
       "      <td>24</td>\n",
       "      <td>Mini_Mumbai</td>\n",
       "    </tr>\n",
       "    <tr>\n",
       "      <th>Preet</th>\n",
       "      <td>23000</td>\n",
       "      <td>25</td>\n",
       "      <td>Indore</td>\n",
       "    </tr>\n",
       "    <tr>\n",
       "      <th>Ayushi</th>\n",
       "      <td>45000</td>\n",
       "      <td>34</td>\n",
       "      <td>Barwani</td>\n",
       "    </tr>\n",
       "    <tr>\n",
       "      <th>Devika</th>\n",
       "      <td>21000</td>\n",
       "      <td>45</td>\n",
       "      <td>Ujjen</td>\n",
       "    </tr>\n",
       "  </tbody>\n",
       "</table>\n",
       "</div>"
      ],
      "text/plain": [
       "          Income  Age         City\n",
       "Name                              \n",
       "Shivance   24000   24  Mini_Mumbai\n",
       "Preet      23000   25       Indore\n",
       "Ayushi     45000   34      Barwani\n",
       "Devika     21000   45        Ujjen"
      ]
     },
     "execution_count": 221,
     "metadata": {},
     "output_type": "execute_result"
    }
   ],
   "source": [
    "#ds.set_index(\"Emp_id\",inplace=True) # Inplace argument assign new indexes directly \n",
    "ds.set_index(\"Name\")"
   ]
  },
  {
   "cell_type": "markdown",
   "id": "0a1ed71b",
   "metadata": {},
   "source": [
    "Resetting Indexes"
   ]
  },
  {
   "cell_type": "code",
   "execution_count": 223,
   "id": "7fb9a228",
   "metadata": {},
   "outputs": [
    {
     "data": {
      "text/html": [
       "<div>\n",
       "<style scoped>\n",
       "    .dataframe tbody tr th:only-of-type {\n",
       "        vertical-align: middle;\n",
       "    }\n",
       "\n",
       "    .dataframe tbody tr th {\n",
       "        vertical-align: top;\n",
       "    }\n",
       "\n",
       "    .dataframe thead th {\n",
       "        text-align: right;\n",
       "    }\n",
       "</style>\n",
       "<table border=\"1\" class=\"dataframe\">\n",
       "  <thead>\n",
       "    <tr style=\"text-align: right;\">\n",
       "      <th></th>\n",
       "      <th>Name</th>\n",
       "      <th>Income</th>\n",
       "      <th>Age</th>\n",
       "      <th>City</th>\n",
       "    </tr>\n",
       "    <tr>\n",
       "      <th>Emp_id</th>\n",
       "      <th></th>\n",
       "      <th></th>\n",
       "      <th></th>\n",
       "      <th></th>\n",
       "    </tr>\n",
       "  </thead>\n",
       "  <tbody>\n",
       "    <tr>\n",
       "      <th>202101</th>\n",
       "      <td>Shivance</td>\n",
       "      <td>24000</td>\n",
       "      <td>24</td>\n",
       "      <td>Mini_Mumbai</td>\n",
       "    </tr>\n",
       "    <tr>\n",
       "      <th>202102</th>\n",
       "      <td>Preet</td>\n",
       "      <td>23000</td>\n",
       "      <td>25</td>\n",
       "      <td>Indore</td>\n",
       "    </tr>\n",
       "    <tr>\n",
       "      <th>202103</th>\n",
       "      <td>Ayushi</td>\n",
       "      <td>45000</td>\n",
       "      <td>34</td>\n",
       "      <td>Barwani</td>\n",
       "    </tr>\n",
       "    <tr>\n",
       "      <th>202104</th>\n",
       "      <td>Devika</td>\n",
       "      <td>21000</td>\n",
       "      <td>45</td>\n",
       "      <td>Ujjen</td>\n",
       "    </tr>\n",
       "  </tbody>\n",
       "</table>\n",
       "</div>"
      ],
      "text/plain": [
       "            Name  Income  Age         City\n",
       "Emp_id                                    \n",
       "202101  Shivance   24000   24  Mini_Mumbai\n",
       "202102     Preet   23000   25       Indore\n",
       "202103    Ayushi   45000   34      Barwani\n",
       "202104    Devika   21000   45        Ujjen"
      ]
     },
     "execution_count": 223,
     "metadata": {},
     "output_type": "execute_result"
    }
   ],
   "source": [
    "ds"
   ]
  },
  {
   "cell_type": "code",
   "execution_count": 225,
   "id": "1e9c530e",
   "metadata": {},
   "outputs": [
    {
     "data": {
      "text/html": [
       "<div>\n",
       "<style scoped>\n",
       "    .dataframe tbody tr th:only-of-type {\n",
       "        vertical-align: middle;\n",
       "    }\n",
       "\n",
       "    .dataframe tbody tr th {\n",
       "        vertical-align: top;\n",
       "    }\n",
       "\n",
       "    .dataframe thead th {\n",
       "        text-align: right;\n",
       "    }\n",
       "</style>\n",
       "<table border=\"1\" class=\"dataframe\">\n",
       "  <thead>\n",
       "    <tr style=\"text-align: right;\">\n",
       "      <th></th>\n",
       "      <th>index</th>\n",
       "      <th>Emp_id</th>\n",
       "      <th>Name</th>\n",
       "      <th>Income</th>\n",
       "      <th>Age</th>\n",
       "      <th>City</th>\n",
       "    </tr>\n",
       "  </thead>\n",
       "  <tbody>\n",
       "    <tr>\n",
       "      <th>0</th>\n",
       "      <td>0</td>\n",
       "      <td>202101</td>\n",
       "      <td>Shivance</td>\n",
       "      <td>24000</td>\n",
       "      <td>24</td>\n",
       "      <td>Mini_Mumbai</td>\n",
       "    </tr>\n",
       "    <tr>\n",
       "      <th>1</th>\n",
       "      <td>1</td>\n",
       "      <td>202102</td>\n",
       "      <td>Preet</td>\n",
       "      <td>23000</td>\n",
       "      <td>25</td>\n",
       "      <td>Indore</td>\n",
       "    </tr>\n",
       "    <tr>\n",
       "      <th>2</th>\n",
       "      <td>2</td>\n",
       "      <td>202103</td>\n",
       "      <td>Ayushi</td>\n",
       "      <td>45000</td>\n",
       "      <td>34</td>\n",
       "      <td>Barwani</td>\n",
       "    </tr>\n",
       "    <tr>\n",
       "      <th>3</th>\n",
       "      <td>3</td>\n",
       "      <td>202104</td>\n",
       "      <td>Devika</td>\n",
       "      <td>21000</td>\n",
       "      <td>45</td>\n",
       "      <td>Ujjen</td>\n",
       "    </tr>\n",
       "  </tbody>\n",
       "</table>\n",
       "</div>"
      ],
      "text/plain": [
       "   index  Emp_id      Name  Income  Age         City\n",
       "0      0  202101  Shivance   24000   24  Mini_Mumbai\n",
       "1      1  202102     Preet   23000   25       Indore\n",
       "2      2  202103    Ayushi   45000   34      Barwani\n",
       "3      3  202104    Devika   21000   45        Ujjen"
      ]
     },
     "execution_count": 225,
     "metadata": {},
     "output_type": "execute_result"
    }
   ],
   "source": [
    "ds.reset_index(inplace = True)\n",
    "ds"
   ]
  },
  {
   "cell_type": "code",
   "execution_count": 234,
   "id": "52e60e25",
   "metadata": {},
   "outputs": [
    {
     "data": {
      "text/html": [
       "<div>\n",
       "<style scoped>\n",
       "    .dataframe tbody tr th:only-of-type {\n",
       "        vertical-align: middle;\n",
       "    }\n",
       "\n",
       "    .dataframe tbody tr th {\n",
       "        vertical-align: top;\n",
       "    }\n",
       "\n",
       "    .dataframe thead th {\n",
       "        text-align: right;\n",
       "    }\n",
       "</style>\n",
       "<table border=\"1\" class=\"dataframe\">\n",
       "  <thead>\n",
       "    <tr style=\"text-align: right;\">\n",
       "      <th></th>\n",
       "      <th>Name</th>\n",
       "      <th>Employee_Num</th>\n",
       "      <th>Income</th>\n",
       "      <th>Age</th>\n",
       "    </tr>\n",
       "  </thead>\n",
       "  <tbody>\n",
       "    <tr>\n",
       "      <th>31</th>\n",
       "      <td>Shivance</td>\n",
       "      <td>20001</td>\n",
       "      <td>18000</td>\n",
       "      <td>25</td>\n",
       "    </tr>\n",
       "    <tr>\n",
       "      <th>41</th>\n",
       "      <td>Mannu</td>\n",
       "      <td>20001</td>\n",
       "      <td>21000</td>\n",
       "      <td>34</td>\n",
       "    </tr>\n",
       "    <tr>\n",
       "      <th>51</th>\n",
       "      <td>Veshnavi</td>\n",
       "      <td>20003</td>\n",
       "      <td>25000</td>\n",
       "      <td>21</td>\n",
       "    </tr>\n",
       "    <tr>\n",
       "      <th>11</th>\n",
       "      <td>Devika</td>\n",
       "      <td>20004</td>\n",
       "      <td>36000</td>\n",
       "      <td>36</td>\n",
       "    </tr>\n",
       "    <tr>\n",
       "      <th>21</th>\n",
       "      <td>Ayushi</td>\n",
       "      <td>20005</td>\n",
       "      <td>46000</td>\n",
       "      <td>31</td>\n",
       "    </tr>\n",
       "  </tbody>\n",
       "</table>\n",
       "</div>"
      ],
      "text/plain": [
       "        Name  Employee_Num  Income  Age\n",
       "31  Shivance         20001   18000   25\n",
       "41     Mannu         20001   21000   34\n",
       "51  Veshnavi         20003   25000   21\n",
       "11    Devika         20004   36000   36\n",
       "21    Ayushi         20005   46000   31"
      ]
     },
     "execution_count": 234,
     "metadata": {},
     "output_type": "execute_result"
    }
   ],
   "source": [
    "Ec = pd.DataFrame({\"Name\" : [\"Shivance\",\"Mannu\",\"Veshnavi\",\"Devika\",\"Ayushi\"], \"Employee_Num\" : [20001,20001,20003,20004,20005], \"Income\" : [18000,21000,25000,36000,46000], \"Age\" : [25,34,21,36,31] },index=[31,41,51,11,21])\n",
    "Ec"
   ]
  },
  {
   "cell_type": "code",
   "execution_count": 235,
   "id": "7ebad532",
   "metadata": {},
   "outputs": [
    {
     "data": {
      "text/html": [
       "<div>\n",
       "<style scoped>\n",
       "    .dataframe tbody tr th:only-of-type {\n",
       "        vertical-align: middle;\n",
       "    }\n",
       "\n",
       "    .dataframe tbody tr th {\n",
       "        vertical-align: top;\n",
       "    }\n",
       "\n",
       "    .dataframe thead th {\n",
       "        text-align: right;\n",
       "    }\n",
       "</style>\n",
       "<table border=\"1\" class=\"dataframe\">\n",
       "  <thead>\n",
       "    <tr style=\"text-align: right;\">\n",
       "      <th></th>\n",
       "      <th>Name</th>\n",
       "      <th>Employee_Num</th>\n",
       "      <th>Income</th>\n",
       "      <th>Age</th>\n",
       "    </tr>\n",
       "  </thead>\n",
       "  <tbody>\n",
       "    <tr>\n",
       "      <th>11</th>\n",
       "      <td>Devika</td>\n",
       "      <td>20004</td>\n",
       "      <td>36000</td>\n",
       "      <td>36</td>\n",
       "    </tr>\n",
       "    <tr>\n",
       "      <th>21</th>\n",
       "      <td>Ayushi</td>\n",
       "      <td>20005</td>\n",
       "      <td>46000</td>\n",
       "      <td>31</td>\n",
       "    </tr>\n",
       "    <tr>\n",
       "      <th>31</th>\n",
       "      <td>Shivance</td>\n",
       "      <td>20001</td>\n",
       "      <td>18000</td>\n",
       "      <td>25</td>\n",
       "    </tr>\n",
       "    <tr>\n",
       "      <th>41</th>\n",
       "      <td>Mannu</td>\n",
       "      <td>20001</td>\n",
       "      <td>21000</td>\n",
       "      <td>34</td>\n",
       "    </tr>\n",
       "    <tr>\n",
       "      <th>51</th>\n",
       "      <td>Veshnavi</td>\n",
       "      <td>20003</td>\n",
       "      <td>25000</td>\n",
       "      <td>21</td>\n",
       "    </tr>\n",
       "  </tbody>\n",
       "</table>\n",
       "</div>"
      ],
      "text/plain": [
       "        Name  Employee_Num  Income  Age\n",
       "11    Devika         20004   36000   36\n",
       "21    Ayushi         20005   46000   31\n",
       "31  Shivance         20001   18000   25\n",
       "41     Mannu         20001   21000   34\n",
       "51  Veshnavi         20003   25000   21"
      ]
     },
     "execution_count": 235,
     "metadata": {},
     "output_type": "execute_result"
    }
   ],
   "source": [
    "Ec.sort_index(inplace = True)\n",
    "Ec"
   ]
  },
  {
   "cell_type": "markdown",
   "id": "9419d034",
   "metadata": {},
   "source": [
    "Filtering"
   ]
  },
  {
   "cell_type": "code",
   "execution_count": 245,
   "id": "805f8616",
   "metadata": {},
   "outputs": [
    {
     "data": {
      "text/html": [
       "<div>\n",
       "<style scoped>\n",
       "    .dataframe tbody tr th:only-of-type {\n",
       "        vertical-align: middle;\n",
       "    }\n",
       "\n",
       "    .dataframe tbody tr th {\n",
       "        vertical-align: top;\n",
       "    }\n",
       "\n",
       "    .dataframe thead th {\n",
       "        text-align: right;\n",
       "    }\n",
       "</style>\n",
       "<table border=\"1\" class=\"dataframe\">\n",
       "  <thead>\n",
       "    <tr style=\"text-align: right;\">\n",
       "      <th></th>\n",
       "      <th>Name</th>\n",
       "      <th>Department</th>\n",
       "      <th>Income</th>\n",
       "      <th>Age</th>\n",
       "    </tr>\n",
       "  </thead>\n",
       "  <tbody>\n",
       "    <tr>\n",
       "      <th>0</th>\n",
       "      <td>Shivance</td>\n",
       "      <td>IT</td>\n",
       "      <td>4500</td>\n",
       "      <td>24</td>\n",
       "    </tr>\n",
       "    <tr>\n",
       "      <th>1</th>\n",
       "      <td>Veshnavi</td>\n",
       "      <td>Finance</td>\n",
       "      <td>7800</td>\n",
       "      <td>25</td>\n",
       "    </tr>\n",
       "    <tr>\n",
       "      <th>2</th>\n",
       "      <td>Devika</td>\n",
       "      <td>Marketing</td>\n",
       "      <td>5200</td>\n",
       "      <td>32</td>\n",
       "    </tr>\n",
       "    <tr>\n",
       "      <th>3</th>\n",
       "      <td>Ayushi</td>\n",
       "      <td>Human Resources</td>\n",
       "      <td>6300</td>\n",
       "      <td>45</td>\n",
       "    </tr>\n",
       "    <tr>\n",
       "      <th>4</th>\n",
       "      <td>Shivani</td>\n",
       "      <td>Operations</td>\n",
       "      <td>7800</td>\n",
       "      <td>22</td>\n",
       "    </tr>\n",
       "  </tbody>\n",
       "</table>\n",
       "</div>"
      ],
      "text/plain": [
       "       Name       Department  Income  Age\n",
       "0  Shivance               IT    4500   24\n",
       "1  Veshnavi          Finance    7800   25\n",
       "2    Devika        Marketing    5200   32\n",
       "3    Ayushi  Human Resources    6300   45\n",
       "4   Shivani       Operations    7800   22"
      ]
     },
     "execution_count": 245,
     "metadata": {},
     "output_type": "execute_result"
    }
   ],
   "source": [
    "Employees = pd.DataFrame({\"Name\" : [\"Shivance\",\"Veshnavi\",\"Devika\",\"Ayushi\",\"Shivani\"], \"Department\" : [\"IT\", \"Finance\", \"Marketing\", \"Human Resources\", \"Operations\"], \"Income\" : [4500,7800,5200,6300,7800], \"Age\" : [24,25,32,45,22]})\n",
    "Employees"
   ]
  },
  {
   "cell_type": "markdown",
   "id": "fec69cc1",
   "metadata": {},
   "source": [
    "We can check if spesific values satisfy a condition"
   ]
  },
  {
   "cell_type": "code",
   "execution_count": 247,
   "id": "ea8754d3",
   "metadata": {},
   "outputs": [
    {
     "data": {
      "text/html": [
       "<div>\n",
       "<style scoped>\n",
       "    .dataframe tbody tr th:only-of-type {\n",
       "        vertical-align: middle;\n",
       "    }\n",
       "\n",
       "    .dataframe tbody tr th {\n",
       "        vertical-align: top;\n",
       "    }\n",
       "\n",
       "    .dataframe thead th {\n",
       "        text-align: right;\n",
       "    }\n",
       "</style>\n",
       "<table border=\"1\" class=\"dataframe\">\n",
       "  <thead>\n",
       "    <tr style=\"text-align: right;\">\n",
       "      <th></th>\n",
       "      <th>Name</th>\n",
       "      <th>Department</th>\n",
       "      <th>Income</th>\n",
       "      <th>Age</th>\n",
       "    </tr>\n",
       "  </thead>\n",
       "  <tbody>\n",
       "    <tr>\n",
       "      <th>0</th>\n",
       "      <td>Shivance</td>\n",
       "      <td>IT</td>\n",
       "      <td>4500</td>\n",
       "      <td>24</td>\n",
       "    </tr>\n",
       "    <tr>\n",
       "      <th>1</th>\n",
       "      <td>Veshnavi</td>\n",
       "      <td>Finance</td>\n",
       "      <td>7800</td>\n",
       "      <td>25</td>\n",
       "    </tr>\n",
       "    <tr>\n",
       "      <th>2</th>\n",
       "      <td>Devika</td>\n",
       "      <td>Marketing</td>\n",
       "      <td>5200</td>\n",
       "      <td>32</td>\n",
       "    </tr>\n",
       "    <tr>\n",
       "      <th>3</th>\n",
       "      <td>Ayushi</td>\n",
       "      <td>Human Resources</td>\n",
       "      <td>6300</td>\n",
       "      <td>45</td>\n",
       "    </tr>\n",
       "    <tr>\n",
       "      <th>4</th>\n",
       "      <td>Shivani</td>\n",
       "      <td>Operations</td>\n",
       "      <td>7800</td>\n",
       "      <td>22</td>\n",
       "    </tr>\n",
       "  </tbody>\n",
       "</table>\n",
       "</div>"
      ],
      "text/plain": [
       "       Name       Department  Income  Age\n",
       "0  Shivance               IT    4500   24\n",
       "1  Veshnavi          Finance    7800   25\n",
       "2    Devika        Marketing    5200   32\n",
       "3    Ayushi  Human Resources    6300   45\n",
       "4   Shivani       Operations    7800   22"
      ]
     },
     "execution_count": 247,
     "metadata": {},
     "output_type": "execute_result"
    }
   ],
   "source": [
    "Employees[\"Department\"] == \"Finance\"\n",
    "Employees"
   ]
  },
  {
   "cell_type": "code",
   "execution_count": 248,
   "id": "59299e2c",
   "metadata": {},
   "outputs": [
    {
     "data": {
      "text/plain": [
       "0    False\n",
       "1    False\n",
       "2    False\n",
       "3    False\n",
       "4     True\n",
       "Name: Department, dtype: bool"
      ]
     },
     "execution_count": 248,
     "metadata": {},
     "output_type": "execute_result"
    }
   ],
   "source": [
    "Employees[\"Department\"] ==\"Operations\""
   ]
  },
  {
   "cell_type": "markdown",
   "id": "8895255d",
   "metadata": {},
   "source": [
    "WE can get values if condition satisfy."
   ]
  },
  {
   "cell_type": "code",
   "execution_count": 253,
   "id": "c9208bf8",
   "metadata": {},
   "outputs": [
    {
     "data": {
      "text/html": [
       "<div>\n",
       "<style scoped>\n",
       "    .dataframe tbody tr th:only-of-type {\n",
       "        vertical-align: middle;\n",
       "    }\n",
       "\n",
       "    .dataframe tbody tr th {\n",
       "        vertical-align: top;\n",
       "    }\n",
       "\n",
       "    .dataframe thead th {\n",
       "        text-align: right;\n",
       "    }\n",
       "</style>\n",
       "<table border=\"1\" class=\"dataframe\">\n",
       "  <thead>\n",
       "    <tr style=\"text-align: right;\">\n",
       "      <th></th>\n",
       "      <th>Name</th>\n",
       "      <th>Department</th>\n",
       "      <th>Income</th>\n",
       "      <th>Age</th>\n",
       "    </tr>\n",
       "  </thead>\n",
       "  <tbody>\n",
       "    <tr>\n",
       "      <th>0</th>\n",
       "      <td>Shivance</td>\n",
       "      <td>IT</td>\n",
       "      <td>4500</td>\n",
       "      <td>24</td>\n",
       "    </tr>\n",
       "  </tbody>\n",
       "</table>\n",
       "</div>"
      ],
      "text/plain": [
       "       Name Department  Income  Age\n",
       "0  Shivance         IT    4500   24"
      ]
     },
     "execution_count": 253,
     "metadata": {},
     "output_type": "execute_result"
    }
   ],
   "source": [
    "filt = Employees[\"Department\"] == \"IT\"\n",
    "Employees[filt]\n"
   ]
  },
  {
   "cell_type": "code",
   "execution_count": 256,
   "id": "d8bd86d0",
   "metadata": {},
   "outputs": [
    {
     "data": {
      "text/html": [
       "<div>\n",
       "<style scoped>\n",
       "    .dataframe tbody tr th:only-of-type {\n",
       "        vertical-align: middle;\n",
       "    }\n",
       "\n",
       "    .dataframe tbody tr th {\n",
       "        vertical-align: top;\n",
       "    }\n",
       "\n",
       "    .dataframe thead th {\n",
       "        text-align: right;\n",
       "    }\n",
       "</style>\n",
       "<table border=\"1\" class=\"dataframe\">\n",
       "  <thead>\n",
       "    <tr style=\"text-align: right;\">\n",
       "      <th></th>\n",
       "      <th>Name</th>\n",
       "      <th>Department</th>\n",
       "      <th>Income</th>\n",
       "      <th>Age</th>\n",
       "    </tr>\n",
       "  </thead>\n",
       "  <tbody>\n",
       "    <tr>\n",
       "      <th>4</th>\n",
       "      <td>Shivani</td>\n",
       "      <td>Operations</td>\n",
       "      <td>7800</td>\n",
       "      <td>22</td>\n",
       "    </tr>\n",
       "  </tbody>\n",
       "</table>\n",
       "</div>"
      ],
      "text/plain": [
       "      Name  Department  Income  Age\n",
       "4  Shivani  Operations    7800   22"
      ]
     },
     "execution_count": 256,
     "metadata": {},
     "output_type": "execute_result"
    }
   ],
   "source": [
    "Employees[Employees[\"Department\"] == \"Operations\"]"
   ]
  },
  {
   "cell_type": "markdown",
   "id": "ff36aeec",
   "metadata": {},
   "source": [
    "Filtering with Loc gives us flexibility."
   ]
  },
  {
   "cell_type": "code",
   "execution_count": 259,
   "id": "88ad724d",
   "metadata": {},
   "outputs": [
    {
     "data": {
      "text/plain": [
       "1    7800\n",
       "Name: Income, dtype: int64"
      ]
     },
     "execution_count": 259,
     "metadata": {},
     "output_type": "execute_result"
    }
   ],
   "source": [
    "Employees.loc[Employees[\"Department\"] == \"Finance\",\"Income\"]"
   ]
  },
  {
   "cell_type": "markdown",
   "id": "ad362146",
   "metadata": {},
   "source": [
    "Filtering with aritmethic operators"
   ]
  },
  {
   "cell_type": "code",
   "execution_count": 260,
   "id": "353af5d2",
   "metadata": {},
   "outputs": [
    {
     "data": {
      "text/html": [
       "<div>\n",
       "<style scoped>\n",
       "    .dataframe tbody tr th:only-of-type {\n",
       "        vertical-align: middle;\n",
       "    }\n",
       "\n",
       "    .dataframe tbody tr th {\n",
       "        vertical-align: top;\n",
       "    }\n",
       "\n",
       "    .dataframe thead th {\n",
       "        text-align: right;\n",
       "    }\n",
       "</style>\n",
       "<table border=\"1\" class=\"dataframe\">\n",
       "  <thead>\n",
       "    <tr style=\"text-align: right;\">\n",
       "      <th></th>\n",
       "      <th>Name</th>\n",
       "      <th>Department</th>\n",
       "      <th>Income</th>\n",
       "      <th>Age</th>\n",
       "    </tr>\n",
       "  </thead>\n",
       "  <tbody>\n",
       "    <tr>\n",
       "      <th>0</th>\n",
       "      <td>Shivance</td>\n",
       "      <td>IT</td>\n",
       "      <td>4500</td>\n",
       "      <td>24</td>\n",
       "    </tr>\n",
       "    <tr>\n",
       "      <th>1</th>\n",
       "      <td>Veshnavi</td>\n",
       "      <td>Finance</td>\n",
       "      <td>7800</td>\n",
       "      <td>25</td>\n",
       "    </tr>\n",
       "    <tr>\n",
       "      <th>2</th>\n",
       "      <td>Devika</td>\n",
       "      <td>Marketing</td>\n",
       "      <td>5200</td>\n",
       "      <td>32</td>\n",
       "    </tr>\n",
       "    <tr>\n",
       "      <th>3</th>\n",
       "      <td>Ayushi</td>\n",
       "      <td>Human Resources</td>\n",
       "      <td>6300</td>\n",
       "      <td>45</td>\n",
       "    </tr>\n",
       "    <tr>\n",
       "      <th>4</th>\n",
       "      <td>Shivani</td>\n",
       "      <td>Operations</td>\n",
       "      <td>7800</td>\n",
       "      <td>22</td>\n",
       "    </tr>\n",
       "  </tbody>\n",
       "</table>\n",
       "</div>"
      ],
      "text/plain": [
       "       Name       Department  Income  Age\n",
       "0  Shivance               IT    4500   24\n",
       "1  Veshnavi          Finance    7800   25\n",
       "2    Devika        Marketing    5200   32\n",
       "3    Ayushi  Human Resources    6300   45\n",
       "4   Shivani       Operations    7800   22"
      ]
     },
     "execution_count": 260,
     "metadata": {},
     "output_type": "execute_result"
    }
   ],
   "source": [
    "Employees"
   ]
  },
  {
   "cell_type": "code",
   "execution_count": 262,
   "id": "8473bf3b",
   "metadata": {},
   "outputs": [
    {
     "data": {
      "text/html": [
       "<div>\n",
       "<style scoped>\n",
       "    .dataframe tbody tr th:only-of-type {\n",
       "        vertical-align: middle;\n",
       "    }\n",
       "\n",
       "    .dataframe tbody tr th {\n",
       "        vertical-align: top;\n",
       "    }\n",
       "\n",
       "    .dataframe thead th {\n",
       "        text-align: right;\n",
       "    }\n",
       "</style>\n",
       "<table border=\"1\" class=\"dataframe\">\n",
       "  <thead>\n",
       "    <tr style=\"text-align: right;\">\n",
       "      <th></th>\n",
       "      <th>Name</th>\n",
       "      <th>Department</th>\n",
       "      <th>Income</th>\n",
       "      <th>Age</th>\n",
       "    </tr>\n",
       "  </thead>\n",
       "  <tbody>\n",
       "    <tr>\n",
       "      <th>1</th>\n",
       "      <td>Veshnavi</td>\n",
       "      <td>Finance</td>\n",
       "      <td>7800</td>\n",
       "      <td>25</td>\n",
       "    </tr>\n",
       "    <tr>\n",
       "      <th>3</th>\n",
       "      <td>Ayushi</td>\n",
       "      <td>Human Resources</td>\n",
       "      <td>6300</td>\n",
       "      <td>45</td>\n",
       "    </tr>\n",
       "    <tr>\n",
       "      <th>4</th>\n",
       "      <td>Shivani</td>\n",
       "      <td>Operations</td>\n",
       "      <td>7800</td>\n",
       "      <td>22</td>\n",
       "    </tr>\n",
       "  </tbody>\n",
       "</table>\n",
       "</div>"
      ],
      "text/plain": [
       "       Name       Department  Income  Age\n",
       "1  Veshnavi          Finance    7800   25\n",
       "3    Ayushi  Human Resources    6300   45\n",
       "4   Shivani       Operations    7800   22"
      ]
     },
     "execution_count": 262,
     "metadata": {},
     "output_type": "execute_result"
    }
   ],
   "source": [
    "Employees[Employees[\"Income\"]>5500]"
   ]
  },
  {
   "cell_type": "code",
   "execution_count": 263,
   "id": "010c33d3",
   "metadata": {},
   "outputs": [
    {
     "data": {
      "text/html": [
       "<div>\n",
       "<style scoped>\n",
       "    .dataframe tbody tr th:only-of-type {\n",
       "        vertical-align: middle;\n",
       "    }\n",
       "\n",
       "    .dataframe tbody tr th {\n",
       "        vertical-align: top;\n",
       "    }\n",
       "\n",
       "    .dataframe thead th {\n",
       "        text-align: right;\n",
       "    }\n",
       "</style>\n",
       "<table border=\"1\" class=\"dataframe\">\n",
       "  <thead>\n",
       "    <tr style=\"text-align: right;\">\n",
       "      <th></th>\n",
       "      <th>Name</th>\n",
       "      <th>Department</th>\n",
       "      <th>Income</th>\n",
       "      <th>Age</th>\n",
       "    </tr>\n",
       "  </thead>\n",
       "  <tbody>\n",
       "    <tr>\n",
       "      <th>0</th>\n",
       "      <td>Shivance</td>\n",
       "      <td>IT</td>\n",
       "      <td>4500</td>\n",
       "      <td>24</td>\n",
       "    </tr>\n",
       "    <tr>\n",
       "      <th>4</th>\n",
       "      <td>Shivani</td>\n",
       "      <td>Operations</td>\n",
       "      <td>7800</td>\n",
       "      <td>22</td>\n",
       "    </tr>\n",
       "  </tbody>\n",
       "</table>\n",
       "</div>"
      ],
      "text/plain": [
       "       Name  Department  Income  Age\n",
       "0  Shivance          IT    4500   24\n",
       "4   Shivani  Operations    7800   22"
      ]
     },
     "execution_count": 263,
     "metadata": {},
     "output_type": "execute_result"
    }
   ],
   "source": [
    "Employees[Employees[\"Age\"]<25]"
   ]
  },
  {
   "cell_type": "markdown",
   "id": "ed9ebcb9",
   "metadata": {},
   "source": [
    "We can use & in order to try 2 condition. This is and logic."
   ]
  },
  {
   "cell_type": "code",
   "execution_count": 266,
   "id": "fcb4afb4",
   "metadata": {},
   "outputs": [
    {
     "data": {
      "text/html": [
       "<div>\n",
       "<style scoped>\n",
       "    .dataframe tbody tr th:only-of-type {\n",
       "        vertical-align: middle;\n",
       "    }\n",
       "\n",
       "    .dataframe tbody tr th {\n",
       "        vertical-align: top;\n",
       "    }\n",
       "\n",
       "    .dataframe thead th {\n",
       "        text-align: right;\n",
       "    }\n",
       "</style>\n",
       "<table border=\"1\" class=\"dataframe\">\n",
       "  <thead>\n",
       "    <tr style=\"text-align: right;\">\n",
       "      <th></th>\n",
       "      <th>Name</th>\n",
       "      <th>Department</th>\n",
       "      <th>Income</th>\n",
       "      <th>Age</th>\n",
       "    </tr>\n",
       "  </thead>\n",
       "  <tbody>\n",
       "    <tr>\n",
       "      <th>1</th>\n",
       "      <td>Veshnavi</td>\n",
       "      <td>Finance</td>\n",
       "      <td>7800</td>\n",
       "      <td>25</td>\n",
       "    </tr>\n",
       "    <tr>\n",
       "      <th>3</th>\n",
       "      <td>Ayushi</td>\n",
       "      <td>Human Resources</td>\n",
       "      <td>6300</td>\n",
       "      <td>45</td>\n",
       "    </tr>\n",
       "    <tr>\n",
       "      <th>4</th>\n",
       "      <td>Shivani</td>\n",
       "      <td>Operations</td>\n",
       "      <td>7800</td>\n",
       "      <td>22</td>\n",
       "    </tr>\n",
       "  </tbody>\n",
       "</table>\n",
       "</div>"
      ],
      "text/plain": [
       "       Name       Department  Income  Age\n",
       "1  Veshnavi          Finance    7800   25\n",
       "3    Ayushi  Human Resources    6300   45\n",
       "4   Shivani       Operations    7800   22"
      ]
     },
     "execution_count": 266,
     "metadata": {},
     "output_type": "execute_result"
    }
   ],
   "source": [
    "Employees[(Employees[\"Age\"]>21) & (Employees[\"Income\"]>6000)]"
   ]
  },
  {
   "cell_type": "code",
   "execution_count": 267,
   "id": "acccfb4b",
   "metadata": {},
   "outputs": [
    {
     "data": {
      "text/html": [
       "<div>\n",
       "<style scoped>\n",
       "    .dataframe tbody tr th:only-of-type {\n",
       "        vertical-align: middle;\n",
       "    }\n",
       "\n",
       "    .dataframe tbody tr th {\n",
       "        vertical-align: top;\n",
       "    }\n",
       "\n",
       "    .dataframe thead th {\n",
       "        text-align: right;\n",
       "    }\n",
       "</style>\n",
       "<table border=\"1\" class=\"dataframe\">\n",
       "  <thead>\n",
       "    <tr style=\"text-align: right;\">\n",
       "      <th></th>\n",
       "      <th>Name</th>\n",
       "      <th>Department</th>\n",
       "      <th>Income</th>\n",
       "      <th>Age</th>\n",
       "    </tr>\n",
       "  </thead>\n",
       "  <tbody>\n",
       "    <tr>\n",
       "      <th>2</th>\n",
       "      <td>Devika</td>\n",
       "      <td>Marketing</td>\n",
       "      <td>5200</td>\n",
       "      <td>32</td>\n",
       "    </tr>\n",
       "    <tr>\n",
       "      <th>3</th>\n",
       "      <td>Ayushi</td>\n",
       "      <td>Human Resources</td>\n",
       "      <td>6300</td>\n",
       "      <td>45</td>\n",
       "    </tr>\n",
       "  </tbody>\n",
       "</table>\n",
       "</div>"
      ],
      "text/plain": [
       "     Name       Department  Income  Age\n",
       "2  Devika        Marketing    5200   32\n",
       "3  Ayushi  Human Resources    6300   45"
      ]
     },
     "execution_count": 267,
     "metadata": {},
     "output_type": "execute_result"
    }
   ],
   "source": [
    "Employees[(Employees[\"Age\"]>25) & (Employees[\"Income\"]>5000)]"
   ]
  },
  {
   "cell_type": "code",
   "execution_count": 270,
   "id": "e3f35baa",
   "metadata": {},
   "outputs": [
    {
     "data": {
      "text/html": [
       "<div>\n",
       "<style scoped>\n",
       "    .dataframe tbody tr th:only-of-type {\n",
       "        vertical-align: middle;\n",
       "    }\n",
       "\n",
       "    .dataframe tbody tr th {\n",
       "        vertical-align: top;\n",
       "    }\n",
       "\n",
       "    .dataframe thead th {\n",
       "        text-align: right;\n",
       "    }\n",
       "</style>\n",
       "<table border=\"1\" class=\"dataframe\">\n",
       "  <thead>\n",
       "    <tr style=\"text-align: right;\">\n",
       "      <th></th>\n",
       "      <th>Name</th>\n",
       "      <th>Department</th>\n",
       "      <th>Income</th>\n",
       "      <th>Age</th>\n",
       "    </tr>\n",
       "  </thead>\n",
       "  <tbody>\n",
       "  </tbody>\n",
       "</table>\n",
       "</div>"
      ],
      "text/plain": [
       "Empty DataFrame\n",
       "Columns: [Name, Department, Income, Age]\n",
       "Index: []"
      ]
     },
     "execution_count": 270,
     "metadata": {},
     "output_type": "execute_result"
    }
   ],
   "source": [
    "Employees[(Employees[\"Name\"]==\"Devika\") & (Employees[\"Department\"]==\"Operations\")] # There is no satisfying value."
   ]
  },
  {
   "cell_type": "markdown",
   "id": "a7daf79e",
   "metadata": {},
   "source": [
    "We can Use | in order to try 2 condition . This is or logic. "
   ]
  },
  {
   "cell_type": "code",
   "execution_count": 271,
   "id": "c3895488",
   "metadata": {},
   "outputs": [
    {
     "data": {
      "text/html": [
       "<div>\n",
       "<style scoped>\n",
       "    .dataframe tbody tr th:only-of-type {\n",
       "        vertical-align: middle;\n",
       "    }\n",
       "\n",
       "    .dataframe tbody tr th {\n",
       "        vertical-align: top;\n",
       "    }\n",
       "\n",
       "    .dataframe thead th {\n",
       "        text-align: right;\n",
       "    }\n",
       "</style>\n",
       "<table border=\"1\" class=\"dataframe\">\n",
       "  <thead>\n",
       "    <tr style=\"text-align: right;\">\n",
       "      <th></th>\n",
       "      <th>Name</th>\n",
       "      <th>Department</th>\n",
       "      <th>Income</th>\n",
       "      <th>Age</th>\n",
       "    </tr>\n",
       "  </thead>\n",
       "  <tbody>\n",
       "    <tr>\n",
       "      <th>0</th>\n",
       "      <td>Shivance</td>\n",
       "      <td>IT</td>\n",
       "      <td>4500</td>\n",
       "      <td>24</td>\n",
       "    </tr>\n",
       "    <tr>\n",
       "      <th>1</th>\n",
       "      <td>Veshnavi</td>\n",
       "      <td>Finance</td>\n",
       "      <td>7800</td>\n",
       "      <td>25</td>\n",
       "    </tr>\n",
       "    <tr>\n",
       "      <th>2</th>\n",
       "      <td>Devika</td>\n",
       "      <td>Marketing</td>\n",
       "      <td>5200</td>\n",
       "      <td>32</td>\n",
       "    </tr>\n",
       "    <tr>\n",
       "      <th>3</th>\n",
       "      <td>Ayushi</td>\n",
       "      <td>Human Resources</td>\n",
       "      <td>6300</td>\n",
       "      <td>45</td>\n",
       "    </tr>\n",
       "    <tr>\n",
       "      <th>4</th>\n",
       "      <td>Shivani</td>\n",
       "      <td>Operations</td>\n",
       "      <td>7800</td>\n",
       "      <td>22</td>\n",
       "    </tr>\n",
       "  </tbody>\n",
       "</table>\n",
       "</div>"
      ],
      "text/plain": [
       "       Name       Department  Income  Age\n",
       "0  Shivance               IT    4500   24\n",
       "1  Veshnavi          Finance    7800   25\n",
       "2    Devika        Marketing    5200   32\n",
       "3    Ayushi  Human Resources    6300   45\n",
       "4   Shivani       Operations    7800   22"
      ]
     },
     "execution_count": 271,
     "metadata": {},
     "output_type": "execute_result"
    }
   ],
   "source": [
    "Employees"
   ]
  },
  {
   "cell_type": "code",
   "execution_count": 273,
   "id": "62b90279",
   "metadata": {},
   "outputs": [
    {
     "data": {
      "text/html": [
       "<div>\n",
       "<style scoped>\n",
       "    .dataframe tbody tr th:only-of-type {\n",
       "        vertical-align: middle;\n",
       "    }\n",
       "\n",
       "    .dataframe tbody tr th {\n",
       "        vertical-align: top;\n",
       "    }\n",
       "\n",
       "    .dataframe thead th {\n",
       "        text-align: right;\n",
       "    }\n",
       "</style>\n",
       "<table border=\"1\" class=\"dataframe\">\n",
       "  <thead>\n",
       "    <tr style=\"text-align: right;\">\n",
       "      <th></th>\n",
       "      <th>Name</th>\n",
       "      <th>Department</th>\n",
       "      <th>Income</th>\n",
       "      <th>Age</th>\n",
       "    </tr>\n",
       "  </thead>\n",
       "  <tbody>\n",
       "    <tr>\n",
       "      <th>0</th>\n",
       "      <td>Shivance</td>\n",
       "      <td>IT</td>\n",
       "      <td>4500</td>\n",
       "      <td>24</td>\n",
       "    </tr>\n",
       "    <tr>\n",
       "      <th>1</th>\n",
       "      <td>Veshnavi</td>\n",
       "      <td>Finance</td>\n",
       "      <td>7800</td>\n",
       "      <td>25</td>\n",
       "    </tr>\n",
       "    <tr>\n",
       "      <th>2</th>\n",
       "      <td>Devika</td>\n",
       "      <td>Marketing</td>\n",
       "      <td>5200</td>\n",
       "      <td>32</td>\n",
       "    </tr>\n",
       "    <tr>\n",
       "      <th>3</th>\n",
       "      <td>Ayushi</td>\n",
       "      <td>Human Resources</td>\n",
       "      <td>6300</td>\n",
       "      <td>45</td>\n",
       "    </tr>\n",
       "    <tr>\n",
       "      <th>4</th>\n",
       "      <td>Shivani</td>\n",
       "      <td>Operations</td>\n",
       "      <td>7800</td>\n",
       "      <td>22</td>\n",
       "    </tr>\n",
       "  </tbody>\n",
       "</table>\n",
       "</div>"
      ],
      "text/plain": [
       "       Name       Department  Income  Age\n",
       "0  Shivance               IT    4500   24\n",
       "1  Veshnavi          Finance    7800   25\n",
       "2    Devika        Marketing    5200   32\n",
       "3    Ayushi  Human Resources    6300   45\n",
       "4   Shivani       Operations    7800   22"
      ]
     },
     "execution_count": 273,
     "metadata": {},
     "output_type": "execute_result"
    }
   ],
   "source": [
    "Employees[(Employees[\"Age\"] > 30 | (Employees[\"Income\"] > 7000 ))]"
   ]
  },
  {
   "cell_type": "code",
   "execution_count": 283,
   "id": "eef779ba",
   "metadata": {},
   "outputs": [
    {
     "data": {
      "text/html": [
       "<div>\n",
       "<style scoped>\n",
       "    .dataframe tbody tr th:only-of-type {\n",
       "        vertical-align: middle;\n",
       "    }\n",
       "\n",
       "    .dataframe tbody tr th {\n",
       "        vertical-align: top;\n",
       "    }\n",
       "\n",
       "    .dataframe thead th {\n",
       "        text-align: right;\n",
       "    }\n",
       "</style>\n",
       "<table border=\"1\" class=\"dataframe\">\n",
       "  <thead>\n",
       "    <tr style=\"text-align: right;\">\n",
       "      <th></th>\n",
       "      <th>Name</th>\n",
       "      <th>Department</th>\n",
       "      <th>Income</th>\n",
       "      <th>Age</th>\n",
       "    </tr>\n",
       "  </thead>\n",
       "  <tbody>\n",
       "    <tr>\n",
       "      <th>0</th>\n",
       "      <td>Shivance</td>\n",
       "      <td>IT</td>\n",
       "      <td>4500</td>\n",
       "      <td>24</td>\n",
       "    </tr>\n",
       "  </tbody>\n",
       "</table>\n",
       "</div>"
      ],
      "text/plain": [
       "       Name Department  Income  Age\n",
       "0  Shivance         IT    4500   24"
      ]
     },
     "execution_count": 283,
     "metadata": {},
     "output_type": "execute_result"
    }
   ],
   "source": [
    "Employees[(Employees[\"Name\"]==\"Sergio\") | (Employees[\"Department\"]==\"IT\")]"
   ]
  },
  {
   "cell_type": "code",
   "execution_count": 285,
   "id": "055f7bf1",
   "metadata": {},
   "outputs": [
    {
     "data": {
      "text/html": [
       "<div>\n",
       "<style scoped>\n",
       "    .dataframe tbody tr th:only-of-type {\n",
       "        vertical-align: middle;\n",
       "    }\n",
       "\n",
       "    .dataframe tbody tr th {\n",
       "        vertical-align: top;\n",
       "    }\n",
       "\n",
       "    .dataframe thead th {\n",
       "        text-align: right;\n",
       "    }\n",
       "</style>\n",
       "<table border=\"1\" class=\"dataframe\">\n",
       "  <thead>\n",
       "    <tr style=\"text-align: right;\">\n",
       "      <th></th>\n",
       "      <th>Name</th>\n",
       "      <th>Department</th>\n",
       "      <th>Income</th>\n",
       "      <th>Age</th>\n",
       "    </tr>\n",
       "  </thead>\n",
       "  <tbody>\n",
       "    <tr>\n",
       "      <th>2</th>\n",
       "      <td>Devika</td>\n",
       "      <td>Marketing</td>\n",
       "      <td>5200</td>\n",
       "      <td>32</td>\n",
       "    </tr>\n",
       "    <tr>\n",
       "      <th>4</th>\n",
       "      <td>Shivani</td>\n",
       "      <td>Operations</td>\n",
       "      <td>7800</td>\n",
       "      <td>22</td>\n",
       "    </tr>\n",
       "  </tbody>\n",
       "</table>\n",
       "</div>"
      ],
      "text/plain": [
       "      Name  Department  Income  Age\n",
       "2   Devika   Marketing    5200   32\n",
       "4  Shivani  Operations    7800   22"
      ]
     },
     "execution_count": 285,
     "metadata": {},
     "output_type": "execute_result"
    }
   ],
   "source": [
    "Employees[(Employees[\"Name\"]==\"Devika\") | (Employees[\"Department\"]==\"Operations\")]"
   ]
  },
  {
   "cell_type": "markdown",
   "id": "e85ab098",
   "metadata": {},
   "source": [
    "Opposite Filter "
   ]
  },
  {
   "cell_type": "markdown",
   "id": "ffd88239",
   "metadata": {},
   "source": [
    "We can get opposite of a filter with ~ (Tilde) sign."
   ]
  },
  {
   "cell_type": "code",
   "execution_count": 287,
   "id": "be1a6fe2",
   "metadata": {},
   "outputs": [
    {
     "data": {
      "text/html": [
       "<div>\n",
       "<style scoped>\n",
       "    .dataframe tbody tr th:only-of-type {\n",
       "        vertical-align: middle;\n",
       "    }\n",
       "\n",
       "    .dataframe tbody tr th {\n",
       "        vertical-align: top;\n",
       "    }\n",
       "\n",
       "    .dataframe thead th {\n",
       "        text-align: right;\n",
       "    }\n",
       "</style>\n",
       "<table border=\"1\" class=\"dataframe\">\n",
       "  <thead>\n",
       "    <tr style=\"text-align: right;\">\n",
       "      <th></th>\n",
       "      <th>Name</th>\n",
       "      <th>Department</th>\n",
       "      <th>Income</th>\n",
       "      <th>Age</th>\n",
       "    </tr>\n",
       "  </thead>\n",
       "  <tbody>\n",
       "    <tr>\n",
       "      <th>0</th>\n",
       "      <td>Shivance</td>\n",
       "      <td>IT</td>\n",
       "      <td>4500</td>\n",
       "      <td>24</td>\n",
       "    </tr>\n",
       "    <tr>\n",
       "      <th>1</th>\n",
       "      <td>Veshnavi</td>\n",
       "      <td>Finance</td>\n",
       "      <td>7800</td>\n",
       "      <td>25</td>\n",
       "    </tr>\n",
       "    <tr>\n",
       "      <th>2</th>\n",
       "      <td>Devika</td>\n",
       "      <td>Marketing</td>\n",
       "      <td>5200</td>\n",
       "      <td>32</td>\n",
       "    </tr>\n",
       "    <tr>\n",
       "      <th>3</th>\n",
       "      <td>Ayushi</td>\n",
       "      <td>Human Resources</td>\n",
       "      <td>6300</td>\n",
       "      <td>45</td>\n",
       "    </tr>\n",
       "    <tr>\n",
       "      <th>4</th>\n",
       "      <td>Shivani</td>\n",
       "      <td>Operations</td>\n",
       "      <td>7800</td>\n",
       "      <td>22</td>\n",
       "    </tr>\n",
       "  </tbody>\n",
       "</table>\n",
       "</div>"
      ],
      "text/plain": [
       "       Name       Department  Income  Age\n",
       "0  Shivance               IT    4500   24\n",
       "1  Veshnavi          Finance    7800   25\n",
       "2    Devika        Marketing    5200   32\n",
       "3    Ayushi  Human Resources    6300   45\n",
       "4   Shivani       Operations    7800   22"
      ]
     },
     "execution_count": 287,
     "metadata": {},
     "output_type": "execute_result"
    }
   ],
   "source": [
    "Employees"
   ]
  },
  {
   "cell_type": "code",
   "execution_count": 291,
   "id": "ddd0ea5d",
   "metadata": {},
   "outputs": [
    {
     "data": {
      "text/html": [
       "<div>\n",
       "<style scoped>\n",
       "    .dataframe tbody tr th:only-of-type {\n",
       "        vertical-align: middle;\n",
       "    }\n",
       "\n",
       "    .dataframe tbody tr th {\n",
       "        vertical-align: top;\n",
       "    }\n",
       "\n",
       "    .dataframe thead th {\n",
       "        text-align: right;\n",
       "    }\n",
       "</style>\n",
       "<table border=\"1\" class=\"dataframe\">\n",
       "  <thead>\n",
       "    <tr style=\"text-align: right;\">\n",
       "      <th></th>\n",
       "      <th>Name</th>\n",
       "      <th>Department</th>\n",
       "      <th>Income</th>\n",
       "      <th>Age</th>\n",
       "    </tr>\n",
       "  </thead>\n",
       "  <tbody>\n",
       "    <tr>\n",
       "      <th>0</th>\n",
       "      <td>Shivance</td>\n",
       "      <td>IT</td>\n",
       "      <td>4500</td>\n",
       "      <td>24</td>\n",
       "    </tr>\n",
       "  </tbody>\n",
       "</table>\n",
       "</div>"
      ],
      "text/plain": [
       "       Name Department  Income  Age\n",
       "0  Shivance         IT    4500   24"
      ]
     },
     "execution_count": 291,
     "metadata": {},
     "output_type": "execute_result"
    }
   ],
   "source": [
    "Employees[~(Employees[\"Income\"]>5000)]"
   ]
  },
  {
   "cell_type": "code",
   "execution_count": 293,
   "id": "c3d03d5e",
   "metadata": {},
   "outputs": [
    {
     "data": {
      "text/html": [
       "<div>\n",
       "<style scoped>\n",
       "    .dataframe tbody tr th:only-of-type {\n",
       "        vertical-align: middle;\n",
       "    }\n",
       "\n",
       "    .dataframe tbody tr th {\n",
       "        vertical-align: top;\n",
       "    }\n",
       "\n",
       "    .dataframe thead th {\n",
       "        text-align: right;\n",
       "    }\n",
       "</style>\n",
       "<table border=\"1\" class=\"dataframe\">\n",
       "  <thead>\n",
       "    <tr style=\"text-align: right;\">\n",
       "      <th></th>\n",
       "      <th>Name</th>\n",
       "      <th>Department</th>\n",
       "      <th>Income</th>\n",
       "      <th>Age</th>\n",
       "    </tr>\n",
       "  </thead>\n",
       "  <tbody>\n",
       "    <tr>\n",
       "      <th>2</th>\n",
       "      <td>Devika</td>\n",
       "      <td>Marketing</td>\n",
       "      <td>5200</td>\n",
       "      <td>32</td>\n",
       "    </tr>\n",
       "    <tr>\n",
       "      <th>3</th>\n",
       "      <td>Ayushi</td>\n",
       "      <td>Human Resources</td>\n",
       "      <td>6300</td>\n",
       "      <td>45</td>\n",
       "    </tr>\n",
       "  </tbody>\n",
       "</table>\n",
       "</div>"
      ],
      "text/plain": [
       "     Name       Department  Income  Age\n",
       "2  Devika        Marketing    5200   32\n",
       "3  Ayushi  Human Resources    6300   45"
      ]
     },
     "execution_count": 293,
     "metadata": {},
     "output_type": "execute_result"
    }
   ],
   "source": [
    "Employees[~(Employees[\"Age\"]<30)]"
   ]
  },
  {
   "cell_type": "markdown",
   "id": "ebcb8f15",
   "metadata": {},
   "source": [
    "Filtering with filter() function"
   ]
  },
  {
   "cell_type": "code",
   "execution_count": 294,
   "id": "4e7cfe29",
   "metadata": {},
   "outputs": [
    {
     "data": {
      "text/html": [
       "<div>\n",
       "<style scoped>\n",
       "    .dataframe tbody tr th:only-of-type {\n",
       "        vertical-align: middle;\n",
       "    }\n",
       "\n",
       "    .dataframe tbody tr th {\n",
       "        vertical-align: top;\n",
       "    }\n",
       "\n",
       "    .dataframe thead th {\n",
       "        text-align: right;\n",
       "    }\n",
       "</style>\n",
       "<table border=\"1\" class=\"dataframe\">\n",
       "  <thead>\n",
       "    <tr style=\"text-align: right;\">\n",
       "      <th></th>\n",
       "      <th>Name</th>\n",
       "      <th>Department</th>\n",
       "      <th>Income</th>\n",
       "      <th>Age</th>\n",
       "    </tr>\n",
       "  </thead>\n",
       "  <tbody>\n",
       "    <tr>\n",
       "      <th>0</th>\n",
       "      <td>Shivance</td>\n",
       "      <td>IT</td>\n",
       "      <td>4500</td>\n",
       "      <td>24</td>\n",
       "    </tr>\n",
       "    <tr>\n",
       "      <th>1</th>\n",
       "      <td>Veshnavi</td>\n",
       "      <td>Finance</td>\n",
       "      <td>7800</td>\n",
       "      <td>25</td>\n",
       "    </tr>\n",
       "    <tr>\n",
       "      <th>2</th>\n",
       "      <td>Devika</td>\n",
       "      <td>Marketing</td>\n",
       "      <td>5200</td>\n",
       "      <td>32</td>\n",
       "    </tr>\n",
       "    <tr>\n",
       "      <th>3</th>\n",
       "      <td>Ayushi</td>\n",
       "      <td>Human Resources</td>\n",
       "      <td>6300</td>\n",
       "      <td>45</td>\n",
       "    </tr>\n",
       "    <tr>\n",
       "      <th>4</th>\n",
       "      <td>Shivani</td>\n",
       "      <td>Operations</td>\n",
       "      <td>7800</td>\n",
       "      <td>22</td>\n",
       "    </tr>\n",
       "  </tbody>\n",
       "</table>\n",
       "</div>"
      ],
      "text/plain": [
       "       Name       Department  Income  Age\n",
       "0  Shivance               IT    4500   24\n",
       "1  Veshnavi          Finance    7800   25\n",
       "2    Devika        Marketing    5200   32\n",
       "3    Ayushi  Human Resources    6300   45\n",
       "4   Shivani       Operations    7800   22"
      ]
     },
     "execution_count": 294,
     "metadata": {},
     "output_type": "execute_result"
    }
   ],
   "source": [
    "Employees"
   ]
  },
  {
   "cell_type": "code",
   "execution_count": 13,
   "id": "f423fd37",
   "metadata": {},
   "outputs": [
    {
     "data": {
      "text/html": [
       "<div>\n",
       "<style scoped>\n",
       "    .dataframe tbody tr th:only-of-type {\n",
       "        vertical-align: middle;\n",
       "    }\n",
       "\n",
       "    .dataframe tbody tr th {\n",
       "        vertical-align: top;\n",
       "    }\n",
       "\n",
       "    .dataframe thead th {\n",
       "        text-align: right;\n",
       "    }\n",
       "</style>\n",
       "<table border=\"1\" class=\"dataframe\">\n",
       "  <thead>\n",
       "    <tr style=\"text-align: right;\">\n",
       "      <th></th>\n",
       "      <th>Name</th>\n",
       "      <th>Department</th>\n",
       "      <th>Income</th>\n",
       "      <th>Age</th>\n",
       "    </tr>\n",
       "  </thead>\n",
       "  <tbody>\n",
       "    <tr>\n",
       "      <th>0</th>\n",
       "      <td>Shivance</td>\n",
       "      <td>IT</td>\n",
       "      <td>4500</td>\n",
       "      <td>24</td>\n",
       "    </tr>\n",
       "    <tr>\n",
       "      <th>1</th>\n",
       "      <td>Veshnavi</td>\n",
       "      <td>Finance</td>\n",
       "      <td>7800</td>\n",
       "      <td>25</td>\n",
       "    </tr>\n",
       "    <tr>\n",
       "      <th>2</th>\n",
       "      <td>Devika</td>\n",
       "      <td>Marketing</td>\n",
       "      <td>5200</td>\n",
       "      <td>32</td>\n",
       "    </tr>\n",
       "    <tr>\n",
       "      <th>3</th>\n",
       "      <td>Ayushi</td>\n",
       "      <td>Human Resources</td>\n",
       "      <td>6300</td>\n",
       "      <td>45</td>\n",
       "    </tr>\n",
       "    <tr>\n",
       "      <th>4</th>\n",
       "      <td>Shivani</td>\n",
       "      <td>Operations</td>\n",
       "      <td>7800</td>\n",
       "      <td>22</td>\n",
       "    </tr>\n",
       "  </tbody>\n",
       "</table>\n",
       "</div>"
      ],
      "text/plain": [
       "       Name       Department  Income  Age\n",
       "0  Shivance               IT    4500   24\n",
       "1  Veshnavi          Finance    7800   25\n",
       "2    Devika        Marketing    5200   32\n",
       "3    Ayushi  Human Resources    6300   45\n",
       "4   Shivani       Operations    7800   22"
      ]
     },
     "execution_count": 13,
     "metadata": {},
     "output_type": "execute_result"
    }
   ],
   "source": [
    "Employees_ss = pd.DataFrame({\"Name\" : [\"Shivance\",\"Veshnavi\",\"Devika\",\"Ayushi\",\"Shivani\"], \"Department\" : [\"IT\", \"Finance\", \"Marketing\", \"Human Resources\", \"Operations\"], \"Income\" : [4500,7800,5200,6300,7800], \"Age\" : [24,25,32,45,22]})\n",
    "Employees_ss"
   ]
  },
  {
   "cell_type": "markdown",
   "id": "8bae3282",
   "metadata": {},
   "source": [
    "Filtering with filter() function"
   ]
  },
  {
   "cell_type": "code",
   "execution_count": 14,
   "id": "3076c6a1",
   "metadata": {},
   "outputs": [
    {
     "data": {
      "text/html": [
       "<div>\n",
       "<style scoped>\n",
       "    .dataframe tbody tr th:only-of-type {\n",
       "        vertical-align: middle;\n",
       "    }\n",
       "\n",
       "    .dataframe tbody tr th {\n",
       "        vertical-align: top;\n",
       "    }\n",
       "\n",
       "    .dataframe thead th {\n",
       "        text-align: right;\n",
       "    }\n",
       "</style>\n",
       "<table border=\"1\" class=\"dataframe\">\n",
       "  <thead>\n",
       "    <tr style=\"text-align: right;\">\n",
       "      <th></th>\n",
       "      <th>Name</th>\n",
       "      <th>Department</th>\n",
       "      <th>Income</th>\n",
       "      <th>Age</th>\n",
       "    </tr>\n",
       "  </thead>\n",
       "  <tbody>\n",
       "    <tr>\n",
       "      <th>0</th>\n",
       "      <td>Shivance</td>\n",
       "      <td>IT</td>\n",
       "      <td>4500</td>\n",
       "      <td>24</td>\n",
       "    </tr>\n",
       "    <tr>\n",
       "      <th>1</th>\n",
       "      <td>Veshnavi</td>\n",
       "      <td>Finance</td>\n",
       "      <td>7800</td>\n",
       "      <td>25</td>\n",
       "    </tr>\n",
       "    <tr>\n",
       "      <th>2</th>\n",
       "      <td>Devika</td>\n",
       "      <td>Marketing</td>\n",
       "      <td>5200</td>\n",
       "      <td>32</td>\n",
       "    </tr>\n",
       "    <tr>\n",
       "      <th>3</th>\n",
       "      <td>Ayushi</td>\n",
       "      <td>Human Resources</td>\n",
       "      <td>6300</td>\n",
       "      <td>45</td>\n",
       "    </tr>\n",
       "    <tr>\n",
       "      <th>4</th>\n",
       "      <td>Shivani</td>\n",
       "      <td>Operations</td>\n",
       "      <td>7800</td>\n",
       "      <td>22</td>\n",
       "    </tr>\n",
       "  </tbody>\n",
       "</table>\n",
       "</div>"
      ],
      "text/plain": [
       "       Name       Department  Income  Age\n",
       "0  Shivance               IT    4500   24\n",
       "1  Veshnavi          Finance    7800   25\n",
       "2    Devika        Marketing    5200   32\n",
       "3    Ayushi  Human Resources    6300   45\n",
       "4   Shivani       Operations    7800   22"
      ]
     },
     "execution_count": 14,
     "metadata": {},
     "output_type": "execute_result"
    }
   ],
   "source": [
    "Employees_ss"
   ]
  },
  {
   "cell_type": "code",
   "execution_count": 16,
   "id": "24811327",
   "metadata": {},
   "outputs": [
    {
     "data": {
      "text/html": [
       "<div>\n",
       "<style scoped>\n",
       "    .dataframe tbody tr th:only-of-type {\n",
       "        vertical-align: middle;\n",
       "    }\n",
       "\n",
       "    .dataframe tbody tr th {\n",
       "        vertical-align: top;\n",
       "    }\n",
       "\n",
       "    .dataframe thead th {\n",
       "        text-align: right;\n",
       "    }\n",
       "</style>\n",
       "<table border=\"1\" class=\"dataframe\">\n",
       "  <thead>\n",
       "    <tr style=\"text-align: right;\">\n",
       "      <th></th>\n",
       "      <th>Department</th>\n",
       "      <th>Age</th>\n",
       "    </tr>\n",
       "  </thead>\n",
       "  <tbody>\n",
       "    <tr>\n",
       "      <th>0</th>\n",
       "      <td>IT</td>\n",
       "      <td>24</td>\n",
       "    </tr>\n",
       "    <tr>\n",
       "      <th>1</th>\n",
       "      <td>Finance</td>\n",
       "      <td>25</td>\n",
       "    </tr>\n",
       "    <tr>\n",
       "      <th>2</th>\n",
       "      <td>Marketing</td>\n",
       "      <td>32</td>\n",
       "    </tr>\n",
       "    <tr>\n",
       "      <th>3</th>\n",
       "      <td>Human Resources</td>\n",
       "      <td>45</td>\n",
       "    </tr>\n",
       "    <tr>\n",
       "      <th>4</th>\n",
       "      <td>Operations</td>\n",
       "      <td>22</td>\n",
       "    </tr>\n",
       "  </tbody>\n",
       "</table>\n",
       "</div>"
      ],
      "text/plain": [
       "        Department  Age\n",
       "0               IT   24\n",
       "1          Finance   25\n",
       "2        Marketing   32\n",
       "3  Human Resources   45\n",
       "4       Operations   22"
      ]
     },
     "execution_count": 16,
     "metadata": {},
     "output_type": "execute_result"
    }
   ],
   "source": [
    "Employees_ss.filter(items=[\"Department\",\"Age\"])"
   ]
  },
  {
   "cell_type": "code",
   "execution_count": 17,
   "id": "314f7a82",
   "metadata": {},
   "outputs": [
    {
     "data": {
      "text/html": [
       "<div>\n",
       "<style scoped>\n",
       "    .dataframe tbody tr th:only-of-type {\n",
       "        vertical-align: middle;\n",
       "    }\n",
       "\n",
       "    .dataframe tbody tr th {\n",
       "        vertical-align: top;\n",
       "    }\n",
       "\n",
       "    .dataframe thead th {\n",
       "        text-align: right;\n",
       "    }\n",
       "</style>\n",
       "<table border=\"1\" class=\"dataframe\">\n",
       "  <thead>\n",
       "    <tr style=\"text-align: right;\">\n",
       "      <th></th>\n",
       "      <th>Department</th>\n",
       "      <th>Income</th>\n",
       "    </tr>\n",
       "  </thead>\n",
       "  <tbody>\n",
       "    <tr>\n",
       "      <th>0</th>\n",
       "      <td>IT</td>\n",
       "      <td>4500</td>\n",
       "    </tr>\n",
       "    <tr>\n",
       "      <th>1</th>\n",
       "      <td>Finance</td>\n",
       "      <td>7800</td>\n",
       "    </tr>\n",
       "    <tr>\n",
       "      <th>2</th>\n",
       "      <td>Marketing</td>\n",
       "      <td>5200</td>\n",
       "    </tr>\n",
       "    <tr>\n",
       "      <th>3</th>\n",
       "      <td>Human Resources</td>\n",
       "      <td>6300</td>\n",
       "    </tr>\n",
       "    <tr>\n",
       "      <th>4</th>\n",
       "      <td>Operations</td>\n",
       "      <td>7800</td>\n",
       "    </tr>\n",
       "  </tbody>\n",
       "</table>\n",
       "</div>"
      ],
      "text/plain": [
       "        Department  Income\n",
       "0               IT    4500\n",
       "1          Finance    7800\n",
       "2        Marketing    5200\n",
       "3  Human Resources    6300\n",
       "4       Operations    7800"
      ]
     },
     "execution_count": 17,
     "metadata": {},
     "output_type": "execute_result"
    }
   ],
   "source": [
    "Employees_ss.filter(items=[\"Department\",\"Income\"])"
   ]
  },
  {
   "cell_type": "markdown",
   "id": "ac260b2f",
   "metadata": {},
   "source": [
    "Regex is another thema but we can also filter by using regex."
   ]
  },
  {
   "cell_type": "code",
   "execution_count": 18,
   "id": "06e5c28c",
   "metadata": {},
   "outputs": [
    {
     "data": {
      "text/html": [
       "<div>\n",
       "<style scoped>\n",
       "    .dataframe tbody tr th:only-of-type {\n",
       "        vertical-align: middle;\n",
       "    }\n",
       "\n",
       "    .dataframe tbody tr th {\n",
       "        vertical-align: top;\n",
       "    }\n",
       "\n",
       "    .dataframe thead th {\n",
       "        text-align: right;\n",
       "    }\n",
       "</style>\n",
       "<table border=\"1\" class=\"dataframe\">\n",
       "  <thead>\n",
       "    <tr style=\"text-align: right;\">\n",
       "      <th></th>\n",
       "      <th>Name</th>\n",
       "      <th>Income</th>\n",
       "      <th>Age</th>\n",
       "    </tr>\n",
       "  </thead>\n",
       "  <tbody>\n",
       "    <tr>\n",
       "      <th>0</th>\n",
       "      <td>Shivance</td>\n",
       "      <td>4500</td>\n",
       "      <td>24</td>\n",
       "    </tr>\n",
       "    <tr>\n",
       "      <th>1</th>\n",
       "      <td>Veshnavi</td>\n",
       "      <td>7800</td>\n",
       "      <td>25</td>\n",
       "    </tr>\n",
       "    <tr>\n",
       "      <th>2</th>\n",
       "      <td>Devika</td>\n",
       "      <td>5200</td>\n",
       "      <td>32</td>\n",
       "    </tr>\n",
       "    <tr>\n",
       "      <th>3</th>\n",
       "      <td>Ayushi</td>\n",
       "      <td>6300</td>\n",
       "      <td>45</td>\n",
       "    </tr>\n",
       "    <tr>\n",
       "      <th>4</th>\n",
       "      <td>Shivani</td>\n",
       "      <td>7800</td>\n",
       "      <td>22</td>\n",
       "    </tr>\n",
       "  </tbody>\n",
       "</table>\n",
       "</div>"
      ],
      "text/plain": [
       "       Name  Income  Age\n",
       "0  Shivance    4500   24\n",
       "1  Veshnavi    7800   25\n",
       "2    Devika    5200   32\n",
       "3    Ayushi    6300   45\n",
       "4   Shivani    7800   22"
      ]
     },
     "execution_count": 18,
     "metadata": {},
     "output_type": "execute_result"
    }
   ],
   "source": [
    "Employees_ss.filter(regex = \"e$\",axis=1)"
   ]
  },
  {
   "cell_type": "markdown",
   "id": "1b04534a",
   "metadata": {},
   "source": [
    "Adding / Removing rows and columns"
   ]
  },
  {
   "cell_type": "code",
   "execution_count": 20,
   "id": "f9a609f2",
   "metadata": {},
   "outputs": [
    {
     "data": {
      "text/html": [
       "<div>\n",
       "<style scoped>\n",
       "    .dataframe tbody tr th:only-of-type {\n",
       "        vertical-align: middle;\n",
       "    }\n",
       "\n",
       "    .dataframe tbody tr th {\n",
       "        vertical-align: top;\n",
       "    }\n",
       "\n",
       "    .dataframe thead th {\n",
       "        text-align: right;\n",
       "    }\n",
       "</style>\n",
       "<table border=\"1\" class=\"dataframe\">\n",
       "  <thead>\n",
       "    <tr style=\"text-align: right;\">\n",
       "      <th></th>\n",
       "      <th>Name</th>\n",
       "      <th>Department</th>\n",
       "      <th>Income</th>\n",
       "      <th>Age</th>\n",
       "    </tr>\n",
       "  </thead>\n",
       "  <tbody>\n",
       "    <tr>\n",
       "      <th>0</th>\n",
       "      <td>Shivance</td>\n",
       "      <td>HR</td>\n",
       "      <td>25000</td>\n",
       "      <td>25</td>\n",
       "    </tr>\n",
       "    <tr>\n",
       "      <th>1</th>\n",
       "      <td>Shivani</td>\n",
       "      <td>Finance</td>\n",
       "      <td>36000</td>\n",
       "      <td>21</td>\n",
       "    </tr>\n",
       "    <tr>\n",
       "      <th>2</th>\n",
       "      <td>Devika</td>\n",
       "      <td>IT</td>\n",
       "      <td>24000</td>\n",
       "      <td>32</td>\n",
       "    </tr>\n",
       "    <tr>\n",
       "      <th>3</th>\n",
       "      <td>Vaishnavi</td>\n",
       "      <td>Operations</td>\n",
       "      <td>21000</td>\n",
       "      <td>24</td>\n",
       "    </tr>\n",
       "    <tr>\n",
       "      <th>4</th>\n",
       "      <td>Ayushi</td>\n",
       "      <td>Marketing</td>\n",
       "      <td>28000</td>\n",
       "      <td>28</td>\n",
       "    </tr>\n",
       "  </tbody>\n",
       "</table>\n",
       "</div>"
      ],
      "text/plain": [
       "        Name  Department  Income  Age\n",
       "0   Shivance          HR   25000   25\n",
       "1    Shivani     Finance   36000   21\n",
       "2     Devika          IT   24000   32\n",
       "3  Vaishnavi  Operations   21000   24\n",
       "4     Ayushi   Marketing   28000   28"
      ]
     },
     "execution_count": 20,
     "metadata": {},
     "output_type": "execute_result"
    }
   ],
   "source": [
    "Employees = pd.DataFrame({\"Name\" : [\"Shivance\",\"Shivani\",\"Devika\",\"Vaishnavi\",\"Ayushi\"], \"Department\" : [\"HR\",\"Finance\",\"IT\",\"Operations\",\"Marketing\"], \"Income\" : [25000,36000,24000,21000,28000], \"Age\" : [25,21,32,24,28]})\n",
    "Employees"
   ]
  },
  {
   "cell_type": "markdown",
   "id": "ba7e6f39",
   "metadata": {},
   "source": [
    "Adding Rows - append()"
   ]
  },
  {
   "cell_type": "code",
   "execution_count": 23,
   "id": "ffc79b7c",
   "metadata": {},
   "outputs": [
    {
     "name": "stderr",
     "output_type": "stream",
     "text": [
      "C:\\Users\\hp\\AppData\\Local\\Temp\\ipykernel_3388\\1132755570.py:1: FutureWarning: The frame.append method is deprecated and will be removed from pandas in a future version. Use pandas.concat instead.\n",
      "  Employees.append({\"Name\" : \"Ambika\"},ignore_index = True) # It adds automatically to the end of dataframe. But we need to add all values, otherwise it gives nan.\n"
     ]
    },
    {
     "data": {
      "text/html": [
       "<div>\n",
       "<style scoped>\n",
       "    .dataframe tbody tr th:only-of-type {\n",
       "        vertical-align: middle;\n",
       "    }\n",
       "\n",
       "    .dataframe tbody tr th {\n",
       "        vertical-align: top;\n",
       "    }\n",
       "\n",
       "    .dataframe thead th {\n",
       "        text-align: right;\n",
       "    }\n",
       "</style>\n",
       "<table border=\"1\" class=\"dataframe\">\n",
       "  <thead>\n",
       "    <tr style=\"text-align: right;\">\n",
       "      <th></th>\n",
       "      <th>Name</th>\n",
       "      <th>Department</th>\n",
       "      <th>Income</th>\n",
       "      <th>Age</th>\n",
       "    </tr>\n",
       "  </thead>\n",
       "  <tbody>\n",
       "    <tr>\n",
       "      <th>0</th>\n",
       "      <td>Shivance</td>\n",
       "      <td>HR</td>\n",
       "      <td>25000.0</td>\n",
       "      <td>25.0</td>\n",
       "    </tr>\n",
       "    <tr>\n",
       "      <th>1</th>\n",
       "      <td>Shivani</td>\n",
       "      <td>Finance</td>\n",
       "      <td>36000.0</td>\n",
       "      <td>21.0</td>\n",
       "    </tr>\n",
       "    <tr>\n",
       "      <th>2</th>\n",
       "      <td>Devika</td>\n",
       "      <td>IT</td>\n",
       "      <td>24000.0</td>\n",
       "      <td>32.0</td>\n",
       "    </tr>\n",
       "    <tr>\n",
       "      <th>3</th>\n",
       "      <td>Vaishnavi</td>\n",
       "      <td>Operations</td>\n",
       "      <td>21000.0</td>\n",
       "      <td>24.0</td>\n",
       "    </tr>\n",
       "    <tr>\n",
       "      <th>4</th>\n",
       "      <td>Ayushi</td>\n",
       "      <td>Marketing</td>\n",
       "      <td>28000.0</td>\n",
       "      <td>28.0</td>\n",
       "    </tr>\n",
       "    <tr>\n",
       "      <th>5</th>\n",
       "      <td>Ambika</td>\n",
       "      <td>NaN</td>\n",
       "      <td>NaN</td>\n",
       "      <td>NaN</td>\n",
       "    </tr>\n",
       "  </tbody>\n",
       "</table>\n",
       "</div>"
      ],
      "text/plain": [
       "        Name  Department   Income   Age\n",
       "0   Shivance          HR  25000.0  25.0\n",
       "1    Shivani     Finance  36000.0  21.0\n",
       "2     Devika          IT  24000.0  32.0\n",
       "3  Vaishnavi  Operations  21000.0  24.0\n",
       "4     Ayushi   Marketing  28000.0  28.0\n",
       "5     Ambika         NaN      NaN   NaN"
      ]
     },
     "execution_count": 23,
     "metadata": {},
     "output_type": "execute_result"
    }
   ],
   "source": [
    "Employees.append({\"Name\" : \"Ambika\"},ignore_index = True) # It adds automatically to the end of dataframe. But we need to add all values, otherwise it gives nan."
   ]
  },
  {
   "cell_type": "code",
   "execution_count": 24,
   "id": "ec5bd34d",
   "metadata": {},
   "outputs": [
    {
     "name": "stderr",
     "output_type": "stream",
     "text": [
      "C:\\Users\\hp\\AppData\\Local\\Temp\\ipykernel_3388\\2518320941.py:1: FutureWarning: The frame.append method is deprecated and will be removed from pandas in a future version. Use pandas.concat instead.\n",
      "  Employees.append({\"Name\" : \"Ambika\",\"Department\":\"Supply Chain\",\"Income\":35000,\"Age\":26},ignore_index=True)\n"
     ]
    },
    {
     "data": {
      "text/html": [
       "<div>\n",
       "<style scoped>\n",
       "    .dataframe tbody tr th:only-of-type {\n",
       "        vertical-align: middle;\n",
       "    }\n",
       "\n",
       "    .dataframe tbody tr th {\n",
       "        vertical-align: top;\n",
       "    }\n",
       "\n",
       "    .dataframe thead th {\n",
       "        text-align: right;\n",
       "    }\n",
       "</style>\n",
       "<table border=\"1\" class=\"dataframe\">\n",
       "  <thead>\n",
       "    <tr style=\"text-align: right;\">\n",
       "      <th></th>\n",
       "      <th>Name</th>\n",
       "      <th>Department</th>\n",
       "      <th>Income</th>\n",
       "      <th>Age</th>\n",
       "    </tr>\n",
       "  </thead>\n",
       "  <tbody>\n",
       "    <tr>\n",
       "      <th>0</th>\n",
       "      <td>Shivance</td>\n",
       "      <td>HR</td>\n",
       "      <td>25000</td>\n",
       "      <td>25</td>\n",
       "    </tr>\n",
       "    <tr>\n",
       "      <th>1</th>\n",
       "      <td>Shivani</td>\n",
       "      <td>Finance</td>\n",
       "      <td>36000</td>\n",
       "      <td>21</td>\n",
       "    </tr>\n",
       "    <tr>\n",
       "      <th>2</th>\n",
       "      <td>Devika</td>\n",
       "      <td>IT</td>\n",
       "      <td>24000</td>\n",
       "      <td>32</td>\n",
       "    </tr>\n",
       "    <tr>\n",
       "      <th>3</th>\n",
       "      <td>Vaishnavi</td>\n",
       "      <td>Operations</td>\n",
       "      <td>21000</td>\n",
       "      <td>24</td>\n",
       "    </tr>\n",
       "    <tr>\n",
       "      <th>4</th>\n",
       "      <td>Ayushi</td>\n",
       "      <td>Marketing</td>\n",
       "      <td>28000</td>\n",
       "      <td>28</td>\n",
       "    </tr>\n",
       "    <tr>\n",
       "      <th>5</th>\n",
       "      <td>Ambika</td>\n",
       "      <td>Supply Chain</td>\n",
       "      <td>35000</td>\n",
       "      <td>26</td>\n",
       "    </tr>\n",
       "  </tbody>\n",
       "</table>\n",
       "</div>"
      ],
      "text/plain": [
       "        Name    Department  Income  Age\n",
       "0   Shivance            HR   25000   25\n",
       "1    Shivani       Finance   36000   21\n",
       "2     Devika            IT   24000   32\n",
       "3  Vaishnavi    Operations   21000   24\n",
       "4     Ayushi     Marketing   28000   28\n",
       "5     Ambika  Supply Chain   35000   26"
      ]
     },
     "execution_count": 24,
     "metadata": {},
     "output_type": "execute_result"
    }
   ],
   "source": [
    "Employees.append({\"Name\" : \"Ambika\",\"Department\":\"Supply Chain\",\"Income\":35000,\"Age\":26},ignore_index=True)"
   ]
  },
  {
   "cell_type": "markdown",
   "id": "ac3c8df8",
   "metadata": {},
   "source": [
    "Removing Rows"
   ]
  },
  {
   "cell_type": "markdown",
   "id": "1756d1cc",
   "metadata": {},
   "source": [
    "We can remove by index."
   ]
  },
  {
   "cell_type": "code",
   "execution_count": 25,
   "id": "7be4b871",
   "metadata": {},
   "outputs": [
    {
     "data": {
      "text/html": [
       "<div>\n",
       "<style scoped>\n",
       "    .dataframe tbody tr th:only-of-type {\n",
       "        vertical-align: middle;\n",
       "    }\n",
       "\n",
       "    .dataframe tbody tr th {\n",
       "        vertical-align: top;\n",
       "    }\n",
       "\n",
       "    .dataframe thead th {\n",
       "        text-align: right;\n",
       "    }\n",
       "</style>\n",
       "<table border=\"1\" class=\"dataframe\">\n",
       "  <thead>\n",
       "    <tr style=\"text-align: right;\">\n",
       "      <th></th>\n",
       "      <th>Name</th>\n",
       "      <th>Department</th>\n",
       "      <th>Income</th>\n",
       "      <th>Age</th>\n",
       "    </tr>\n",
       "  </thead>\n",
       "  <tbody>\n",
       "    <tr>\n",
       "      <th>0</th>\n",
       "      <td>Shivance</td>\n",
       "      <td>HR</td>\n",
       "      <td>25000</td>\n",
       "      <td>25</td>\n",
       "    </tr>\n",
       "    <tr>\n",
       "      <th>1</th>\n",
       "      <td>Shivani</td>\n",
       "      <td>Finance</td>\n",
       "      <td>36000</td>\n",
       "      <td>21</td>\n",
       "    </tr>\n",
       "    <tr>\n",
       "      <th>2</th>\n",
       "      <td>Devika</td>\n",
       "      <td>IT</td>\n",
       "      <td>24000</td>\n",
       "      <td>32</td>\n",
       "    </tr>\n",
       "    <tr>\n",
       "      <th>4</th>\n",
       "      <td>Ayushi</td>\n",
       "      <td>Marketing</td>\n",
       "      <td>28000</td>\n",
       "      <td>28</td>\n",
       "    </tr>\n",
       "  </tbody>\n",
       "</table>\n",
       "</div>"
      ],
      "text/plain": [
       "       Name Department  Income  Age\n",
       "0  Shivance         HR   25000   25\n",
       "1   Shivani    Finance   36000   21\n",
       "2    Devika         IT   24000   32\n",
       "4    Ayushi  Marketing   28000   28"
      ]
     },
     "execution_count": 25,
     "metadata": {},
     "output_type": "execute_result"
    }
   ],
   "source": [
    "Employees.drop(index=3)"
   ]
  },
  {
   "cell_type": "markdown",
   "id": "58fa36f6",
   "metadata": {},
   "source": [
    "We can remove by conditions."
   ]
  },
  {
   "cell_type": "code",
   "execution_count": 27,
   "id": "bcea6547",
   "metadata": {},
   "outputs": [
    {
     "data": {
      "text/html": [
       "<div>\n",
       "<style scoped>\n",
       "    .dataframe tbody tr th:only-of-type {\n",
       "        vertical-align: middle;\n",
       "    }\n",
       "\n",
       "    .dataframe tbody tr th {\n",
       "        vertical-align: top;\n",
       "    }\n",
       "\n",
       "    .dataframe thead th {\n",
       "        text-align: right;\n",
       "    }\n",
       "</style>\n",
       "<table border=\"1\" class=\"dataframe\">\n",
       "  <thead>\n",
       "    <tr style=\"text-align: right;\">\n",
       "      <th></th>\n",
       "      <th>Name</th>\n",
       "      <th>Department</th>\n",
       "      <th>Income</th>\n",
       "      <th>Age</th>\n",
       "    </tr>\n",
       "  </thead>\n",
       "  <tbody>\n",
       "    <tr>\n",
       "      <th>0</th>\n",
       "      <td>Shivance</td>\n",
       "      <td>HR</td>\n",
       "      <td>25000</td>\n",
       "      <td>25</td>\n",
       "    </tr>\n",
       "    <tr>\n",
       "      <th>1</th>\n",
       "      <td>Shivani</td>\n",
       "      <td>Finance</td>\n",
       "      <td>36000</td>\n",
       "      <td>21</td>\n",
       "    </tr>\n",
       "    <tr>\n",
       "      <th>3</th>\n",
       "      <td>Vaishnavi</td>\n",
       "      <td>Operations</td>\n",
       "      <td>21000</td>\n",
       "      <td>24</td>\n",
       "    </tr>\n",
       "    <tr>\n",
       "      <th>4</th>\n",
       "      <td>Ayushi</td>\n",
       "      <td>Marketing</td>\n",
       "      <td>28000</td>\n",
       "      <td>28</td>\n",
       "    </tr>\n",
       "  </tbody>\n",
       "</table>\n",
       "</div>"
      ],
      "text/plain": [
       "        Name  Department  Income  Age\n",
       "0   Shivance          HR   25000   25\n",
       "1    Shivani     Finance   36000   21\n",
       "3  Vaishnavi  Operations   21000   24\n",
       "4     Ayushi   Marketing   28000   28"
      ]
     },
     "execution_count": 27,
     "metadata": {},
     "output_type": "execute_result"
    }
   ],
   "source": [
    "Employees[Employees[\"Age\"]<30]"
   ]
  },
  {
   "cell_type": "code",
   "execution_count": 28,
   "id": "2028163e",
   "metadata": {},
   "outputs": [
    {
     "data": {
      "text/html": [
       "<div>\n",
       "<style scoped>\n",
       "    .dataframe tbody tr th:only-of-type {\n",
       "        vertical-align: middle;\n",
       "    }\n",
       "\n",
       "    .dataframe tbody tr th {\n",
       "        vertical-align: top;\n",
       "    }\n",
       "\n",
       "    .dataframe thead th {\n",
       "        text-align: right;\n",
       "    }\n",
       "</style>\n",
       "<table border=\"1\" class=\"dataframe\">\n",
       "  <thead>\n",
       "    <tr style=\"text-align: right;\">\n",
       "      <th></th>\n",
       "      <th>Name</th>\n",
       "      <th>Department</th>\n",
       "      <th>Income</th>\n",
       "      <th>Age</th>\n",
       "    </tr>\n",
       "  </thead>\n",
       "  <tbody>\n",
       "    <tr>\n",
       "      <th>0</th>\n",
       "      <td>Shivance</td>\n",
       "      <td>HR</td>\n",
       "      <td>25000</td>\n",
       "      <td>25</td>\n",
       "    </tr>\n",
       "    <tr>\n",
       "      <th>1</th>\n",
       "      <td>Shivani</td>\n",
       "      <td>Finance</td>\n",
       "      <td>36000</td>\n",
       "      <td>21</td>\n",
       "    </tr>\n",
       "    <tr>\n",
       "      <th>3</th>\n",
       "      <td>Vaishnavi</td>\n",
       "      <td>Operations</td>\n",
       "      <td>21000</td>\n",
       "      <td>24</td>\n",
       "    </tr>\n",
       "    <tr>\n",
       "      <th>4</th>\n",
       "      <td>Ayushi</td>\n",
       "      <td>Marketing</td>\n",
       "      <td>28000</td>\n",
       "      <td>28</td>\n",
       "    </tr>\n",
       "  </tbody>\n",
       "</table>\n",
       "</div>"
      ],
      "text/plain": [
       "        Name  Department  Income  Age\n",
       "0   Shivance          HR   25000   25\n",
       "1    Shivani     Finance   36000   21\n",
       "3  Vaishnavi  Operations   21000   24\n",
       "4     Ayushi   Marketing   28000   28"
      ]
     },
     "execution_count": 28,
     "metadata": {},
     "output_type": "execute_result"
    }
   ],
   "source": [
    "Employees.drop(index=Employees[Employees[\"Age\"]>30].index)"
   ]
  },
  {
   "cell_type": "markdown",
   "id": "a4146793",
   "metadata": {},
   "source": [
    "Adding Columns"
   ]
  },
  {
   "cell_type": "code",
   "execution_count": 31,
   "id": "fe1c20a3",
   "metadata": {},
   "outputs": [
    {
     "data": {
      "text/html": [
       "<div>\n",
       "<style scoped>\n",
       "    .dataframe tbody tr th:only-of-type {\n",
       "        vertical-align: middle;\n",
       "    }\n",
       "\n",
       "    .dataframe tbody tr th {\n",
       "        vertical-align: top;\n",
       "    }\n",
       "\n",
       "    .dataframe thead th {\n",
       "        text-align: right;\n",
       "    }\n",
       "</style>\n",
       "<table border=\"1\" class=\"dataframe\">\n",
       "  <thead>\n",
       "    <tr style=\"text-align: right;\">\n",
       "      <th></th>\n",
       "      <th>Name</th>\n",
       "      <th>Department</th>\n",
       "      <th>Income</th>\n",
       "      <th>Age</th>\n",
       "      <th>Experience</th>\n",
       "    </tr>\n",
       "  </thead>\n",
       "  <tbody>\n",
       "    <tr>\n",
       "      <th>0</th>\n",
       "      <td>Shivance</td>\n",
       "      <td>HR</td>\n",
       "      <td>25000</td>\n",
       "      <td>25</td>\n",
       "      <td>5</td>\n",
       "    </tr>\n",
       "    <tr>\n",
       "      <th>1</th>\n",
       "      <td>Shivani</td>\n",
       "      <td>Finance</td>\n",
       "      <td>36000</td>\n",
       "      <td>21</td>\n",
       "      <td>6</td>\n",
       "    </tr>\n",
       "    <tr>\n",
       "      <th>2</th>\n",
       "      <td>Devika</td>\n",
       "      <td>IT</td>\n",
       "      <td>24000</td>\n",
       "      <td>32</td>\n",
       "      <td>3</td>\n",
       "    </tr>\n",
       "    <tr>\n",
       "      <th>3</th>\n",
       "      <td>Vaishnavi</td>\n",
       "      <td>Operations</td>\n",
       "      <td>21000</td>\n",
       "      <td>24</td>\n",
       "      <td>4</td>\n",
       "    </tr>\n",
       "    <tr>\n",
       "      <th>4</th>\n",
       "      <td>Ayushi</td>\n",
       "      <td>Marketing</td>\n",
       "      <td>28000</td>\n",
       "      <td>28</td>\n",
       "      <td>7</td>\n",
       "    </tr>\n",
       "  </tbody>\n",
       "</table>\n",
       "</div>"
      ],
      "text/plain": [
       "        Name  Department  Income  Age  Experience\n",
       "0   Shivance          HR   25000   25           5\n",
       "1    Shivani     Finance   36000   21           6\n",
       "2     Devika          IT   24000   32           3\n",
       "3  Vaishnavi  Operations   21000   24           4\n",
       "4     Ayushi   Marketing   28000   28           7"
      ]
     },
     "execution_count": 31,
     "metadata": {},
     "output_type": "execute_result"
    }
   ],
   "source": [
    "Employees[\"Experience\"] = [5,6,3,4,7]\n",
    "Employees"
   ]
  },
  {
   "cell_type": "markdown",
   "id": "4c22af31",
   "metadata": {},
   "source": [
    "Removing Columns"
   ]
  },
  {
   "cell_type": "code",
   "execution_count": 32,
   "id": "a67a052b",
   "metadata": {},
   "outputs": [
    {
     "data": {
      "text/html": [
       "<div>\n",
       "<style scoped>\n",
       "    .dataframe tbody tr th:only-of-type {\n",
       "        vertical-align: middle;\n",
       "    }\n",
       "\n",
       "    .dataframe tbody tr th {\n",
       "        vertical-align: top;\n",
       "    }\n",
       "\n",
       "    .dataframe thead th {\n",
       "        text-align: right;\n",
       "    }\n",
       "</style>\n",
       "<table border=\"1\" class=\"dataframe\">\n",
       "  <thead>\n",
       "    <tr style=\"text-align: right;\">\n",
       "      <th></th>\n",
       "      <th>Name</th>\n",
       "      <th>Department</th>\n",
       "      <th>Age</th>\n",
       "    </tr>\n",
       "  </thead>\n",
       "  <tbody>\n",
       "    <tr>\n",
       "      <th>0</th>\n",
       "      <td>Shivance</td>\n",
       "      <td>HR</td>\n",
       "      <td>25</td>\n",
       "    </tr>\n",
       "    <tr>\n",
       "      <th>1</th>\n",
       "      <td>Shivani</td>\n",
       "      <td>Finance</td>\n",
       "      <td>21</td>\n",
       "    </tr>\n",
       "    <tr>\n",
       "      <th>2</th>\n",
       "      <td>Devika</td>\n",
       "      <td>IT</td>\n",
       "      <td>32</td>\n",
       "    </tr>\n",
       "    <tr>\n",
       "      <th>3</th>\n",
       "      <td>Vaishnavi</td>\n",
       "      <td>Operations</td>\n",
       "      <td>24</td>\n",
       "    </tr>\n",
       "    <tr>\n",
       "      <th>4</th>\n",
       "      <td>Ayushi</td>\n",
       "      <td>Marketing</td>\n",
       "      <td>28</td>\n",
       "    </tr>\n",
       "  </tbody>\n",
       "</table>\n",
       "</div>"
      ],
      "text/plain": [
       "        Name  Department  Age\n",
       "0   Shivance          HR   25\n",
       "1    Shivani     Finance   21\n",
       "2     Devika          IT   32\n",
       "3  Vaishnavi  Operations   24\n",
       "4     Ayushi   Marketing   28"
      ]
     },
     "execution_count": 32,
     "metadata": {},
     "output_type": "execute_result"
    }
   ],
   "source": [
    "Employees.drop(columns=[\"Experience\",\"Income\"])"
   ]
  },
  {
   "cell_type": "code",
   "execution_count": 33,
   "id": "1610e3e3",
   "metadata": {},
   "outputs": [
    {
     "data": {
      "text/html": [
       "<div>\n",
       "<style scoped>\n",
       "    .dataframe tbody tr th:only-of-type {\n",
       "        vertical-align: middle;\n",
       "    }\n",
       "\n",
       "    .dataframe tbody tr th {\n",
       "        vertical-align: top;\n",
       "    }\n",
       "\n",
       "    .dataframe thead th {\n",
       "        text-align: right;\n",
       "    }\n",
       "</style>\n",
       "<table border=\"1\" class=\"dataframe\">\n",
       "  <thead>\n",
       "    <tr style=\"text-align: right;\">\n",
       "      <th></th>\n",
       "      <th>Name</th>\n",
       "      <th>Department</th>\n",
       "      <th>Age</th>\n",
       "    </tr>\n",
       "  </thead>\n",
       "  <tbody>\n",
       "    <tr>\n",
       "      <th>0</th>\n",
       "      <td>Shivance</td>\n",
       "      <td>HR</td>\n",
       "      <td>25</td>\n",
       "    </tr>\n",
       "    <tr>\n",
       "      <th>1</th>\n",
       "      <td>Shivani</td>\n",
       "      <td>Finance</td>\n",
       "      <td>21</td>\n",
       "    </tr>\n",
       "    <tr>\n",
       "      <th>2</th>\n",
       "      <td>Devika</td>\n",
       "      <td>IT</td>\n",
       "      <td>32</td>\n",
       "    </tr>\n",
       "    <tr>\n",
       "      <th>3</th>\n",
       "      <td>Vaishnavi</td>\n",
       "      <td>Operations</td>\n",
       "      <td>24</td>\n",
       "    </tr>\n",
       "    <tr>\n",
       "      <th>4</th>\n",
       "      <td>Ayushi</td>\n",
       "      <td>Marketing</td>\n",
       "      <td>28</td>\n",
       "    </tr>\n",
       "  </tbody>\n",
       "</table>\n",
       "</div>"
      ],
      "text/plain": [
       "        Name  Department  Age\n",
       "0   Shivance          HR   25\n",
       "1    Shivani     Finance   21\n",
       "2     Devika          IT   32\n",
       "3  Vaishnavi  Operations   24\n",
       "4     Ayushi   Marketing   28"
      ]
     },
     "execution_count": 33,
     "metadata": {},
     "output_type": "execute_result"
    }
   ],
   "source": [
    "Employees.drop([\"Experience\",\"Income\"],axis=1) #Axis 1 means columns"
   ]
  },
  {
   "cell_type": "code",
   "execution_count": 34,
   "id": "a9fd3ebe",
   "metadata": {},
   "outputs": [],
   "source": [
    "# Fancy indexing gives same result"
   ]
  },
  {
   "cell_type": "code",
   "execution_count": 35,
   "id": "83858be8",
   "metadata": {},
   "outputs": [
    {
     "data": {
      "text/html": [
       "<div>\n",
       "<style scoped>\n",
       "    .dataframe tbody tr th:only-of-type {\n",
       "        vertical-align: middle;\n",
       "    }\n",
       "\n",
       "    .dataframe tbody tr th {\n",
       "        vertical-align: top;\n",
       "    }\n",
       "\n",
       "    .dataframe thead th {\n",
       "        text-align: right;\n",
       "    }\n",
       "</style>\n",
       "<table border=\"1\" class=\"dataframe\">\n",
       "  <thead>\n",
       "    <tr style=\"text-align: right;\">\n",
       "      <th></th>\n",
       "      <th>Name</th>\n",
       "      <th>Department</th>\n",
       "      <th>Age</th>\n",
       "    </tr>\n",
       "  </thead>\n",
       "  <tbody>\n",
       "    <tr>\n",
       "      <th>0</th>\n",
       "      <td>Shivance</td>\n",
       "      <td>HR</td>\n",
       "      <td>25</td>\n",
       "    </tr>\n",
       "    <tr>\n",
       "      <th>1</th>\n",
       "      <td>Shivani</td>\n",
       "      <td>Finance</td>\n",
       "      <td>21</td>\n",
       "    </tr>\n",
       "    <tr>\n",
       "      <th>2</th>\n",
       "      <td>Devika</td>\n",
       "      <td>IT</td>\n",
       "      <td>32</td>\n",
       "    </tr>\n",
       "    <tr>\n",
       "      <th>3</th>\n",
       "      <td>Vaishnavi</td>\n",
       "      <td>Operations</td>\n",
       "      <td>24</td>\n",
       "    </tr>\n",
       "    <tr>\n",
       "      <th>4</th>\n",
       "      <td>Ayushi</td>\n",
       "      <td>Marketing</td>\n",
       "      <td>28</td>\n",
       "    </tr>\n",
       "  </tbody>\n",
       "</table>\n",
       "</div>"
      ],
      "text/plain": [
       "        Name  Department  Age\n",
       "0   Shivance          HR   25\n",
       "1    Shivani     Finance   21\n",
       "2     Devika          IT   32\n",
       "3  Vaishnavi  Operations   24\n",
       "4     Ayushi   Marketing   28"
      ]
     },
     "execution_count": 35,
     "metadata": {},
     "output_type": "execute_result"
    }
   ],
   "source": [
    "Employees[[\"Name\",\"Department\",\"Age\"]]"
   ]
  },
  {
   "cell_type": "markdown",
   "id": "ca6745b8",
   "metadata": {},
   "source": [
    "Merging DataFrames"
   ]
  },
  {
   "cell_type": "markdown",
   "id": "499e727b",
   "metadata": {},
   "source": [
    "Concat() function"
   ]
  },
  {
   "cell_type": "code",
   "execution_count": 38,
   "id": "6ba204ef",
   "metadata": {},
   "outputs": [
    {
     "data": {
      "text/html": [
       "<div>\n",
       "<style scoped>\n",
       "    .dataframe tbody tr th:only-of-type {\n",
       "        vertical-align: middle;\n",
       "    }\n",
       "\n",
       "    .dataframe tbody tr th {\n",
       "        vertical-align: top;\n",
       "    }\n",
       "\n",
       "    .dataframe thead th {\n",
       "        text-align: right;\n",
       "    }\n",
       "</style>\n",
       "<table border=\"1\" class=\"dataframe\">\n",
       "  <thead>\n",
       "    <tr style=\"text-align: right;\">\n",
       "      <th></th>\n",
       "      <th>Name</th>\n",
       "      <th>Department</th>\n",
       "      <th>Income</th>\n",
       "      <th>Age</th>\n",
       "    </tr>\n",
       "  </thead>\n",
       "  <tbody>\n",
       "    <tr>\n",
       "      <th>0</th>\n",
       "      <td>Devika</td>\n",
       "      <td>IT</td>\n",
       "      <td>23000</td>\n",
       "      <td>23</td>\n",
       "    </tr>\n",
       "    <tr>\n",
       "      <th>1</th>\n",
       "      <td>Shivani</td>\n",
       "      <td>HR</td>\n",
       "      <td>21000</td>\n",
       "      <td>45</td>\n",
       "    </tr>\n",
       "    <tr>\n",
       "      <th>2</th>\n",
       "      <td>Vaishnavi</td>\n",
       "      <td>Marketing</td>\n",
       "      <td>34000</td>\n",
       "      <td>32</td>\n",
       "    </tr>\n",
       "    <tr>\n",
       "      <th>3</th>\n",
       "      <td>Ambika</td>\n",
       "      <td>Finance</td>\n",
       "      <td>25000</td>\n",
       "      <td>54</td>\n",
       "    </tr>\n",
       "    <tr>\n",
       "      <th>4</th>\n",
       "      <td>Ayushi</td>\n",
       "      <td>Supply Chain</td>\n",
       "      <td>41000</td>\n",
       "      <td>21</td>\n",
       "    </tr>\n",
       "  </tbody>\n",
       "</table>\n",
       "</div>"
      ],
      "text/plain": [
       "        Name    Department  Income  Age\n",
       "0     Devika            IT   23000   23\n",
       "1    Shivani            HR   21000   45\n",
       "2  Vaishnavi     Marketing   34000   32\n",
       "3     Ambika       Finance   25000   54\n",
       "4     Ayushi  Supply Chain   41000   21"
      ]
     },
     "execution_count": 38,
     "metadata": {},
     "output_type": "execute_result"
    }
   ],
   "source": [
    "Employees = pd.DataFrame({\"Name\" : [\"Devika\",\"Shivani\",\"Vaishnavi\",\"Ambika\",\"Ayushi\"], \"Department\" : [\"IT\",\"HR\",\"Marketing\",\"Finance\",\"Supply Chain\"], \"Income\" : [23000,21000,34000,25000,41000], \"Age\" : [23,45,32,54,21]})\n",
    "Employees"
   ]
  },
  {
   "cell_type": "code",
   "execution_count": 40,
   "id": "5b8ce07f",
   "metadata": {},
   "outputs": [
    {
     "data": {
      "text/html": [
       "<div>\n",
       "<style scoped>\n",
       "    .dataframe tbody tr th:only-of-type {\n",
       "        vertical-align: middle;\n",
       "    }\n",
       "\n",
       "    .dataframe tbody tr th {\n",
       "        vertical-align: top;\n",
       "    }\n",
       "\n",
       "    .dataframe thead th {\n",
       "        text-align: right;\n",
       "    }\n",
       "</style>\n",
       "<table border=\"1\" class=\"dataframe\">\n",
       "  <thead>\n",
       "    <tr style=\"text-align: right;\">\n",
       "      <th></th>\n",
       "      <th>Name</th>\n",
       "      <th>Department</th>\n",
       "      <th>Income</th>\n",
       "    </tr>\n",
       "  </thead>\n",
       "  <tbody>\n",
       "    <tr>\n",
       "      <th>0</th>\n",
       "      <td>Divya</td>\n",
       "      <td>Docter</td>\n",
       "      <td>25000</td>\n",
       "    </tr>\n",
       "    <tr>\n",
       "      <th>1</th>\n",
       "      <td>Avani</td>\n",
       "      <td>Lower</td>\n",
       "      <td>35000</td>\n",
       "    </tr>\n",
       "    <tr>\n",
       "      <th>2</th>\n",
       "      <td>Shivansh</td>\n",
       "      <td>Finance</td>\n",
       "      <td>32000</td>\n",
       "    </tr>\n",
       "    <tr>\n",
       "      <th>3</th>\n",
       "      <td>Drashti</td>\n",
       "      <td>CA</td>\n",
       "      <td>15000</td>\n",
       "    </tr>\n",
       "    <tr>\n",
       "      <th>4</th>\n",
       "      <td>Ashvini</td>\n",
       "      <td>Team Leader</td>\n",
       "      <td>150000</td>\n",
       "    </tr>\n",
       "  </tbody>\n",
       "</table>\n",
       "</div>"
      ],
      "text/plain": [
       "       Name   Department  Income\n",
       "0     Divya       Docter   25000\n",
       "1     Avani        Lower   35000\n",
       "2  Shivansh      Finance   32000\n",
       "3   Drashti           CA   15000\n",
       "4   Ashvini  Team Leader  150000"
      ]
     },
     "execution_count": 40,
     "metadata": {},
     "output_type": "execute_result"
    }
   ],
   "source": [
    "Employees2 = pd.DataFrame({\"Name\" : [\"Divya\",\"Avani\",\"Shivansh\",\"Drashti\",\"Ashvini\"], \"Department\" : [\"Docter\",\"Lower\",\"Finance\",\"CA\",\"Team Leader\"], \"Income\" : [25000,35000,32000,15000,150000]})\n",
    "Employees2"
   ]
  },
  {
   "cell_type": "code",
   "execution_count": 53,
   "id": "aac313b7",
   "metadata": {},
   "outputs": [
    {
     "data": {
      "text/html": [
       "<div>\n",
       "<style scoped>\n",
       "    .dataframe tbody tr th:only-of-type {\n",
       "        vertical-align: middle;\n",
       "    }\n",
       "\n",
       "    .dataframe tbody tr th {\n",
       "        vertical-align: top;\n",
       "    }\n",
       "\n",
       "    .dataframe thead th {\n",
       "        text-align: right;\n",
       "    }\n",
       "</style>\n",
       "<table border=\"1\" class=\"dataframe\">\n",
       "  <thead>\n",
       "    <tr style=\"text-align: right;\">\n",
       "      <th></th>\n",
       "      <th>Name</th>\n",
       "      <th>Department</th>\n",
       "      <th>Income</th>\n",
       "      <th>Age</th>\n",
       "    </tr>\n",
       "  </thead>\n",
       "  <tbody>\n",
       "    <tr>\n",
       "      <th>0</th>\n",
       "      <td>Divya</td>\n",
       "      <td>Docter</td>\n",
       "      <td>25000</td>\n",
       "      <td>25</td>\n",
       "    </tr>\n",
       "    <tr>\n",
       "      <th>1</th>\n",
       "      <td>Avani</td>\n",
       "      <td>Lower</td>\n",
       "      <td>35000</td>\n",
       "      <td>36</td>\n",
       "    </tr>\n",
       "    <tr>\n",
       "      <th>2</th>\n",
       "      <td>Shivansh</td>\n",
       "      <td>Finance</td>\n",
       "      <td>32000</td>\n",
       "      <td>45</td>\n",
       "    </tr>\n",
       "    <tr>\n",
       "      <th>3</th>\n",
       "      <td>Drashti</td>\n",
       "      <td>CA</td>\n",
       "      <td>15000</td>\n",
       "      <td>63</td>\n",
       "    </tr>\n",
       "    <tr>\n",
       "      <th>4</th>\n",
       "      <td>Ashvini</td>\n",
       "      <td>Team Leader</td>\n",
       "      <td>150000</td>\n",
       "      <td>25</td>\n",
       "    </tr>\n",
       "  </tbody>\n",
       "</table>\n",
       "</div>"
      ],
      "text/plain": [
       "       Name   Department  Income  Age\n",
       "0     Divya       Docter   25000   25\n",
       "1     Avani        Lower   35000   36\n",
       "2  Shivansh      Finance   32000   45\n",
       "3   Drashti           CA   15000   63\n",
       "4   Ashvini  Team Leader  150000   25"
      ]
     },
     "execution_count": 53,
     "metadata": {},
     "output_type": "execute_result"
    }
   ],
   "source": [
    "Employees2[\"Age\"] = [25,36,45,63,25]\n",
    "Employees_2 = Employees2\n",
    "Employees_2"
   ]
  },
  {
   "cell_type": "markdown",
   "id": "27cbbff9",
   "metadata": {},
   "source": [
    "We can merge dataframe with concat(0) function."
   ]
  },
  {
   "cell_type": "code",
   "execution_count": 54,
   "id": "55a6c972",
   "metadata": {},
   "outputs": [
    {
     "data": {
      "text/html": [
       "<div>\n",
       "<style scoped>\n",
       "    .dataframe tbody tr th:only-of-type {\n",
       "        vertical-align: middle;\n",
       "    }\n",
       "\n",
       "    .dataframe tbody tr th {\n",
       "        vertical-align: top;\n",
       "    }\n",
       "\n",
       "    .dataframe thead th {\n",
       "        text-align: right;\n",
       "    }\n",
       "</style>\n",
       "<table border=\"1\" class=\"dataframe\">\n",
       "  <thead>\n",
       "    <tr style=\"text-align: right;\">\n",
       "      <th></th>\n",
       "      <th>Name</th>\n",
       "      <th>Department</th>\n",
       "      <th>Income</th>\n",
       "      <th>Age</th>\n",
       "    </tr>\n",
       "  </thead>\n",
       "  <tbody>\n",
       "    <tr>\n",
       "      <th>0</th>\n",
       "      <td>Devika</td>\n",
       "      <td>IT</td>\n",
       "      <td>23000</td>\n",
       "      <td>25</td>\n",
       "    </tr>\n",
       "    <tr>\n",
       "      <th>1</th>\n",
       "      <td>Shivani</td>\n",
       "      <td>HR</td>\n",
       "      <td>21000</td>\n",
       "      <td>36</td>\n",
       "    </tr>\n",
       "    <tr>\n",
       "      <th>2</th>\n",
       "      <td>Vaishnavi</td>\n",
       "      <td>Marketing</td>\n",
       "      <td>34000</td>\n",
       "      <td>45</td>\n",
       "    </tr>\n",
       "    <tr>\n",
       "      <th>3</th>\n",
       "      <td>Ambika</td>\n",
       "      <td>Finance</td>\n",
       "      <td>25000</td>\n",
       "      <td>63</td>\n",
       "    </tr>\n",
       "    <tr>\n",
       "      <th>4</th>\n",
       "      <td>Ayushi</td>\n",
       "      <td>Supply Chain</td>\n",
       "      <td>41000</td>\n",
       "      <td>25</td>\n",
       "    </tr>\n",
       "    <tr>\n",
       "      <th>0</th>\n",
       "      <td>Divya</td>\n",
       "      <td>Docter</td>\n",
       "      <td>25000</td>\n",
       "      <td>25</td>\n",
       "    </tr>\n",
       "    <tr>\n",
       "      <th>1</th>\n",
       "      <td>Avani</td>\n",
       "      <td>Lower</td>\n",
       "      <td>35000</td>\n",
       "      <td>36</td>\n",
       "    </tr>\n",
       "    <tr>\n",
       "      <th>2</th>\n",
       "      <td>Shivansh</td>\n",
       "      <td>Finance</td>\n",
       "      <td>32000</td>\n",
       "      <td>45</td>\n",
       "    </tr>\n",
       "    <tr>\n",
       "      <th>3</th>\n",
       "      <td>Drashti</td>\n",
       "      <td>CA</td>\n",
       "      <td>15000</td>\n",
       "      <td>63</td>\n",
       "    </tr>\n",
       "    <tr>\n",
       "      <th>4</th>\n",
       "      <td>Ashvini</td>\n",
       "      <td>Team Leader</td>\n",
       "      <td>150000</td>\n",
       "      <td>25</td>\n",
       "    </tr>\n",
       "  </tbody>\n",
       "</table>\n",
       "</div>"
      ],
      "text/plain": [
       "        Name    Department  Income  Age\n",
       "0     Devika            IT   23000   25\n",
       "1    Shivani            HR   21000   36\n",
       "2  Vaishnavi     Marketing   34000   45\n",
       "3     Ambika       Finance   25000   63\n",
       "4     Ayushi  Supply Chain   41000   25\n",
       "0      Divya        Docter   25000   25\n",
       "1      Avani         Lower   35000   36\n",
       "2   Shivansh       Finance   32000   45\n",
       "3    Drashti            CA   15000   63\n",
       "4    Ashvini   Team Leader  150000   25"
      ]
     },
     "execution_count": 54,
     "metadata": {},
     "output_type": "execute_result"
    }
   ],
   "source": [
    "pd.concat([Employees_1,Employees_2]) # It will merge with out changing indexes\n"
   ]
  },
  {
   "cell_type": "code",
   "execution_count": 55,
   "id": "65c2053c",
   "metadata": {},
   "outputs": [
    {
     "data": {
      "text/html": [
       "<div>\n",
       "<style scoped>\n",
       "    .dataframe tbody tr th:only-of-type {\n",
       "        vertical-align: middle;\n",
       "    }\n",
       "\n",
       "    .dataframe tbody tr th {\n",
       "        vertical-align: top;\n",
       "    }\n",
       "\n",
       "    .dataframe thead th {\n",
       "        text-align: right;\n",
       "    }\n",
       "</style>\n",
       "<table border=\"1\" class=\"dataframe\">\n",
       "  <thead>\n",
       "    <tr style=\"text-align: right;\">\n",
       "      <th></th>\n",
       "      <th>Name</th>\n",
       "      <th>Department</th>\n",
       "      <th>Income</th>\n",
       "      <th>Age</th>\n",
       "    </tr>\n",
       "  </thead>\n",
       "  <tbody>\n",
       "    <tr>\n",
       "      <th>0</th>\n",
       "      <td>Devika</td>\n",
       "      <td>IT</td>\n",
       "      <td>23000</td>\n",
       "      <td>25</td>\n",
       "    </tr>\n",
       "    <tr>\n",
       "      <th>1</th>\n",
       "      <td>Shivani</td>\n",
       "      <td>HR</td>\n",
       "      <td>21000</td>\n",
       "      <td>36</td>\n",
       "    </tr>\n",
       "    <tr>\n",
       "      <th>2</th>\n",
       "      <td>Vaishnavi</td>\n",
       "      <td>Marketing</td>\n",
       "      <td>34000</td>\n",
       "      <td>45</td>\n",
       "    </tr>\n",
       "    <tr>\n",
       "      <th>3</th>\n",
       "      <td>Ambika</td>\n",
       "      <td>Finance</td>\n",
       "      <td>25000</td>\n",
       "      <td>63</td>\n",
       "    </tr>\n",
       "    <tr>\n",
       "      <th>4</th>\n",
       "      <td>Ayushi</td>\n",
       "      <td>Supply Chain</td>\n",
       "      <td>41000</td>\n",
       "      <td>25</td>\n",
       "    </tr>\n",
       "    <tr>\n",
       "      <th>5</th>\n",
       "      <td>Divya</td>\n",
       "      <td>Docter</td>\n",
       "      <td>25000</td>\n",
       "      <td>25</td>\n",
       "    </tr>\n",
       "    <tr>\n",
       "      <th>6</th>\n",
       "      <td>Avani</td>\n",
       "      <td>Lower</td>\n",
       "      <td>35000</td>\n",
       "      <td>36</td>\n",
       "    </tr>\n",
       "    <tr>\n",
       "      <th>7</th>\n",
       "      <td>Shivansh</td>\n",
       "      <td>Finance</td>\n",
       "      <td>32000</td>\n",
       "      <td>45</td>\n",
       "    </tr>\n",
       "    <tr>\n",
       "      <th>8</th>\n",
       "      <td>Drashti</td>\n",
       "      <td>CA</td>\n",
       "      <td>15000</td>\n",
       "      <td>63</td>\n",
       "    </tr>\n",
       "    <tr>\n",
       "      <th>9</th>\n",
       "      <td>Ashvini</td>\n",
       "      <td>Team Leader</td>\n",
       "      <td>150000</td>\n",
       "      <td>25</td>\n",
       "    </tr>\n",
       "  </tbody>\n",
       "</table>\n",
       "</div>"
      ],
      "text/plain": [
       "        Name    Department  Income  Age\n",
       "0     Devika            IT   23000   25\n",
       "1    Shivani            HR   21000   36\n",
       "2  Vaishnavi     Marketing   34000   45\n",
       "3     Ambika       Finance   25000   63\n",
       "4     Ayushi  Supply Chain   41000   25\n",
       "5      Divya        Docter   25000   25\n",
       "6      Avani         Lower   35000   36\n",
       "7   Shivansh       Finance   32000   45\n",
       "8    Drashti            CA   15000   63\n",
       "9    Ashvini   Team Leader  150000   25"
      ]
     },
     "execution_count": 55,
     "metadata": {},
     "output_type": "execute_result"
    }
   ],
   "source": [
    "pd.concat([Employees_1,Employees2], ignore_index = True) # It will update indexes"
   ]
  },
  {
   "cell_type": "markdown",
   "id": "b6368f30",
   "metadata": {},
   "source": [
    "Joins"
   ]
  },
  {
   "cell_type": "markdown",
   "id": "5ec2aca9",
   "metadata": {},
   "source": [
    "Join is a common concept coming from SQL. it helps us merging dataframes."
   ]
  },
  {
   "cell_type": "markdown",
   "id": "f6d6ea9f",
   "metadata": {},
   "source": [
    "Inner Join"
   ]
  },
  {
   "cell_type": "markdown",
   "id": "9abe6c8b",
   "metadata": {},
   "source": [
    "An inner join requires each row in the two joined dataframes to have matching column values. This is similar to the intersection of two sets"
   ]
  },
  {
   "cell_type": "code",
   "execution_count": 57,
   "id": "0b6b60a6",
   "metadata": {},
   "outputs": [
    {
     "data": {
      "text/html": [
       "<div>\n",
       "<style scoped>\n",
       "    .dataframe tbody tr th:only-of-type {\n",
       "        vertical-align: middle;\n",
       "    }\n",
       "\n",
       "    .dataframe tbody tr th {\n",
       "        vertical-align: top;\n",
       "    }\n",
       "\n",
       "    .dataframe thead th {\n",
       "        text-align: right;\n",
       "    }\n",
       "</style>\n",
       "<table border=\"1\" class=\"dataframe\">\n",
       "  <thead>\n",
       "    <tr style=\"text-align: right;\">\n",
       "      <th></th>\n",
       "      <th>Name</th>\n",
       "      <th>Student Number</th>\n",
       "      <th>GPA</th>\n",
       "    </tr>\n",
       "  </thead>\n",
       "  <tbody>\n",
       "    <tr>\n",
       "      <th>0</th>\n",
       "      <td>Radhika</td>\n",
       "      <td>202221</td>\n",
       "      <td>3.40</td>\n",
       "    </tr>\n",
       "    <tr>\n",
       "      <th>1</th>\n",
       "      <td>Shivi</td>\n",
       "      <td>202222</td>\n",
       "      <td>5.32</td>\n",
       "    </tr>\n",
       "    <tr>\n",
       "      <th>2</th>\n",
       "      <td>Ashu</td>\n",
       "      <td>202223</td>\n",
       "      <td>4.53</td>\n",
       "    </tr>\n",
       "    <tr>\n",
       "      <th>3</th>\n",
       "      <td>Choti</td>\n",
       "      <td>202224</td>\n",
       "      <td>6.12</td>\n",
       "    </tr>\n",
       "  </tbody>\n",
       "</table>\n",
       "</div>"
      ],
      "text/plain": [
       "      Name  Student Number   GPA\n",
       "0  Radhika          202221  3.40\n",
       "1    Shivi          202222  5.32\n",
       "2     Ashu          202223  4.53\n",
       "3    Choti          202224  6.12"
      ]
     },
     "execution_count": 57,
     "metadata": {},
     "output_type": "execute_result"
    }
   ],
   "source": [
    "class1 = pd.DataFrame({\"Name\" : [\"Radhika\",\"Shivi\",\"Ashu\",\"Choti\"], \"Student Number\" : [202221,202222,202223,202224], \"GPA\" : [3.40,5.32,4.53,6.12]})\n",
    "class1"
   ]
  },
  {
   "cell_type": "code",
   "execution_count": 60,
   "id": "a2041c7f",
   "metadata": {},
   "outputs": [
    {
     "data": {
      "text/html": [
       "<div>\n",
       "<style scoped>\n",
       "    .dataframe tbody tr th:only-of-type {\n",
       "        vertical-align: middle;\n",
       "    }\n",
       "\n",
       "    .dataframe tbody tr th {\n",
       "        vertical-align: top;\n",
       "    }\n",
       "\n",
       "    .dataframe thead th {\n",
       "        text-align: right;\n",
       "    }\n",
       "</style>\n",
       "<table border=\"1\" class=\"dataframe\">\n",
       "  <thead>\n",
       "    <tr style=\"text-align: right;\">\n",
       "      <th></th>\n",
       "      <th>Name</th>\n",
       "      <th>Student Number</th>\n",
       "      <th>Age</th>\n",
       "    </tr>\n",
       "  </thead>\n",
       "  <tbody>\n",
       "    <tr>\n",
       "      <th>0</th>\n",
       "      <td>Krishna</td>\n",
       "      <td>202225</td>\n",
       "      <td>18</td>\n",
       "    </tr>\n",
       "    <tr>\n",
       "      <th>1</th>\n",
       "      <td>Kartik</td>\n",
       "      <td>202226</td>\n",
       "      <td>15</td>\n",
       "    </tr>\n",
       "    <tr>\n",
       "      <th>2</th>\n",
       "      <td>Ram</td>\n",
       "      <td>202227</td>\n",
       "      <td>12</td>\n",
       "    </tr>\n",
       "    <tr>\n",
       "      <th>3</th>\n",
       "      <td>Dolly</td>\n",
       "      <td>202228</td>\n",
       "      <td>13</td>\n",
       "    </tr>\n",
       "  </tbody>\n",
       "</table>\n",
       "</div>"
      ],
      "text/plain": [
       "      Name  Student Number  Age\n",
       "0  Krishna          202225   18\n",
       "1   Kartik          202226   15\n",
       "2      Ram          202227   12\n",
       "3    Dolly          202228   13"
      ]
     },
     "execution_count": 60,
     "metadata": {},
     "output_type": "execute_result"
    }
   ],
   "source": [
    "class2 = pd.DataFrame({\"Name\" : [\"Krishna\",\"Kartik\",\"Ram\",\"Dolly\"], \"Student Number\" : [202225,202226,202227,202228], \"Age\" : [18,15,12,13]})\n",
    "class2"
   ]
  },
  {
   "cell_type": "code",
   "execution_count": 62,
   "id": "5616eb4f",
   "metadata": {},
   "outputs": [
    {
     "data": {
      "text/html": [
       "<div>\n",
       "<style scoped>\n",
       "    .dataframe tbody tr th:only-of-type {\n",
       "        vertical-align: middle;\n",
       "    }\n",
       "\n",
       "    .dataframe tbody tr th {\n",
       "        vertical-align: top;\n",
       "    }\n",
       "\n",
       "    .dataframe thead th {\n",
       "        text-align: right;\n",
       "    }\n",
       "</style>\n",
       "<table border=\"1\" class=\"dataframe\">\n",
       "  <thead>\n",
       "    <tr style=\"text-align: right;\">\n",
       "      <th></th>\n",
       "      <th>Name</th>\n",
       "      <th>Student Number</th>\n",
       "      <th>GPA</th>\n",
       "      <th>Age</th>\n",
       "    </tr>\n",
       "  </thead>\n",
       "  <tbody>\n",
       "    <tr>\n",
       "      <th>0</th>\n",
       "      <td>Radhika</td>\n",
       "      <td>202221</td>\n",
       "      <td>3.40</td>\n",
       "      <td>NaN</td>\n",
       "    </tr>\n",
       "    <tr>\n",
       "      <th>1</th>\n",
       "      <td>Shivi</td>\n",
       "      <td>202222</td>\n",
       "      <td>5.32</td>\n",
       "      <td>NaN</td>\n",
       "    </tr>\n",
       "    <tr>\n",
       "      <th>2</th>\n",
       "      <td>Ashu</td>\n",
       "      <td>202223</td>\n",
       "      <td>4.53</td>\n",
       "      <td>NaN</td>\n",
       "    </tr>\n",
       "    <tr>\n",
       "      <th>3</th>\n",
       "      <td>Choti</td>\n",
       "      <td>202224</td>\n",
       "      <td>6.12</td>\n",
       "      <td>NaN</td>\n",
       "    </tr>\n",
       "    <tr>\n",
       "      <th>0</th>\n",
       "      <td>Krishna</td>\n",
       "      <td>202225</td>\n",
       "      <td>NaN</td>\n",
       "      <td>18.0</td>\n",
       "    </tr>\n",
       "    <tr>\n",
       "      <th>1</th>\n",
       "      <td>Kartik</td>\n",
       "      <td>202226</td>\n",
       "      <td>NaN</td>\n",
       "      <td>15.0</td>\n",
       "    </tr>\n",
       "    <tr>\n",
       "      <th>2</th>\n",
       "      <td>Ram</td>\n",
       "      <td>202227</td>\n",
       "      <td>NaN</td>\n",
       "      <td>12.0</td>\n",
       "    </tr>\n",
       "    <tr>\n",
       "      <th>3</th>\n",
       "      <td>Dolly</td>\n",
       "      <td>202228</td>\n",
       "      <td>NaN</td>\n",
       "      <td>13.0</td>\n",
       "    </tr>\n",
       "  </tbody>\n",
       "</table>\n",
       "</div>"
      ],
      "text/plain": [
       "      Name  Student Number   GPA   Age\n",
       "0  Radhika          202221  3.40   NaN\n",
       "1    Shivi          202222  5.32   NaN\n",
       "2     Ashu          202223  4.53   NaN\n",
       "3    Choti          202224  6.12   NaN\n",
       "0  Krishna          202225   NaN  18.0\n",
       "1   Kartik          202226   NaN  15.0\n",
       "2      Ram          202227   NaN  12.0\n",
       "3    Dolly          202228   NaN  13.0"
      ]
     },
     "execution_count": 62,
     "metadata": {},
     "output_type": "execute_result"
    }
   ],
   "source": [
    "pd.concat([class1,class2]) # Every column is not sanme"
   ]
  },
  {
   "cell_type": "code",
   "execution_count": 64,
   "id": "2466eb07",
   "metadata": {},
   "outputs": [
    {
     "data": {
      "text/html": [
       "<div>\n",
       "<style scoped>\n",
       "    .dataframe tbody tr th:only-of-type {\n",
       "        vertical-align: middle;\n",
       "    }\n",
       "\n",
       "    .dataframe tbody tr th {\n",
       "        vertical-align: top;\n",
       "    }\n",
       "\n",
       "    .dataframe thead th {\n",
       "        text-align: right;\n",
       "    }\n",
       "</style>\n",
       "<table border=\"1\" class=\"dataframe\">\n",
       "  <thead>\n",
       "    <tr style=\"text-align: right;\">\n",
       "      <th></th>\n",
       "      <th>Name</th>\n",
       "      <th>Student Number</th>\n",
       "    </tr>\n",
       "  </thead>\n",
       "  <tbody>\n",
       "    <tr>\n",
       "      <th>0</th>\n",
       "      <td>Radhika</td>\n",
       "      <td>202221</td>\n",
       "    </tr>\n",
       "    <tr>\n",
       "      <th>1</th>\n",
       "      <td>Shivi</td>\n",
       "      <td>202222</td>\n",
       "    </tr>\n",
       "    <tr>\n",
       "      <th>2</th>\n",
       "      <td>Ashu</td>\n",
       "      <td>202223</td>\n",
       "    </tr>\n",
       "    <tr>\n",
       "      <th>3</th>\n",
       "      <td>Choti</td>\n",
       "      <td>202224</td>\n",
       "    </tr>\n",
       "    <tr>\n",
       "      <th>0</th>\n",
       "      <td>Krishna</td>\n",
       "      <td>202225</td>\n",
       "    </tr>\n",
       "    <tr>\n",
       "      <th>1</th>\n",
       "      <td>Kartik</td>\n",
       "      <td>202226</td>\n",
       "    </tr>\n",
       "    <tr>\n",
       "      <th>2</th>\n",
       "      <td>Ram</td>\n",
       "      <td>202227</td>\n",
       "    </tr>\n",
       "    <tr>\n",
       "      <th>3</th>\n",
       "      <td>Dolly</td>\n",
       "      <td>202228</td>\n",
       "    </tr>\n",
       "  </tbody>\n",
       "</table>\n",
       "</div>"
      ],
      "text/plain": [
       "      Name  Student Number\n",
       "0  Radhika          202221\n",
       "1    Shivi          202222\n",
       "2     Ashu          202223\n",
       "3    Choti          202224\n",
       "0  Krishna          202225\n",
       "1   Kartik          202226\n",
       "2      Ram          202227\n",
       "3    Dolly          202228"
      ]
     },
     "execution_count": 64,
     "metadata": {},
     "output_type": "execute_result"
    }
   ],
   "source": [
    "pd.concat([class1,class2],join = \"inner\") # Inner join just gets intersection of dataframes"
   ]
  },
  {
   "cell_type": "markdown",
   "id": "a2213399",
   "metadata": {},
   "source": [
    "Full Join (Full Outer Join)"
   ]
  },
  {
   "cell_type": "markdown",
   "id": "b5ef494a",
   "metadata": {},
   "source": [
    "Full Join, also knownas full outer join,returns all those records which either have a match in the left or right dataframe."
   ]
  },
  {
   "cell_type": "code",
   "execution_count": 68,
   "id": "53056529",
   "metadata": {},
   "outputs": [
    {
     "data": {
      "text/html": [
       "<div>\n",
       "<style scoped>\n",
       "    .dataframe tbody tr th:only-of-type {\n",
       "        vertical-align: middle;\n",
       "    }\n",
       "\n",
       "    .dataframe tbody tr th {\n",
       "        vertical-align: top;\n",
       "    }\n",
       "\n",
       "    .dataframe thead th {\n",
       "        text-align: right;\n",
       "    }\n",
       "</style>\n",
       "<table border=\"1\" class=\"dataframe\">\n",
       "  <thead>\n",
       "    <tr style=\"text-align: right;\">\n",
       "      <th></th>\n",
       "      <th>Name</th>\n",
       "      <th>Student Number</th>\n",
       "      <th>GPA</th>\n",
       "      <th>Age</th>\n",
       "    </tr>\n",
       "  </thead>\n",
       "  <tbody>\n",
       "    <tr>\n",
       "      <th>0</th>\n",
       "      <td>Radhika</td>\n",
       "      <td>202221</td>\n",
       "      <td>3.40</td>\n",
       "      <td>NaN</td>\n",
       "    </tr>\n",
       "    <tr>\n",
       "      <th>1</th>\n",
       "      <td>Shivi</td>\n",
       "      <td>202222</td>\n",
       "      <td>5.32</td>\n",
       "      <td>NaN</td>\n",
       "    </tr>\n",
       "    <tr>\n",
       "      <th>2</th>\n",
       "      <td>Ashu</td>\n",
       "      <td>202223</td>\n",
       "      <td>4.53</td>\n",
       "      <td>NaN</td>\n",
       "    </tr>\n",
       "    <tr>\n",
       "      <th>3</th>\n",
       "      <td>Choti</td>\n",
       "      <td>202224</td>\n",
       "      <td>6.12</td>\n",
       "      <td>NaN</td>\n",
       "    </tr>\n",
       "    <tr>\n",
       "      <th>0</th>\n",
       "      <td>Krishna</td>\n",
       "      <td>202225</td>\n",
       "      <td>NaN</td>\n",
       "      <td>18.0</td>\n",
       "    </tr>\n",
       "    <tr>\n",
       "      <th>1</th>\n",
       "      <td>Kartik</td>\n",
       "      <td>202226</td>\n",
       "      <td>NaN</td>\n",
       "      <td>15.0</td>\n",
       "    </tr>\n",
       "    <tr>\n",
       "      <th>2</th>\n",
       "      <td>Ram</td>\n",
       "      <td>202227</td>\n",
       "      <td>NaN</td>\n",
       "      <td>12.0</td>\n",
       "    </tr>\n",
       "    <tr>\n",
       "      <th>3</th>\n",
       "      <td>Dolly</td>\n",
       "      <td>202228</td>\n",
       "      <td>NaN</td>\n",
       "      <td>13.0</td>\n",
       "    </tr>\n",
       "  </tbody>\n",
       "</table>\n",
       "</div>"
      ],
      "text/plain": [
       "      Name  Student Number   GPA   Age\n",
       "0  Radhika          202221  3.40   NaN\n",
       "1    Shivi          202222  5.32   NaN\n",
       "2     Ashu          202223  4.53   NaN\n",
       "3    Choti          202224  6.12   NaN\n",
       "0  Krishna          202225   NaN  18.0\n",
       "1   Kartik          202226   NaN  15.0\n",
       "2      Ram          202227   NaN  12.0\n",
       "3    Dolly          202228   NaN  13.0"
      ]
     },
     "execution_count": 68,
     "metadata": {},
     "output_type": "execute_result"
    }
   ],
   "source": [
    "pd.concat([class1,class2], join=\"outer\") # Full outer join just gets all of dataframes"
   ]
  },
  {
   "cell_type": "markdown",
   "id": "94280374",
   "metadata": {},
   "source": [
    "Left join, also known as Left Join , returns a dataframe containing all the rows of the left dataframe.In order to do that, we use merge() function"
   ]
  },
  {
   "cell_type": "code",
   "execution_count": 70,
   "id": "d0510406",
   "metadata": {},
   "outputs": [
    {
     "data": {
      "text/html": [
       "<div>\n",
       "<style scoped>\n",
       "    .dataframe tbody tr th:only-of-type {\n",
       "        vertical-align: middle;\n",
       "    }\n",
       "\n",
       "    .dataframe tbody tr th {\n",
       "        vertical-align: top;\n",
       "    }\n",
       "\n",
       "    .dataframe thead th {\n",
       "        text-align: right;\n",
       "    }\n",
       "</style>\n",
       "<table border=\"1\" class=\"dataframe\">\n",
       "  <thead>\n",
       "    <tr style=\"text-align: right;\">\n",
       "      <th></th>\n",
       "      <th>Name</th>\n",
       "      <th>Student Number</th>\n",
       "      <th>GPA</th>\n",
       "      <th>Age</th>\n",
       "    </tr>\n",
       "  </thead>\n",
       "  <tbody>\n",
       "    <tr>\n",
       "      <th>0</th>\n",
       "      <td>Radhika</td>\n",
       "      <td>202221</td>\n",
       "      <td>3.40</td>\n",
       "      <td>NaN</td>\n",
       "    </tr>\n",
       "    <tr>\n",
       "      <th>1</th>\n",
       "      <td>Shivi</td>\n",
       "      <td>202222</td>\n",
       "      <td>5.32</td>\n",
       "      <td>NaN</td>\n",
       "    </tr>\n",
       "    <tr>\n",
       "      <th>2</th>\n",
       "      <td>Ashu</td>\n",
       "      <td>202223</td>\n",
       "      <td>4.53</td>\n",
       "      <td>NaN</td>\n",
       "    </tr>\n",
       "    <tr>\n",
       "      <th>3</th>\n",
       "      <td>Choti</td>\n",
       "      <td>202224</td>\n",
       "      <td>6.12</td>\n",
       "      <td>NaN</td>\n",
       "    </tr>\n",
       "  </tbody>\n",
       "</table>\n",
       "</div>"
      ],
      "text/plain": [
       "      Name  Student Number   GPA  Age\n",
       "0  Radhika          202221  3.40  NaN\n",
       "1    Shivi          202222  5.32  NaN\n",
       "2     Ashu          202223  4.53  NaN\n",
       "3    Choti          202224  6.12  NaN"
      ]
     },
     "execution_count": 70,
     "metadata": {},
     "output_type": "execute_result"
    }
   ],
   "source": [
    "pd.merge(class1,class2,how=\"left\") # Left join just gets all of rows of the left dataframe"
   ]
  },
  {
   "cell_type": "markdown",
   "id": "8eec31e7",
   "metadata": {},
   "source": [
    "Right Join (Right Outer Join)"
   ]
  },
  {
   "cell_type": "markdown",
   "id": "5e589434",
   "metadata": {},
   "source": [
    "Right join, also known as Right Outer Join, is similar to the Left Outer Join. The Only difference is that all the rows of the right dataframe are taken as it is and only those of the left dataframe that are common in both."
   ]
  },
  {
   "cell_type": "code",
   "execution_count": 71,
   "id": "9b767c6e",
   "metadata": {},
   "outputs": [
    {
     "data": {
      "text/html": [
       "<div>\n",
       "<style scoped>\n",
       "    .dataframe tbody tr th:only-of-type {\n",
       "        vertical-align: middle;\n",
       "    }\n",
       "\n",
       "    .dataframe tbody tr th {\n",
       "        vertical-align: top;\n",
       "    }\n",
       "\n",
       "    .dataframe thead th {\n",
       "        text-align: right;\n",
       "    }\n",
       "</style>\n",
       "<table border=\"1\" class=\"dataframe\">\n",
       "  <thead>\n",
       "    <tr style=\"text-align: right;\">\n",
       "      <th></th>\n",
       "      <th>Name</th>\n",
       "      <th>Student Number</th>\n",
       "      <th>GPA</th>\n",
       "      <th>Age</th>\n",
       "    </tr>\n",
       "  </thead>\n",
       "  <tbody>\n",
       "    <tr>\n",
       "      <th>0</th>\n",
       "      <td>Krishna</td>\n",
       "      <td>202225</td>\n",
       "      <td>NaN</td>\n",
       "      <td>18</td>\n",
       "    </tr>\n",
       "    <tr>\n",
       "      <th>1</th>\n",
       "      <td>Kartik</td>\n",
       "      <td>202226</td>\n",
       "      <td>NaN</td>\n",
       "      <td>15</td>\n",
       "    </tr>\n",
       "    <tr>\n",
       "      <th>2</th>\n",
       "      <td>Ram</td>\n",
       "      <td>202227</td>\n",
       "      <td>NaN</td>\n",
       "      <td>12</td>\n",
       "    </tr>\n",
       "    <tr>\n",
       "      <th>3</th>\n",
       "      <td>Dolly</td>\n",
       "      <td>202228</td>\n",
       "      <td>NaN</td>\n",
       "      <td>13</td>\n",
       "    </tr>\n",
       "  </tbody>\n",
       "</table>\n",
       "</div>"
      ],
      "text/plain": [
       "      Name  Student Number  GPA  Age\n",
       "0  Krishna          202225  NaN   18\n",
       "1   Kartik          202226  NaN   15\n",
       "2      Ram          202227  NaN   12\n",
       "3    Dolly          202228  NaN   13"
      ]
     },
     "execution_count": 71,
     "metadata": {},
     "output_type": "execute_result"
    }
   ],
   "source": [
    "pd.merge(class1,class2,how=\"right\") # Right join just gets all of rows of the right dataframe"
   ]
  },
  {
   "cell_type": "markdown",
   "id": "f6044867",
   "metadata": {},
   "source": [
    "We can also merge dataframes with many to many structure."
   ]
  },
  {
   "cell_type": "code",
   "execution_count": 73,
   "id": "408033b7",
   "metadata": {},
   "outputs": [
    {
     "data": {
      "text/html": [
       "<div>\n",
       "<style scoped>\n",
       "    .dataframe tbody tr th:only-of-type {\n",
       "        vertical-align: middle;\n",
       "    }\n",
       "\n",
       "    .dataframe tbody tr th {\n",
       "        vertical-align: top;\n",
       "    }\n",
       "\n",
       "    .dataframe thead th {\n",
       "        text-align: right;\n",
       "    }\n",
       "</style>\n",
       "<table border=\"1\" class=\"dataframe\">\n",
       "  <thead>\n",
       "    <tr style=\"text-align: right;\">\n",
       "      <th></th>\n",
       "      <th>Name</th>\n",
       "      <th>Student Number</th>\n",
       "      <th>Department</th>\n",
       "    </tr>\n",
       "  </thead>\n",
       "  <tbody>\n",
       "    <tr>\n",
       "      <th>0</th>\n",
       "      <td>Krishnkant</td>\n",
       "      <td>20001</td>\n",
       "      <td>Informatics</td>\n",
       "    </tr>\n",
       "    <tr>\n",
       "      <th>1</th>\n",
       "      <td>Rameshwar</td>\n",
       "      <td>20002</td>\n",
       "      <td>Computer</td>\n",
       "    </tr>\n",
       "    <tr>\n",
       "      <th>2</th>\n",
       "      <td>Mojilal</td>\n",
       "      <td>20003</td>\n",
       "      <td>Management</td>\n",
       "    </tr>\n",
       "    <tr>\n",
       "      <th>3</th>\n",
       "      <td>Rajesh</td>\n",
       "      <td>20004</td>\n",
       "      <td>Marketing</td>\n",
       "    </tr>\n",
       "    <tr>\n",
       "      <th>4</th>\n",
       "      <td>Devanand</td>\n",
       "      <td>20005</td>\n",
       "      <td>Lawer</td>\n",
       "    </tr>\n",
       "  </tbody>\n",
       "</table>\n",
       "</div>"
      ],
      "text/plain": [
       "         Name  Student Number   Department\n",
       "0  Krishnkant           20001  Informatics\n",
       "1   Rameshwar           20002     Computer\n",
       "2     Mojilal           20003   Management\n",
       "3      Rajesh           20004    Marketing\n",
       "4    Devanand           20005        Lawer"
      ]
     },
     "execution_count": 73,
     "metadata": {},
     "output_type": "execute_result"
    }
   ],
   "source": [
    "class1 = pd.DataFrame({\"Name\" : [\"Krishnkant\",\"Rameshwar\",\"Mojilal\",\"Rajesh\",\"Devanand\"], \"Student Number\" : [20001,20002,20003,20004,20005], \"Department\" : [\"Informatics\",\"Computer\",\"Management\",\"Marketing\",\"Lawer\"]})\n",
    "class1"
   ]
  },
  {
   "cell_type": "code",
   "execution_count": 77,
   "id": "6af9bcb9",
   "metadata": {},
   "outputs": [
    {
     "data": {
      "text/html": [
       "<div>\n",
       "<style scoped>\n",
       "    .dataframe tbody tr th:only-of-type {\n",
       "        vertical-align: middle;\n",
       "    }\n",
       "\n",
       "    .dataframe tbody tr th {\n",
       "        vertical-align: top;\n",
       "    }\n",
       "\n",
       "    .dataframe thead th {\n",
       "        text-align: right;\n",
       "    }\n",
       "</style>\n",
       "<table border=\"1\" class=\"dataframe\">\n",
       "  <thead>\n",
       "    <tr style=\"text-align: right;\">\n",
       "      <th></th>\n",
       "      <th>Department</th>\n",
       "      <th>Lectures</th>\n",
       "    </tr>\n",
       "  </thead>\n",
       "  <tbody>\n",
       "    <tr>\n",
       "      <th>0</th>\n",
       "      <td>Informatics</td>\n",
       "      <td>MIS</td>\n",
       "    </tr>\n",
       "    <tr>\n",
       "      <th>1</th>\n",
       "      <td>Computer Science</td>\n",
       "      <td>Linear Algebra</td>\n",
       "    </tr>\n",
       "    <tr>\n",
       "      <th>2</th>\n",
       "      <td>Management</td>\n",
       "      <td>Introduction to Finance</td>\n",
       "    </tr>\n",
       "    <tr>\n",
       "      <th>3</th>\n",
       "      <td>Low</td>\n",
       "      <td>Data Mining</td>\n",
       "    </tr>\n",
       "    <tr>\n",
       "      <th>4</th>\n",
       "      <td>Histry</td>\n",
       "      <td>IT project Management</td>\n",
       "    </tr>\n",
       "    <tr>\n",
       "      <th>5</th>\n",
       "      <td>Politics</td>\n",
       "      <td>Marketing 101</td>\n",
       "    </tr>\n",
       "    <tr>\n",
       "      <th>6</th>\n",
       "      <td>Management</td>\n",
       "      <td>Data Science</td>\n",
       "    </tr>\n",
       "    <tr>\n",
       "      <th>7</th>\n",
       "      <td>Histry</td>\n",
       "      <td>Business Analytics</td>\n",
       "    </tr>\n",
       "  </tbody>\n",
       "</table>\n",
       "</div>"
      ],
      "text/plain": [
       "         Department                 Lectures\n",
       "0       Informatics                      MIS\n",
       "1  Computer Science           Linear Algebra\n",
       "2        Management  Introduction to Finance\n",
       "3               Low              Data Mining\n",
       "4            Histry    IT project Management\n",
       "5          Politics            Marketing 101\n",
       "6        Management             Data Science\n",
       "7            Histry       Business Analytics"
      ]
     },
     "execution_count": 77,
     "metadata": {},
     "output_type": "execute_result"
    }
   ],
   "source": [
    "lectures = pd.DataFrame({\"Department\" : [\"Informatics\",\"Computer Science\",\"Management\",\"Low\",\"Histry\",\"Politics\",\"Management\",\"Histry\"], \"Lectures\" : [\"MIS\",\"Linear Algebra\",\"Introduction to Finance\",\"Data Mining\",\"IT project Management\",\"Marketing 101\",\"Data Science\",\"Business Analytics\"]})\n",
    "lectures"
   ]
  },
  {
   "cell_type": "code",
   "execution_count": 78,
   "id": "129d2cd9",
   "metadata": {},
   "outputs": [
    {
     "data": {
      "text/html": [
       "<div>\n",
       "<style scoped>\n",
       "    .dataframe tbody tr th:only-of-type {\n",
       "        vertical-align: middle;\n",
       "    }\n",
       "\n",
       "    .dataframe tbody tr th {\n",
       "        vertical-align: top;\n",
       "    }\n",
       "\n",
       "    .dataframe thead th {\n",
       "        text-align: right;\n",
       "    }\n",
       "</style>\n",
       "<table border=\"1\" class=\"dataframe\">\n",
       "  <thead>\n",
       "    <tr style=\"text-align: right;\">\n",
       "      <th></th>\n",
       "      <th>Name</th>\n",
       "      <th>Student Number</th>\n",
       "      <th>Department</th>\n",
       "      <th>Lectures</th>\n",
       "    </tr>\n",
       "  </thead>\n",
       "  <tbody>\n",
       "    <tr>\n",
       "      <th>0</th>\n",
       "      <td>Krishnkant</td>\n",
       "      <td>20001</td>\n",
       "      <td>Informatics</td>\n",
       "      <td>MIS</td>\n",
       "    </tr>\n",
       "    <tr>\n",
       "      <th>1</th>\n",
       "      <td>Mojilal</td>\n",
       "      <td>20003</td>\n",
       "      <td>Management</td>\n",
       "      <td>Introduction to Finance</td>\n",
       "    </tr>\n",
       "    <tr>\n",
       "      <th>2</th>\n",
       "      <td>Mojilal</td>\n",
       "      <td>20003</td>\n",
       "      <td>Management</td>\n",
       "      <td>Data Science</td>\n",
       "    </tr>\n",
       "  </tbody>\n",
       "</table>\n",
       "</div>"
      ],
      "text/plain": [
       "         Name  Student Number   Department                 Lectures\n",
       "0  Krishnkant           20001  Informatics                      MIS\n",
       "1     Mojilal           20003   Management  Introduction to Finance\n",
       "2     Mojilal           20003   Management             Data Science"
      ]
     },
     "execution_count": 78,
     "metadata": {},
     "output_type": "execute_result"
    }
   ],
   "source": [
    "pd.merge(class1,lectures)"
   ]
  },
  {
   "cell_type": "markdown",
   "id": "2ee201c9",
   "metadata": {},
   "source": [
    "Append()"
   ]
  },
  {
   "cell_type": "markdown",
   "id": "07f9398c",
   "metadata": {},
   "source": [
    "We can also merge dataframes with append() function."
   ]
  },
  {
   "cell_type": "code",
   "execution_count": 79,
   "id": "74da9fb9",
   "metadata": {},
   "outputs": [
    {
     "name": "stderr",
     "output_type": "stream",
     "text": [
      "C:\\Users\\hp\\AppData\\Local\\Temp\\ipykernel_3388\\639926942.py:1: FutureWarning: The frame.append method is deprecated and will be removed from pandas in a future version. Use pandas.concat instead.\n",
      "  Employees.append(Employees_2,ignore_index = True)\n"
     ]
    },
    {
     "data": {
      "text/html": [
       "<div>\n",
       "<style scoped>\n",
       "    .dataframe tbody tr th:only-of-type {\n",
       "        vertical-align: middle;\n",
       "    }\n",
       "\n",
       "    .dataframe tbody tr th {\n",
       "        vertical-align: top;\n",
       "    }\n",
       "\n",
       "    .dataframe thead th {\n",
       "        text-align: right;\n",
       "    }\n",
       "</style>\n",
       "<table border=\"1\" class=\"dataframe\">\n",
       "  <thead>\n",
       "    <tr style=\"text-align: right;\">\n",
       "      <th></th>\n",
       "      <th>Name</th>\n",
       "      <th>Department</th>\n",
       "      <th>Income</th>\n",
       "      <th>Age</th>\n",
       "    </tr>\n",
       "  </thead>\n",
       "  <tbody>\n",
       "    <tr>\n",
       "      <th>0</th>\n",
       "      <td>Devika</td>\n",
       "      <td>IT</td>\n",
       "      <td>23000</td>\n",
       "      <td>25</td>\n",
       "    </tr>\n",
       "    <tr>\n",
       "      <th>1</th>\n",
       "      <td>Shivani</td>\n",
       "      <td>HR</td>\n",
       "      <td>21000</td>\n",
       "      <td>36</td>\n",
       "    </tr>\n",
       "    <tr>\n",
       "      <th>2</th>\n",
       "      <td>Vaishnavi</td>\n",
       "      <td>Marketing</td>\n",
       "      <td>34000</td>\n",
       "      <td>45</td>\n",
       "    </tr>\n",
       "    <tr>\n",
       "      <th>3</th>\n",
       "      <td>Ambika</td>\n",
       "      <td>Finance</td>\n",
       "      <td>25000</td>\n",
       "      <td>63</td>\n",
       "    </tr>\n",
       "    <tr>\n",
       "      <th>4</th>\n",
       "      <td>Ayushi</td>\n",
       "      <td>Supply Chain</td>\n",
       "      <td>41000</td>\n",
       "      <td>25</td>\n",
       "    </tr>\n",
       "    <tr>\n",
       "      <th>5</th>\n",
       "      <td>Divya</td>\n",
       "      <td>Docter</td>\n",
       "      <td>25000</td>\n",
       "      <td>25</td>\n",
       "    </tr>\n",
       "    <tr>\n",
       "      <th>6</th>\n",
       "      <td>Avani</td>\n",
       "      <td>Lower</td>\n",
       "      <td>35000</td>\n",
       "      <td>36</td>\n",
       "    </tr>\n",
       "    <tr>\n",
       "      <th>7</th>\n",
       "      <td>Shivansh</td>\n",
       "      <td>Finance</td>\n",
       "      <td>32000</td>\n",
       "      <td>45</td>\n",
       "    </tr>\n",
       "    <tr>\n",
       "      <th>8</th>\n",
       "      <td>Drashti</td>\n",
       "      <td>CA</td>\n",
       "      <td>15000</td>\n",
       "      <td>63</td>\n",
       "    </tr>\n",
       "    <tr>\n",
       "      <th>9</th>\n",
       "      <td>Ashvini</td>\n",
       "      <td>Team Leader</td>\n",
       "      <td>150000</td>\n",
       "      <td>25</td>\n",
       "    </tr>\n",
       "  </tbody>\n",
       "</table>\n",
       "</div>"
      ],
      "text/plain": [
       "        Name    Department  Income  Age\n",
       "0     Devika            IT   23000   25\n",
       "1    Shivani            HR   21000   36\n",
       "2  Vaishnavi     Marketing   34000   45\n",
       "3     Ambika       Finance   25000   63\n",
       "4     Ayushi  Supply Chain   41000   25\n",
       "5      Divya        Docter   25000   25\n",
       "6      Avani         Lower   35000   36\n",
       "7   Shivansh       Finance   32000   45\n",
       "8    Drashti            CA   15000   63\n",
       "9    Ashvini   Team Leader  150000   25"
      ]
     },
     "execution_count": 79,
     "metadata": {},
     "output_type": "execute_result"
    }
   ],
   "source": [
    "Employees.append(Employees_2,ignore_index = True)"
   ]
  },
  {
   "cell_type": "markdown",
   "id": "760c11a7",
   "metadata": {},
   "source": [
    "Sorting"
   ]
  },
  {
   "cell_type": "code",
   "execution_count": 81,
   "id": "4b456af9",
   "metadata": {},
   "outputs": [
    {
     "data": {
      "text/html": [
       "<div>\n",
       "<style scoped>\n",
       "    .dataframe tbody tr th:only-of-type {\n",
       "        vertical-align: middle;\n",
       "    }\n",
       "\n",
       "    .dataframe tbody tr th {\n",
       "        vertical-align: top;\n",
       "    }\n",
       "\n",
       "    .dataframe thead th {\n",
       "        text-align: right;\n",
       "    }\n",
       "</style>\n",
       "<table border=\"1\" class=\"dataframe\">\n",
       "  <thead>\n",
       "    <tr style=\"text-align: right;\">\n",
       "      <th></th>\n",
       "      <th>Name</th>\n",
       "      <th>Department</th>\n",
       "      <th>Income</th>\n",
       "      <th>Age</th>\n",
       "    </tr>\n",
       "  </thead>\n",
       "  <tbody>\n",
       "    <tr>\n",
       "      <th>0</th>\n",
       "      <td>Ambika</td>\n",
       "      <td>IT</td>\n",
       "      <td>5000</td>\n",
       "      <td>23</td>\n",
       "    </tr>\n",
       "    <tr>\n",
       "      <th>1</th>\n",
       "      <td>Devika</td>\n",
       "      <td>HR</td>\n",
       "      <td>5050</td>\n",
       "      <td>45</td>\n",
       "    </tr>\n",
       "    <tr>\n",
       "      <th>2</th>\n",
       "      <td>Shivansh</td>\n",
       "      <td>Supply Chain</td>\n",
       "      <td>6500</td>\n",
       "      <td>25</td>\n",
       "    </tr>\n",
       "    <tr>\n",
       "      <th>3</th>\n",
       "      <td>Devika</td>\n",
       "      <td>Finance</td>\n",
       "      <td>5400</td>\n",
       "      <td>32</td>\n",
       "    </tr>\n",
       "    <tr>\n",
       "      <th>4</th>\n",
       "      <td>Shivani</td>\n",
       "      <td>Marketing</td>\n",
       "      <td>9800</td>\n",
       "      <td>25</td>\n",
       "    </tr>\n",
       "  </tbody>\n",
       "</table>\n",
       "</div>"
      ],
      "text/plain": [
       "       Name    Department  Income  Age\n",
       "0    Ambika            IT    5000   23\n",
       "1    Devika            HR    5050   45\n",
       "2  Shivansh  Supply Chain    6500   25\n",
       "3    Devika       Finance    5400   32\n",
       "4   Shivani     Marketing    9800   25"
      ]
     },
     "execution_count": 81,
     "metadata": {},
     "output_type": "execute_result"
    }
   ],
   "source": [
    "Employees = pd.DataFrame({\"Name\" : [\"Ambika\",\"Devika\",\"Shivansh\",\"Devika\",\"Shivani\"], \"Department\" : [\"IT\",\"HR\",\"Supply Chain\",\"Finance\",\"Marketing\"], \"Income\" : [5000,5050,6500,5400,9800], \"Age\" : [23,45,25,32,25]})\n",
    "Employees"
   ]
  },
  {
   "cell_type": "code",
   "execution_count": 83,
   "id": "9dfc9a5d",
   "metadata": {},
   "outputs": [
    {
     "data": {
      "text/html": [
       "<div>\n",
       "<style scoped>\n",
       "    .dataframe tbody tr th:only-of-type {\n",
       "        vertical-align: middle;\n",
       "    }\n",
       "\n",
       "    .dataframe tbody tr th {\n",
       "        vertical-align: top;\n",
       "    }\n",
       "\n",
       "    .dataframe thead th {\n",
       "        text-align: right;\n",
       "    }\n",
       "</style>\n",
       "<table border=\"1\" class=\"dataframe\">\n",
       "  <thead>\n",
       "    <tr style=\"text-align: right;\">\n",
       "      <th></th>\n",
       "      <th>Name</th>\n",
       "      <th>Department</th>\n",
       "      <th>Income</th>\n",
       "      <th>Age</th>\n",
       "    </tr>\n",
       "  </thead>\n",
       "  <tbody>\n",
       "    <tr>\n",
       "      <th>0</th>\n",
       "      <td>Ambika</td>\n",
       "      <td>IT</td>\n",
       "      <td>5000</td>\n",
       "      <td>23</td>\n",
       "    </tr>\n",
       "    <tr>\n",
       "      <th>2</th>\n",
       "      <td>Shivansh</td>\n",
       "      <td>Supply Chain</td>\n",
       "      <td>6500</td>\n",
       "      <td>25</td>\n",
       "    </tr>\n",
       "    <tr>\n",
       "      <th>4</th>\n",
       "      <td>Shivani</td>\n",
       "      <td>Marketing</td>\n",
       "      <td>9800</td>\n",
       "      <td>25</td>\n",
       "    </tr>\n",
       "    <tr>\n",
       "      <th>3</th>\n",
       "      <td>Devika</td>\n",
       "      <td>Finance</td>\n",
       "      <td>5400</td>\n",
       "      <td>32</td>\n",
       "    </tr>\n",
       "    <tr>\n",
       "      <th>1</th>\n",
       "      <td>Devika</td>\n",
       "      <td>HR</td>\n",
       "      <td>5050</td>\n",
       "      <td>45</td>\n",
       "    </tr>\n",
       "  </tbody>\n",
       "</table>\n",
       "</div>"
      ],
      "text/plain": [
       "       Name    Department  Income  Age\n",
       "0    Ambika            IT    5000   23\n",
       "2  Shivansh  Supply Chain    6500   25\n",
       "4   Shivani     Marketing    9800   25\n",
       "3    Devika       Finance    5400   32\n",
       "1    Devika            HR    5050   45"
      ]
     },
     "execution_count": 83,
     "metadata": {},
     "output_type": "execute_result"
    }
   ],
   "source": [
    "Employees.sort_values(by=\"Age\") # We sort it by age column"
   ]
  },
  {
   "cell_type": "code",
   "execution_count": 86,
   "id": "2419a25b",
   "metadata": {},
   "outputs": [
    {
     "data": {
      "text/html": [
       "<div>\n",
       "<style scoped>\n",
       "    .dataframe tbody tr th:only-of-type {\n",
       "        vertical-align: middle;\n",
       "    }\n",
       "\n",
       "    .dataframe tbody tr th {\n",
       "        vertical-align: top;\n",
       "    }\n",
       "\n",
       "    .dataframe thead th {\n",
       "        text-align: right;\n",
       "    }\n",
       "</style>\n",
       "<table border=\"1\" class=\"dataframe\">\n",
       "  <thead>\n",
       "    <tr style=\"text-align: right;\">\n",
       "      <th></th>\n",
       "      <th>Name</th>\n",
       "      <th>Department</th>\n",
       "      <th>Income</th>\n",
       "      <th>Age</th>\n",
       "    </tr>\n",
       "  </thead>\n",
       "  <tbody>\n",
       "    <tr>\n",
       "      <th>1</th>\n",
       "      <td>Devika</td>\n",
       "      <td>HR</td>\n",
       "      <td>5050</td>\n",
       "      <td>45</td>\n",
       "    </tr>\n",
       "    <tr>\n",
       "      <th>3</th>\n",
       "      <td>Devika</td>\n",
       "      <td>Finance</td>\n",
       "      <td>5400</td>\n",
       "      <td>32</td>\n",
       "    </tr>\n",
       "    <tr>\n",
       "      <th>2</th>\n",
       "      <td>Shivansh</td>\n",
       "      <td>Supply Chain</td>\n",
       "      <td>6500</td>\n",
       "      <td>25</td>\n",
       "    </tr>\n",
       "    <tr>\n",
       "      <th>4</th>\n",
       "      <td>Shivani</td>\n",
       "      <td>Marketing</td>\n",
       "      <td>9800</td>\n",
       "      <td>25</td>\n",
       "    </tr>\n",
       "    <tr>\n",
       "      <th>0</th>\n",
       "      <td>Ambika</td>\n",
       "      <td>IT</td>\n",
       "      <td>5000</td>\n",
       "      <td>23</td>\n",
       "    </tr>\n",
       "  </tbody>\n",
       "</table>\n",
       "</div>"
      ],
      "text/plain": [
       "       Name    Department  Income  Age\n",
       "1    Devika            HR    5050   45\n",
       "3    Devika       Finance    5400   32\n",
       "2  Shivansh  Supply Chain    6500   25\n",
       "4   Shivani     Marketing    9800   25\n",
       "0    Ambika            IT    5000   23"
      ]
     },
     "execution_count": 86,
     "metadata": {},
     "output_type": "execute_result"
    }
   ],
   "source": [
    "Employees.sort_values(by = \"Age\",ascending=False) # WE sortit by decending age"
   ]
  },
  {
   "cell_type": "code",
   "execution_count": 88,
   "id": "34bcc99a",
   "metadata": {},
   "outputs": [
    {
     "data": {
      "text/html": [
       "<div>\n",
       "<style scoped>\n",
       "    .dataframe tbody tr th:only-of-type {\n",
       "        vertical-align: middle;\n",
       "    }\n",
       "\n",
       "    .dataframe tbody tr th {\n",
       "        vertical-align: top;\n",
       "    }\n",
       "\n",
       "    .dataframe thead th {\n",
       "        text-align: right;\n",
       "    }\n",
       "</style>\n",
       "<table border=\"1\" class=\"dataframe\">\n",
       "  <thead>\n",
       "    <tr style=\"text-align: right;\">\n",
       "      <th></th>\n",
       "      <th>Name</th>\n",
       "      <th>Department</th>\n",
       "      <th>Income</th>\n",
       "      <th>Age</th>\n",
       "    </tr>\n",
       "  </thead>\n",
       "  <tbody>\n",
       "    <tr>\n",
       "      <th>0</th>\n",
       "      <td>Ambika</td>\n",
       "      <td>IT</td>\n",
       "      <td>5000</td>\n",
       "      <td>23</td>\n",
       "    </tr>\n",
       "    <tr>\n",
       "      <th>1</th>\n",
       "      <td>Devika</td>\n",
       "      <td>HR</td>\n",
       "      <td>5050</td>\n",
       "      <td>45</td>\n",
       "    </tr>\n",
       "    <tr>\n",
       "      <th>3</th>\n",
       "      <td>Devika</td>\n",
       "      <td>Finance</td>\n",
       "      <td>5400</td>\n",
       "      <td>32</td>\n",
       "    </tr>\n",
       "    <tr>\n",
       "      <th>4</th>\n",
       "      <td>Shivani</td>\n",
       "      <td>Marketing</td>\n",
       "      <td>9800</td>\n",
       "      <td>25</td>\n",
       "    </tr>\n",
       "    <tr>\n",
       "      <th>2</th>\n",
       "      <td>Shivansh</td>\n",
       "      <td>Supply Chain</td>\n",
       "      <td>6500</td>\n",
       "      <td>25</td>\n",
       "    </tr>\n",
       "  </tbody>\n",
       "</table>\n",
       "</div>"
      ],
      "text/plain": [
       "       Name    Department  Income  Age\n",
       "0    Ambika            IT    5000   23\n",
       "1    Devika            HR    5050   45\n",
       "3    Devika       Finance    5400   32\n",
       "4   Shivani     Marketing    9800   25\n",
       "2  Shivansh  Supply Chain    6500   25"
      ]
     },
     "execution_count": 88,
     "metadata": {},
     "output_type": "execute_result"
    }
   ],
   "source": [
    "Employees.sort_values(by=[\"Name\",\"Income\"]) # It will first sort by name and then it will compare income column"
   ]
  },
  {
   "cell_type": "code",
   "execution_count": 90,
   "id": "09a37190",
   "metadata": {},
   "outputs": [
    {
     "data": {
      "text/html": [
       "<div>\n",
       "<style scoped>\n",
       "    .dataframe tbody tr th:only-of-type {\n",
       "        vertical-align: middle;\n",
       "    }\n",
       "\n",
       "    .dataframe tbody tr th {\n",
       "        vertical-align: top;\n",
       "    }\n",
       "\n",
       "    .dataframe thead th {\n",
       "        text-align: right;\n",
       "    }\n",
       "</style>\n",
       "<table border=\"1\" class=\"dataframe\">\n",
       "  <thead>\n",
       "    <tr style=\"text-align: right;\">\n",
       "      <th></th>\n",
       "      <th>Name</th>\n",
       "      <th>Department</th>\n",
       "      <th>Income</th>\n",
       "      <th>Age</th>\n",
       "    </tr>\n",
       "  </thead>\n",
       "  <tbody>\n",
       "    <tr>\n",
       "      <th>0</th>\n",
       "      <td>Ambika</td>\n",
       "      <td>IT</td>\n",
       "      <td>5000</td>\n",
       "      <td>23</td>\n",
       "    </tr>\n",
       "    <tr>\n",
       "      <th>1</th>\n",
       "      <td>Devika</td>\n",
       "      <td>HR</td>\n",
       "      <td>5050</td>\n",
       "      <td>45</td>\n",
       "    </tr>\n",
       "    <tr>\n",
       "      <th>3</th>\n",
       "      <td>Devika</td>\n",
       "      <td>Finance</td>\n",
       "      <td>5400</td>\n",
       "      <td>32</td>\n",
       "    </tr>\n",
       "    <tr>\n",
       "      <th>4</th>\n",
       "      <td>Shivani</td>\n",
       "      <td>Marketing</td>\n",
       "      <td>9800</td>\n",
       "      <td>25</td>\n",
       "    </tr>\n",
       "    <tr>\n",
       "      <th>2</th>\n",
       "      <td>Shivansh</td>\n",
       "      <td>Supply Chain</td>\n",
       "      <td>6500</td>\n",
       "      <td>25</td>\n",
       "    </tr>\n",
       "  </tbody>\n",
       "</table>\n",
       "</div>"
      ],
      "text/plain": [
       "       Name    Department  Income  Age\n",
       "0    Ambika            IT    5000   23\n",
       "1    Devika            HR    5050   45\n",
       "3    Devika       Finance    5400   32\n",
       "4   Shivani     Marketing    9800   25\n",
       "2  Shivansh  Supply Chain    6500   25"
      ]
     },
     "execution_count": 90,
     "metadata": {},
     "output_type": "execute_result"
    }
   ],
   "source": [
    "Employees.sort_values(by=[\"Name\",\"Age\"],ascending=[True,False])"
   ]
  },
  {
   "cell_type": "markdown",
   "id": "58701d0a",
   "metadata": {},
   "source": [
    "In order to get largest elements in a column, we can use nlargest() function."
   ]
  },
  {
   "cell_type": "code",
   "execution_count": 92,
   "id": "1538db69",
   "metadata": {},
   "outputs": [
    {
     "data": {
      "text/plain": [
       "4    9800\n",
       "2    6500\n",
       "3    5400\n",
       "Name: Income, dtype: int64"
      ]
     },
     "execution_count": 92,
     "metadata": {},
     "output_type": "execute_result"
    }
   ],
   "source": [
    "Employees[\"Income\"].nlargest(3)"
   ]
  },
  {
   "cell_type": "markdown",
   "id": "e48f1594",
   "metadata": {},
   "source": [
    "In order to get smallest elements in a column, we can use nsmallest() function."
   ]
  },
  {
   "cell_type": "code",
   "execution_count": 98,
   "id": "6e5d583c",
   "metadata": {},
   "outputs": [
    {
     "data": {
      "text/plain": [
       "0    5000\n",
       "1    5050\n",
       "Name: Income, dtype: int64"
      ]
     },
     "execution_count": 98,
     "metadata": {},
     "output_type": "execute_result"
    }
   ],
   "source": [
    "Employees[\"Income\"].nsmallest(2)"
   ]
  },
  {
   "cell_type": "code",
   "execution_count": null,
   "id": "b499464c",
   "metadata": {},
   "outputs": [],
   "source": [
    "Aggregation Function"
   ]
  },
  {
   "cell_type": "markdown",
   "id": "78f0c1ed",
   "metadata": {},
   "source": [
    "Pandas has a number of aggregating functions that reduce the dimension of the grouped object."
   ]
  },
  {
   "cell_type": "markdown",
   "id": "3f27f079",
   "metadata": {},
   "source": [
    "Common Aggregation Functions"
   ]
  },
  {
   "cell_type": "markdown",
   "id": "c9703e06",
   "metadata": {},
   "source": [
    "count()\n",
    "value_count()\n",
    "mean()\n",
    "median()\n",
    "sum()\n",
    "min()\n",
    "max()\n",
    "std()\n",
    "var()\n",
    "describe()\n",
    "sem()\n"
   ]
  },
  {
   "cell_type": "code",
   "execution_count": 6,
   "id": "53dfebff",
   "metadata": {},
   "outputs": [
    {
     "data": {
      "text/html": [
       "<div>\n",
       "<style scoped>\n",
       "    .dataframe tbody tr th:only-of-type {\n",
       "        vertical-align: middle;\n",
       "    }\n",
       "\n",
       "    .dataframe tbody tr th {\n",
       "        vertical-align: top;\n",
       "    }\n",
       "\n",
       "    .dataframe thead th {\n",
       "        text-align: right;\n",
       "    }\n",
       "</style>\n",
       "<table border=\"1\" class=\"dataframe\">\n",
       "  <thead>\n",
       "    <tr style=\"text-align: right;\">\n",
       "      <th></th>\n",
       "      <th>Name</th>\n",
       "      <th>Department</th>\n",
       "      <th>Income</th>\n",
       "      <th>Age</th>\n",
       "      <th>Experience</th>\n",
       "    </tr>\n",
       "  </thead>\n",
       "  <tbody>\n",
       "    <tr>\n",
       "      <th>0</th>\n",
       "      <td>Shivance</td>\n",
       "      <td>IT</td>\n",
       "      <td>8000</td>\n",
       "      <td>24</td>\n",
       "      <td>2</td>\n",
       "    </tr>\n",
       "    <tr>\n",
       "      <th>1</th>\n",
       "      <td>Devika</td>\n",
       "      <td>Finance</td>\n",
       "      <td>10000</td>\n",
       "      <td>45</td>\n",
       "      <td>3</td>\n",
       "    </tr>\n",
       "    <tr>\n",
       "      <th>2</th>\n",
       "      <td>Shivani</td>\n",
       "      <td>HR</td>\n",
       "      <td>11000</td>\n",
       "      <td>34</td>\n",
       "      <td>6</td>\n",
       "    </tr>\n",
       "    <tr>\n",
       "      <th>3</th>\n",
       "      <td>Choti</td>\n",
       "      <td>Marketing</td>\n",
       "      <td>4500</td>\n",
       "      <td>36</td>\n",
       "      <td>2</td>\n",
       "    </tr>\n",
       "    <tr>\n",
       "      <th>4</th>\n",
       "      <td>Dolly</td>\n",
       "      <td>Supply Chain</td>\n",
       "      <td>6700</td>\n",
       "      <td>23</td>\n",
       "      <td>1</td>\n",
       "    </tr>\n",
       "    <tr>\n",
       "      <th>5</th>\n",
       "      <td>Ayushi</td>\n",
       "      <td>Finance</td>\n",
       "      <td>9850</td>\n",
       "      <td>45</td>\n",
       "      <td>6</td>\n",
       "    </tr>\n",
       "    <tr>\n",
       "      <th>6</th>\n",
       "      <td>Nikhil</td>\n",
       "      <td>HR</td>\n",
       "      <td>5600</td>\n",
       "      <td>25</td>\n",
       "      <td>3</td>\n",
       "    </tr>\n",
       "    <tr>\n",
       "      <th>7</th>\n",
       "      <td>Krishna</td>\n",
       "      <td>Operations</td>\n",
       "      <td>6500</td>\n",
       "      <td>26</td>\n",
       "      <td>5</td>\n",
       "    </tr>\n",
       "    <tr>\n",
       "      <th>8</th>\n",
       "      <td>Vaishnavi</td>\n",
       "      <td>Finance</td>\n",
       "      <td>8900</td>\n",
       "      <td>33</td>\n",
       "      <td>7</td>\n",
       "    </tr>\n",
       "  </tbody>\n",
       "</table>\n",
       "</div>"
      ],
      "text/plain": [
       "        Name    Department  Income  Age  Experience\n",
       "0   Shivance            IT    8000   24           2\n",
       "1     Devika       Finance   10000   45           3\n",
       "2    Shivani            HR   11000   34           6\n",
       "3      Choti     Marketing    4500   36           2\n",
       "4      Dolly  Supply Chain    6700   23           1\n",
       "5     Ayushi       Finance    9850   45           6\n",
       "6     Nikhil            HR    5600   25           3\n",
       "7    Krishna    Operations    6500   26           5\n",
       "8  Vaishnavi       Finance    8900   33           7"
      ]
     },
     "execution_count": 6,
     "metadata": {},
     "output_type": "execute_result"
    }
   ],
   "source": [
    "Employees = pd.DataFrame({\"Name\" : [\"Shivance\",\"Devika\",\"Shivani\",\"Choti\",\"Dolly\",\"Ayushi\",\"Nikhil\",\"Krishna\",\"Vaishnavi\"], \"Department\" : [\"IT\",\"Finance\",\"HR\",\"Marketing\",\"Supply Chain\",\"Finance\",\"HR\",\"Operations\",\"Finance\"], \"Income\" : [8000,10000,11000,4500,6700,9850,5600,6500,8900], \"Age\" : [24,45,34,36,23,45,25,26,33], \"Experience\" : [2,3,6,2,1,6,3,5,7]})\n",
    "Employees"
   ]
  },
  {
   "cell_type": "code",
   "execution_count": 8,
   "id": "2c009ee2",
   "metadata": {},
   "outputs": [
    {
     "data": {
      "text/plain": [
       "Name          9\n",
       "Department    9\n",
       "Income        9\n",
       "Age           9\n",
       "Experience    9\n",
       "dtype: int64"
      ]
     },
     "execution_count": 8,
     "metadata": {},
     "output_type": "execute_result"
    }
   ],
   "source": [
    "Employees.count() # IT count elements by columns"
   ]
  },
  {
   "cell_type": "code",
   "execution_count": 10,
   "id": "5946ac85",
   "metadata": {},
   "outputs": [
    {
     "data": {
      "text/plain": [
       "Finance         3\n",
       "HR              2\n",
       "IT              1\n",
       "Marketing       1\n",
       "Supply Chain    1\n",
       "Operations      1\n",
       "Name: Department, dtype: int64"
      ]
     },
     "execution_count": 10,
     "metadata": {},
     "output_type": "execute_result"
    }
   ],
   "source": [
    "Employees[\"Department\"].value_counts() # It count values in a column. It just work with series !"
   ]
  },
  {
   "cell_type": "code",
   "execution_count": 12,
   "id": "95534896",
   "metadata": {},
   "outputs": [
    {
     "name": "stderr",
     "output_type": "stream",
     "text": [
      "C:\\Users\\hp\\AppData\\Local\\Temp\\ipykernel_6828\\1347365648.py:1: FutureWarning: Dropping of nuisance columns in DataFrame reductions (with 'numeric_only=None') is deprecated; in a future version this will raise TypeError.  Select only valid columns before calling the reduction.\n",
      "  Employees.mean() # Compute mean of each column if it's numeric\n"
     ]
    },
    {
     "data": {
      "text/plain": [
       "Income        7894.444444\n",
       "Age             32.333333\n",
       "Experience       3.888889\n",
       "dtype: float64"
      ]
     },
     "execution_count": 12,
     "metadata": {},
     "output_type": "execute_result"
    }
   ],
   "source": [
    "Employees.mean() # Compute mean of each column if it's numeric"
   ]
  },
  {
   "cell_type": "code",
   "execution_count": 14,
   "id": "692f55e2",
   "metadata": {},
   "outputs": [
    {
     "data": {
      "text/plain": [
       "7894.444444444444"
      ]
     },
     "execution_count": 14,
     "metadata": {},
     "output_type": "execute_result"
    }
   ],
   "source": [
    "Employees[\"Income\"].mean() # We can also compute mean of a spesific column"
   ]
  },
  {
   "cell_type": "code",
   "execution_count": 15,
   "id": "db420dc2",
   "metadata": {},
   "outputs": [
    {
     "name": "stderr",
     "output_type": "stream",
     "text": [
      "C:\\Users\\hp\\AppData\\Local\\Temp\\ipykernel_6828\\3024986245.py:1: FutureWarning: Dropping of nuisance columns in DataFrame reductions (with 'numeric_only=None') is deprecated; in a future version this will raise TypeError.  Select only valid columns before calling the reduction.\n",
      "  Employees.median()\n"
     ]
    },
    {
     "data": {
      "text/plain": [
       "Income        8000.0\n",
       "Age             33.0\n",
       "Experience       3.0\n",
       "dtype: float64"
      ]
     },
     "execution_count": 15,
     "metadata": {},
     "output_type": "execute_result"
    }
   ],
   "source": [
    "Employees.median()"
   ]
  },
  {
   "cell_type": "code",
   "execution_count": 17,
   "id": "9971b2d1",
   "metadata": {},
   "outputs": [
    {
     "data": {
      "text/plain": [
       "8000.0"
      ]
     },
     "execution_count": 17,
     "metadata": {},
     "output_type": "execute_result"
    }
   ],
   "source": [
    "Employees[\"Income\"].median() # We can also compute median of a spesific column"
   ]
  },
  {
   "cell_type": "code",
   "execution_count": 18,
   "id": "7796e968",
   "metadata": {},
   "outputs": [
    {
     "data": {
      "text/plain": [
       "Name          ShivanceDevikaShivaniChotiDollyAyushiNikhilKri...\n",
       "Department    ITFinanceHRMarketingSupply ChainFinanceHROpera...\n",
       "Income                                                    71050\n",
       "Age                                                         291\n",
       "Experience                                                   35\n",
       "dtype: object"
      ]
     },
     "execution_count": 18,
     "metadata": {},
     "output_type": "execute_result"
    }
   ],
   "source": [
    "Employees.sum()"
   ]
  },
  {
   "cell_type": "code",
   "execution_count": 20,
   "id": "3eb1573a",
   "metadata": {},
   "outputs": [
    {
     "data": {
      "text/plain": [
       "71050"
      ]
     },
     "execution_count": 20,
     "metadata": {},
     "output_type": "execute_result"
    }
   ],
   "source": [
    "Employees[\"Income\"].sum() # We can also compute sum of a spesific column"
   ]
  },
  {
   "cell_type": "code",
   "execution_count": 22,
   "id": "c0aeafac",
   "metadata": {},
   "outputs": [
    {
     "data": {
      "text/plain": [
       "Name           Ayushi\n",
       "Department    Finance\n",
       "Income           4500\n",
       "Age                23\n",
       "Experience          1\n",
       "dtype: object"
      ]
     },
     "execution_count": 22,
     "metadata": {},
     "output_type": "execute_result"
    }
   ],
   "source": [
    "Employees.min() # Compute minimum value of each column"
   ]
  },
  {
   "cell_type": "code",
   "execution_count": 24,
   "id": "d58b10e2",
   "metadata": {},
   "outputs": [
    {
     "data": {
      "text/plain": [
       "23"
      ]
     },
     "execution_count": 24,
     "metadata": {},
     "output_type": "execute_result"
    }
   ],
   "source": [
    "Employees[\"Age\"].min() # We can also compute minimum value of a spesific column"
   ]
  },
  {
   "cell_type": "code",
   "execution_count": 26,
   "id": "6ade0a8d",
   "metadata": {},
   "outputs": [
    {
     "data": {
      "text/plain": [
       "Name             Vaishnavi\n",
       "Department    Supply Chain\n",
       "Income               11000\n",
       "Age                     45\n",
       "Experience               7\n",
       "dtype: object"
      ]
     },
     "execution_count": 26,
     "metadata": {},
     "output_type": "execute_result"
    }
   ],
   "source": [
    "Employees.max() # Compute maximum value of each column"
   ]
  },
  {
   "cell_type": "code",
   "execution_count": 27,
   "id": "857a05de",
   "metadata": {},
   "outputs": [
    {
     "data": {
      "text/plain": [
       "45"
      ]
     },
     "execution_count": 27,
     "metadata": {},
     "output_type": "execute_result"
    }
   ],
   "source": [
    "Employees[\"Age\"].max()"
   ]
  },
  {
   "cell_type": "code",
   "execution_count": 28,
   "id": "f07f2d1e",
   "metadata": {},
   "outputs": [
    {
     "name": "stderr",
     "output_type": "stream",
     "text": [
      "C:\\Users\\hp\\AppData\\Local\\Temp\\ipykernel_6828\\2648013210.py:1: FutureWarning: Dropping of nuisance columns in DataFrame reductions (with 'numeric_only=None') is deprecated; in a future version this will raise TypeError.  Select only valid columns before calling the reduction.\n",
      "  Employees.std() # Compute standard deviation of each column if it's numeric\n"
     ]
    },
    {
     "data": {
      "text/plain": [
       "Income        2210.266449\n",
       "Age              8.573214\n",
       "Experience       2.147350\n",
       "dtype: float64"
      ]
     },
     "execution_count": 28,
     "metadata": {},
     "output_type": "execute_result"
    }
   ],
   "source": [
    "Employees.std() # Compute standard deviation of each column if it's numeric"
   ]
  },
  {
   "cell_type": "code",
   "execution_count": 30,
   "id": "66dfaa7a",
   "metadata": {},
   "outputs": [
    {
     "data": {
      "text/plain": [
       "8.573214099741124"
      ]
     },
     "execution_count": 30,
     "metadata": {},
     "output_type": "execute_result"
    }
   ],
   "source": [
    "Employees[\"Age\"].std() # We can also compute standard deviation of a spesific column"
   ]
  },
  {
   "cell_type": "code",
   "execution_count": 32,
   "id": "846d1fa6",
   "metadata": {},
   "outputs": [
    {
     "name": "stderr",
     "output_type": "stream",
     "text": [
      "C:\\Users\\hp\\AppData\\Local\\Temp\\ipykernel_6828\\316363625.py:1: FutureWarning: Dropping of nuisance columns in DataFrame reductions (with 'numeric_only=None') is deprecated; in a future version this will raise TypeError.  Select only valid columns before calling the reduction.\n",
      "  Employees.var() # Compute variance of each column if it's numeric\n"
     ]
    },
    {
     "data": {
      "text/plain": [
       "Income        4.885278e+06\n",
       "Age           7.350000e+01\n",
       "Experience    4.611111e+00\n",
       "dtype: float64"
      ]
     },
     "execution_count": 32,
     "metadata": {},
     "output_type": "execute_result"
    }
   ],
   "source": [
    "Employees.var() # Compute variance of each column if it's numeric"
   ]
  },
  {
   "cell_type": "code",
   "execution_count": 34,
   "id": "d2082ef4",
   "metadata": {},
   "outputs": [
    {
     "data": {
      "text/plain": [
       "73.50000000000001"
      ]
     },
     "execution_count": 34,
     "metadata": {},
     "output_type": "execute_result"
    }
   ],
   "source": [
    "Employees[\"Age\"].var() # We can also compute variance of a spesific column"
   ]
  },
  {
   "cell_type": "code",
   "execution_count": 36,
   "id": "4ec1cd08",
   "metadata": {},
   "outputs": [
    {
     "data": {
      "text/html": [
       "<div>\n",
       "<style scoped>\n",
       "    .dataframe tbody tr th:only-of-type {\n",
       "        vertical-align: middle;\n",
       "    }\n",
       "\n",
       "    .dataframe tbody tr th {\n",
       "        vertical-align: top;\n",
       "    }\n",
       "\n",
       "    .dataframe thead th {\n",
       "        text-align: right;\n",
       "    }\n",
       "</style>\n",
       "<table border=\"1\" class=\"dataframe\">\n",
       "  <thead>\n",
       "    <tr style=\"text-align: right;\">\n",
       "      <th></th>\n",
       "      <th>Income</th>\n",
       "      <th>Age</th>\n",
       "      <th>Experience</th>\n",
       "    </tr>\n",
       "  </thead>\n",
       "  <tbody>\n",
       "    <tr>\n",
       "      <th>count</th>\n",
       "      <td>9.000000</td>\n",
       "      <td>9.000000</td>\n",
       "      <td>9.000000</td>\n",
       "    </tr>\n",
       "    <tr>\n",
       "      <th>mean</th>\n",
       "      <td>7894.444444</td>\n",
       "      <td>32.333333</td>\n",
       "      <td>3.888889</td>\n",
       "    </tr>\n",
       "    <tr>\n",
       "      <th>std</th>\n",
       "      <td>2210.266449</td>\n",
       "      <td>8.573214</td>\n",
       "      <td>2.147350</td>\n",
       "    </tr>\n",
       "    <tr>\n",
       "      <th>min</th>\n",
       "      <td>4500.000000</td>\n",
       "      <td>23.000000</td>\n",
       "      <td>1.000000</td>\n",
       "    </tr>\n",
       "    <tr>\n",
       "      <th>25%</th>\n",
       "      <td>6500.000000</td>\n",
       "      <td>25.000000</td>\n",
       "      <td>2.000000</td>\n",
       "    </tr>\n",
       "    <tr>\n",
       "      <th>50%</th>\n",
       "      <td>8000.000000</td>\n",
       "      <td>33.000000</td>\n",
       "      <td>3.000000</td>\n",
       "    </tr>\n",
       "    <tr>\n",
       "      <th>75%</th>\n",
       "      <td>9850.000000</td>\n",
       "      <td>36.000000</td>\n",
       "      <td>6.000000</td>\n",
       "    </tr>\n",
       "    <tr>\n",
       "      <th>max</th>\n",
       "      <td>11000.000000</td>\n",
       "      <td>45.000000</td>\n",
       "      <td>7.000000</td>\n",
       "    </tr>\n",
       "  </tbody>\n",
       "</table>\n",
       "</div>"
      ],
      "text/plain": [
       "             Income        Age  Experience\n",
       "count      9.000000   9.000000    9.000000\n",
       "mean    7894.444444  32.333333    3.888889\n",
       "std     2210.266449   8.573214    2.147350\n",
       "min     4500.000000  23.000000    1.000000\n",
       "25%     6500.000000  25.000000    2.000000\n",
       "50%     8000.000000  33.000000    3.000000\n",
       "75%     9850.000000  36.000000    6.000000\n",
       "max    11000.000000  45.000000    7.000000"
      ]
     },
     "execution_count": 36,
     "metadata": {},
     "output_type": "execute_result"
    }
   ],
   "source": [
    "Employees.describe() # It computes a quick summary of values per group if it's numeric."
   ]
  },
  {
   "cell_type": "code",
   "execution_count": 39,
   "id": "ee98e55b",
   "metadata": {},
   "outputs": [
    {
     "data": {
      "text/html": [
       "<div>\n",
       "<style scoped>\n",
       "    .dataframe tbody tr th:only-of-type {\n",
       "        vertical-align: middle;\n",
       "    }\n",
       "\n",
       "    .dataframe tbody tr th {\n",
       "        vertical-align: top;\n",
       "    }\n",
       "\n",
       "    .dataframe thead th {\n",
       "        text-align: right;\n",
       "    }\n",
       "</style>\n",
       "<table border=\"1\" class=\"dataframe\">\n",
       "  <thead>\n",
       "    <tr style=\"text-align: right;\">\n",
       "      <th></th>\n",
       "      <th>count</th>\n",
       "      <th>mean</th>\n",
       "      <th>std</th>\n",
       "      <th>min</th>\n",
       "      <th>25%</th>\n",
       "      <th>50%</th>\n",
       "      <th>75%</th>\n",
       "      <th>max</th>\n",
       "    </tr>\n",
       "  </thead>\n",
       "  <tbody>\n",
       "    <tr>\n",
       "      <th>Income</th>\n",
       "      <td>9.0</td>\n",
       "      <td>7894.444444</td>\n",
       "      <td>2210.266449</td>\n",
       "      <td>4500.0</td>\n",
       "      <td>6500.0</td>\n",
       "      <td>8000.0</td>\n",
       "      <td>9850.0</td>\n",
       "      <td>11000.0</td>\n",
       "    </tr>\n",
       "    <tr>\n",
       "      <th>Age</th>\n",
       "      <td>9.0</td>\n",
       "      <td>32.333333</td>\n",
       "      <td>8.573214</td>\n",
       "      <td>23.0</td>\n",
       "      <td>25.0</td>\n",
       "      <td>33.0</td>\n",
       "      <td>36.0</td>\n",
       "      <td>45.0</td>\n",
       "    </tr>\n",
       "    <tr>\n",
       "      <th>Experience</th>\n",
       "      <td>9.0</td>\n",
       "      <td>3.888889</td>\n",
       "      <td>2.147350</td>\n",
       "      <td>1.0</td>\n",
       "      <td>2.0</td>\n",
       "      <td>3.0</td>\n",
       "      <td>6.0</td>\n",
       "      <td>7.0</td>\n",
       "    </tr>\n",
       "  </tbody>\n",
       "</table>\n",
       "</div>"
      ],
      "text/plain": [
       "            count         mean          std     min     25%     50%     75%  \\\n",
       "Income        9.0  7894.444444  2210.266449  4500.0  6500.0  8000.0  9850.0   \n",
       "Age           9.0    32.333333     8.573214    23.0    25.0    33.0    36.0   \n",
       "Experience    9.0     3.888889     2.147350     1.0     2.0     3.0     6.0   \n",
       "\n",
       "                max  \n",
       "Income      11000.0  \n",
       "Age            45.0  \n",
       "Experience      7.0  "
      ]
     },
     "execution_count": 39,
     "metadata": {},
     "output_type": "execute_result"
    }
   ],
   "source": [
    "Employees.describe().T #We can also see transpoze of it to see better."
   ]
  },
  {
   "cell_type": "code",
   "execution_count": 40,
   "id": "482b2e80",
   "metadata": {},
   "outputs": [
    {
     "name": "stderr",
     "output_type": "stream",
     "text": [
      "C:\\Users\\hp\\AppData\\Local\\Temp\\ipykernel_6828\\3548582179.py:1: FutureWarning: Dropping of nuisance columns in DataFrame reductions (with 'numeric_only=None') is deprecated; in a future version this will raise TypeError.  Select only valid columns before calling the reduction.\n",
      "  Employees.sem()\n"
     ]
    },
    {
     "data": {
      "text/plain": [
       "Income        736.755483\n",
       "Age             2.857738\n",
       "Experience      0.715783\n",
       "dtype: float64"
      ]
     },
     "execution_count": 40,
     "metadata": {},
     "output_type": "execute_result"
    }
   ],
   "source": [
    "Employees.sem()"
   ]
  },
  {
   "cell_type": "markdown",
   "id": "86e55be5",
   "metadata": {},
   "source": [
    "Grouping"
   ]
  },
  {
   "cell_type": "markdown",
   "id": "ca4ed9a2",
   "metadata": {},
   "source": [
    "Any groupby operation one of the following operations on the original object. They are;\n",
    "\n",
    "1) Splitting the Object\n",
    "2) Applying a function\n",
    "3) Combining the results\n",
    "\n",
    "Value which is used for grouping must be categorical variable."
   ]
  },
  {
   "cell_type": "code",
   "execution_count": 3,
   "id": "6f1ff286",
   "metadata": {},
   "outputs": [
    {
     "data": {
      "text/html": [
       "<div>\n",
       "<style scoped>\n",
       "    .dataframe tbody tr th:only-of-type {\n",
       "        vertical-align: middle;\n",
       "    }\n",
       "\n",
       "    .dataframe tbody tr th {\n",
       "        vertical-align: top;\n",
       "    }\n",
       "\n",
       "    .dataframe thead th {\n",
       "        text-align: right;\n",
       "    }\n",
       "</style>\n",
       "<table border=\"1\" class=\"dataframe\">\n",
       "  <thead>\n",
       "    <tr style=\"text-align: right;\">\n",
       "      <th></th>\n",
       "      <th>Name</th>\n",
       "      <th>Department</th>\n",
       "      <th>Income</th>\n",
       "      <th>Age</th>\n",
       "      <th>Experience</th>\n",
       "    </tr>\n",
       "  </thead>\n",
       "  <tbody>\n",
       "    <tr>\n",
       "      <th>0</th>\n",
       "      <td>Shivance</td>\n",
       "      <td>HR</td>\n",
       "      <td>8000</td>\n",
       "      <td>21</td>\n",
       "      <td>2</td>\n",
       "    </tr>\n",
       "    <tr>\n",
       "      <th>1</th>\n",
       "      <td>Radhika</td>\n",
       "      <td>Finance</td>\n",
       "      <td>12000</td>\n",
       "      <td>34</td>\n",
       "      <td>4</td>\n",
       "    </tr>\n",
       "    <tr>\n",
       "      <th>2</th>\n",
       "      <td>Ambika</td>\n",
       "      <td>Marketing</td>\n",
       "      <td>4500</td>\n",
       "      <td>23</td>\n",
       "      <td>1</td>\n",
       "    </tr>\n",
       "    <tr>\n",
       "      <th>3</th>\n",
       "      <td>Vaishnavi</td>\n",
       "      <td>Operations</td>\n",
       "      <td>6600</td>\n",
       "      <td>21</td>\n",
       "      <td>5</td>\n",
       "    </tr>\n",
       "    <tr>\n",
       "      <th>4</th>\n",
       "      <td>Shivani</td>\n",
       "      <td>Data Analytics</td>\n",
       "      <td>7800</td>\n",
       "      <td>26</td>\n",
       "      <td>7</td>\n",
       "    </tr>\n",
       "    <tr>\n",
       "      <th>5</th>\n",
       "      <td>Krishna</td>\n",
       "      <td>Marketing</td>\n",
       "      <td>6900</td>\n",
       "      <td>45</td>\n",
       "      <td>4</td>\n",
       "    </tr>\n",
       "    <tr>\n",
       "      <th>6</th>\n",
       "      <td>Choti</td>\n",
       "      <td>Finance</td>\n",
       "      <td>7800</td>\n",
       "      <td>25</td>\n",
       "      <td>6</td>\n",
       "    </tr>\n",
       "    <tr>\n",
       "      <th>7</th>\n",
       "      <td>Dolly</td>\n",
       "      <td>Supply Chain</td>\n",
       "      <td>3500</td>\n",
       "      <td>26</td>\n",
       "      <td>3</td>\n",
       "    </tr>\n",
       "    <tr>\n",
       "      <th>8</th>\n",
       "      <td>Ram</td>\n",
       "      <td>Data Analytics</td>\n",
       "      <td>25000</td>\n",
       "      <td>53</td>\n",
       "      <td>5</td>\n",
       "    </tr>\n",
       "  </tbody>\n",
       "</table>\n",
       "</div>"
      ],
      "text/plain": [
       "        Name      Department  Income  Age  Experience\n",
       "0   Shivance              HR    8000   21           2\n",
       "1    Radhika         Finance   12000   34           4\n",
       "2     Ambika       Marketing    4500   23           1\n",
       "3  Vaishnavi      Operations    6600   21           5\n",
       "4    Shivani  Data Analytics    7800   26           7\n",
       "5    Krishna       Marketing    6900   45           4\n",
       "6      Choti         Finance    7800   25           6\n",
       "7      Dolly    Supply Chain    3500   26           3\n",
       "8        Ram  Data Analytics   25000   53           5"
      ]
     },
     "execution_count": 3,
     "metadata": {},
     "output_type": "execute_result"
    }
   ],
   "source": [
    "Employees = pd.DataFrame({\"Name\" : [\"Shivance\",\"Radhika\",\"Ambika\",\"Vaishnavi\",\"Shivani\",\"Krishna\",\"Choti\",\"Dolly\",\"Ram\"], \"Department\" : [\"HR\",\"Finance\",\"Marketing\",\"Operations\",\"Data Analytics\",\"Marketing\",\"Finance\",\"Supply Chain\",\"Data Analytics\"], \"Income\" : [8000,12000,4500,6600,7800,6900,7800,3500,25000], \"Age\" : [21,34,23,21,26,45,25,26,53], \"Experience\" : [2,4,1,5,7,4,6,3,5]})\n",
    "Employees"
   ]
  },
  {
   "cell_type": "markdown",
   "id": "069d64fa",
   "metadata": {},
   "source": [
    "Departments are categorical variables and we can to group employees by their department. In order to do that, we use groupby() function."
   ]
  },
  {
   "cell_type": "code",
   "execution_count": 43,
   "id": "3e80c4c5",
   "metadata": {},
   "outputs": [
    {
     "data": {
      "text/plain": [
       "<pandas.core.groupby.generic.DataFrameGroupBy object at 0x0000025BECC852B0>"
      ]
     },
     "execution_count": 43,
     "metadata": {},
     "output_type": "execute_result"
    }
   ],
   "source": [
    "Employees.groupby(\"Department\") # IT will create an object"
   ]
  },
  {
   "cell_type": "code",
   "execution_count": 46,
   "id": "fb56e844",
   "metadata": {},
   "outputs": [
    {
     "data": {
      "text/html": [
       "<div>\n",
       "<style scoped>\n",
       "    .dataframe tbody tr th:only-of-type {\n",
       "        vertical-align: middle;\n",
       "    }\n",
       "\n",
       "    .dataframe tbody tr th {\n",
       "        vertical-align: top;\n",
       "    }\n",
       "\n",
       "    .dataframe thead th {\n",
       "        text-align: right;\n",
       "    }\n",
       "</style>\n",
       "<table border=\"1\" class=\"dataframe\">\n",
       "  <thead>\n",
       "    <tr style=\"text-align: right;\">\n",
       "      <th></th>\n",
       "      <th>Name</th>\n",
       "      <th>Department</th>\n",
       "      <th>Income</th>\n",
       "      <th>Age</th>\n",
       "      <th>Experience</th>\n",
       "    </tr>\n",
       "  </thead>\n",
       "  <tbody>\n",
       "    <tr>\n",
       "      <th>1</th>\n",
       "      <td>Radhika</td>\n",
       "      <td>Finance</td>\n",
       "      <td>12000</td>\n",
       "      <td>34</td>\n",
       "      <td>4</td>\n",
       "    </tr>\n",
       "    <tr>\n",
       "      <th>6</th>\n",
       "      <td>Choti</td>\n",
       "      <td>Finance</td>\n",
       "      <td>7800</td>\n",
       "      <td>25</td>\n",
       "      <td>6</td>\n",
       "    </tr>\n",
       "  </tbody>\n",
       "</table>\n",
       "</div>"
      ],
      "text/plain": [
       "      Name Department  Income  Age  Experience\n",
       "1  Radhika    Finance   12000   34           4\n",
       "6    Choti    Finance    7800   25           6"
      ]
     },
     "execution_count": 46,
     "metadata": {},
     "output_type": "execute_result"
    }
   ],
   "source": [
    "Employees_Department = Employees.groupby(\"Department\")\n",
    "Employees_Department.get_group(\"Finance\")"
   ]
  },
  {
   "cell_type": "markdown",
   "id": "920119e2",
   "metadata": {},
   "source": [
    "We Can also do that with filtering."
   ]
  },
  {
   "cell_type": "code",
   "execution_count": 50,
   "id": "0727cd7a",
   "metadata": {},
   "outputs": [
    {
     "data": {
      "text/html": [
       "<div>\n",
       "<style scoped>\n",
       "    .dataframe tbody tr th:only-of-type {\n",
       "        vertical-align: middle;\n",
       "    }\n",
       "\n",
       "    .dataframe tbody tr th {\n",
       "        vertical-align: top;\n",
       "    }\n",
       "\n",
       "    .dataframe thead th {\n",
       "        text-align: right;\n",
       "    }\n",
       "</style>\n",
       "<table border=\"1\" class=\"dataframe\">\n",
       "  <thead>\n",
       "    <tr style=\"text-align: right;\">\n",
       "      <th></th>\n",
       "      <th>Name</th>\n",
       "      <th>Department</th>\n",
       "      <th>Income</th>\n",
       "      <th>Age</th>\n",
       "      <th>Experience</th>\n",
       "    </tr>\n",
       "  </thead>\n",
       "  <tbody>\n",
       "    <tr>\n",
       "      <th>2</th>\n",
       "      <td>Ambika</td>\n",
       "      <td>Marketing</td>\n",
       "      <td>4500</td>\n",
       "      <td>23</td>\n",
       "      <td>1</td>\n",
       "    </tr>\n",
       "    <tr>\n",
       "      <th>5</th>\n",
       "      <td>Krishna</td>\n",
       "      <td>Marketing</td>\n",
       "      <td>6900</td>\n",
       "      <td>45</td>\n",
       "      <td>4</td>\n",
       "    </tr>\n",
       "  </tbody>\n",
       "</table>\n",
       "</div>"
      ],
      "text/plain": [
       "      Name Department  Income  Age  Experience\n",
       "2   Ambika  Marketing    4500   23           1\n",
       "5  Krishna  Marketing    6900   45           4"
      ]
     },
     "execution_count": 50,
     "metadata": {},
     "output_type": "execute_result"
    }
   ],
   "source": [
    "Employees[Employees[\"Department\"]==\"Marketing\"]"
   ]
  },
  {
   "cell_type": "code",
   "execution_count": 52,
   "id": "13cdc344",
   "metadata": {},
   "outputs": [
    {
     "data": {
      "text/html": [
       "<div>\n",
       "<style scoped>\n",
       "    .dataframe tbody tr th:only-of-type {\n",
       "        vertical-align: middle;\n",
       "    }\n",
       "\n",
       "    .dataframe tbody tr th {\n",
       "        vertical-align: top;\n",
       "    }\n",
       "\n",
       "    .dataframe thead th {\n",
       "        text-align: right;\n",
       "    }\n",
       "</style>\n",
       "<table border=\"1\" class=\"dataframe\">\n",
       "  <thead>\n",
       "    <tr style=\"text-align: right;\">\n",
       "      <th></th>\n",
       "      <th>Income</th>\n",
       "      <th>Age</th>\n",
       "      <th>Experience</th>\n",
       "    </tr>\n",
       "    <tr>\n",
       "      <th>Department</th>\n",
       "      <th></th>\n",
       "      <th></th>\n",
       "      <th></th>\n",
       "    </tr>\n",
       "  </thead>\n",
       "  <tbody>\n",
       "    <tr>\n",
       "      <th>Data Analytics</th>\n",
       "      <td>16400.0</td>\n",
       "      <td>39.5</td>\n",
       "      <td>6.0</td>\n",
       "    </tr>\n",
       "    <tr>\n",
       "      <th>Finance</th>\n",
       "      <td>9900.0</td>\n",
       "      <td>29.5</td>\n",
       "      <td>5.0</td>\n",
       "    </tr>\n",
       "    <tr>\n",
       "      <th>HR</th>\n",
       "      <td>8000.0</td>\n",
       "      <td>21.0</td>\n",
       "      <td>2.0</td>\n",
       "    </tr>\n",
       "    <tr>\n",
       "      <th>Marketing</th>\n",
       "      <td>5700.0</td>\n",
       "      <td>34.0</td>\n",
       "      <td>2.5</td>\n",
       "    </tr>\n",
       "    <tr>\n",
       "      <th>Operations</th>\n",
       "      <td>6600.0</td>\n",
       "      <td>21.0</td>\n",
       "      <td>5.0</td>\n",
       "    </tr>\n",
       "    <tr>\n",
       "      <th>Supply Chain</th>\n",
       "      <td>3500.0</td>\n",
       "      <td>26.0</td>\n",
       "      <td>3.0</td>\n",
       "    </tr>\n",
       "  </tbody>\n",
       "</table>\n",
       "</div>"
      ],
      "text/plain": [
       "                 Income   Age  Experience\n",
       "Department                               \n",
       "Data Analytics  16400.0  39.5         6.0\n",
       "Finance          9900.0  29.5         5.0\n",
       "HR               8000.0  21.0         2.0\n",
       "Marketing        5700.0  34.0         2.5\n",
       "Operations       6600.0  21.0         5.0\n",
       "Supply Chain     3500.0  26.0         3.0"
      ]
     },
     "execution_count": 52,
     "metadata": {},
     "output_type": "execute_result"
    }
   ],
   "source": [
    "Employees.groupby(\"Department\").mean() # We can get mean of every department."
   ]
  },
  {
   "cell_type": "code",
   "execution_count": 53,
   "id": "123eb16d",
   "metadata": {},
   "outputs": [
    {
     "data": {
      "text/plain": [
       "Department\n",
       "Data Analytics    12\n",
       "Finance           10\n",
       "HR                 2\n",
       "Marketing          5\n",
       "Operations         5\n",
       "Supply Chain       3\n",
       "Name: Experience, dtype: int64"
      ]
     },
     "execution_count": 53,
     "metadata": {},
     "output_type": "execute_result"
    }
   ],
   "source": [
    "Employees.groupby(\"Department\")[\"Experience\"].sum()"
   ]
  },
  {
   "cell_type": "code",
   "execution_count": 55,
   "id": "53fd04dc",
   "metadata": {},
   "outputs": [
    {
     "data": {
      "text/plain": [
       "Department\n",
       "Data Analytics    39.5\n",
       "Finance           29.5\n",
       "HR                21.0\n",
       "Marketing         34.0\n",
       "Operations        21.0\n",
       "Supply Chain      26.0\n",
       "Name: Age, dtype: float64"
      ]
     },
     "execution_count": 55,
     "metadata": {},
     "output_type": "execute_result"
    }
   ],
   "source": [
    "Employees.groupby(\"Department\").mean()[\"Age\"] # Mean of age by each department"
   ]
  },
  {
   "cell_type": "code",
   "execution_count": 56,
   "id": "9e82fd09",
   "metadata": {},
   "outputs": [
    {
     "data": {
      "text/html": [
       "<div>\n",
       "<style scoped>\n",
       "    .dataframe tbody tr th:only-of-type {\n",
       "        vertical-align: middle;\n",
       "    }\n",
       "\n",
       "    .dataframe tbody tr th {\n",
       "        vertical-align: top;\n",
       "    }\n",
       "\n",
       "    .dataframe thead th {\n",
       "        text-align: right;\n",
       "    }\n",
       "</style>\n",
       "<table border=\"1\" class=\"dataframe\">\n",
       "  <thead>\n",
       "    <tr style=\"text-align: right;\">\n",
       "      <th></th>\n",
       "      <th>count</th>\n",
       "      <th>mean</th>\n",
       "      <th>std</th>\n",
       "      <th>min</th>\n",
       "      <th>25%</th>\n",
       "      <th>50%</th>\n",
       "      <th>75%</th>\n",
       "      <th>max</th>\n",
       "    </tr>\n",
       "    <tr>\n",
       "      <th>Department</th>\n",
       "      <th></th>\n",
       "      <th></th>\n",
       "      <th></th>\n",
       "      <th></th>\n",
       "      <th></th>\n",
       "      <th></th>\n",
       "      <th></th>\n",
       "      <th></th>\n",
       "    </tr>\n",
       "  </thead>\n",
       "  <tbody>\n",
       "    <tr>\n",
       "      <th>Data Analytics</th>\n",
       "      <td>2.0</td>\n",
       "      <td>39.5</td>\n",
       "      <td>19.091883</td>\n",
       "      <td>26.0</td>\n",
       "      <td>32.75</td>\n",
       "      <td>39.5</td>\n",
       "      <td>46.25</td>\n",
       "      <td>53.0</td>\n",
       "    </tr>\n",
       "    <tr>\n",
       "      <th>Finance</th>\n",
       "      <td>2.0</td>\n",
       "      <td>29.5</td>\n",
       "      <td>6.363961</td>\n",
       "      <td>25.0</td>\n",
       "      <td>27.25</td>\n",
       "      <td>29.5</td>\n",
       "      <td>31.75</td>\n",
       "      <td>34.0</td>\n",
       "    </tr>\n",
       "    <tr>\n",
       "      <th>HR</th>\n",
       "      <td>1.0</td>\n",
       "      <td>21.0</td>\n",
       "      <td>NaN</td>\n",
       "      <td>21.0</td>\n",
       "      <td>21.00</td>\n",
       "      <td>21.0</td>\n",
       "      <td>21.00</td>\n",
       "      <td>21.0</td>\n",
       "    </tr>\n",
       "    <tr>\n",
       "      <th>Marketing</th>\n",
       "      <td>2.0</td>\n",
       "      <td>34.0</td>\n",
       "      <td>15.556349</td>\n",
       "      <td>23.0</td>\n",
       "      <td>28.50</td>\n",
       "      <td>34.0</td>\n",
       "      <td>39.50</td>\n",
       "      <td>45.0</td>\n",
       "    </tr>\n",
       "    <tr>\n",
       "      <th>Operations</th>\n",
       "      <td>1.0</td>\n",
       "      <td>21.0</td>\n",
       "      <td>NaN</td>\n",
       "      <td>21.0</td>\n",
       "      <td>21.00</td>\n",
       "      <td>21.0</td>\n",
       "      <td>21.00</td>\n",
       "      <td>21.0</td>\n",
       "    </tr>\n",
       "    <tr>\n",
       "      <th>Supply Chain</th>\n",
       "      <td>1.0</td>\n",
       "      <td>26.0</td>\n",
       "      <td>NaN</td>\n",
       "      <td>26.0</td>\n",
       "      <td>26.00</td>\n",
       "      <td>26.0</td>\n",
       "      <td>26.00</td>\n",
       "      <td>26.0</td>\n",
       "    </tr>\n",
       "  </tbody>\n",
       "</table>\n",
       "</div>"
      ],
      "text/plain": [
       "                count  mean        std   min    25%   50%    75%   max\n",
       "Department                                                            \n",
       "Data Analytics    2.0  39.5  19.091883  26.0  32.75  39.5  46.25  53.0\n",
       "Finance           2.0  29.5   6.363961  25.0  27.25  29.5  31.75  34.0\n",
       "HR                1.0  21.0        NaN  21.0  21.00  21.0  21.00  21.0\n",
       "Marketing         2.0  34.0  15.556349  23.0  28.50  34.0  39.50  45.0\n",
       "Operations        1.0  21.0        NaN  21.0  21.00  21.0  21.00  21.0\n",
       "Supply Chain      1.0  26.0        NaN  26.0  26.00  26.0  26.00  26.0"
      ]
     },
     "execution_count": 56,
     "metadata": {},
     "output_type": "execute_result"
    }
   ],
   "source": [
    "Employees.groupby(\"Department\")[\"Age\"].describe() # We also can see with describe"
   ]
  },
  {
   "cell_type": "markdown",
   "id": "81275980",
   "metadata": {},
   "source": [
    "If we want to apply more than 1 function, we need to use agg(). It is same as aggregate()."
   ]
  },
  {
   "cell_type": "code",
   "execution_count": 58,
   "id": "18155fd2",
   "metadata": {},
   "outputs": [
    {
     "data": {
      "text/html": [
       "<div>\n",
       "<style scoped>\n",
       "    .dataframe tbody tr th:only-of-type {\n",
       "        vertical-align: middle;\n",
       "    }\n",
       "\n",
       "    .dataframe tbody tr th {\n",
       "        vertical-align: top;\n",
       "    }\n",
       "\n",
       "    .dataframe thead th {\n",
       "        text-align: right;\n",
       "    }\n",
       "</style>\n",
       "<table border=\"1\" class=\"dataframe\">\n",
       "  <thead>\n",
       "    <tr style=\"text-align: right;\">\n",
       "      <th></th>\n",
       "      <th>mean</th>\n",
       "      <th>max</th>\n",
       "      <th>median</th>\n",
       "    </tr>\n",
       "    <tr>\n",
       "      <th>Department</th>\n",
       "      <th></th>\n",
       "      <th></th>\n",
       "      <th></th>\n",
       "    </tr>\n",
       "  </thead>\n",
       "  <tbody>\n",
       "    <tr>\n",
       "      <th>Data Analytics</th>\n",
       "      <td>16400.0</td>\n",
       "      <td>25000</td>\n",
       "      <td>16400.0</td>\n",
       "    </tr>\n",
       "    <tr>\n",
       "      <th>Finance</th>\n",
       "      <td>9900.0</td>\n",
       "      <td>12000</td>\n",
       "      <td>9900.0</td>\n",
       "    </tr>\n",
       "    <tr>\n",
       "      <th>HR</th>\n",
       "      <td>8000.0</td>\n",
       "      <td>8000</td>\n",
       "      <td>8000.0</td>\n",
       "    </tr>\n",
       "    <tr>\n",
       "      <th>Marketing</th>\n",
       "      <td>5700.0</td>\n",
       "      <td>6900</td>\n",
       "      <td>5700.0</td>\n",
       "    </tr>\n",
       "    <tr>\n",
       "      <th>Operations</th>\n",
       "      <td>6600.0</td>\n",
       "      <td>6600</td>\n",
       "      <td>6600.0</td>\n",
       "    </tr>\n",
       "    <tr>\n",
       "      <th>Supply Chain</th>\n",
       "      <td>3500.0</td>\n",
       "      <td>3500</td>\n",
       "      <td>3500.0</td>\n",
       "    </tr>\n",
       "  </tbody>\n",
       "</table>\n",
       "</div>"
      ],
      "text/plain": [
       "                   mean    max   median\n",
       "Department                             \n",
       "Data Analytics  16400.0  25000  16400.0\n",
       "Finance          9900.0  12000   9900.0\n",
       "HR               8000.0   8000   8000.0\n",
       "Marketing        5700.0   6900   5700.0\n",
       "Operations       6600.0   6600   6600.0\n",
       "Supply Chain     3500.0   3500   3500.0"
      ]
     },
     "execution_count": 58,
     "metadata": {},
     "output_type": "execute_result"
    }
   ],
   "source": [
    "Employees.groupby(\"Department\")[\"Income\"].agg([\"mean\",\"max\",\"median\"]) # We get mean, max and median of Income in each department."
   ]
  },
  {
   "cell_type": "code",
   "execution_count": 60,
   "id": "4684c279",
   "metadata": {},
   "outputs": [
    {
     "data": {
      "text/plain": [
       "mean       9900.0\n",
       "max       12000.0\n",
       "median     9900.0\n",
       "Name: Finance, dtype: float64"
      ]
     },
     "execution_count": 60,
     "metadata": {},
     "output_type": "execute_result"
    }
   ],
   "source": [
    "Employees.groupby(\"Department\")[\"Income\"].agg([\"mean\",\"max\",\"median\"]).loc [\"Finance\"] #We get mean, max and median of Income in Finance department."
   ]
  },
  {
   "cell_type": "code",
   "execution_count": 5,
   "id": "710ac513",
   "metadata": {},
   "outputs": [
    {
     "data": {
      "text/html": [
       "<div>\n",
       "<style scoped>\n",
       "    .dataframe tbody tr th:only-of-type {\n",
       "        vertical-align: middle;\n",
       "    }\n",
       "\n",
       "    .dataframe tbody tr th {\n",
       "        vertical-align: top;\n",
       "    }\n",
       "\n",
       "    .dataframe thead tr th {\n",
       "        text-align: left;\n",
       "    }\n",
       "\n",
       "    .dataframe thead tr:last-of-type th {\n",
       "        text-align: right;\n",
       "    }\n",
       "</style>\n",
       "<table border=\"1\" class=\"dataframe\">\n",
       "  <thead>\n",
       "    <tr>\n",
       "      <th></th>\n",
       "      <th colspan=\"2\" halign=\"left\">Name</th>\n",
       "      <th colspan=\"2\" halign=\"left\">Income</th>\n",
       "      <th colspan=\"2\" halign=\"left\">Age</th>\n",
       "      <th colspan=\"2\" halign=\"left\">Experience</th>\n",
       "    </tr>\n",
       "    <tr>\n",
       "      <th></th>\n",
       "      <th>max</th>\n",
       "      <th>min</th>\n",
       "      <th>max</th>\n",
       "      <th>min</th>\n",
       "      <th>max</th>\n",
       "      <th>min</th>\n",
       "      <th>max</th>\n",
       "      <th>min</th>\n",
       "    </tr>\n",
       "    <tr>\n",
       "      <th>Department</th>\n",
       "      <th></th>\n",
       "      <th></th>\n",
       "      <th></th>\n",
       "      <th></th>\n",
       "      <th></th>\n",
       "      <th></th>\n",
       "      <th></th>\n",
       "      <th></th>\n",
       "    </tr>\n",
       "  </thead>\n",
       "  <tbody>\n",
       "    <tr>\n",
       "      <th>Data Analytics</th>\n",
       "      <td>Shivani</td>\n",
       "      <td>Ram</td>\n",
       "      <td>25000</td>\n",
       "      <td>7800</td>\n",
       "      <td>53</td>\n",
       "      <td>26</td>\n",
       "      <td>7</td>\n",
       "      <td>5</td>\n",
       "    </tr>\n",
       "    <tr>\n",
       "      <th>Finance</th>\n",
       "      <td>Radhika</td>\n",
       "      <td>Choti</td>\n",
       "      <td>12000</td>\n",
       "      <td>7800</td>\n",
       "      <td>34</td>\n",
       "      <td>25</td>\n",
       "      <td>6</td>\n",
       "      <td>4</td>\n",
       "    </tr>\n",
       "    <tr>\n",
       "      <th>HR</th>\n",
       "      <td>Shivance</td>\n",
       "      <td>Shivance</td>\n",
       "      <td>8000</td>\n",
       "      <td>8000</td>\n",
       "      <td>21</td>\n",
       "      <td>21</td>\n",
       "      <td>2</td>\n",
       "      <td>2</td>\n",
       "    </tr>\n",
       "    <tr>\n",
       "      <th>Marketing</th>\n",
       "      <td>Krishna</td>\n",
       "      <td>Ambika</td>\n",
       "      <td>6900</td>\n",
       "      <td>4500</td>\n",
       "      <td>45</td>\n",
       "      <td>23</td>\n",
       "      <td>4</td>\n",
       "      <td>1</td>\n",
       "    </tr>\n",
       "    <tr>\n",
       "      <th>Operations</th>\n",
       "      <td>Vaishnavi</td>\n",
       "      <td>Vaishnavi</td>\n",
       "      <td>6600</td>\n",
       "      <td>6600</td>\n",
       "      <td>21</td>\n",
       "      <td>21</td>\n",
       "      <td>5</td>\n",
       "      <td>5</td>\n",
       "    </tr>\n",
       "    <tr>\n",
       "      <th>Supply Chain</th>\n",
       "      <td>Dolly</td>\n",
       "      <td>Dolly</td>\n",
       "      <td>3500</td>\n",
       "      <td>3500</td>\n",
       "      <td>26</td>\n",
       "      <td>26</td>\n",
       "      <td>3</td>\n",
       "      <td>3</td>\n",
       "    </tr>\n",
       "  </tbody>\n",
       "</table>\n",
       "</div>"
      ],
      "text/plain": [
       "                     Name            Income       Age     Experience    \n",
       "                      max        min    max   min max min        max min\n",
       "Department                                                              \n",
       "Data Analytics    Shivani        Ram  25000  7800  53  26          7   5\n",
       "Finance           Radhika      Choti  12000  7800  34  25          6   4\n",
       "HR               Shivance   Shivance   8000  8000  21  21          2   2\n",
       "Marketing         Krishna     Ambika   6900  4500  45  23          4   1\n",
       "Operations      Vaishnavi  Vaishnavi   6600  6600  21  21          5   5\n",
       "Supply Chain        Dolly      Dolly   3500  3500  26  26          3   3"
      ]
     },
     "execution_count": 5,
     "metadata": {},
     "output_type": "execute_result"
    }
   ],
   "source": [
    "Employees.groupby(\"Department\").aggregate({\"max\",\"min\"}) # WE get max and min value in each department."
   ]
  },
  {
   "cell_type": "code",
   "execution_count": 6,
   "id": "355754b9",
   "metadata": {},
   "outputs": [
    {
     "data": {
      "text/html": [
       "<div>\n",
       "<style scoped>\n",
       "    .dataframe tbody tr th:only-of-type {\n",
       "        vertical-align: middle;\n",
       "    }\n",
       "\n",
       "    .dataframe tbody tr th {\n",
       "        vertical-align: top;\n",
       "    }\n",
       "\n",
       "    .dataframe thead th {\n",
       "        text-align: right;\n",
       "    }\n",
       "</style>\n",
       "<table border=\"1\" class=\"dataframe\">\n",
       "  <thead>\n",
       "    <tr style=\"text-align: right;\">\n",
       "      <th></th>\n",
       "      <th>Income</th>\n",
       "      <th>Age</th>\n",
       "    </tr>\n",
       "    <tr>\n",
       "      <th>Department</th>\n",
       "      <th></th>\n",
       "      <th></th>\n",
       "    </tr>\n",
       "  </thead>\n",
       "  <tbody>\n",
       "    <tr>\n",
       "      <th>Data Analytics</th>\n",
       "      <td>16400.0</td>\n",
       "      <td>53</td>\n",
       "    </tr>\n",
       "    <tr>\n",
       "      <th>Finance</th>\n",
       "      <td>9900.0</td>\n",
       "      <td>34</td>\n",
       "    </tr>\n",
       "    <tr>\n",
       "      <th>HR</th>\n",
       "      <td>8000.0</td>\n",
       "      <td>21</td>\n",
       "    </tr>\n",
       "    <tr>\n",
       "      <th>Marketing</th>\n",
       "      <td>5700.0</td>\n",
       "      <td>45</td>\n",
       "    </tr>\n",
       "    <tr>\n",
       "      <th>Operations</th>\n",
       "      <td>6600.0</td>\n",
       "      <td>21</td>\n",
       "    </tr>\n",
       "    <tr>\n",
       "      <th>Supply Chain</th>\n",
       "      <td>3500.0</td>\n",
       "      <td>26</td>\n",
       "    </tr>\n",
       "  </tbody>\n",
       "</table>\n",
       "</div>"
      ],
      "text/plain": [
       "                 Income  Age\n",
       "Department                  \n",
       "Data Analytics  16400.0   53\n",
       "Finance          9900.0   34\n",
       "HR               8000.0   21\n",
       "Marketing        5700.0   45\n",
       "Operations       6600.0   21\n",
       "Supply Chain     3500.0   26"
      ]
     },
     "execution_count": 6,
     "metadata": {},
     "output_type": "execute_result"
    }
   ],
   "source": [
    "Employees.groupby(\"Department\").aggregate({\"Income\" : \"mean\",\"Age\" : \"max\"})"
   ]
  },
  {
   "cell_type": "markdown",
   "id": "48f26f32",
   "metadata": {},
   "source": [
    "transform() operation"
   ]
  },
  {
   "cell_type": "markdown",
   "id": "02a827dd",
   "metadata": {},
   "source": [
    "Pandas DataFrame.transform() function call func on self producing a DataFrame with transformed values and that has the same axis length as self."
   ]
  },
  {
   "cell_type": "markdown",
   "id": "219fa6fc",
   "metadata": {},
   "source": [
    "The first argument func is to specify the function to be used for manipulating data. It can be a function, a string function name, a list of functions, or a dictionary of axis label."
   ]
  },
  {
   "cell_type": "markdown",
   "id": "f2bc61cb",
   "metadata": {},
   "source": [
    "The second argument axis is to specify which axis the func is applied to. 0 for applying the func to each column and 1 for applying the func to each row."
   ]
  },
  {
   "cell_type": "markdown",
   "id": "dc87aa4e",
   "metadata": {},
   "source": [
    "Let's say we want to make a 1000$ salary increase to each employee. First, we define a function that increase the salaries."
   ]
  },
  {
   "cell_type": "code",
   "execution_count": 8,
   "id": "05c2354b",
   "metadata": {},
   "outputs": [],
   "source": [
    "def salary_increase(x):\n",
    "    return x+800"
   ]
  },
  {
   "cell_type": "code",
   "execution_count": 10,
   "id": "28e39b37",
   "metadata": {},
   "outputs": [
    {
     "data": {
      "text/plain": [
       "0     8000\n",
       "1    12000\n",
       "2     4500\n",
       "3     6600\n",
       "4     7800\n",
       "5     6900\n",
       "6     7800\n",
       "7     3500\n",
       "8    25000\n",
       "Name: Income, dtype: int64"
      ]
     },
     "execution_count": 10,
     "metadata": {},
     "output_type": "execute_result"
    }
   ],
   "source": [
    "Employees[\"Income\"] # Current salaries"
   ]
  },
  {
   "cell_type": "code",
   "execution_count": 11,
   "id": "63dc43e3",
   "metadata": {},
   "outputs": [
    {
     "data": {
      "text/plain": [
       "0     8800\n",
       "1    12800\n",
       "2     5300\n",
       "3     7400\n",
       "4     8600\n",
       "5     7700\n",
       "6     8600\n",
       "7     4300\n",
       "8    25800\n",
       "Name: Income, dtype: int64"
      ]
     },
     "execution_count": 11,
     "metadata": {},
     "output_type": "execute_result"
    }
   ],
   "source": [
    "Employees[\"Income\"].transform(salary_increase)"
   ]
  },
  {
   "cell_type": "markdown",
   "id": "e464e8b2",
   "metadata": {},
   "source": [
    "We can use lambda for shorter way. it's a functional programming logic."
   ]
  },
  {
   "cell_type": "code",
   "execution_count": 16,
   "id": "5db0d6b2",
   "metadata": {},
   "outputs": [
    {
     "data": {
      "text/plain": [
       "0     9100\n",
       "1    13100\n",
       "2     5600\n",
       "3     7700\n",
       "4     8900\n",
       "5     8000\n",
       "6     8900\n",
       "7     4600\n",
       "8    26100\n",
       "Name: Income, dtype: int64"
      ]
     },
     "execution_count": 16,
     "metadata": {},
     "output_type": "execute_result"
    }
   ],
   "source": [
    "Employees[\"Income\"].transform(lambda x: x+1100)"
   ]
  },
  {
   "cell_type": "code",
   "execution_count": 18,
   "id": "27e41243",
   "metadata": {},
   "outputs": [
    {
     "data": {
      "text/plain": [
       "0     7998.578413\n",
       "1    11998.578413\n",
       "2     4498.578413\n",
       "3     6598.578413\n",
       "4     7798.578413\n",
       "5     6898.578413\n",
       "6     7798.578413\n",
       "7     3498.578413\n",
       "8    24998.578413\n",
       "Name: Income, dtype: float64"
      ]
     },
     "execution_count": 18,
     "metadata": {},
     "output_type": "execute_result"
    }
   ],
   "source": [
    "Employees[\"Income\"].transform(lambda x : (x-x.mean()/x.std())) # Standartizing"
   ]
  },
  {
   "cell_type": "code",
   "execution_count": 20,
   "id": "47ce0a47",
   "metadata": {},
   "outputs": [
    {
     "data": {
      "text/html": [
       "<div>\n",
       "<style scoped>\n",
       "    .dataframe tbody tr th:only-of-type {\n",
       "        vertical-align: middle;\n",
       "    }\n",
       "\n",
       "    .dataframe tbody tr th {\n",
       "        vertical-align: top;\n",
       "    }\n",
       "\n",
       "    .dataframe thead th {\n",
       "        text-align: right;\n",
       "    }\n",
       "</style>\n",
       "<table border=\"1\" class=\"dataframe\">\n",
       "  <thead>\n",
       "    <tr style=\"text-align: right;\">\n",
       "      <th></th>\n",
       "      <th>Income</th>\n",
       "      <th>Age</th>\n",
       "    </tr>\n",
       "  </thead>\n",
       "  <tbody>\n",
       "    <tr>\n",
       "      <th>0</th>\n",
       "      <td>89.442719</td>\n",
       "      <td>4.582576</td>\n",
       "    </tr>\n",
       "    <tr>\n",
       "      <th>1</th>\n",
       "      <td>109.544512</td>\n",
       "      <td>5.830952</td>\n",
       "    </tr>\n",
       "    <tr>\n",
       "      <th>2</th>\n",
       "      <td>67.082039</td>\n",
       "      <td>4.795832</td>\n",
       "    </tr>\n",
       "    <tr>\n",
       "      <th>3</th>\n",
       "      <td>81.240384</td>\n",
       "      <td>4.582576</td>\n",
       "    </tr>\n",
       "    <tr>\n",
       "      <th>4</th>\n",
       "      <td>88.317609</td>\n",
       "      <td>5.099020</td>\n",
       "    </tr>\n",
       "    <tr>\n",
       "      <th>5</th>\n",
       "      <td>83.066239</td>\n",
       "      <td>6.708204</td>\n",
       "    </tr>\n",
       "    <tr>\n",
       "      <th>6</th>\n",
       "      <td>88.317609</td>\n",
       "      <td>5.000000</td>\n",
       "    </tr>\n",
       "    <tr>\n",
       "      <th>7</th>\n",
       "      <td>59.160798</td>\n",
       "      <td>5.099020</td>\n",
       "    </tr>\n",
       "    <tr>\n",
       "      <th>8</th>\n",
       "      <td>158.113883</td>\n",
       "      <td>7.280110</td>\n",
       "    </tr>\n",
       "  </tbody>\n",
       "</table>\n",
       "</div>"
      ],
      "text/plain": [
       "       Income       Age\n",
       "0   89.442719  4.582576\n",
       "1  109.544512  5.830952\n",
       "2   67.082039  4.795832\n",
       "3   81.240384  4.582576\n",
       "4   88.317609  5.099020\n",
       "5   83.066239  6.708204\n",
       "6   88.317609  5.000000\n",
       "7   59.160798  5.099020\n",
       "8  158.113883  7.280110"
      ]
     },
     "execution_count": 20,
     "metadata": {},
     "output_type": "execute_result"
    }
   ],
   "source": [
    "Employees[[\"Income\",\"Age\"]].transform(\"sqrt\") # We can also apply a string function."
   ]
  },
  {
   "cell_type": "markdown",
   "id": "702d4251",
   "metadata": {},
   "source": [
    "Apply"
   ]
  },
  {
   "cell_type": "markdown",
   "id": "dab56a99",
   "metadata": {},
   "source": [
    "It applies a spesific function all values of a dataframe of serie."
   ]
  },
  {
   "cell_type": "code",
   "execution_count": 25,
   "id": "87b850c2",
   "metadata": {},
   "outputs": [
    {
     "data": {
      "text/html": [
       "<div>\n",
       "<style scoped>\n",
       "    .dataframe tbody tr th:only-of-type {\n",
       "        vertical-align: middle;\n",
       "    }\n",
       "\n",
       "    .dataframe tbody tr th {\n",
       "        vertical-align: top;\n",
       "    }\n",
       "\n",
       "    .dataframe thead th {\n",
       "        text-align: right;\n",
       "    }\n",
       "</style>\n",
       "<table border=\"1\" class=\"dataframe\">\n",
       "  <thead>\n",
       "    <tr style=\"text-align: right;\">\n",
       "      <th></th>\n",
       "      <th>Name</th>\n",
       "      <th>Department</th>\n",
       "      <th>Income</th>\n",
       "      <th>Age</th>\n",
       "      <th>Experience</th>\n",
       "    </tr>\n",
       "  </thead>\n",
       "  <tbody>\n",
       "    <tr>\n",
       "      <th>0</th>\n",
       "      <td>Shivance</td>\n",
       "      <td>IT</td>\n",
       "      <td>12000</td>\n",
       "      <td>25</td>\n",
       "      <td>2</td>\n",
       "    </tr>\n",
       "    <tr>\n",
       "      <th>1</th>\n",
       "      <td>Shivam</td>\n",
       "      <td>HR</td>\n",
       "      <td>32000</td>\n",
       "      <td>56</td>\n",
       "      <td>3</td>\n",
       "    </tr>\n",
       "    <tr>\n",
       "      <th>2</th>\n",
       "      <td>Radhika</td>\n",
       "      <td>Finance</td>\n",
       "      <td>4500</td>\n",
       "      <td>32</td>\n",
       "      <td>6</td>\n",
       "    </tr>\n",
       "    <tr>\n",
       "      <th>3</th>\n",
       "      <td>Devika</td>\n",
       "      <td>Operations</td>\n",
       "      <td>6700</td>\n",
       "      <td>45</td>\n",
       "      <td>2</td>\n",
       "    </tr>\n",
       "    <tr>\n",
       "      <th>4</th>\n",
       "      <td>Shivani</td>\n",
       "      <td>Marketing</td>\n",
       "      <td>24332</td>\n",
       "      <td>25</td>\n",
       "      <td>1</td>\n",
       "    </tr>\n",
       "    <tr>\n",
       "      <th>5</th>\n",
       "      <td>Veshnavi</td>\n",
       "      <td>Supply chain</td>\n",
       "      <td>3533</td>\n",
       "      <td>21</td>\n",
       "      <td>4</td>\n",
       "    </tr>\n",
       "    <tr>\n",
       "      <th>6</th>\n",
       "      <td>Ayushi</td>\n",
       "      <td>Finance</td>\n",
       "      <td>8900</td>\n",
       "      <td>36</td>\n",
       "      <td>5</td>\n",
       "    </tr>\n",
       "    <tr>\n",
       "      <th>7</th>\n",
       "      <td>Krishna</td>\n",
       "      <td>Data Analytics</td>\n",
       "      <td>45600</td>\n",
       "      <td>21</td>\n",
       "      <td>3</td>\n",
       "    </tr>\n",
       "    <tr>\n",
       "      <th>8</th>\n",
       "      <td>Devika</td>\n",
       "      <td>Finance</td>\n",
       "      <td>21000</td>\n",
       "      <td>32</td>\n",
       "      <td>5</td>\n",
       "    </tr>\n",
       "  </tbody>\n",
       "</table>\n",
       "</div>"
      ],
      "text/plain": [
       "       Name      Department  Income  Age  Experience\n",
       "0  Shivance              IT   12000   25           2\n",
       "1    Shivam              HR   32000   56           3\n",
       "2   Radhika         Finance    4500   32           6\n",
       "3    Devika      Operations    6700   45           2\n",
       "4   Shivani       Marketing   24332   25           1\n",
       "5  Veshnavi    Supply chain    3533   21           4\n",
       "6    Ayushi         Finance    8900   36           5\n",
       "7   Krishna  Data Analytics   45600   21           3\n",
       "8    Devika         Finance   21000   32           5"
      ]
     },
     "execution_count": 25,
     "metadata": {},
     "output_type": "execute_result"
    }
   ],
   "source": [
    "Employees = pd.DataFrame({\"Name\" : [\"Shivance\",\"Shivam\",\"Radhika\",\"Devika\",\"Shivani\",\"Veshnavi\",\"Ayushi\",\"Krishna\",\"Devika\"], \"Department\" : [\"IT\",\"HR\",\"Finance\",\"Operations\",\"Marketing\",\"Supply chain\",\"Finance\",\"Data Analytics\",\"Finance\"],\"Income\" : [12000,32000,4500,6700,24332,3533,8900,45600,21000], \"Age\" : [25,56,32,45,25,21,36,21,32] ,\"Experience\" : [2,3,6,2,1,4,5,3,5]})\n",
    "Employees"
   ]
  },
  {
   "cell_type": "code",
   "execution_count": 27,
   "id": "774ead7a",
   "metadata": {},
   "outputs": [
    {
     "data": {
      "text/plain": [
       "0    8\n",
       "1    6\n",
       "2    7\n",
       "3    6\n",
       "4    7\n",
       "5    8\n",
       "6    6\n",
       "7    7\n",
       "8    6\n",
       "Name: Name, dtype: int64"
      ]
     },
     "execution_count": 27,
     "metadata": {},
     "output_type": "execute_result"
    }
   ],
   "source": [
    "Employees[\"Name\"].apply(len) # We get length of all names"
   ]
  },
  {
   "cell_type": "code",
   "execution_count": 28,
   "id": "0807de4a",
   "metadata": {},
   "outputs": [],
   "source": [
    "def increase_age(x):\n",
    "    return x+1"
   ]
  },
  {
   "cell_type": "code",
   "execution_count": 29,
   "id": "4ddcd2ca",
   "metadata": {},
   "outputs": [
    {
     "data": {
      "text/plain": [
       "0    26\n",
       "1    57\n",
       "2    33\n",
       "3    46\n",
       "4    26\n",
       "5    22\n",
       "6    37\n",
       "7    22\n",
       "8    33\n",
       "Name: Age, dtype: int64"
      ]
     },
     "execution_count": 29,
     "metadata": {},
     "output_type": "execute_result"
    }
   ],
   "source": [
    "Employees[\"Age\"].apply(increase_age) # We increase each age."
   ]
  },
  {
   "cell_type": "code",
   "execution_count": 33,
   "id": "93b0d46a",
   "metadata": {},
   "outputs": [
    {
     "data": {
      "text/plain": [
       "0    28\n",
       "1    59\n",
       "2    35\n",
       "3    48\n",
       "4    28\n",
       "5    24\n",
       "6    39\n",
       "7    24\n",
       "8    35\n",
       "Name: Age, dtype: int64"
      ]
     },
     "execution_count": 33,
     "metadata": {},
     "output_type": "execute_result"
    }
   ],
   "source": [
    "Employees[\"Age\"].apply(lambda x: x+2+1) # We increase each age."
   ]
  },
  {
   "cell_type": "code",
   "execution_count": 36,
   "id": "c0b36761",
   "metadata": {},
   "outputs": [],
   "source": [
    "import numpy as np"
   ]
  },
  {
   "cell_type": "code",
   "execution_count": 37,
   "id": "c19ebf14",
   "metadata": {},
   "outputs": [
    {
     "data": {
      "text/plain": [
       "Name          ShivanceShivamRadhikaDevikaShivaniVeshnaviAyus...\n",
       "Department    ITHRFinanceOperationsMarketingSupply chainFina...\n",
       "Income                                                   158565\n",
       "Age                                                         293\n",
       "Experience                                                   31\n",
       "dtype: object"
      ]
     },
     "execution_count": 37,
     "metadata": {},
     "output_type": "execute_result"
    }
   ],
   "source": [
    "Employees.apply(np.sum)"
   ]
  },
  {
   "cell_type": "code",
   "execution_count": 38,
   "id": "95bc17bd",
   "metadata": {},
   "outputs": [
    {
     "data": {
      "text/plain": [
       "Department\n",
       "Data Analytics    45600\n",
       "Finance           34400\n",
       "HR                32000\n",
       "IT                12000\n",
       "Marketing         24332\n",
       "Operations         6700\n",
       "Supply chain       3533\n",
       "Name: Income, dtype: int64"
      ]
     },
     "execution_count": 38,
     "metadata": {},
     "output_type": "execute_result"
    }
   ],
   "source": [
    "Employees.groupby(\"Department\")[\"Income\"].apply(np.sum) # We "
   ]
  },
  {
   "cell_type": "code",
   "execution_count": 40,
   "id": "768bc5e1",
   "metadata": {},
   "outputs": [
    {
     "data": {
      "text/plain": [
       "Department\n",
       "Data Analytics    21\n",
       "Finance           32\n",
       "HR                56\n",
       "IT                25\n",
       "Marketing         25\n",
       "Operations        45\n",
       "Supply chain      21\n",
       "Name: Age, dtype: int64"
      ]
     },
     "execution_count": 40,
     "metadata": {},
     "output_type": "execute_result"
    }
   ],
   "source": [
    "Employees.groupby(\"Department\")[\"Age\"].apply(min) # We get smallest age by each department."
   ]
  },
  {
   "cell_type": "code",
   "execution_count": 41,
   "id": "fbbf057c",
   "metadata": {},
   "outputs": [
    {
     "data": {
      "text/html": [
       "<div>\n",
       "<style scoped>\n",
       "    .dataframe tbody tr th:only-of-type {\n",
       "        vertical-align: middle;\n",
       "    }\n",
       "\n",
       "    .dataframe tbody tr th {\n",
       "        vertical-align: top;\n",
       "    }\n",
       "\n",
       "    .dataframe thead th {\n",
       "        text-align: right;\n",
       "    }\n",
       "</style>\n",
       "<table border=\"1\" class=\"dataframe\">\n",
       "  <thead>\n",
       "    <tr style=\"text-align: right;\">\n",
       "      <th></th>\n",
       "      <th>Income</th>\n",
       "      <th>Age</th>\n",
       "    </tr>\n",
       "  </thead>\n",
       "  <tbody>\n",
       "    <tr>\n",
       "      <th>max</th>\n",
       "      <td>45600</td>\n",
       "      <td>56</td>\n",
       "    </tr>\n",
       "    <tr>\n",
       "      <th>min</th>\n",
       "      <td>3533</td>\n",
       "      <td>21</td>\n",
       "    </tr>\n",
       "  </tbody>\n",
       "</table>\n",
       "</div>"
      ],
      "text/plain": [
       "     Income  Age\n",
       "max   45600   56\n",
       "min    3533   21"
      ]
     },
     "execution_count": 41,
     "metadata": {},
     "output_type": "execute_result"
    }
   ],
   "source": [
    "Employees.loc[: , [\"Income\",\"Age\"]].apply([\"max\",\"min\"])"
   ]
  },
  {
   "cell_type": "markdown",
   "id": "1cef5b1e",
   "metadata": {},
   "source": [
    "We can also use applymap() function in order to apply a function to a DataFrame elementwise."
   ]
  },
  {
   "cell_type": "code",
   "execution_count": 42,
   "id": "90af2b16",
   "metadata": {},
   "outputs": [
    {
     "data": {
      "text/html": [
       "<div>\n",
       "<style scoped>\n",
       "    .dataframe tbody tr th:only-of-type {\n",
       "        vertical-align: middle;\n",
       "    }\n",
       "\n",
       "    .dataframe tbody tr th {\n",
       "        vertical-align: top;\n",
       "    }\n",
       "\n",
       "    .dataframe thead th {\n",
       "        text-align: right;\n",
       "    }\n",
       "</style>\n",
       "<table border=\"1\" class=\"dataframe\">\n",
       "  <thead>\n",
       "    <tr style=\"text-align: right;\">\n",
       "      <th></th>\n",
       "      <th>Name</th>\n",
       "      <th>Department</th>\n",
       "      <th>Income</th>\n",
       "      <th>Age</th>\n",
       "      <th>Experience</th>\n",
       "    </tr>\n",
       "  </thead>\n",
       "  <tbody>\n",
       "    <tr>\n",
       "      <th>0</th>\n",
       "      <td>Shivance</td>\n",
       "      <td>IT</td>\n",
       "      <td>12000</td>\n",
       "      <td>25</td>\n",
       "      <td>2</td>\n",
       "    </tr>\n",
       "    <tr>\n",
       "      <th>1</th>\n",
       "      <td>Shivam</td>\n",
       "      <td>HR</td>\n",
       "      <td>32000</td>\n",
       "      <td>56</td>\n",
       "      <td>3</td>\n",
       "    </tr>\n",
       "    <tr>\n",
       "      <th>2</th>\n",
       "      <td>Radhika</td>\n",
       "      <td>Finance</td>\n",
       "      <td>4500</td>\n",
       "      <td>32</td>\n",
       "      <td>6</td>\n",
       "    </tr>\n",
       "    <tr>\n",
       "      <th>3</th>\n",
       "      <td>Devika</td>\n",
       "      <td>Operations</td>\n",
       "      <td>6700</td>\n",
       "      <td>45</td>\n",
       "      <td>2</td>\n",
       "    </tr>\n",
       "    <tr>\n",
       "      <th>4</th>\n",
       "      <td>Shivani</td>\n",
       "      <td>Marketing</td>\n",
       "      <td>24332</td>\n",
       "      <td>25</td>\n",
       "      <td>1</td>\n",
       "    </tr>\n",
       "    <tr>\n",
       "      <th>5</th>\n",
       "      <td>Veshnavi</td>\n",
       "      <td>Supply chain</td>\n",
       "      <td>3533</td>\n",
       "      <td>21</td>\n",
       "      <td>4</td>\n",
       "    </tr>\n",
       "    <tr>\n",
       "      <th>6</th>\n",
       "      <td>Ayushi</td>\n",
       "      <td>Finance</td>\n",
       "      <td>8900</td>\n",
       "      <td>36</td>\n",
       "      <td>5</td>\n",
       "    </tr>\n",
       "    <tr>\n",
       "      <th>7</th>\n",
       "      <td>Krishna</td>\n",
       "      <td>Data Analytics</td>\n",
       "      <td>45600</td>\n",
       "      <td>21</td>\n",
       "      <td>3</td>\n",
       "    </tr>\n",
       "    <tr>\n",
       "      <th>8</th>\n",
       "      <td>Devika</td>\n",
       "      <td>Finance</td>\n",
       "      <td>21000</td>\n",
       "      <td>32</td>\n",
       "      <td>5</td>\n",
       "    </tr>\n",
       "  </tbody>\n",
       "</table>\n",
       "</div>"
      ],
      "text/plain": [
       "       Name      Department  Income  Age  Experience\n",
       "0  Shivance              IT   12000   25           2\n",
       "1    Shivam              HR   32000   56           3\n",
       "2   Radhika         Finance    4500   32           6\n",
       "3    Devika      Operations    6700   45           2\n",
       "4   Shivani       Marketing   24332   25           1\n",
       "5  Veshnavi    Supply chain    3533   21           4\n",
       "6    Ayushi         Finance    8900   36           5\n",
       "7   Krishna  Data Analytics   45600   21           3\n",
       "8    Devika         Finance   21000   32           5"
      ]
     },
     "execution_count": 42,
     "metadata": {},
     "output_type": "execute_result"
    }
   ],
   "source": [
    "Employees"
   ]
  },
  {
   "cell_type": "code",
   "execution_count": 43,
   "id": "af3c1b1b",
   "metadata": {},
   "outputs": [
    {
     "data": {
      "text/html": [
       "<div>\n",
       "<style scoped>\n",
       "    .dataframe tbody tr th:only-of-type {\n",
       "        vertical-align: middle;\n",
       "    }\n",
       "\n",
       "    .dataframe tbody tr th {\n",
       "        vertical-align: top;\n",
       "    }\n",
       "\n",
       "    .dataframe thead th {\n",
       "        text-align: right;\n",
       "    }\n",
       "</style>\n",
       "<table border=\"1\" class=\"dataframe\">\n",
       "  <thead>\n",
       "    <tr style=\"text-align: right;\">\n",
       "      <th></th>\n",
       "      <th>Name</th>\n",
       "      <th>Department</th>\n",
       "    </tr>\n",
       "  </thead>\n",
       "  <tbody>\n",
       "    <tr>\n",
       "      <th>0</th>\n",
       "      <td>8</td>\n",
       "      <td>2</td>\n",
       "    </tr>\n",
       "    <tr>\n",
       "      <th>1</th>\n",
       "      <td>6</td>\n",
       "      <td>2</td>\n",
       "    </tr>\n",
       "    <tr>\n",
       "      <th>2</th>\n",
       "      <td>7</td>\n",
       "      <td>7</td>\n",
       "    </tr>\n",
       "    <tr>\n",
       "      <th>3</th>\n",
       "      <td>6</td>\n",
       "      <td>10</td>\n",
       "    </tr>\n",
       "    <tr>\n",
       "      <th>4</th>\n",
       "      <td>7</td>\n",
       "      <td>9</td>\n",
       "    </tr>\n",
       "    <tr>\n",
       "      <th>5</th>\n",
       "      <td>8</td>\n",
       "      <td>12</td>\n",
       "    </tr>\n",
       "    <tr>\n",
       "      <th>6</th>\n",
       "      <td>6</td>\n",
       "      <td>7</td>\n",
       "    </tr>\n",
       "    <tr>\n",
       "      <th>7</th>\n",
       "      <td>7</td>\n",
       "      <td>14</td>\n",
       "    </tr>\n",
       "    <tr>\n",
       "      <th>8</th>\n",
       "      <td>6</td>\n",
       "      <td>7</td>\n",
       "    </tr>\n",
       "  </tbody>\n",
       "</table>\n",
       "</div>"
      ],
      "text/plain": [
       "   Name  Department\n",
       "0     8           2\n",
       "1     6           2\n",
       "2     7           7\n",
       "3     6          10\n",
       "4     7           9\n",
       "5     8          12\n",
       "6     6           7\n",
       "7     7          14\n",
       "8     6           7"
      ]
     },
     "execution_count": 43,
     "metadata": {},
     "output_type": "execute_result"
    }
   ],
   "source": [
    "Employees[[\"Name\",\"Department\"]].applymap(len)"
   ]
  },
  {
   "cell_type": "code",
   "execution_count": 45,
   "id": "5c15b69b",
   "metadata": {},
   "outputs": [
    {
     "data": {
      "text/html": [
       "<div>\n",
       "<style scoped>\n",
       "    .dataframe tbody tr th:only-of-type {\n",
       "        vertical-align: middle;\n",
       "    }\n",
       "\n",
       "    .dataframe tbody tr th {\n",
       "        vertical-align: top;\n",
       "    }\n",
       "\n",
       "    .dataframe thead th {\n",
       "        text-align: right;\n",
       "    }\n",
       "</style>\n",
       "<table border=\"1\" class=\"dataframe\">\n",
       "  <thead>\n",
       "    <tr style=\"text-align: right;\">\n",
       "      <th></th>\n",
       "      <th>Name</th>\n",
       "    </tr>\n",
       "  </thead>\n",
       "  <tbody>\n",
       "    <tr>\n",
       "      <th>0</th>\n",
       "      <td>SHIVANCE</td>\n",
       "    </tr>\n",
       "    <tr>\n",
       "      <th>1</th>\n",
       "      <td>SHIVAM</td>\n",
       "    </tr>\n",
       "    <tr>\n",
       "      <th>2</th>\n",
       "      <td>RADHIKA</td>\n",
       "    </tr>\n",
       "    <tr>\n",
       "      <th>3</th>\n",
       "      <td>DEVIKA</td>\n",
       "    </tr>\n",
       "    <tr>\n",
       "      <th>4</th>\n",
       "      <td>SHIVANI</td>\n",
       "    </tr>\n",
       "    <tr>\n",
       "      <th>5</th>\n",
       "      <td>VESHNAVI</td>\n",
       "    </tr>\n",
       "    <tr>\n",
       "      <th>6</th>\n",
       "      <td>AYUSHI</td>\n",
       "    </tr>\n",
       "    <tr>\n",
       "      <th>7</th>\n",
       "      <td>KRISHNA</td>\n",
       "    </tr>\n",
       "    <tr>\n",
       "      <th>8</th>\n",
       "      <td>DEVIKA</td>\n",
       "    </tr>\n",
       "  </tbody>\n",
       "</table>\n",
       "</div>"
      ],
      "text/plain": [
       "       Name\n",
       "0  SHIVANCE\n",
       "1    SHIVAM\n",
       "2   RADHIKA\n",
       "3    DEVIKA\n",
       "4   SHIVANI\n",
       "5  VESHNAVI\n",
       "6    AYUSHI\n",
       "7   KRISHNA\n",
       "8    DEVIKA"
      ]
     },
     "execution_count": 45,
     "metadata": {},
     "output_type": "execute_result"
    }
   ],
   "source": [
    "Employees[[\"Name\"]].applymap(str.upper) # WE get upper value of each name."
   ]
  },
  {
   "cell_type": "markdown",
   "id": "8ac0e871",
   "metadata": {},
   "source": [
    "We can use map() function in order to map value of Series according to input correspondence."
   ]
  },
  {
   "cell_type": "code",
   "execution_count": 47,
   "id": "843bdb87",
   "metadata": {},
   "outputs": [
    {
     "data": {
      "text/plain": [
       "0                       NaN\n",
       "1                       NaN\n",
       "2    Information Technology\n",
       "3                       NaN\n",
       "4                       NaN\n",
       "5                       NaN\n",
       "6    Information Technology\n",
       "7                       NaN\n",
       "8    Information Technology\n",
       "Name: Department, dtype: object"
      ]
     },
     "execution_count": 47,
     "metadata": {},
     "output_type": "execute_result"
    }
   ],
   "source": [
    "Employees[\"Department\"].map({\"Finance\" : \"Information Technology\"})"
   ]
  },
  {
   "cell_type": "markdown",
   "id": "59662b8a",
   "metadata": {},
   "source": [
    "But it also looks other values. In order to apply that just to IT, we will use replace() method."
   ]
  },
  {
   "cell_type": "code",
   "execution_count": 48,
   "id": "0f18dc0f",
   "metadata": {},
   "outputs": [
    {
     "data": {
      "text/html": [
       "<div>\n",
       "<style scoped>\n",
       "    .dataframe tbody tr th:only-of-type {\n",
       "        vertical-align: middle;\n",
       "    }\n",
       "\n",
       "    .dataframe tbody tr th {\n",
       "        vertical-align: top;\n",
       "    }\n",
       "\n",
       "    .dataframe thead th {\n",
       "        text-align: right;\n",
       "    }\n",
       "</style>\n",
       "<table border=\"1\" class=\"dataframe\">\n",
       "  <thead>\n",
       "    <tr style=\"text-align: right;\">\n",
       "      <th></th>\n",
       "      <th>Name</th>\n",
       "      <th>Department</th>\n",
       "      <th>Income</th>\n",
       "      <th>Age</th>\n",
       "      <th>Experience</th>\n",
       "    </tr>\n",
       "  </thead>\n",
       "  <tbody>\n",
       "    <tr>\n",
       "      <th>0</th>\n",
       "      <td>Shivance</td>\n",
       "      <td>IT</td>\n",
       "      <td>12000</td>\n",
       "      <td>25</td>\n",
       "      <td>2</td>\n",
       "    </tr>\n",
       "    <tr>\n",
       "      <th>1</th>\n",
       "      <td>Shivam</td>\n",
       "      <td>HR</td>\n",
       "      <td>32000</td>\n",
       "      <td>56</td>\n",
       "      <td>3</td>\n",
       "    </tr>\n",
       "    <tr>\n",
       "      <th>2</th>\n",
       "      <td>Radhika</td>\n",
       "      <td>Finance</td>\n",
       "      <td>4500</td>\n",
       "      <td>32</td>\n",
       "      <td>6</td>\n",
       "    </tr>\n",
       "    <tr>\n",
       "      <th>3</th>\n",
       "      <td>Devika</td>\n",
       "      <td>Operations</td>\n",
       "      <td>6700</td>\n",
       "      <td>45</td>\n",
       "      <td>2</td>\n",
       "    </tr>\n",
       "    <tr>\n",
       "      <th>4</th>\n",
       "      <td>Shivani</td>\n",
       "      <td>Marketing</td>\n",
       "      <td>24332</td>\n",
       "      <td>25</td>\n",
       "      <td>1</td>\n",
       "    </tr>\n",
       "    <tr>\n",
       "      <th>5</th>\n",
       "      <td>Veshnavi</td>\n",
       "      <td>Supply chain</td>\n",
       "      <td>3533</td>\n",
       "      <td>21</td>\n",
       "      <td>4</td>\n",
       "    </tr>\n",
       "    <tr>\n",
       "      <th>6</th>\n",
       "      <td>Ayushi</td>\n",
       "      <td>Finance</td>\n",
       "      <td>8900</td>\n",
       "      <td>36</td>\n",
       "      <td>5</td>\n",
       "    </tr>\n",
       "    <tr>\n",
       "      <th>7</th>\n",
       "      <td>Krishna</td>\n",
       "      <td>Data Analytics</td>\n",
       "      <td>45600</td>\n",
       "      <td>21</td>\n",
       "      <td>3</td>\n",
       "    </tr>\n",
       "    <tr>\n",
       "      <th>8</th>\n",
       "      <td>Devika</td>\n",
       "      <td>Finance</td>\n",
       "      <td>21000</td>\n",
       "      <td>32</td>\n",
       "      <td>5</td>\n",
       "    </tr>\n",
       "  </tbody>\n",
       "</table>\n",
       "</div>"
      ],
      "text/plain": [
       "       Name      Department  Income  Age  Experience\n",
       "0  Shivance              IT   12000   25           2\n",
       "1    Shivam              HR   32000   56           3\n",
       "2   Radhika         Finance    4500   32           6\n",
       "3    Devika      Operations    6700   45           2\n",
       "4   Shivani       Marketing   24332   25           1\n",
       "5  Veshnavi    Supply chain    3533   21           4\n",
       "6    Ayushi         Finance    8900   36           5\n",
       "7   Krishna  Data Analytics   45600   21           3\n",
       "8    Devika         Finance   21000   32           5"
      ]
     },
     "execution_count": 48,
     "metadata": {},
     "output_type": "execute_result"
    }
   ],
   "source": [
    "Employees"
   ]
  },
  {
   "cell_type": "markdown",
   "id": "4b692c08",
   "metadata": {},
   "source": [
    "Pivot Tables"
   ]
  },
  {
   "cell_type": "markdown",
   "id": "06c8e75b",
   "metadata": {},
   "source": [
    "It creates a spreadsheet-style pivot table as a DataFrame."
   ]
  },
  {
   "cell_type": "markdown",
   "id": "13215d95",
   "metadata": {},
   "source": [
    "The levels in the pivot table will be stored in Multindex objects (hierachical indexes) on the index and columns of the result DataFrame."
   ]
  },
  {
   "cell_type": "code",
   "execution_count": 105,
   "id": "289ace81",
   "metadata": {},
   "outputs": [
    {
     "data": {
      "text/html": [
       "<div>\n",
       "<style scoped>\n",
       "    .dataframe tbody tr th:only-of-type {\n",
       "        vertical-align: middle;\n",
       "    }\n",
       "\n",
       "    .dataframe tbody tr th {\n",
       "        vertical-align: top;\n",
       "    }\n",
       "\n",
       "    .dataframe thead th {\n",
       "        text-align: right;\n",
       "    }\n",
       "</style>\n",
       "<table border=\"1\" class=\"dataframe\">\n",
       "  <thead>\n",
       "    <tr style=\"text-align: right;\">\n",
       "      <th></th>\n",
       "      <th>Name</th>\n",
       "      <th>Department</th>\n",
       "      <th>Work Level</th>\n",
       "      <th>Income</th>\n",
       "      <th>Age</th>\n",
       "      <th>Experince</th>\n",
       "    </tr>\n",
       "  </thead>\n",
       "  <tbody>\n",
       "    <tr>\n",
       "      <th>0</th>\n",
       "      <td>Shivance</td>\n",
       "      <td>HR</td>\n",
       "      <td>WL1</td>\n",
       "      <td>45000</td>\n",
       "      <td>21</td>\n",
       "      <td>2</td>\n",
       "    </tr>\n",
       "    <tr>\n",
       "      <th>1</th>\n",
       "      <td>Devika</td>\n",
       "      <td>Finance</td>\n",
       "      <td>WL3</td>\n",
       "      <td>5600</td>\n",
       "      <td>32</td>\n",
       "      <td>5</td>\n",
       "    </tr>\n",
       "    <tr>\n",
       "      <th>2</th>\n",
       "      <td>Veshnavi</td>\n",
       "      <td>Marketing</td>\n",
       "      <td>WL2</td>\n",
       "      <td>7800</td>\n",
       "      <td>25</td>\n",
       "      <td>none</td>\n",
       "    </tr>\n",
       "    <tr>\n",
       "      <th>3</th>\n",
       "      <td>Shivani</td>\n",
       "      <td>Data Analytics</td>\n",
       "      <td>WL5</td>\n",
       "      <td>9800</td>\n",
       "      <td>45</td>\n",
       "      <td>7</td>\n",
       "    </tr>\n",
       "    <tr>\n",
       "      <th>4</th>\n",
       "      <td>Krishna</td>\n",
       "      <td>Finace</td>\n",
       "      <td>WL4</td>\n",
       "      <td>23000</td>\n",
       "      <td>36</td>\n",
       "      <td>none</td>\n",
       "    </tr>\n",
       "    <tr>\n",
       "      <th>5</th>\n",
       "      <td>Devika</td>\n",
       "      <td>Operations</td>\n",
       "      <td>WL6</td>\n",
       "      <td>5200</td>\n",
       "      <td>25</td>\n",
       "      <td>3</td>\n",
       "    </tr>\n",
       "    <tr>\n",
       "      <th>6</th>\n",
       "      <td>Krishna</td>\n",
       "      <td>Finance</td>\n",
       "      <td>WL9</td>\n",
       "      <td>6500</td>\n",
       "      <td>23</td>\n",
       "      <td>4</td>\n",
       "    </tr>\n",
       "    <tr>\n",
       "      <th>7</th>\n",
       "      <td>Ambika</td>\n",
       "      <td>Supply Chain</td>\n",
       "      <td>WL8</td>\n",
       "      <td>78900</td>\n",
       "      <td>65</td>\n",
       "      <td>6</td>\n",
       "    </tr>\n",
       "    <tr>\n",
       "      <th>8</th>\n",
       "      <td>Drashti</td>\n",
       "      <td>Data Analytics</td>\n",
       "      <td>WL7</td>\n",
       "      <td>6500</td>\n",
       "      <td>45</td>\n",
       "      <td>5</td>\n",
       "    </tr>\n",
       "  </tbody>\n",
       "</table>\n",
       "</div>"
      ],
      "text/plain": [
       "       Name      Department Work Level  Income  Age Experince\n",
       "0  Shivance              HR        WL1   45000   21         2\n",
       "1    Devika         Finance        WL3    5600   32         5\n",
       "2  Veshnavi       Marketing        WL2    7800   25      none\n",
       "3   Shivani  Data Analytics        WL5    9800   45         7\n",
       "4   Krishna          Finace        WL4   23000   36      none\n",
       "5    Devika      Operations        WL6    5200   25         3\n",
       "6   Krishna         Finance        WL9    6500   23         4\n",
       "7    Ambika    Supply Chain        WL8   78900   65         6\n",
       "8   Drashti  Data Analytics        WL7    6500   45         5"
      ]
     },
     "execution_count": 105,
     "metadata": {},
     "output_type": "execute_result"
    }
   ],
   "source": [
    "Employees = pd.DataFrame({\"Name\" : [\"Shivance\",\"Devika\",\"Veshnavi\",\"Shivani\",\"Krishna\",\"Devika\",\"Krishna\",\"Ambika\",\"Drashti\"], \"Department\" : [\"HR\",\"Finance\",\"Marketing\",\"Data Analytics\",\"Finace\",\"Operations\",\"Finance\",\"Supply Chain\",\"Data Analytics\"], \"Work Level\" : [\"WL1\",\"WL3\",\"WL2\",\"WL5\",\"WL4\",\"WL6\",\"WL9\",\"WL8\",\"WL7\"], \"Income\" : [45000,5600,7800,9800,23000,5200,6500,78900,6500], \"Age\" : [21,32,25,45,36,25,23,65,45], \"Experince\" : [2,5,\"none\",7,\"none\",3,4,6,5]})\n",
    "Employees"
   ]
  },
  {
   "cell_type": "code",
   "execution_count": 52,
   "id": "610ff192",
   "metadata": {},
   "outputs": [
    {
     "data": {
      "text/html": [
       "<div>\n",
       "<style scoped>\n",
       "    .dataframe tbody tr th:only-of-type {\n",
       "        vertical-align: middle;\n",
       "    }\n",
       "\n",
       "    .dataframe tbody tr th {\n",
       "        vertical-align: top;\n",
       "    }\n",
       "\n",
       "    .dataframe thead th {\n",
       "        text-align: right;\n",
       "    }\n",
       "</style>\n",
       "<table border=\"1\" class=\"dataframe\">\n",
       "  <thead>\n",
       "    <tr style=\"text-align: right;\">\n",
       "      <th></th>\n",
       "      <th>Name</th>\n",
       "      <th>Department</th>\n",
       "      <th>Work Level</th>\n",
       "      <th>Income</th>\n",
       "      <th>Age</th>\n",
       "      <th>Experince</th>\n",
       "    </tr>\n",
       "  </thead>\n",
       "  <tbody>\n",
       "    <tr>\n",
       "      <th>0</th>\n",
       "      <td>Shivance</td>\n",
       "      <td>HR</td>\n",
       "      <td>WL1</td>\n",
       "      <td>45000</td>\n",
       "      <td>21</td>\n",
       "      <td>2</td>\n",
       "    </tr>\n",
       "    <tr>\n",
       "      <th>1</th>\n",
       "      <td>Devika</td>\n",
       "      <td>Finance</td>\n",
       "      <td>WL3</td>\n",
       "      <td>5600</td>\n",
       "      <td>32</td>\n",
       "      <td>5</td>\n",
       "    </tr>\n",
       "    <tr>\n",
       "      <th>2</th>\n",
       "      <td>Veshnavi</td>\n",
       "      <td>Marketing</td>\n",
       "      <td>WL2</td>\n",
       "      <td>7800</td>\n",
       "      <td>25</td>\n",
       "      <td>9</td>\n",
       "    </tr>\n",
       "    <tr>\n",
       "      <th>3</th>\n",
       "      <td>Shivani</td>\n",
       "      <td>Data Analytics</td>\n",
       "      <td>WL5</td>\n",
       "      <td>9800</td>\n",
       "      <td>45</td>\n",
       "      <td>7</td>\n",
       "    </tr>\n",
       "    <tr>\n",
       "      <th>4</th>\n",
       "      <td>Krishna</td>\n",
       "      <td>Finace</td>\n",
       "      <td>WL4</td>\n",
       "      <td>23000</td>\n",
       "      <td>36</td>\n",
       "      <td>1</td>\n",
       "    </tr>\n",
       "  </tbody>\n",
       "</table>\n",
       "</div>"
      ],
      "text/plain": [
       "       Name      Department Work Level  Income  Age  Experince\n",
       "0  Shivance              HR        WL1   45000   21          2\n",
       "1    Devika         Finance        WL3    5600   32          5\n",
       "2  Veshnavi       Marketing        WL2    7800   25          9\n",
       "3   Shivani  Data Analytics        WL5    9800   45          7\n",
       "4   Krishna          Finace        WL4   23000   36          1"
      ]
     },
     "execution_count": 52,
     "metadata": {},
     "output_type": "execute_result"
    }
   ],
   "source": [
    "Employees.head()"
   ]
  },
  {
   "cell_type": "code",
   "execution_count": 53,
   "id": "1894a7f6",
   "metadata": {},
   "outputs": [
    {
     "data": {
      "text/plain": [
       "Department\n",
       "Data Analytics     8150.0\n",
       "Finace            23000.0\n",
       "Finance            6050.0\n",
       "HR                45000.0\n",
       "Marketing          7800.0\n",
       "Operations         5200.0\n",
       "Supply Chain      78900.0\n",
       "Name: Income, dtype: float64"
      ]
     },
     "execution_count": 53,
     "metadata": {},
     "output_type": "execute_result"
    }
   ],
   "source": [
    "Employees.groupby(\"Department\")[\"Income\"].mean()"
   ]
  },
  {
   "cell_type": "code",
   "execution_count": 55,
   "id": "ab010bff",
   "metadata": {},
   "outputs": [
    {
     "data": {
      "text/html": [
       "<div>\n",
       "<style scoped>\n",
       "    .dataframe tbody tr th:only-of-type {\n",
       "        vertical-align: middle;\n",
       "    }\n",
       "\n",
       "    .dataframe tbody tr th {\n",
       "        vertical-align: top;\n",
       "    }\n",
       "\n",
       "    .dataframe thead th {\n",
       "        text-align: right;\n",
       "    }\n",
       "</style>\n",
       "<table border=\"1\" class=\"dataframe\">\n",
       "  <thead>\n",
       "    <tr style=\"text-align: right;\">\n",
       "      <th></th>\n",
       "      <th></th>\n",
       "      <th>Income</th>\n",
       "    </tr>\n",
       "    <tr>\n",
       "      <th>Department</th>\n",
       "      <th>Work Level</th>\n",
       "      <th></th>\n",
       "    </tr>\n",
       "  </thead>\n",
       "  <tbody>\n",
       "    <tr>\n",
       "      <th rowspan=\"2\" valign=\"top\">Data Analytics</th>\n",
       "      <th>WL5</th>\n",
       "      <td>9800.0</td>\n",
       "    </tr>\n",
       "    <tr>\n",
       "      <th>WL7</th>\n",
       "      <td>6500.0</td>\n",
       "    </tr>\n",
       "    <tr>\n",
       "      <th>Finace</th>\n",
       "      <th>WL4</th>\n",
       "      <td>23000.0</td>\n",
       "    </tr>\n",
       "    <tr>\n",
       "      <th rowspan=\"2\" valign=\"top\">Finance</th>\n",
       "      <th>WL3</th>\n",
       "      <td>5600.0</td>\n",
       "    </tr>\n",
       "    <tr>\n",
       "      <th>WL9</th>\n",
       "      <td>6500.0</td>\n",
       "    </tr>\n",
       "    <tr>\n",
       "      <th>HR</th>\n",
       "      <th>WL1</th>\n",
       "      <td>45000.0</td>\n",
       "    </tr>\n",
       "    <tr>\n",
       "      <th>Marketing</th>\n",
       "      <th>WL2</th>\n",
       "      <td>7800.0</td>\n",
       "    </tr>\n",
       "    <tr>\n",
       "      <th>Operations</th>\n",
       "      <th>WL6</th>\n",
       "      <td>5200.0</td>\n",
       "    </tr>\n",
       "    <tr>\n",
       "      <th>Supply Chain</th>\n",
       "      <th>WL8</th>\n",
       "      <td>78900.0</td>\n",
       "    </tr>\n",
       "  </tbody>\n",
       "</table>\n",
       "</div>"
      ],
      "text/plain": [
       "                            Income\n",
       "Department     Work Level         \n",
       "Data Analytics WL5          9800.0\n",
       "               WL7          6500.0\n",
       "Finace         WL4         23000.0\n",
       "Finance        WL3          5600.0\n",
       "               WL9          6500.0\n",
       "HR             WL1         45000.0\n",
       "Marketing      WL2          7800.0\n",
       "Operations     WL6          5200.0\n",
       "Supply Chain   WL8         78900.0"
      ]
     },
     "execution_count": 55,
     "metadata": {},
     "output_type": "execute_result"
    }
   ],
   "source": [
    "Employees.groupby([\"Department\",\"Work Level\"])[[\"Income\"]].agg(\"mean\") \n",
    "# We get mean of income according to department and work level. We see no nan values here , because it does not get na values."
   ]
  },
  {
   "cell_type": "code",
   "execution_count": 57,
   "id": "bc305e81",
   "metadata": {},
   "outputs": [
    {
     "data": {
      "text/html": [
       "<div>\n",
       "<style scoped>\n",
       "    .dataframe tbody tr th:only-of-type {\n",
       "        vertical-align: middle;\n",
       "    }\n",
       "\n",
       "    .dataframe tbody tr th {\n",
       "        vertical-align: top;\n",
       "    }\n",
       "\n",
       "    .dataframe thead tr th {\n",
       "        text-align: left;\n",
       "    }\n",
       "\n",
       "    .dataframe thead tr:last-of-type th {\n",
       "        text-align: right;\n",
       "    }\n",
       "</style>\n",
       "<table border=\"1\" class=\"dataframe\">\n",
       "  <thead>\n",
       "    <tr>\n",
       "      <th></th>\n",
       "      <th colspan=\"9\" halign=\"left\">Income</th>\n",
       "    </tr>\n",
       "    <tr>\n",
       "      <th>Work Level</th>\n",
       "      <th>WL1</th>\n",
       "      <th>WL2</th>\n",
       "      <th>WL3</th>\n",
       "      <th>WL4</th>\n",
       "      <th>WL5</th>\n",
       "      <th>WL6</th>\n",
       "      <th>WL7</th>\n",
       "      <th>WL8</th>\n",
       "      <th>WL9</th>\n",
       "    </tr>\n",
       "    <tr>\n",
       "      <th>Department</th>\n",
       "      <th></th>\n",
       "      <th></th>\n",
       "      <th></th>\n",
       "      <th></th>\n",
       "      <th></th>\n",
       "      <th></th>\n",
       "      <th></th>\n",
       "      <th></th>\n",
       "      <th></th>\n",
       "    </tr>\n",
       "  </thead>\n",
       "  <tbody>\n",
       "    <tr>\n",
       "      <th>Data Analytics</th>\n",
       "      <td>NaN</td>\n",
       "      <td>NaN</td>\n",
       "      <td>NaN</td>\n",
       "      <td>NaN</td>\n",
       "      <td>9800.0</td>\n",
       "      <td>NaN</td>\n",
       "      <td>6500.0</td>\n",
       "      <td>NaN</td>\n",
       "      <td>NaN</td>\n",
       "    </tr>\n",
       "    <tr>\n",
       "      <th>Finace</th>\n",
       "      <td>NaN</td>\n",
       "      <td>NaN</td>\n",
       "      <td>NaN</td>\n",
       "      <td>23000.0</td>\n",
       "      <td>NaN</td>\n",
       "      <td>NaN</td>\n",
       "      <td>NaN</td>\n",
       "      <td>NaN</td>\n",
       "      <td>NaN</td>\n",
       "    </tr>\n",
       "    <tr>\n",
       "      <th>Finance</th>\n",
       "      <td>NaN</td>\n",
       "      <td>NaN</td>\n",
       "      <td>5600.0</td>\n",
       "      <td>NaN</td>\n",
       "      <td>NaN</td>\n",
       "      <td>NaN</td>\n",
       "      <td>NaN</td>\n",
       "      <td>NaN</td>\n",
       "      <td>6500.0</td>\n",
       "    </tr>\n",
       "    <tr>\n",
       "      <th>HR</th>\n",
       "      <td>45000.0</td>\n",
       "      <td>NaN</td>\n",
       "      <td>NaN</td>\n",
       "      <td>NaN</td>\n",
       "      <td>NaN</td>\n",
       "      <td>NaN</td>\n",
       "      <td>NaN</td>\n",
       "      <td>NaN</td>\n",
       "      <td>NaN</td>\n",
       "    </tr>\n",
       "    <tr>\n",
       "      <th>Marketing</th>\n",
       "      <td>NaN</td>\n",
       "      <td>7800.0</td>\n",
       "      <td>NaN</td>\n",
       "      <td>NaN</td>\n",
       "      <td>NaN</td>\n",
       "      <td>NaN</td>\n",
       "      <td>NaN</td>\n",
       "      <td>NaN</td>\n",
       "      <td>NaN</td>\n",
       "    </tr>\n",
       "    <tr>\n",
       "      <th>Operations</th>\n",
       "      <td>NaN</td>\n",
       "      <td>NaN</td>\n",
       "      <td>NaN</td>\n",
       "      <td>NaN</td>\n",
       "      <td>NaN</td>\n",
       "      <td>5200.0</td>\n",
       "      <td>NaN</td>\n",
       "      <td>NaN</td>\n",
       "      <td>NaN</td>\n",
       "    </tr>\n",
       "    <tr>\n",
       "      <th>Supply Chain</th>\n",
       "      <td>NaN</td>\n",
       "      <td>NaN</td>\n",
       "      <td>NaN</td>\n",
       "      <td>NaN</td>\n",
       "      <td>NaN</td>\n",
       "      <td>NaN</td>\n",
       "      <td>NaN</td>\n",
       "      <td>78900.0</td>\n",
       "      <td>NaN</td>\n",
       "    </tr>\n",
       "  </tbody>\n",
       "</table>\n",
       "</div>"
      ],
      "text/plain": [
       "                 Income                                                   \\\n",
       "Work Level          WL1     WL2     WL3      WL4     WL5     WL6     WL7   \n",
       "Department                                                                 \n",
       "Data Analytics      NaN     NaN     NaN      NaN  9800.0     NaN  6500.0   \n",
       "Finace              NaN     NaN     NaN  23000.0     NaN     NaN     NaN   \n",
       "Finance             NaN     NaN  5600.0      NaN     NaN     NaN     NaN   \n",
       "HR              45000.0     NaN     NaN      NaN     NaN     NaN     NaN   \n",
       "Marketing           NaN  7800.0     NaN      NaN     NaN     NaN     NaN   \n",
       "Operations          NaN     NaN     NaN      NaN     NaN  5200.0     NaN   \n",
       "Supply Chain        NaN     NaN     NaN      NaN     NaN     NaN     NaN   \n",
       "\n",
       "                                 \n",
       "Work Level          WL8     WL9  \n",
       "Department                       \n",
       "Data Analytics      NaN     NaN  \n",
       "Finace              NaN     NaN  \n",
       "Finance             NaN  6500.0  \n",
       "HR                  NaN     NaN  \n",
       "Marketing           NaN     NaN  \n",
       "Operations          NaN     NaN  \n",
       "Supply Chain    78900.0     NaN  "
      ]
     },
     "execution_count": 57,
     "metadata": {},
     "output_type": "execute_result"
    }
   ],
   "source": [
    "Employees.groupby([\"Department\",\"Work Level\"])[[\"Income\"]].agg(\"mean\").unstack()\n",
    "# We get mean of income according to department and work level. Unstack() helps to see better."
   ]
  },
  {
   "cell_type": "code",
   "execution_count": 58,
   "id": "4e62c498",
   "metadata": {},
   "outputs": [
    {
     "data": {
      "text/html": [
       "<div>\n",
       "<style scoped>\n",
       "    .dataframe tbody tr th:only-of-type {\n",
       "        vertical-align: middle;\n",
       "    }\n",
       "\n",
       "    .dataframe tbody tr th {\n",
       "        vertical-align: top;\n",
       "    }\n",
       "\n",
       "    .dataframe thead th {\n",
       "        text-align: right;\n",
       "    }\n",
       "</style>\n",
       "<table border=\"1\" class=\"dataframe\">\n",
       "  <thead>\n",
       "    <tr style=\"text-align: right;\">\n",
       "      <th>Work Level</th>\n",
       "      <th>WL1</th>\n",
       "      <th>WL2</th>\n",
       "      <th>WL3</th>\n",
       "      <th>WL4</th>\n",
       "      <th>WL5</th>\n",
       "      <th>WL6</th>\n",
       "      <th>WL7</th>\n",
       "      <th>WL8</th>\n",
       "      <th>WL9</th>\n",
       "    </tr>\n",
       "    <tr>\n",
       "      <th>Department</th>\n",
       "      <th></th>\n",
       "      <th></th>\n",
       "      <th></th>\n",
       "      <th></th>\n",
       "      <th></th>\n",
       "      <th></th>\n",
       "      <th></th>\n",
       "      <th></th>\n",
       "      <th></th>\n",
       "    </tr>\n",
       "  </thead>\n",
       "  <tbody>\n",
       "    <tr>\n",
       "      <th>Data Analytics</th>\n",
       "      <td>NaN</td>\n",
       "      <td>NaN</td>\n",
       "      <td>NaN</td>\n",
       "      <td>NaN</td>\n",
       "      <td>9800.0</td>\n",
       "      <td>NaN</td>\n",
       "      <td>6500.0</td>\n",
       "      <td>NaN</td>\n",
       "      <td>NaN</td>\n",
       "    </tr>\n",
       "    <tr>\n",
       "      <th>Finace</th>\n",
       "      <td>NaN</td>\n",
       "      <td>NaN</td>\n",
       "      <td>NaN</td>\n",
       "      <td>23000.0</td>\n",
       "      <td>NaN</td>\n",
       "      <td>NaN</td>\n",
       "      <td>NaN</td>\n",
       "      <td>NaN</td>\n",
       "      <td>NaN</td>\n",
       "    </tr>\n",
       "    <tr>\n",
       "      <th>Finance</th>\n",
       "      <td>NaN</td>\n",
       "      <td>NaN</td>\n",
       "      <td>5600.0</td>\n",
       "      <td>NaN</td>\n",
       "      <td>NaN</td>\n",
       "      <td>NaN</td>\n",
       "      <td>NaN</td>\n",
       "      <td>NaN</td>\n",
       "      <td>6500.0</td>\n",
       "    </tr>\n",
       "    <tr>\n",
       "      <th>HR</th>\n",
       "      <td>45000.0</td>\n",
       "      <td>NaN</td>\n",
       "      <td>NaN</td>\n",
       "      <td>NaN</td>\n",
       "      <td>NaN</td>\n",
       "      <td>NaN</td>\n",
       "      <td>NaN</td>\n",
       "      <td>NaN</td>\n",
       "      <td>NaN</td>\n",
       "    </tr>\n",
       "    <tr>\n",
       "      <th>Marketing</th>\n",
       "      <td>NaN</td>\n",
       "      <td>7800.0</td>\n",
       "      <td>NaN</td>\n",
       "      <td>NaN</td>\n",
       "      <td>NaN</td>\n",
       "      <td>NaN</td>\n",
       "      <td>NaN</td>\n",
       "      <td>NaN</td>\n",
       "      <td>NaN</td>\n",
       "    </tr>\n",
       "    <tr>\n",
       "      <th>Operations</th>\n",
       "      <td>NaN</td>\n",
       "      <td>NaN</td>\n",
       "      <td>NaN</td>\n",
       "      <td>NaN</td>\n",
       "      <td>NaN</td>\n",
       "      <td>5200.0</td>\n",
       "      <td>NaN</td>\n",
       "      <td>NaN</td>\n",
       "      <td>NaN</td>\n",
       "    </tr>\n",
       "    <tr>\n",
       "      <th>Supply Chain</th>\n",
       "      <td>NaN</td>\n",
       "      <td>NaN</td>\n",
       "      <td>NaN</td>\n",
       "      <td>NaN</td>\n",
       "      <td>NaN</td>\n",
       "      <td>NaN</td>\n",
       "      <td>NaN</td>\n",
       "      <td>78900.0</td>\n",
       "      <td>NaN</td>\n",
       "    </tr>\n",
       "  </tbody>\n",
       "</table>\n",
       "</div>"
      ],
      "text/plain": [
       "Work Level          WL1     WL2     WL3      WL4     WL5     WL6     WL7  \\\n",
       "Department                                                                 \n",
       "Data Analytics      NaN     NaN     NaN      NaN  9800.0     NaN  6500.0   \n",
       "Finace              NaN     NaN     NaN  23000.0     NaN     NaN     NaN   \n",
       "Finance             NaN     NaN  5600.0      NaN     NaN     NaN     NaN   \n",
       "HR              45000.0     NaN     NaN      NaN     NaN     NaN     NaN   \n",
       "Marketing           NaN  7800.0     NaN      NaN     NaN     NaN     NaN   \n",
       "Operations          NaN     NaN     NaN      NaN     NaN  5200.0     NaN   \n",
       "Supply Chain        NaN     NaN     NaN      NaN     NaN     NaN     NaN   \n",
       "\n",
       "Work Level          WL8     WL9  \n",
       "Department                       \n",
       "Data Analytics      NaN     NaN  \n",
       "Finace              NaN     NaN  \n",
       "Finance             NaN  6500.0  \n",
       "HR                  NaN     NaN  \n",
       "Marketing           NaN     NaN  \n",
       "Operations          NaN     NaN  \n",
       "Supply Chain    78900.0     NaN  "
      ]
     },
     "execution_count": 58,
     "metadata": {},
     "output_type": "execute_result"
    }
   ],
   "source": [
    "Employees.pivot_table(\"Income\",index=\"Department\",columns=\"Work Level\") # We can make it easier ."
   ]
  },
  {
   "cell_type": "code",
   "execution_count": 62,
   "id": "62588bb0",
   "metadata": {},
   "outputs": [
    {
     "data": {
      "text/html": [
       "<div>\n",
       "<style scoped>\n",
       "    .dataframe tbody tr th:only-of-type {\n",
       "        vertical-align: middle;\n",
       "    }\n",
       "\n",
       "    .dataframe tbody tr th {\n",
       "        vertical-align: top;\n",
       "    }\n",
       "\n",
       "    .dataframe thead th {\n",
       "        text-align: right;\n",
       "    }\n",
       "</style>\n",
       "<table border=\"1\" class=\"dataframe\">\n",
       "  <thead>\n",
       "    <tr style=\"text-align: right;\">\n",
       "      <th></th>\n",
       "      <th>Name</th>\n",
       "      <th>Department</th>\n",
       "      <th>Work Level</th>\n",
       "      <th>Income</th>\n",
       "      <th>Age</th>\n",
       "      <th>Experince</th>\n",
       "    </tr>\n",
       "  </thead>\n",
       "  <tbody>\n",
       "    <tr>\n",
       "      <th>0</th>\n",
       "      <td>Shivance</td>\n",
       "      <td>HR</td>\n",
       "      <td>WL1</td>\n",
       "      <td>45000</td>\n",
       "      <td>21</td>\n",
       "      <td>2</td>\n",
       "    </tr>\n",
       "    <tr>\n",
       "      <th>1</th>\n",
       "      <td>Devika</td>\n",
       "      <td>Finance</td>\n",
       "      <td>WL3</td>\n",
       "      <td>5600</td>\n",
       "      <td>32</td>\n",
       "      <td>5</td>\n",
       "    </tr>\n",
       "    <tr>\n",
       "      <th>2</th>\n",
       "      <td>Veshnavi</td>\n",
       "      <td>Marketing</td>\n",
       "      <td>WL2</td>\n",
       "      <td>7800</td>\n",
       "      <td>25</td>\n",
       "      <td>9</td>\n",
       "    </tr>\n",
       "    <tr>\n",
       "      <th>3</th>\n",
       "      <td>Shivani</td>\n",
       "      <td>Data Analytics</td>\n",
       "      <td>WL5</td>\n",
       "      <td>9800</td>\n",
       "      <td>45</td>\n",
       "      <td>7</td>\n",
       "    </tr>\n",
       "    <tr>\n",
       "      <th>4</th>\n",
       "      <td>Krishna</td>\n",
       "      <td>Finace</td>\n",
       "      <td>WL4</td>\n",
       "      <td>23000</td>\n",
       "      <td>36</td>\n",
       "      <td>1</td>\n",
       "    </tr>\n",
       "    <tr>\n",
       "      <th>5</th>\n",
       "      <td>Devika</td>\n",
       "      <td>Operations</td>\n",
       "      <td>WL6</td>\n",
       "      <td>5200</td>\n",
       "      <td>25</td>\n",
       "      <td>3</td>\n",
       "    </tr>\n",
       "    <tr>\n",
       "      <th>6</th>\n",
       "      <td>Krishna</td>\n",
       "      <td>Finance</td>\n",
       "      <td>WL9</td>\n",
       "      <td>6500</td>\n",
       "      <td>23</td>\n",
       "      <td>4</td>\n",
       "    </tr>\n",
       "    <tr>\n",
       "      <th>7</th>\n",
       "      <td>Ambika</td>\n",
       "      <td>Supply Chain</td>\n",
       "      <td>WL8</td>\n",
       "      <td>78900</td>\n",
       "      <td>65</td>\n",
       "      <td>6</td>\n",
       "    </tr>\n",
       "    <tr>\n",
       "      <th>8</th>\n",
       "      <td>Drashti</td>\n",
       "      <td>Data Analytics</td>\n",
       "      <td>WL7</td>\n",
       "      <td>6500</td>\n",
       "      <td>45</td>\n",
       "      <td>5</td>\n",
       "    </tr>\n",
       "  </tbody>\n",
       "</table>\n",
       "</div>"
      ],
      "text/plain": [
       "       Name      Department Work Level  Income  Age  Experince\n",
       "0  Shivance              HR        WL1   45000   21          2\n",
       "1    Devika         Finance        WL3    5600   32          5\n",
       "2  Veshnavi       Marketing        WL2    7800   25          9\n",
       "3   Shivani  Data Analytics        WL5    9800   45          7\n",
       "4   Krishna          Finace        WL4   23000   36          1\n",
       "5    Devika      Operations        WL6    5200   25          3\n",
       "6   Krishna         Finance        WL9    6500   23          4\n",
       "7    Ambika    Supply Chain        WL8   78900   65          6\n",
       "8   Drashti  Data Analytics        WL7    6500   45          5"
      ]
     },
     "execution_count": 62,
     "metadata": {},
     "output_type": "execute_result"
    }
   ],
   "source": [
    "Employees"
   ]
  },
  {
   "cell_type": "code",
   "execution_count": 68,
   "id": "4ff1c4e9",
   "metadata": {},
   "outputs": [
    {
     "data": {
      "text/plain": [
       "0    (0, 5]\n",
       "1    (0, 5]\n",
       "2    (7, 9]\n",
       "3    (6, 7]\n",
       "4    (0, 5]\n",
       "5    (0, 5]\n",
       "6    (0, 5]\n",
       "7    (5, 6]\n",
       "8    (0, 5]\n",
       "Name: Experince, dtype: category\n",
       "Categories (4, interval[int64, right]): [(0, 5] < (5, 6] < (6, 7] < (7, 9]]"
      ]
     },
     "execution_count": 68,
     "metadata": {},
     "output_type": "execute_result"
    }
   ],
   "source": [
    "Exp = pd.cut(Employees[\"Experince\"],[0,5,6,7,9])\n",
    "Exp"
   ]
  },
  {
   "cell_type": "code",
   "execution_count": 71,
   "id": "66968bca",
   "metadata": {},
   "outputs": [
    {
     "data": {
      "text/html": [
       "<div>\n",
       "<style scoped>\n",
       "    .dataframe tbody tr th:only-of-type {\n",
       "        vertical-align: middle;\n",
       "    }\n",
       "\n",
       "    .dataframe tbody tr th {\n",
       "        vertical-align: top;\n",
       "    }\n",
       "\n",
       "    .dataframe thead th {\n",
       "        text-align: right;\n",
       "    }\n",
       "</style>\n",
       "<table border=\"1\" class=\"dataframe\">\n",
       "  <thead>\n",
       "    <tr style=\"text-align: right;\">\n",
       "      <th></th>\n",
       "      <th>Work Level</th>\n",
       "      <th>WL1</th>\n",
       "      <th>WL2</th>\n",
       "      <th>WL3</th>\n",
       "      <th>WL4</th>\n",
       "      <th>WL5</th>\n",
       "      <th>WL6</th>\n",
       "      <th>WL7</th>\n",
       "      <th>WL8</th>\n",
       "      <th>WL9</th>\n",
       "    </tr>\n",
       "    <tr>\n",
       "      <th>Department</th>\n",
       "      <th>Experince</th>\n",
       "      <th></th>\n",
       "      <th></th>\n",
       "      <th></th>\n",
       "      <th></th>\n",
       "      <th></th>\n",
       "      <th></th>\n",
       "      <th></th>\n",
       "      <th></th>\n",
       "      <th></th>\n",
       "    </tr>\n",
       "  </thead>\n",
       "  <tbody>\n",
       "    <tr>\n",
       "      <th rowspan=\"2\" valign=\"top\">Data Analytics</th>\n",
       "      <th>(0, 5]</th>\n",
       "      <td>NaN</td>\n",
       "      <td>NaN</td>\n",
       "      <td>NaN</td>\n",
       "      <td>NaN</td>\n",
       "      <td>NaN</td>\n",
       "      <td>NaN</td>\n",
       "      <td>6500.0</td>\n",
       "      <td>NaN</td>\n",
       "      <td>NaN</td>\n",
       "    </tr>\n",
       "    <tr>\n",
       "      <th>(6, 7]</th>\n",
       "      <td>NaN</td>\n",
       "      <td>NaN</td>\n",
       "      <td>NaN</td>\n",
       "      <td>NaN</td>\n",
       "      <td>9800.0</td>\n",
       "      <td>NaN</td>\n",
       "      <td>NaN</td>\n",
       "      <td>NaN</td>\n",
       "      <td>NaN</td>\n",
       "    </tr>\n",
       "    <tr>\n",
       "      <th>Finace</th>\n",
       "      <th>(0, 5]</th>\n",
       "      <td>NaN</td>\n",
       "      <td>NaN</td>\n",
       "      <td>NaN</td>\n",
       "      <td>23000.0</td>\n",
       "      <td>NaN</td>\n",
       "      <td>NaN</td>\n",
       "      <td>NaN</td>\n",
       "      <td>NaN</td>\n",
       "      <td>NaN</td>\n",
       "    </tr>\n",
       "    <tr>\n",
       "      <th>Finance</th>\n",
       "      <th>(0, 5]</th>\n",
       "      <td>NaN</td>\n",
       "      <td>NaN</td>\n",
       "      <td>5600.0</td>\n",
       "      <td>NaN</td>\n",
       "      <td>NaN</td>\n",
       "      <td>NaN</td>\n",
       "      <td>NaN</td>\n",
       "      <td>NaN</td>\n",
       "      <td>6500.0</td>\n",
       "    </tr>\n",
       "    <tr>\n",
       "      <th>HR</th>\n",
       "      <th>(0, 5]</th>\n",
       "      <td>45000.0</td>\n",
       "      <td>NaN</td>\n",
       "      <td>NaN</td>\n",
       "      <td>NaN</td>\n",
       "      <td>NaN</td>\n",
       "      <td>NaN</td>\n",
       "      <td>NaN</td>\n",
       "      <td>NaN</td>\n",
       "      <td>NaN</td>\n",
       "    </tr>\n",
       "    <tr>\n",
       "      <th>Marketing</th>\n",
       "      <th>(7, 9]</th>\n",
       "      <td>NaN</td>\n",
       "      <td>7800.0</td>\n",
       "      <td>NaN</td>\n",
       "      <td>NaN</td>\n",
       "      <td>NaN</td>\n",
       "      <td>NaN</td>\n",
       "      <td>NaN</td>\n",
       "      <td>NaN</td>\n",
       "      <td>NaN</td>\n",
       "    </tr>\n",
       "    <tr>\n",
       "      <th>Operations</th>\n",
       "      <th>(0, 5]</th>\n",
       "      <td>NaN</td>\n",
       "      <td>NaN</td>\n",
       "      <td>NaN</td>\n",
       "      <td>NaN</td>\n",
       "      <td>NaN</td>\n",
       "      <td>5200.0</td>\n",
       "      <td>NaN</td>\n",
       "      <td>NaN</td>\n",
       "      <td>NaN</td>\n",
       "    </tr>\n",
       "    <tr>\n",
       "      <th>Supply Chain</th>\n",
       "      <th>(5, 6]</th>\n",
       "      <td>NaN</td>\n",
       "      <td>NaN</td>\n",
       "      <td>NaN</td>\n",
       "      <td>NaN</td>\n",
       "      <td>NaN</td>\n",
       "      <td>NaN</td>\n",
       "      <td>NaN</td>\n",
       "      <td>78900.0</td>\n",
       "      <td>NaN</td>\n",
       "    </tr>\n",
       "  </tbody>\n",
       "</table>\n",
       "</div>"
      ],
      "text/plain": [
       "Work Level                    WL1     WL2     WL3      WL4     WL5     WL6  \\\n",
       "Department     Experince                                                     \n",
       "Data Analytics (0, 5]         NaN     NaN     NaN      NaN     NaN     NaN   \n",
       "               (6, 7]         NaN     NaN     NaN      NaN  9800.0     NaN   \n",
       "Finace         (0, 5]         NaN     NaN     NaN  23000.0     NaN     NaN   \n",
       "Finance        (0, 5]         NaN     NaN  5600.0      NaN     NaN     NaN   \n",
       "HR             (0, 5]     45000.0     NaN     NaN      NaN     NaN     NaN   \n",
       "Marketing      (7, 9]         NaN  7800.0     NaN      NaN     NaN     NaN   \n",
       "Operations     (0, 5]         NaN     NaN     NaN      NaN     NaN  5200.0   \n",
       "Supply Chain   (5, 6]         NaN     NaN     NaN      NaN     NaN     NaN   \n",
       "\n",
       "Work Level                   WL7      WL8     WL9  \n",
       "Department     Experince                           \n",
       "Data Analytics (0, 5]     6500.0      NaN     NaN  \n",
       "               (6, 7]        NaN      NaN     NaN  \n",
       "Finace         (0, 5]        NaN      NaN     NaN  \n",
       "Finance        (0, 5]        NaN      NaN  6500.0  \n",
       "HR             (0, 5]        NaN      NaN     NaN  \n",
       "Marketing      (7, 9]        NaN      NaN     NaN  \n",
       "Operations     (0, 5]        NaN      NaN     NaN  \n",
       "Supply Chain   (5, 6]        NaN  78900.0     NaN  "
      ]
     },
     "execution_count": 71,
     "metadata": {},
     "output_type": "execute_result"
    }
   ],
   "source": [
    "Employees.pivot_table(\"Income\",index=[\"Department\",Exp],columns=\"Work Level\") # We can make it easier."
   ]
  },
  {
   "cell_type": "markdown",
   "id": "49d0eb32",
   "metadata": {},
   "source": [
    "MISSING Values (NaN)"
   ]
  },
  {
   "cell_type": "code",
   "execution_count": 81,
   "id": "63befd3c",
   "metadata": {},
   "outputs": [],
   "source": [
    "import numpy as np"
   ]
  },
  {
   "cell_type": "code",
   "execution_count": 83,
   "id": "e2687ac8",
   "metadata": {},
   "outputs": [
    {
     "data": {
      "text/html": [
       "<div>\n",
       "<style scoped>\n",
       "    .dataframe tbody tr th:only-of-type {\n",
       "        vertical-align: middle;\n",
       "    }\n",
       "\n",
       "    .dataframe tbody tr th {\n",
       "        vertical-align: top;\n",
       "    }\n",
       "\n",
       "    .dataframe thead th {\n",
       "        text-align: right;\n",
       "    }\n",
       "</style>\n",
       "<table border=\"1\" class=\"dataframe\">\n",
       "  <thead>\n",
       "    <tr style=\"text-align: right;\">\n",
       "      <th></th>\n",
       "      <th>Name</th>\n",
       "      <th>Department</th>\n",
       "      <th>Work Level</th>\n",
       "      <th>Income</th>\n",
       "      <th>Age</th>\n",
       "      <th>Experience</th>\n",
       "    </tr>\n",
       "  </thead>\n",
       "  <tbody>\n",
       "    <tr>\n",
       "      <th>0</th>\n",
       "      <td>Shivance</td>\n",
       "      <td>IT</td>\n",
       "      <td>WL1</td>\n",
       "      <td>12000</td>\n",
       "      <td>21</td>\n",
       "      <td>2</td>\n",
       "    </tr>\n",
       "    <tr>\n",
       "      <th>1</th>\n",
       "      <td>Devika</td>\n",
       "      <td>HR</td>\n",
       "      <td>WL3</td>\n",
       "      <td>4500</td>\n",
       "      <td>34</td>\n",
       "      <td>5</td>\n",
       "    </tr>\n",
       "    <tr>\n",
       "      <th>2</th>\n",
       "      <td>Ayushi</td>\n",
       "      <td>Finance</td>\n",
       "      <td>WL2</td>\n",
       "      <td>36000</td>\n",
       "      <td>56</td>\n",
       "      <td>1</td>\n",
       "    </tr>\n",
       "    <tr>\n",
       "      <th>3</th>\n",
       "      <td>Punit</td>\n",
       "      <td>Marketing</td>\n",
       "      <td>WL5</td>\n",
       "      <td>25000</td>\n",
       "      <td>23</td>\n",
       "      <td>3</td>\n",
       "    </tr>\n",
       "    <tr>\n",
       "      <th>4</th>\n",
       "      <td>Krishna</td>\n",
       "      <td>Finance</td>\n",
       "      <td>WL6</td>\n",
       "      <td>12300</td>\n",
       "      <td>44</td>\n",
       "      <td>12</td>\n",
       "    </tr>\n",
       "  </tbody>\n",
       "</table>\n",
       "</div>"
      ],
      "text/plain": [
       "       Name Department Work Level  Income  Age  Experience\n",
       "0  Shivance         IT        WL1   12000   21           2\n",
       "1    Devika         HR        WL3    4500   34           5\n",
       "2    Ayushi    Finance        WL2   36000   56           1\n",
       "3     Punit  Marketing        WL5   25000   23           3\n",
       "4   Krishna    Finance        WL6   12300   44          12"
      ]
     },
     "execution_count": 83,
     "metadata": {},
     "output_type": "execute_result"
    }
   ],
   "source": [
    "Employees = pd.DataFrame({\"Name\" : [\"Shivance\",\"Devika\",\"Ayushi\",\"Punit\",\"Krishna\",\"Radhika\",\"Shivani\",\"Veshnavi\",\"Ambika\"], \"Department\" : [\"IT\",\"HR\",\"Finance\",\"Marketing\",\"Finance\",\"Marketing\",\"Supply Chain\",\"HR\",\"Data Analytics\"], \"Work Level\" : [\"WL1\",\"WL3\",\"WL2\",\"WL5\",\"WL6\",\"None\",\"WL9\",\"None\",\"WL9\"], \"Income\" : [12000,4500,36000,25000,12300,4500,7800,9800,5800], \"Age\" : [21,34,56,23,44,34,32,54,76], \"Experience\" : [2,5,1,3,12,8,8,4,6]})\n",
    "Employees.head()"
   ]
  },
  {
   "cell_type": "code",
   "execution_count": 85,
   "id": "00fc496b",
   "metadata": {},
   "outputs": [
    {
     "data": {
      "text/plain": [
       "0    False\n",
       "1    False\n",
       "2    False\n",
       "3    False\n",
       "4    False\n",
       "5    False\n",
       "6    False\n",
       "7    False\n",
       "8    False\n",
       "Name: Income, dtype: bool"
      ]
     },
     "execution_count": 85,
     "metadata": {},
     "output_type": "execute_result"
    }
   ],
   "source": [
    "Employees[\"Income\"].isnull() # It returns true if row has nan value."
   ]
  },
  {
   "cell_type": "code",
   "execution_count": 87,
   "id": "62c56b39",
   "metadata": {},
   "outputs": [
    {
     "data": {
      "text/html": [
       "<div>\n",
       "<style scoped>\n",
       "    .dataframe tbody tr th:only-of-type {\n",
       "        vertical-align: middle;\n",
       "    }\n",
       "\n",
       "    .dataframe tbody tr th {\n",
       "        vertical-align: top;\n",
       "    }\n",
       "\n",
       "    .dataframe thead th {\n",
       "        text-align: right;\n",
       "    }\n",
       "</style>\n",
       "<table border=\"1\" class=\"dataframe\">\n",
       "  <thead>\n",
       "    <tr style=\"text-align: right;\">\n",
       "      <th></th>\n",
       "      <th>Name</th>\n",
       "      <th>Department</th>\n",
       "      <th>Work Level</th>\n",
       "      <th>Income</th>\n",
       "      <th>Age</th>\n",
       "      <th>Experience</th>\n",
       "    </tr>\n",
       "  </thead>\n",
       "  <tbody>\n",
       "  </tbody>\n",
       "</table>\n",
       "</div>"
      ],
      "text/plain": [
       "Empty DataFrame\n",
       "Columns: [Name, Department, Work Level, Income, Age, Experience]\n",
       "Index: []"
      ]
     },
     "execution_count": 87,
     "metadata": {},
     "output_type": "execute_result"
    }
   ],
   "source": [
    "Employees[Employees[\"Income\"].isnull()]"
   ]
  },
  {
   "cell_type": "markdown",
   "id": "7e32f57f",
   "metadata": {},
   "source": [
    "In order to fill missing values (nan),we can use fillna() method by giving spesific value."
   ]
  },
  {
   "cell_type": "code",
   "execution_count": 90,
   "id": "a562f172",
   "metadata": {},
   "outputs": [
    {
     "data": {
      "text/html": [
       "<div>\n",
       "<style scoped>\n",
       "    .dataframe tbody tr th:only-of-type {\n",
       "        vertical-align: middle;\n",
       "    }\n",
       "\n",
       "    .dataframe tbody tr th {\n",
       "        vertical-align: top;\n",
       "    }\n",
       "\n",
       "    .dataframe thead th {\n",
       "        text-align: right;\n",
       "    }\n",
       "</style>\n",
       "<table border=\"1\" class=\"dataframe\">\n",
       "  <thead>\n",
       "    <tr style=\"text-align: right;\">\n",
       "      <th></th>\n",
       "      <th>Name</th>\n",
       "      <th>Department</th>\n",
       "      <th>Work Level</th>\n",
       "      <th>Income</th>\n",
       "      <th>Age</th>\n",
       "      <th>Experience</th>\n",
       "    </tr>\n",
       "  </thead>\n",
       "  <tbody>\n",
       "  </tbody>\n",
       "</table>\n",
       "</div>"
      ],
      "text/plain": [
       "Empty DataFrame\n",
       "Columns: [Name, Department, Work Level, Income, Age, Experience]\n",
       "Index: []"
      ]
     },
     "execution_count": 90,
     "metadata": {},
     "output_type": "execute_result"
    }
   ],
   "source": [
    "income_nan = Employees[Employees[\"Income\"].isnull()]\n",
    "income_nan"
   ]
  },
  {
   "cell_type": "code",
   "execution_count": 92,
   "id": "163b2ae8",
   "metadata": {},
   "outputs": [
    {
     "data": {
      "text/html": [
       "<div>\n",
       "<style scoped>\n",
       "    .dataframe tbody tr th:only-of-type {\n",
       "        vertical-align: middle;\n",
       "    }\n",
       "\n",
       "    .dataframe tbody tr th {\n",
       "        vertical-align: top;\n",
       "    }\n",
       "\n",
       "    .dataframe thead th {\n",
       "        text-align: right;\n",
       "    }\n",
       "</style>\n",
       "<table border=\"1\" class=\"dataframe\">\n",
       "  <thead>\n",
       "    <tr style=\"text-align: right;\">\n",
       "      <th></th>\n",
       "      <th>Name</th>\n",
       "      <th>Department</th>\n",
       "      <th>Work Level</th>\n",
       "      <th>Income</th>\n",
       "      <th>Age</th>\n",
       "      <th>Experience</th>\n",
       "    </tr>\n",
       "  </thead>\n",
       "  <tbody>\n",
       "  </tbody>\n",
       "</table>\n",
       "</div>"
      ],
      "text/plain": [
       "Empty DataFrame\n",
       "Columns: [Name, Department, Work Level, Income, Age, Experience]\n",
       "Index: []"
      ]
     },
     "execution_count": 92,
     "metadata": {},
     "output_type": "execute_result"
    }
   ],
   "source": [
    "income_nan.fillna(1000) # It will fill all na values with 1000"
   ]
  },
  {
   "cell_type": "markdown",
   "id": "8807cad6",
   "metadata": {},
   "source": [
    "The new income values are float. Because nan values were float.We can change type after filling."
   ]
  },
  {
   "cell_type": "code",
   "execution_count": 106,
   "id": "9c382f1e",
   "metadata": {},
   "outputs": [
    {
     "data": {
      "text/html": [
       "<div>\n",
       "<style scoped>\n",
       "    .dataframe tbody tr th:only-of-type {\n",
       "        vertical-align: middle;\n",
       "    }\n",
       "\n",
       "    .dataframe tbody tr th {\n",
       "        vertical-align: top;\n",
       "    }\n",
       "\n",
       "    .dataframe thead th {\n",
       "        text-align: right;\n",
       "    }\n",
       "</style>\n",
       "<table border=\"1\" class=\"dataframe\">\n",
       "  <thead>\n",
       "    <tr style=\"text-align: right;\">\n",
       "      <th></th>\n",
       "      <th>Name</th>\n",
       "      <th>Department</th>\n",
       "      <th>Work Level</th>\n",
       "      <th>Income</th>\n",
       "      <th>Age</th>\n",
       "      <th>Experience</th>\n",
       "    </tr>\n",
       "  </thead>\n",
       "  <tbody>\n",
       "  </tbody>\n",
       "</table>\n",
       "</div>"
      ],
      "text/plain": [
       "Empty DataFrame\n",
       "Columns: [Name, Department, Work Level, Income, Age, Experience]\n",
       "Index: []"
      ]
     },
     "execution_count": 106,
     "metadata": {},
     "output_type": "execute_result"
    }
   ],
   "source": [
    "income_nan.fillna(Employees[\"Income\"].mean()) # We can also give a statistical value. It is better generally."
   ]
  },
  {
   "cell_type": "code",
   "execution_count": 107,
   "id": "c9781327",
   "metadata": {},
   "outputs": [
    {
     "data": {
      "text/html": [
       "<div>\n",
       "<style scoped>\n",
       "    .dataframe tbody tr th:only-of-type {\n",
       "        vertical-align: middle;\n",
       "    }\n",
       "\n",
       "    .dataframe tbody tr th {\n",
       "        vertical-align: top;\n",
       "    }\n",
       "\n",
       "    .dataframe thead th {\n",
       "        text-align: right;\n",
       "    }\n",
       "</style>\n",
       "<table border=\"1\" class=\"dataframe\">\n",
       "  <thead>\n",
       "    <tr style=\"text-align: right;\">\n",
       "      <th></th>\n",
       "      <th>Name</th>\n",
       "      <th>Department</th>\n",
       "      <th>Work Level</th>\n",
       "      <th>Income</th>\n",
       "      <th>Age</th>\n",
       "      <th>Experience</th>\n",
       "    </tr>\n",
       "  </thead>\n",
       "  <tbody>\n",
       "  </tbody>\n",
       "</table>\n",
       "</div>"
      ],
      "text/plain": [
       "Empty DataFrame\n",
       "Columns: [Name, Department, Work Level, Income, Age, Experience]\n",
       "Index: []"
      ]
     },
     "execution_count": 107,
     "metadata": {},
     "output_type": "execute_result"
    }
   ],
   "source": [
    "income_nan.fillna(Employees[\"Income\"].median()) # We can also give a statistical value. It is better generally."
   ]
  },
  {
   "cell_type": "markdown",
   "id": "b2976021",
   "metadata": {},
   "source": [
    "We can also directly drop missing values with dropna() method. But in general, it is not preferred because it delete also information about dataset"
   ]
  },
  {
   "cell_type": "code",
   "execution_count": 108,
   "id": "3f3ddca6",
   "metadata": {},
   "outputs": [
    {
     "data": {
      "text/html": [
       "<div>\n",
       "<style scoped>\n",
       "    .dataframe tbody tr th:only-of-type {\n",
       "        vertical-align: middle;\n",
       "    }\n",
       "\n",
       "    .dataframe tbody tr th {\n",
       "        vertical-align: top;\n",
       "    }\n",
       "\n",
       "    .dataframe thead th {\n",
       "        text-align: right;\n",
       "    }\n",
       "</style>\n",
       "<table border=\"1\" class=\"dataframe\">\n",
       "  <thead>\n",
       "    <tr style=\"text-align: right;\">\n",
       "      <th></th>\n",
       "      <th>Name</th>\n",
       "      <th>Department</th>\n",
       "      <th>Work Level</th>\n",
       "      <th>Income</th>\n",
       "      <th>Age</th>\n",
       "      <th>Experince</th>\n",
       "    </tr>\n",
       "  </thead>\n",
       "  <tbody>\n",
       "    <tr>\n",
       "      <th>0</th>\n",
       "      <td>Shivance</td>\n",
       "      <td>HR</td>\n",
       "      <td>WL1</td>\n",
       "      <td>45000</td>\n",
       "      <td>21</td>\n",
       "      <td>2</td>\n",
       "    </tr>\n",
       "    <tr>\n",
       "      <th>1</th>\n",
       "      <td>Devika</td>\n",
       "      <td>Finance</td>\n",
       "      <td>WL3</td>\n",
       "      <td>5600</td>\n",
       "      <td>32</td>\n",
       "      <td>5</td>\n",
       "    </tr>\n",
       "    <tr>\n",
       "      <th>2</th>\n",
       "      <td>Veshnavi</td>\n",
       "      <td>Marketing</td>\n",
       "      <td>WL2</td>\n",
       "      <td>7800</td>\n",
       "      <td>25</td>\n",
       "      <td>none</td>\n",
       "    </tr>\n",
       "    <tr>\n",
       "      <th>3</th>\n",
       "      <td>Shivani</td>\n",
       "      <td>Data Analytics</td>\n",
       "      <td>WL5</td>\n",
       "      <td>9800</td>\n",
       "      <td>45</td>\n",
       "      <td>7</td>\n",
       "    </tr>\n",
       "    <tr>\n",
       "      <th>4</th>\n",
       "      <td>Krishna</td>\n",
       "      <td>Finace</td>\n",
       "      <td>WL4</td>\n",
       "      <td>23000</td>\n",
       "      <td>36</td>\n",
       "      <td>none</td>\n",
       "    </tr>\n",
       "    <tr>\n",
       "      <th>5</th>\n",
       "      <td>Devika</td>\n",
       "      <td>Operations</td>\n",
       "      <td>WL6</td>\n",
       "      <td>5200</td>\n",
       "      <td>25</td>\n",
       "      <td>3</td>\n",
       "    </tr>\n",
       "    <tr>\n",
       "      <th>6</th>\n",
       "      <td>Krishna</td>\n",
       "      <td>Finance</td>\n",
       "      <td>WL9</td>\n",
       "      <td>6500</td>\n",
       "      <td>23</td>\n",
       "      <td>4</td>\n",
       "    </tr>\n",
       "    <tr>\n",
       "      <th>7</th>\n",
       "      <td>Ambika</td>\n",
       "      <td>Supply Chain</td>\n",
       "      <td>WL8</td>\n",
       "      <td>78900</td>\n",
       "      <td>65</td>\n",
       "      <td>6</td>\n",
       "    </tr>\n",
       "    <tr>\n",
       "      <th>8</th>\n",
       "      <td>Drashti</td>\n",
       "      <td>Data Analytics</td>\n",
       "      <td>WL7</td>\n",
       "      <td>6500</td>\n",
       "      <td>45</td>\n",
       "      <td>5</td>\n",
       "    </tr>\n",
       "  </tbody>\n",
       "</table>\n",
       "</div>"
      ],
      "text/plain": [
       "       Name      Department Work Level  Income  Age Experince\n",
       "0  Shivance              HR        WL1   45000   21         2\n",
       "1    Devika         Finance        WL3    5600   32         5\n",
       "2  Veshnavi       Marketing        WL2    7800   25      none\n",
       "3   Shivani  Data Analytics        WL5    9800   45         7\n",
       "4   Krishna          Finace        WL4   23000   36      none\n",
       "5    Devika      Operations        WL6    5200   25         3\n",
       "6   Krishna         Finance        WL9    6500   23         4\n",
       "7    Ambika    Supply Chain        WL8   78900   65         6\n",
       "8   Drashti  Data Analytics        WL7    6500   45         5"
      ]
     },
     "execution_count": 108,
     "metadata": {},
     "output_type": "execute_result"
    }
   ],
   "source": [
    "Employees"
   ]
  },
  {
   "cell_type": "code",
   "execution_count": 110,
   "id": "4f98a52a",
   "metadata": {},
   "outputs": [
    {
     "data": {
      "text/html": [
       "<div>\n",
       "<style scoped>\n",
       "    .dataframe tbody tr th:only-of-type {\n",
       "        vertical-align: middle;\n",
       "    }\n",
       "\n",
       "    .dataframe tbody tr th {\n",
       "        vertical-align: top;\n",
       "    }\n",
       "\n",
       "    .dataframe thead th {\n",
       "        text-align: right;\n",
       "    }\n",
       "</style>\n",
       "<table border=\"1\" class=\"dataframe\">\n",
       "  <thead>\n",
       "    <tr style=\"text-align: right;\">\n",
       "      <th></th>\n",
       "      <th>Name</th>\n",
       "      <th>Department</th>\n",
       "      <th>Work Level</th>\n",
       "      <th>Income</th>\n",
       "      <th>Age</th>\n",
       "      <th>Experince</th>\n",
       "    </tr>\n",
       "  </thead>\n",
       "  <tbody>\n",
       "    <tr>\n",
       "      <th>0</th>\n",
       "      <td>Shivance</td>\n",
       "      <td>HR</td>\n",
       "      <td>WL1</td>\n",
       "      <td>45000</td>\n",
       "      <td>21</td>\n",
       "      <td>2</td>\n",
       "    </tr>\n",
       "    <tr>\n",
       "      <th>1</th>\n",
       "      <td>Devika</td>\n",
       "      <td>Finance</td>\n",
       "      <td>WL3</td>\n",
       "      <td>5600</td>\n",
       "      <td>32</td>\n",
       "      <td>5</td>\n",
       "    </tr>\n",
       "    <tr>\n",
       "      <th>2</th>\n",
       "      <td>Veshnavi</td>\n",
       "      <td>Marketing</td>\n",
       "      <td>WL2</td>\n",
       "      <td>7800</td>\n",
       "      <td>25</td>\n",
       "      <td>none</td>\n",
       "    </tr>\n",
       "    <tr>\n",
       "      <th>3</th>\n",
       "      <td>Shivani</td>\n",
       "      <td>Data Analytics</td>\n",
       "      <td>WL5</td>\n",
       "      <td>9800</td>\n",
       "      <td>45</td>\n",
       "      <td>7</td>\n",
       "    </tr>\n",
       "    <tr>\n",
       "      <th>4</th>\n",
       "      <td>Krishna</td>\n",
       "      <td>Finace</td>\n",
       "      <td>WL4</td>\n",
       "      <td>23000</td>\n",
       "      <td>36</td>\n",
       "      <td>none</td>\n",
       "    </tr>\n",
       "    <tr>\n",
       "      <th>5</th>\n",
       "      <td>Devika</td>\n",
       "      <td>Operations</td>\n",
       "      <td>WL6</td>\n",
       "      <td>5200</td>\n",
       "      <td>25</td>\n",
       "      <td>3</td>\n",
       "    </tr>\n",
       "    <tr>\n",
       "      <th>6</th>\n",
       "      <td>Krishna</td>\n",
       "      <td>Finance</td>\n",
       "      <td>WL9</td>\n",
       "      <td>6500</td>\n",
       "      <td>23</td>\n",
       "      <td>4</td>\n",
       "    </tr>\n",
       "    <tr>\n",
       "      <th>7</th>\n",
       "      <td>Ambika</td>\n",
       "      <td>Supply Chain</td>\n",
       "      <td>WL8</td>\n",
       "      <td>78900</td>\n",
       "      <td>65</td>\n",
       "      <td>6</td>\n",
       "    </tr>\n",
       "    <tr>\n",
       "      <th>8</th>\n",
       "      <td>Drashti</td>\n",
       "      <td>Data Analytics</td>\n",
       "      <td>WL7</td>\n",
       "      <td>6500</td>\n",
       "      <td>45</td>\n",
       "      <td>5</td>\n",
       "    </tr>\n",
       "  </tbody>\n",
       "</table>\n",
       "</div>"
      ],
      "text/plain": [
       "       Name      Department Work Level  Income  Age Experince\n",
       "0  Shivance              HR        WL1   45000   21         2\n",
       "1    Devika         Finance        WL3    5600   32         5\n",
       "2  Veshnavi       Marketing        WL2    7800   25      none\n",
       "3   Shivani  Data Analytics        WL5    9800   45         7\n",
       "4   Krishna          Finace        WL4   23000   36      none\n",
       "5    Devika      Operations        WL6    5200   25         3\n",
       "6   Krishna         Finance        WL9    6500   23         4\n",
       "7    Ambika    Supply Chain        WL8   78900   65         6\n",
       "8   Drashti  Data Analytics        WL7    6500   45         5"
      ]
     },
     "execution_count": 110,
     "metadata": {},
     "output_type": "execute_result"
    }
   ],
   "source": [
    "Employees.dropna() # It drops all na values."
   ]
  },
  {
   "cell_type": "code",
   "execution_count": 112,
   "id": "400a0d52",
   "metadata": {},
   "outputs": [
    {
     "data": {
      "text/html": [
       "<div>\n",
       "<style scoped>\n",
       "    .dataframe tbody tr th:only-of-type {\n",
       "        vertical-align: middle;\n",
       "    }\n",
       "\n",
       "    .dataframe tbody tr th {\n",
       "        vertical-align: top;\n",
       "    }\n",
       "\n",
       "    .dataframe thead th {\n",
       "        text-align: right;\n",
       "    }\n",
       "</style>\n",
       "<table border=\"1\" class=\"dataframe\">\n",
       "  <thead>\n",
       "    <tr style=\"text-align: right;\">\n",
       "      <th></th>\n",
       "      <th>Name</th>\n",
       "      <th>Department</th>\n",
       "      <th>Work Level</th>\n",
       "      <th>Income</th>\n",
       "      <th>Age</th>\n",
       "      <th>Experince</th>\n",
       "    </tr>\n",
       "  </thead>\n",
       "  <tbody>\n",
       "    <tr>\n",
       "      <th>0</th>\n",
       "      <td>Shivance</td>\n",
       "      <td>HR</td>\n",
       "      <td>WL1</td>\n",
       "      <td>45000</td>\n",
       "      <td>21</td>\n",
       "      <td>2</td>\n",
       "    </tr>\n",
       "    <tr>\n",
       "      <th>1</th>\n",
       "      <td>Devika</td>\n",
       "      <td>Finance</td>\n",
       "      <td>WL3</td>\n",
       "      <td>5600</td>\n",
       "      <td>32</td>\n",
       "      <td>5</td>\n",
       "    </tr>\n",
       "    <tr>\n",
       "      <th>2</th>\n",
       "      <td>Veshnavi</td>\n",
       "      <td>Marketing</td>\n",
       "      <td>WL2</td>\n",
       "      <td>7800</td>\n",
       "      <td>25</td>\n",
       "      <td>none</td>\n",
       "    </tr>\n",
       "    <tr>\n",
       "      <th>3</th>\n",
       "      <td>Shivani</td>\n",
       "      <td>Data Analytics</td>\n",
       "      <td>WL5</td>\n",
       "      <td>9800</td>\n",
       "      <td>45</td>\n",
       "      <td>7</td>\n",
       "    </tr>\n",
       "    <tr>\n",
       "      <th>4</th>\n",
       "      <td>Krishna</td>\n",
       "      <td>Finace</td>\n",
       "      <td>WL4</td>\n",
       "      <td>23000</td>\n",
       "      <td>36</td>\n",
       "      <td>none</td>\n",
       "    </tr>\n",
       "    <tr>\n",
       "      <th>5</th>\n",
       "      <td>Devika</td>\n",
       "      <td>Operations</td>\n",
       "      <td>WL6</td>\n",
       "      <td>5200</td>\n",
       "      <td>25</td>\n",
       "      <td>3</td>\n",
       "    </tr>\n",
       "    <tr>\n",
       "      <th>6</th>\n",
       "      <td>Krishna</td>\n",
       "      <td>Finance</td>\n",
       "      <td>WL9</td>\n",
       "      <td>6500</td>\n",
       "      <td>23</td>\n",
       "      <td>4</td>\n",
       "    </tr>\n",
       "    <tr>\n",
       "      <th>7</th>\n",
       "      <td>Ambika</td>\n",
       "      <td>Supply Chain</td>\n",
       "      <td>WL8</td>\n",
       "      <td>78900</td>\n",
       "      <td>65</td>\n",
       "      <td>6</td>\n",
       "    </tr>\n",
       "    <tr>\n",
       "      <th>8</th>\n",
       "      <td>Drashti</td>\n",
       "      <td>Data Analytics</td>\n",
       "      <td>WL7</td>\n",
       "      <td>6500</td>\n",
       "      <td>45</td>\n",
       "      <td>5</td>\n",
       "    </tr>\n",
       "  </tbody>\n",
       "</table>\n",
       "</div>"
      ],
      "text/plain": [
       "       Name      Department Work Level  Income  Age Experince\n",
       "0  Shivance              HR        WL1   45000   21         2\n",
       "1    Devika         Finance        WL3    5600   32         5\n",
       "2  Veshnavi       Marketing        WL2    7800   25      none\n",
       "3   Shivani  Data Analytics        WL5    9800   45         7\n",
       "4   Krishna          Finace        WL4   23000   36      none\n",
       "5    Devika      Operations        WL6    5200   25         3\n",
       "6   Krishna         Finance        WL9    6500   23         4\n",
       "7    Ambika    Supply Chain        WL8   78900   65         6\n",
       "8   Drashti  Data Analytics        WL7    6500   45         5"
      ]
     },
     "execution_count": 112,
     "metadata": {},
     "output_type": "execute_result"
    }
   ],
   "source": [
    "Employees.dropna(how=\"all\") # It drops all na values if all variables in a row is na."
   ]
  },
  {
   "cell_type": "code",
   "execution_count": 114,
   "id": "97da927d",
   "metadata": {
    "scrolled": true
   },
   "outputs": [
    {
     "data": {
      "text/html": [
       "<div>\n",
       "<style scoped>\n",
       "    .dataframe tbody tr th:only-of-type {\n",
       "        vertical-align: middle;\n",
       "    }\n",
       "\n",
       "    .dataframe tbody tr th {\n",
       "        vertical-align: top;\n",
       "    }\n",
       "\n",
       "    .dataframe thead th {\n",
       "        text-align: right;\n",
       "    }\n",
       "</style>\n",
       "<table border=\"1\" class=\"dataframe\">\n",
       "  <thead>\n",
       "    <tr style=\"text-align: right;\">\n",
       "      <th></th>\n",
       "      <th>Name</th>\n",
       "      <th>Department</th>\n",
       "      <th>Work Level</th>\n",
       "      <th>Income</th>\n",
       "      <th>Age</th>\n",
       "      <th>Experince</th>\n",
       "    </tr>\n",
       "  </thead>\n",
       "  <tbody>\n",
       "    <tr>\n",
       "      <th>0</th>\n",
       "      <td>Shivance</td>\n",
       "      <td>HR</td>\n",
       "      <td>WL1</td>\n",
       "      <td>45000</td>\n",
       "      <td>21</td>\n",
       "      <td>2</td>\n",
       "    </tr>\n",
       "    <tr>\n",
       "      <th>1</th>\n",
       "      <td>Devika</td>\n",
       "      <td>Finance</td>\n",
       "      <td>WL3</td>\n",
       "      <td>5600</td>\n",
       "      <td>32</td>\n",
       "      <td>5</td>\n",
       "    </tr>\n",
       "    <tr>\n",
       "      <th>2</th>\n",
       "      <td>Veshnavi</td>\n",
       "      <td>Marketing</td>\n",
       "      <td>WL2</td>\n",
       "      <td>7800</td>\n",
       "      <td>25</td>\n",
       "      <td>none</td>\n",
       "    </tr>\n",
       "    <tr>\n",
       "      <th>3</th>\n",
       "      <td>Shivani</td>\n",
       "      <td>Data Analytics</td>\n",
       "      <td>WL5</td>\n",
       "      <td>9800</td>\n",
       "      <td>45</td>\n",
       "      <td>7</td>\n",
       "    </tr>\n",
       "    <tr>\n",
       "      <th>4</th>\n",
       "      <td>Krishna</td>\n",
       "      <td>Finace</td>\n",
       "      <td>WL4</td>\n",
       "      <td>23000</td>\n",
       "      <td>36</td>\n",
       "      <td>none</td>\n",
       "    </tr>\n",
       "    <tr>\n",
       "      <th>5</th>\n",
       "      <td>Devika</td>\n",
       "      <td>Operations</td>\n",
       "      <td>WL6</td>\n",
       "      <td>5200</td>\n",
       "      <td>25</td>\n",
       "      <td>3</td>\n",
       "    </tr>\n",
       "    <tr>\n",
       "      <th>6</th>\n",
       "      <td>Krishna</td>\n",
       "      <td>Finance</td>\n",
       "      <td>WL9</td>\n",
       "      <td>6500</td>\n",
       "      <td>23</td>\n",
       "      <td>4</td>\n",
       "    </tr>\n",
       "    <tr>\n",
       "      <th>7</th>\n",
       "      <td>Ambika</td>\n",
       "      <td>Supply Chain</td>\n",
       "      <td>WL8</td>\n",
       "      <td>78900</td>\n",
       "      <td>65</td>\n",
       "      <td>6</td>\n",
       "    </tr>\n",
       "    <tr>\n",
       "      <th>8</th>\n",
       "      <td>Drashti</td>\n",
       "      <td>Data Analytics</td>\n",
       "      <td>WL7</td>\n",
       "      <td>6500</td>\n",
       "      <td>45</td>\n",
       "      <td>5</td>\n",
       "    </tr>\n",
       "  </tbody>\n",
       "</table>\n",
       "</div>"
      ],
      "text/plain": [
       "       Name      Department Work Level  Income  Age Experince\n",
       "0  Shivance              HR        WL1   45000   21         2\n",
       "1    Devika         Finance        WL3    5600   32         5\n",
       "2  Veshnavi       Marketing        WL2    7800   25      none\n",
       "3   Shivani  Data Analytics        WL5    9800   45         7\n",
       "4   Krishna          Finace        WL4   23000   36      none\n",
       "5    Devika      Operations        WL6    5200   25         3\n",
       "6   Krishna         Finance        WL9    6500   23         4\n",
       "7    Ambika    Supply Chain        WL8   78900   65         6\n",
       "8   Drashti  Data Analytics        WL7    6500   45         5"
      ]
     },
     "execution_count": 114,
     "metadata": {},
     "output_type": "execute_result"
    }
   ],
   "source": [
    "Employees.dropna(axis = \"columns\") # We can drop columns if it has na value."
   ]
  }
 ],
 "metadata": {
  "kernelspec": {
   "display_name": "Python 3 (ipykernel)",
   "language": "python",
   "name": "python3"
  },
  "language_info": {
   "codemirror_mode": {
    "name": "ipython",
    "version": 3
   },
   "file_extension": ".py",
   "mimetype": "text/x-python",
   "name": "python",
   "nbconvert_exporter": "python",
   "pygments_lexer": "ipython3",
   "version": "3.9.13"
  }
 },
 "nbformat": 4,
 "nbformat_minor": 5
}
